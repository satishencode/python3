{
 "cells": [
  {
   "cell_type": "code",
   "execution_count": 3,
   "id": "487c3f39-0c4f-4563-9545-d324c95e431b",
   "metadata": {},
   "outputs": [
    {
     "data": {
      "text/plain": [
       "<__main__.TreeNode at 0x7bb3d8348af0>"
      ]
     },
     "execution_count": 3,
     "metadata": {},
     "output_type": "execute_result"
    }
   ],
   "source": [
    "class TreeNode:\n",
    "    def __init__(self,val):\n",
    "        self.val=val\n",
    "        self.left=None\n",
    "        self.right=None\n",
    "class Tree:\n",
    "    def binaryTree(self,arr,root,i,n):\n",
    "        if i<n:\n",
    "            root=TreeNode(arr[i])\n",
    "            root.left=self.binaryTree(arr,root.left,2*i+1,n)\n",
    "            root.right=self.binaryTree(arr,root.right,2*i+2,n)\n",
    "        return root\n",
    "    def inorder(self,root):\n",
    "        if not root:\n",
    "            return \"empty\"\n",
    "        self.inorder(root.left)\n",
    "        print(root.val,end=', ')\n",
    "        self.inorder(root.right)\n",
    "    def levelorder(self,root):\n",
    "        if not root:\n",
    "            return 'empty'\n",
    "        res=[]\n",
    "        queue=[root]\n",
    "        while queue:\n",
    "            node=queue.pop(0)\n",
    "            res+=[node.val]\n",
    "            if node.left:\n",
    "                queue.append(node.left)\n",
    "            if node.right:\n",
    "                queue.append(node.right)\n",
    "        return res\n",
    "    def height(self,root):\n",
    "        if not root:\n",
    "            return -1\n",
    "        return 1+ max(self.height(root.left),self.height(root.right))\n",
    "    def leaf(self,root):\n",
    "        if not root:\n",
    "            return \"empty\"\n",
    "        if not root.left and not root.right:\n",
    "            print(root.val,end=', ')\n",
    "        self.leaf(root.left)\n",
    "        self.leaf(root.right)\n",
    "    def preorder(self,root):\n",
    "        if not root:\n",
    "            return \"empty\"\n",
    "        print(root.val,end=', ')\n",
    "        self.preorder(root.left)\n",
    "        self.preorder(root.right)\n",
    "    def postorder(self,root):\n",
    "        if not root:\n",
    "            return \"empty\"\n",
    "        self.postorder(root.left)\n",
    "        self.postorder(root.right)\n",
    "        print(root.val,end=', ')\n",
    "    def dfs(self,root):\n",
    "        if not root:\n",
    "            return 'empty'\n",
    "        stack=[root]\n",
    "        while stack:\n",
    "            node=stack.pop()\n",
    "            print(node.val,end=', ')\n",
    "            if node.right:\n",
    "                stack.append(node.right)\n",
    "            if node.left:\n",
    "                stack.append(node.left)\n",
    "    def search(self,root,ele):\n",
    "        if not root:\n",
    "            # print(\";\")\n",
    "            return True\n",
    "        # print(root.val,end=', ')\n",
    "        if root.val==ele:\n",
    "            # print(root.val)\n",
    "            return \"find\"\n",
    "        return self.search(root.left,ele) or self.search(root.right,ele)\n",
    "arr=[3,6,9,12,5,7,4,8,2]\n",
    "root=None\n",
    "obj=Tree()\n",
    "tree=obj.binaryTree(arr,root,0,len(arr))\n",
    "tree"
   ]
  },
  {
   "cell_type": "code",
   "execution_count": 4,
   "id": "39de2de9-2656-4d67-abb4-d90ba1ffa385",
   "metadata": {},
   "outputs": [
    {
     "data": {
      "text/plain": [
       "True"
      ]
     },
     "execution_count": 4,
     "metadata": {},
     "output_type": "execute_result"
    }
   ],
   "source": [
    "obj.search(tree,5)"
   ]
  },
  {
   "cell_type": "code",
   "execution_count": 9,
   "id": "4d06e2cc-a32c-44b2-bae6-4236c19ec4b4",
   "metadata": {},
   "outputs": [
    {
     "name": "stdout",
     "output_type": "stream",
     "text": [
      "3, 6, 12, 8, 2, 5, 9, 7, 4, "
     ]
    }
   ],
   "source": [
    "obj.dfs(tree)"
   ]
  },
  {
   "cell_type": "code",
   "execution_count": 10,
   "id": "bf2c9b0a-25f6-4f1d-88b5-bcdbb1dd83ba",
   "metadata": {},
   "outputs": [
    {
     "name": "stdout",
     "output_type": "stream",
     "text": [
      "3, 6, 12, 8, 2, 5, 9, 7, 4, "
     ]
    }
   ],
   "source": [
    "obj.preorder(tree)"
   ]
  },
  {
   "cell_type": "code",
   "execution_count": 4,
   "id": "b0bb5659-c224-45ec-b783-ce1bc8ace503",
   "metadata": {},
   "outputs": [
    {
     "name": "stdout",
     "output_type": "stream",
     "text": [
      "8, 2, 12, 5, 6, 7, 4, 9, 3, "
     ]
    }
   ],
   "source": [
    "obj.postorder(tree)"
   ]
  },
  {
   "cell_type": "code",
   "execution_count": 5,
   "id": "8fd91ed1-d685-496b-8dbf-7a7ae1a3fc41",
   "metadata": {},
   "outputs": [
    {
     "data": {
      "text/plain": [
       "[3, 6, 9, 12, 5, 7, 4, 8, 2]"
      ]
     },
     "execution_count": 5,
     "metadata": {},
     "output_type": "execute_result"
    }
   ],
   "source": [
    "obj.levelorder(tree)"
   ]
  },
  {
   "cell_type": "code",
   "execution_count": 6,
   "id": "d391015a-6b77-49d5-8959-83a9e65c2d58",
   "metadata": {},
   "outputs": [
    {
     "name": "stdout",
     "output_type": "stream",
     "text": [
      "8, 12, 2, 6, 5, 3, 7, 9, 4, "
     ]
    }
   ],
   "source": [
    "obj.inorder(tree)"
   ]
  },
  {
   "cell_type": "code",
   "execution_count": 7,
   "id": "75397938-7746-481f-9c05-31018cb8ba84",
   "metadata": {},
   "outputs": [
    {
     "name": "stdout",
     "output_type": "stream",
     "text": [
      "8, 2, 12, 5, 6, 7, 4, 9, 3, "
     ]
    }
   ],
   "source": [
    "obj.postorder(tree)"
   ]
  },
  {
   "cell_type": "code",
   "execution_count": 8,
   "id": "a484e576-5724-4013-ad72-6c3525813b8e",
   "metadata": {},
   "outputs": [
    {
     "data": {
      "text/plain": [
       "3"
      ]
     },
     "execution_count": 8,
     "metadata": {},
     "output_type": "execute_result"
    }
   ],
   "source": [
    "obj.height(tree)"
   ]
  },
  {
   "cell_type": "code",
   "execution_count": 71,
   "id": "159ce0cf-b4bd-457a-89d9-84c2e21834b6",
   "metadata": {},
   "outputs": [
    {
     "name": "stdout",
     "output_type": "stream",
     "text": [
      "8, 2, 5, 7, 4, "
     ]
    }
   ],
   "source": [
    "obj.leaf(tree)"
   ]
  },
  {
   "cell_type": "code",
   "execution_count": 73,
   "id": "0f72322c-7fdb-41fe-bedf-3582a7fb41ae",
   "metadata": {},
   "outputs": [
    {
     "data": {
      "text/plain": [
       "-1"
      ]
     },
     "execution_count": 73,
     "metadata": {},
     "output_type": "execute_result"
    }
   ],
   "source": [
    "def fun():\n",
    "    return 0 or -1\n",
    "fun()"
   ]
  },
  {
   "cell_type": "code",
   "execution_count": 64,
   "id": "5f07969c-3228-47d3-8d50-8040971266fb",
   "metadata": {},
   "outputs": [
    {
     "name": "stdout",
     "output_type": "stream",
     "text": [
      "45, 35, 25, 15, real value 5\n",
      "None\n"
     ]
    }
   ],
   "source": [
    "def test(x):\n",
    "    if x > 9 :\n",
    "        print(x,end=', ')\n",
    "        test(x - 10)\n",
    "    else:\n",
    "        print('real value',x)\n",
    "        return x\n",
    "\n",
    "x = 45\n",
    "y = test(x)\n",
    "print(y)"
   ]
  },
  {
   "cell_type": "code",
   "execution_count": 65,
   "id": "f9de5287-452b-4ddc-8971-611bbafab837",
   "metadata": {},
   "outputs": [
    {
     "name": "stdout",
     "output_type": "stream",
     "text": [
      "45, 35, 25, 15, real value 5\n",
      "5\n"
     ]
    }
   ],
   "source": [
    "def test(x):\n",
    "    if x > 9:\n",
    "        print(x, end=', ')\n",
    "        return test(x - 10)  # Capture and return the result of the recursive call\n",
    "    else:\n",
    "        print('real value', x)\n",
    "        return x\n",
    "\n",
    "x = 45\n",
    "y = test(x)\n",
    "print(y)\n"
   ]
  },
  {
   "cell_type": "code",
   "execution_count": null,
   "id": "22bea45c-2d8e-4112-af3d-f02248d7dfb7",
   "metadata": {},
   "outputs": [],
   "source": []
  },
  {
   "cell_type": "code",
   "execution_count": null,
   "id": "8a38b7ac-116e-4898-82e9-7f013581dd39",
   "metadata": {},
   "outputs": [],
   "source": []
  },
  {
   "cell_type": "code",
   "execution_count": null,
   "id": "7c770281-50d7-4b46-b6d4-1975c84d40e2",
   "metadata": {},
   "outputs": [],
   "source": []
  },
  {
   "cell_type": "code",
   "execution_count": null,
   "id": "709191fa-0532-4789-aea3-f05a5b81531e",
   "metadata": {},
   "outputs": [],
   "source": []
  },
  {
   "cell_type": "code",
   "execution_count": null,
   "id": "723e915f-4905-4680-a6d0-64779a3386be",
   "metadata": {},
   "outputs": [],
   "source": []
  },
  {
   "cell_type": "code",
   "execution_count": null,
   "id": "b41b593d-ec69-4f49-ac75-1cdf276ffdb5",
   "metadata": {},
   "outputs": [],
   "source": []
  },
  {
   "cell_type": "code",
   "execution_count": null,
   "id": "8b289c85-b115-419d-af2b-0af0059c977c",
   "metadata": {},
   "outputs": [],
   "source": []
  },
  {
   "cell_type": "code",
   "execution_count": null,
   "id": "6f54087a-2ca8-4bea-9939-c63ce02c6b99",
   "metadata": {},
   "outputs": [],
   "source": []
  },
  {
   "cell_type": "code",
   "execution_count": null,
   "id": "01212a67-3635-4383-b6d9-764df152b815",
   "metadata": {},
   "outputs": [],
   "source": []
  },
  {
   "cell_type": "code",
   "execution_count": 48,
   "id": "542a3a9a-efe8-4b8c-8017-0b01f77934df",
   "metadata": {},
   "outputs": [
    {
     "name": "stdout",
     "output_type": "stream",
     "text": [
      "AxesSubplot(0.125,0.11;0.775x0.77)\n",
      "AxesSubplot(0.125,0.11;0.775x0.77)\n"
     ]
    },
    {
     "data": {
      "image/png": "[encoded data removed]",
      "text/plain": [
       "<Figure size 640x480 with 1 Axes>"
      ]
     },
     "metadata": {},
     "output_type": "display_data"
    }
   ],
   "source": [
    "import matplotlib.pyplot as plt\n",
    "def plot_binary(root):\n",
    "    fig,ax=plt.subplots()\n",
    "    print(ax)\n",
    "    ax.set_axis_off()\n",
    "    print(ax)\n",
    "    \n",
    "    def plot_node(node,x,y,dx):\n",
    "        if not node: return\n",
    "        \n",
    "        ax.annotate(str(node.val),(x,y),ha='center',va='center',bbox=dict(facecolor='white',edgecolor='black',boxstyle='circle'))\n",
    "        if node.left:\n",
    "            ax.plot([x,x-dx],[y,y-1],color='black')\n",
    "            plot_node(node.left,x-dx,y-1,dx/2)\n",
    "        if node.right:\n",
    "            ax.plot([x,x+dx],[y,y-1],color='black')\n",
    "            plot_node(node.right,x+dx,y-1,dx/2)\n",
    "    plot_node(root,0,0,1)\n",
    "    plt.show()\n",
    "plot_binary(tree)"
   ]
  }
 ],
 "metadata": {
  "kernelspec": {
   "display_name": "Python 3 (ipykernel)",
   "language": "python",
   "name": "python3"
  },
  "language_info": {
   "codemirror_mode": {
    "name": "ipython",
    "version": 3
   },
   "file_extension": ".py",
   "mimetype": "text/x-python",
   "name": "python",
   "nbconvert_exporter": "python",
   "pygments_lexer": "ipython3",
   "version": "3.10.12"
  }
 },
 "nbformat": 4,
 "nbformat_minor": 5
}
