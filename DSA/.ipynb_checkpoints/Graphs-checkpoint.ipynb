{
 "cells": [
  {
   "cell_type": "markdown",
   "id": "548935e7-4437-4f11-b094-4f45dd46a5ed",
   "metadata": {},
   "source": [
    "## Graph Representation"
   ]
  },
  {
   "cell_type": "markdown",
   "id": "aaa333e4-6323-4a9b-bb94-cfb7e5f5c803",
   "metadata": {},
   "source": [
    "### List Of Edges"
   ]
  },
  {
   "cell_type": "code",
   "execution_count": 4,
   "id": "bc14d829-8e55-4253-9260-7eea983ccb0e",
   "metadata": {},
   "outputs": [],
   "source": [
    "class Graph:\n",
    "    def __init__(self,no_of_nodes,directed):\n",
    "        self.no_of_nodes=no_of_nodes\n",
    "        self.directed=directed\n",
    "        self.list_of_edges=[]\n",
    "    def addEdge(self,node1,node2,weight):\n",
    "        self.list_of_edges.append([node1,node2,weight])\n",
    "        if not self.directed:\n",
    "            self.list_of_edges.append([node2,node1,weight])\n",
    "    def printGraph(self):\n",
    "        for i in range(len(self.list_of_edges)):\n",
    "            print(\"Edge- \",i,\" : \",self.list_of_edges[i])\n",
    "graph=Graph(5,True)\n",
    "graph.addEdge(0, 0, 25)\n",
    "graph.addEdge(0, 1, 5)\n",
    "graph.addEdge(0, 2, 3)\n",
    "graph.addEdge(1, 3, 1)\n",
    "graph.addEdge(1, 4, 15)\n",
    "graph.addEdge(4, 2, 7)\n",
    "graph.addEdge(4, 3, 11)"
   ]
  },
  {
   "cell_type": "code",
   "execution_count": 5,
   "id": "acfb9b67-746b-4ef0-a2d8-a0741cbc6a22",
   "metadata": {},
   "outputs": [
    {
     "name": "stdout",
     "output_type": "stream",
     "text": [
      "Edge-  0  :  [0, 0, 25]\n",
      "Edge-  1  :  [0, 1, 5]\n",
      "Edge-  2  :  [0, 2, 3]\n",
      "Edge-  3  :  [1, 3, 1]\n",
      "Edge-  4  :  [1, 4, 15]\n",
      "Edge-  5  :  [4, 2, 7]\n",
      "Edge-  6  :  [4, 3, 11]\n"
     ]
    }
   ],
   "source": [
    "graph.printGraph()"
   ]
  },
  {
   "cell_type": "markdown",
   "id": "2c8a7a19-282a-4415-b648-41b1ae0da321",
   "metadata": {},
   "source": [
    "### Adjacency Matrix"
   ]
  },
  {
   "cell_type": "code",
   "execution_count": 32,
   "id": "6831e8c9-5c73-49e2-ab9a-0c4a75bce401",
   "metadata": {},
   "outputs": [
    {
     "name": "stdout",
     "output_type": "stream",
     "text": [
      "    0  1  2  3  4  \n",
      "0  25  5  3  0  0  \n",
      "1  0  0  0  1  15  \n",
      "2  0  0  0  0  0  \n",
      "3  0  0  0  0  0  \n",
      "4  0  0  7  11  0  \n"
     ]
    }
   ],
   "source": [
    "class Graph:\n",
    "    def __init__(self, no_of_nodes, directed):\n",
    "        self.no_of_nodes = no_of_nodes\n",
    "        self.directed = directed\n",
    "        self.matrix = [[0 for column in range(self.no_of_nodes)] for row in range(self.no_of_nodes)]\n",
    "    def addEdge(self, node1, node2, weight):\n",
    "        self.matrix[node1][node2] = weight\n",
    "        if not self.directed:\n",
    "            self.matrix[node2][node1] = weight\n",
    "    def printGraph(self):\n",
    "        print(\"   \", end = ' ')\n",
    "        for col_label in range(self.no_of_nodes):\n",
    "            print(col_label, end = '  ')\n",
    "        print()\n",
    "        for row in range(self.no_of_nodes):\n",
    "            print(row,end='  ')\n",
    "            for column in range(self.no_of_nodes):    \n",
    "                print(self.matrix[row][column], end= '  ')\n",
    "            print()\n",
    "\n",
    "graph = Graph(5, True)\n",
    "graph.addEdge(0, 0, 25)\n",
    "graph.addEdge(0, 1, 5)\n",
    "graph.addEdge(0, 2, 3)\n",
    "graph.addEdge(1, 3, 1)\n",
    "graph.addEdge(1, 4, 15)\n",
    "graph.addEdge(4, 2, 7)\n",
    "graph.addEdge(4, 3, 11)\n",
    "graph.printGraph()"
   ]
  },
  {
   "cell_type": "markdown",
   "id": "13039c84-0618-4ffb-9fe9-e0b441b9ebaa",
   "metadata": {},
   "source": [
    "### Adjacency List"
   ]
  },
  {
   "cell_type": "code",
   "execution_count": 1,
   "id": "6816191b-a5d2-42bd-9f5f-2a5cb62c2fa7",
   "metadata": {},
   "outputs": [
    {
     "name": "stdout",
     "output_type": "stream",
     "text": [
      "0  :  {(2, 3), (0, 25), (1, 5)}\n",
      "1  :  {(3, 1), (4, 15)}\n",
      "2  :  set()\n",
      "3  :  set()\n",
      "4  :  {(2, 7), (3, 11)}\n"
     ]
    }
   ],
   "source": [
    "class Graph:\n",
    "    def __init__(self, no_of_nodes, directed):\n",
    "        self.no_of_nodes = no_of_nodes\n",
    "        self.directed = directed\n",
    "        self.keys = [key for key in range(self.no_of_nodes)]\n",
    "        self.adj_list = {key : set() for key in self.keys}\n",
    "    def addEdge(self, node1, node2, weight):\n",
    "        self.adj_list[node1].add((node2, weight))\n",
    "        if not self.directed:\n",
    "            self.adj_list[node2].add((node1, weight))\n",
    "    def printGraph(self):\n",
    "        for key in self.keys:\n",
    "            print(key, \" : \", self.adj_list[key])\n",
    "            \n",
    "graph = Graph(5, True)\n",
    "graph.addEdge(0, 0, 25)\n",
    "graph.addEdge(0, 1, 5)\n",
    "graph.addEdge(0, 2, 3)\n",
    "graph.addEdge(1, 3, 1)\n",
    "graph.addEdge(1, 4, 15)\n",
    "graph.addEdge(4, 2, 7)\n",
    "graph.addEdge(4, 3, 11)\n",
    "graph.printGraph()"
   ]
  },
  {
   "cell_type": "markdown",
   "id": "9456739e-b196-422c-ad9c-b38fe6ac8519",
   "metadata": {},
   "source": [
    "## Searching Algorithms"
   ]
  },
  {
   "cell_type": "markdown",
   "id": "ab067970-cf15-4981-bbd8-6453d65711ad",
   "metadata": {},
   "source": [
    "### DFS"
   ]
  },
  {
   "cell_type": "code",
   "execution_count": 7,
   "id": "24104815-1f97-4d15-9974-23117688670a",
   "metadata": {},
   "outputs": [
    {
     "name": "stdout",
     "output_type": "stream",
     "text": [
      "0  :  {(2, 3), (0, 25), (1, 5)}\n",
      "1  :  {(3, 1), (4, 15)}\n",
      "2  :  set()\n",
      "3  :  set()\n",
      "4  :  {(2, 7), (3, 11)}\n"
     ]
    }
   ],
   "source": [
    "class Graph:\n",
    "    def __init__(self, no_of_nodes, directed):\n",
    "        self.no_of_nodes = no_of_nodes\n",
    "        self.directed = directed\n",
    "        self.keys = [key for key in range(self.no_of_nodes)]\n",
    "        self.adj_list = {key : set() for key in self.keys}\n",
    "    def addEdge(self, node1, node2, weight):\n",
    "        self.adj_list[node1].add((node2, weight))\n",
    "        if not self.directed:\n",
    "            self.adj_list[node2].add((node1, weight))\n",
    "    def printGraph(self):\n",
    "        for key in self.keys:\n",
    "            print(key, \" : \", self.adj_list[key])\n",
    "    def DFS(self, start, target, path, visited):\n",
    "        path.append(start)\n",
    "        visited.add(start)\n",
    "        if start==target:\n",
    "            return path\n",
    "        for (neighbour, weight) in self.adj_list[start]:\n",
    "            if neighbour not in visited:\n",
    "                visited.add(neighbour)\n",
    "                result=self.DFS(neighbour, target, path, visited)\n",
    "                if result:\n",
    "                    return result\n",
    "        path.pop()\n",
    "        return None\n",
    "graph = Graph(5, True)\n",
    "graph.addEdge(0, 0, 25)\n",
    "graph.addEdge(0, 1, 5)\n",
    "graph.addEdge(0, 2, 3)\n",
    "graph.addEdge(1, 3, 1)\n",
    "graph.addEdge(1, 4, 15)\n",
    "graph.addEdge(4, 2, 7)\n",
    "graph.addEdge(4, 3, 11)\n",
    "graph.printGraph()"
   ]
  },
  {
   "cell_type": "code",
   "execution_count": 8,
   "id": "4fb8d95f-ab9f-4e62-bd72-ff92e4f68995",
   "metadata": {},
   "outputs": [
    {
     "data": {
      "text/plain": [
       "[0, 1, 3]"
      ]
     },
     "execution_count": 8,
     "metadata": {},
     "output_type": "execute_result"
    }
   ],
   "source": [
    "graph.DFS(0, 3, [], set())"
   ]
  },
  {
   "cell_type": "code",
   "execution_count": null,
   "id": "50f7f823-c19d-43b7-9962-1cdf31e4da1b",
   "metadata": {},
   "outputs": [],
   "source": []
  }
 ],
 "metadata": {
  "kernelspec": {
   "display_name": "Python 3 (ipykernel)",
   "language": "python",
   "name": "python3"
  },
  "language_info": {
   "codemirror_mode": {
    "name": "ipython",
    "version": 3
   },
   "file_extension": ".py",
   "mimetype": "text/x-python",
   "name": "python",
   "nbconvert_exporter": "python",
   "pygments_lexer": "ipython3",
   "version": "3.10.12"
  }
 },
 "nbformat": 4,
 "nbformat_minor": 5
}
