{
 "cells": [
  {
   "cell_type": "code",
   "execution_count": 8,
   "id": "bac80a56-9bb2-4286-9122-4e3323ee9df6",
   "metadata": {},
   "outputs": [
    {
     "data": {
      "text/plain": [
       "<__main__.TreeNode at 0x722c6c35fa90>"
      ]
     },
     "execution_count": 8,
     "metadata": {},
     "output_type": "execute_result"
    }
   ],
   "source": [
    "class TreeNode:\n",
    "    def __init__(self,val):\n",
    "        self.val=val\n",
    "        self.left=None\n",
    "        self.right=None\n",
    "class Tree:\n",
    "    def bst(self,root,ele):\n",
    "        if not root:\n",
    "            return TreeNode(ele)\n",
    "        elif ele<root.val:\n",
    "            root.left=self.bst(root.left,ele)\n",
    "        else:\n",
    "            root.right=self.bst(root.right,ele)\n",
    "        return root\n",
    "    def inorder(self,root):\n",
    "        if not root:\n",
    "            return \"empty\"\n",
    "        self.inorder(root.left)\n",
    "        print(root.val,end=', ')\n",
    "        self.inorder(root.right)\n",
    "    def levelorder(self,root):\n",
    "        if not root:\n",
    "            return 'empty'\n",
    "        res=[]\n",
    "        queue=[root]\n",
    "        while queue:\n",
    "            node=queue.pop(0)\n",
    "            res+=[node.val]\n",
    "            if node.left:\n",
    "                queue.append(node.left)\n",
    "            if node.right:\n",
    "                queue.append(node.right)\n",
    "        return res\n",
    "    def height(self,root):\n",
    "        if not root:\n",
    "            return -1\n",
    "        return 1+ max(self.height(root.left),self.height(root.right))\n",
    "    def leaf(self,root):\n",
    "        if not root:\n",
    "            return \"empty\"\n",
    "        if not root.left and not root.right:\n",
    "            print(root.val,end=', ')\n",
    "        self.leaf(root.left)\n",
    "        self.leaf(root.right)\n",
    "    def preorder(self,root):\n",
    "        if not root:\n",
    "            return \"empty\"\n",
    "        print(root.val,end=', ')\n",
    "        self.preorder(root.left)\n",
    "        self.preorder(root.right)\n",
    "    def postorder(self,root):\n",
    "        if not root:\n",
    "            return \"empty\"\n",
    "        self.postorder(root.left)\n",
    "        self.postorder(root.right)\n",
    "        print(root.val,end=', ')\n",
    "    def search(self,root,ele):\n",
    "        if not root:\n",
    "            # print(\";\")\n",
    "            return False\n",
    "        # print(root.val,end=', ')\n",
    "        if root.val==ele:\n",
    "            # print(root.val)\n",
    "            return \"find\"\n",
    "        return self.search(root.left,ele) or self.search(root.right,ele)\n",
    "obj=Tree()\n",
    "arr=[8,3,10,1,6,14,4,7]\n",
    "root=TreeNode(arr[0])\n",
    "for i in range(1,len(arr)):\n",
    "    tree=obj.bst(root,arr[i])\n",
    "tree"
   ]
  },
  {
   "cell_type": "code",
   "execution_count": 10,
   "id": "3617208a-d961-4a26-ab42-b5143d8997a2",
   "metadata": {},
   "outputs": [
    {
     "data": {
      "text/plain": [
       "False"
      ]
     },
     "execution_count": 10,
     "metadata": {},
     "output_type": "execute_result"
    }
   ],
   "source": [
    "obj.search(tree,5)"
   ]
  },
  {
   "cell_type": "code",
   "execution_count": 11,
   "id": "7c458e76-15a2-4741-8871-3782f3481e14",
   "metadata": {},
   "outputs": [
    {
     "name": "stdout",
     "output_type": "stream",
     "text": [
      "8, 3, 1, 6, 4, 7, 10, 14, "
     ]
    }
   ],
   "source": [
    "obj.preorder(tree)"
   ]
  },
  {
   "cell_type": "code",
   "execution_count": 12,
   "id": "663435b5-d10b-4f1f-b8df-65545ffb96ed",
   "metadata": {},
   "outputs": [
    {
     "name": "stdout",
     "output_type": "stream",
     "text": [
      "1, 4, 7, 6, 3, 14, 10, 8, "
     ]
    }
   ],
   "source": [
    "obj.postorder(tree)"
   ]
  },
  {
   "cell_type": "code",
   "execution_count": 14,
   "id": "79684716-84aa-4340-88fe-f2d9be1c18fc",
   "metadata": {},
   "outputs": [
    {
     "name": "stdout",
     "output_type": "stream",
     "text": [
      "1, 3, 4, 6, 7, 8, 10, 14, "
     ]
    }
   ],
   "source": [
    "obj.inorder(tree)"
   ]
  },
  {
   "cell_type": "code",
   "execution_count": 15,
   "id": "0c73a2a7-cb17-48bc-b321-ff5f59b133fa",
   "metadata": {},
   "outputs": [
    {
     "data": {
      "text/plain": [
       "3"
      ]
     },
     "execution_count": 15,
     "metadata": {},
     "output_type": "execute_result"
    }
   ],
   "source": [
    "obj.height(tree)"
   ]
  },
  {
   "cell_type": "code",
   "execution_count": null,
   "id": "d069596f-42b9-4d0e-8f4f-985930ca96c0",
   "metadata": {},
   "outputs": [],
   "source": [
    "obj.levelorder(tree)"
   ]
  },
  {
   "cell_type": "code",
   "execution_count": null,
   "id": "37dfd252-d8fb-4274-ad62-e1cc9eef6f5e",
   "metadata": {},
   "outputs": [],
   "source": [
    "obj.leaf(tree)"
   ]
  },
  {
   "cell_type": "code",
   "execution_count": null,
   "id": "916ff6ab-22e6-41dc-a8d2-e3b4b6e49f3b",
   "metadata": {},
   "outputs": [],
   "source": []
  },
  {
   "cell_type": "code",
   "execution_count": null,
   "id": "1ca52bae-86c0-4de0-b3f9-c34c0932393e",
   "metadata": {},
   "outputs": [],
   "source": []
  },
  {
   "cell_type": "code",
   "execution_count": null,
   "id": "b48997df-c199-4477-9fa2-0b52bbba3df5",
   "metadata": {},
   "outputs": [],
   "source": []
  },
  {
   "cell_type": "code",
   "execution_count": null,
   "id": "b94804b5-42fc-4e0e-a90c-8430e3206132",
   "metadata": {},
   "outputs": [],
   "source": []
  },
  {
   "cell_type": "code",
   "execution_count": null,
   "id": "ee6be533-430b-43fe-9d94-d34cdc6a4ccc",
   "metadata": {},
   "outputs": [],
   "source": []
  },
  {
   "cell_type": "code",
   "execution_count": null,
   "id": "29219865-30de-4f93-8cc8-ed19f068cc1a",
   "metadata": {},
   "outputs": [],
   "source": []
  },
  {
   "cell_type": "code",
   "execution_count": null,
   "id": "cca9feb5-ecd3-439a-8f42-408af7f98023",
   "metadata": {},
   "outputs": [],
   "source": []
  },
  {
   "cell_type": "code",
   "execution_count": null,
   "id": "a73b1659-c40f-49d4-b554-9426895e461b",
   "metadata": {},
   "outputs": [],
   "source": []
  },
  {
   "cell_type": "code",
   "execution_count": null,
   "id": "6fad984b-0e90-4fc3-899d-2d3af8c44ff1",
   "metadata": {},
   "outputs": [],
   "source": []
  },
  {
   "cell_type": "code",
   "execution_count": null,
   "id": "20729535-9c3d-42b7-b74e-0aebed38c465",
   "metadata": {},
   "outputs": [],
   "source": []
  },
  {
   "cell_type": "code",
   "execution_count": null,
   "id": "5679c9bc-d107-4d40-8a49-04e1823a3aaf",
   "metadata": {},
   "outputs": [],
   "source": []
  },
  {
   "cell_type": "code",
   "execution_count": null,
   "id": "7766fabf-6094-4ef7-85ba-245a3a50d043",
   "metadata": {},
   "outputs": [],
   "source": []
  },
  {
   "cell_type": "code",
   "execution_count": null,
   "id": "79718504-8920-4e52-99ed-82afa15bcf17",
   "metadata": {},
   "outputs": [],
   "source": []
  },
  {
   "cell_type": "code",
   "execution_count": null,
   "id": "61d1b671-87ab-4e77-a5e8-e9a87b863d2d",
   "metadata": {},
   "outputs": [],
   "source": []
  },
  {
   "cell_type": "code",
   "execution_count": 6,
   "id": "bc016c43-6d0f-4d13-88c0-2ed0a099c9fe",
   "metadata": {},
   "outputs": [
    {
     "name": "stdout",
     "output_type": "stream",
     "text": [
      "AxesSubplot(0.125,0.11;0.775x0.77)\n",
      "AxesSubplot(0.125,0.11;0.775x0.77)\n"
     ]
    },
    {
     "data": {
      "image/png": "[encoded data removed]",
      "text/plain": [
       "<Figure size 640x480 with 1 Axes>"
      ]
     },
     "metadata": {},
     "output_type": "display_data"
    }
   ],
   "source": [
    "import matplotlib.pyplot as plt\n",
    "def plot_binary(root):\n",
    "    fig,ax=plt.subplots()\n",
    "    print(ax)\n",
    "    ax.set_axis_off()\n",
    "    print(ax)\n",
    "    \n",
    "    def plot_node(node,x,y,dx):\n",
    "        if not node: return\n",
    "        \n",
    "        ax.annotate(str(node.val),(x,y),ha='center',va='center',bbox=dict(facecolor='white',edgecolor='black',boxstyle='circle'))\n",
    "        if node.left:\n",
    "            ax.plot([x,x-dx],[y,y-1],color='black')\n",
    "            plot_node(node.left,x-dx,y-1,dx/2)\n",
    "        if node.right:\n",
    "            ax.plot([x,x+dx],[y,y-1],color='black')\n",
    "            plot_node(node.right,x+dx,y-1,dx/2)\n",
    "    plot_node(root,0,0,1)\n",
    "    plt.show()\n",
    "plot_binary(tree)"
   ]
  },
  {
   "cell_type": "code",
   "execution_count": null,
   "id": "ac6a8f9b-6ba0-407e-9df8-6f114b86e29a",
   "metadata": {},
   "outputs": [],
   "source": []
  },
  {
   "cell_type": "code",
   "execution_count": null,
   "id": "530abb81-9f9a-44e7-b416-02250c2563c2",
   "metadata": {},
   "outputs": [],
   "source": []
  },
  {
   "cell_type": "code",
   "execution_count": null,
   "id": "5d3272fe-9fbf-43d4-b92c-b8218c04eea9",
   "metadata": {},
   "outputs": [],
   "source": []
  },
  {
   "cell_type": "code",
   "execution_count": null,
   "id": "ce0efe3b-7ff7-4805-b088-f83a31f1608d",
   "metadata": {},
   "outputs": [],
   "source": []
  },
  {
   "cell_type": "code",
   "execution_count": null,
   "id": "4ad44128-e23f-4abe-a174-715715fe225e",
   "metadata": {},
   "outputs": [],
   "source": []
  },
  {
   "cell_type": "code",
   "execution_count": null,
   "id": "d8aea3ae-9846-491e-9716-24fdd313e235",
   "metadata": {},
   "outputs": [],
   "source": []
  },
  {
   "cell_type": "code",
   "execution_count": null,
   "id": "8477d97a-a11c-488b-a953-bee61ebf6f2d",
   "metadata": {},
   "outputs": [],
   "source": []
  },
  {
   "cell_type": "code",
   "execution_count": null,
   "id": "f6da3150-3c5f-45b0-a3e2-0ac768a6e2a7",
   "metadata": {},
   "outputs": [],
   "source": []
  }
 ],
 "metadata": {
  "kernelspec": {
   "display_name": "Python 3 (ipykernel)",
   "language": "python",
   "name": "python3"
  },
  "language_info": {
   "codemirror_mode": {
    "name": "ipython",
    "version": 3
   },
   "file_extension": ".py",
   "mimetype": "text/x-python",
   "name": "python",
   "nbconvert_exporter": "python",
   "pygments_lexer": "ipython3",
   "version": "3.10.12"
  }
 },
 "nbformat": 4,
 "nbformat_minor": 5
}
