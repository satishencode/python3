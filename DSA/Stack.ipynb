{
 "cells": [
  {
   "cell_type": "code",
   "execution_count": 15,
   "id": "6bc2597b-a19f-4003-b239-0b9c035308f1",
   "metadata": {},
   "outputs": [],
   "source": [
    "class Stack:\n",
    "    def __init__(self):\n",
    "        self.container=[]\n",
    "    def push(self,ele):\n",
    "        self.container.append(ele)\n",
    "        return self.container\n",
    "    def pop(self):\n",
    "        self.container.pop()\n",
    "        return self.container\n",
    "    def top(self):\n",
    "        return self.container[-1]\n",
    "    def size(self):\n",
    "        return len(self.container)\n",
    "    def empty(self):\n",
    "        if self.size()==0:\n",
    "            return 'stack is empty'\n",
    "        return 'not empty'\n"
   ]
  },
  {
   "cell_type": "code",
   "execution_count": 16,
   "id": "06ca8da3-8601-4d79-bfec-d643f28ebce6",
   "metadata": {},
   "outputs": [
    {
     "data": {
      "text/plain": [
       "[1, 7, 3, 5]"
      ]
     },
     "execution_count": 16,
     "metadata": {},
     "output_type": "execute_result"
    }
   ],
   "source": [
    "obj=Stack()\n",
    "obj.push(1)\n",
    "obj.push(7)\n",
    "obj.push(3)\n",
    "obj.push(5)"
   ]
  },
  {
   "cell_type": "code",
   "execution_count": 17,
   "id": "3afca9e6-e555-4ffe-8bf9-af7220fae9f3",
   "metadata": {},
   "outputs": [
    {
     "data": {
      "text/plain": [
       "[1, 7, 3]"
      ]
     },
     "execution_count": 17,
     "metadata": {},
     "output_type": "execute_result"
    }
   ],
   "source": [
    "obj.pop()"
   ]
  },
  {
   "cell_type": "code",
   "execution_count": 18,
   "id": "975e4ff2-ba4d-4bcc-9a5d-a846f29b5ad4",
   "metadata": {},
   "outputs": [
    {
     "data": {
      "text/plain": [
       "3"
      ]
     },
     "execution_count": 18,
     "metadata": {},
     "output_type": "execute_result"
    }
   ],
   "source": [
    "obj.top()"
   ]
  },
  {
   "cell_type": "code",
   "execution_count": 19,
   "id": "8b28e687-9a29-4fdd-9ba2-a2ce32cfed05",
   "metadata": {},
   "outputs": [
    {
     "data": {
      "text/plain": [
       "3"
      ]
     },
     "execution_count": 19,
     "metadata": {},
     "output_type": "execute_result"
    }
   ],
   "source": [
    "obj.size()"
   ]
  },
  {
   "cell_type": "code",
   "execution_count": 20,
   "id": "5d9826d8-6610-401c-bb71-2c24a409d024",
   "metadata": {},
   "outputs": [
    {
     "data": {
      "text/plain": [
       "'not empty'"
      ]
     },
     "execution_count": 20,
     "metadata": {},
     "output_type": "execute_result"
    }
   ],
   "source": [
    "obj.empty()"
   ]
  },
  {
   "cell_type": "code",
   "execution_count": null,
   "id": "99450f75-0273-4bc8-9902-c405004186fe",
   "metadata": {},
   "outputs": [],
   "source": []
  }
 ],
 "metadata": {
  "kernelspec": {
   "display_name": "Python 3 (ipykernel)",
   "language": "python",
   "name": "python3"
  },
  "language_info": {
   "codemirror_mode": {
    "name": "ipython",
    "version": 3
   },
   "file_extension": ".py",
   "mimetype": "text/x-python",
   "name": "python",
   "nbconvert_exporter": "python",
   "pygments_lexer": "ipython3",
   "version": "3.10.12"
  }
 },
 "nbformat": 4,
 "nbformat_minor": 5
}
