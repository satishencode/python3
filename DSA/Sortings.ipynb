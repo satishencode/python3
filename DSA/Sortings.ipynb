{
 "cells": [
  {
   "cell_type": "code",
   "execution_count": 2,
   "id": "f3206974-6460-4c45-a6a4-34d3f27a42d1",
   "metadata": {},
   "outputs": [
    {
     "data": {
      "text/plain": [
       "[0, 1, 2, 3, 4, 5, 7, 8, 9, 34, 1213213]"
      ]
     },
     "execution_count": 2,
     "metadata": {},
     "output_type": "execute_result"
    }
   ],
   "source": [
    "class Bubble:\n",
    "    def bubble(self,arr):\n",
    "        l=len(arr)\n",
    "        for i in range(l):\n",
    "            flag=0\n",
    "            for j in range(l-i-1):\n",
    "                if arr[j+1]<arr[j]:\n",
    "                    arr[j+1],arr[j]=arr[j],arr[j+1]\n",
    "                    flag=1\n",
    "            if flag==0:\n",
    "                return arr\n",
    "        return arr\n",
    "obj=Bubble()\n",
    "obj.bubble([9,2,5,1213213,34,1,0,4,7,3,8])"
   ]
  },
  {
   "cell_type": "code",
   "execution_count": 3,
   "id": "11746449-b4a4-4528-8333-47bf478df32c",
   "metadata": {},
   "outputs": [
    {
     "data": {
      "text/plain": [
       "[0, 1, 2, 3, 4, 5, 7, 8, 9, 34, 1213213]"
      ]
     },
     "execution_count": 3,
     "metadata": {},
     "output_type": "execute_result"
    }
   ],
   "source": [
    "class Selection:\n",
    "    def selection(self,arr):\n",
    "        l=len(arr)\n",
    "        for i in range(l-1):\n",
    "            min=i\n",
    "            for j in range(i+1,l):\n",
    "                if arr[j]<arr[min]:\n",
    "                    min=j\n",
    "            arr[i],arr[min]=arr[min],arr[i]\n",
    "        return arr\n",
    "obj=Selection()\n",
    "obj.selection([9,2,5,1213213,34,1,0,4,7,3,8])"
   ]
  },
  {
   "cell_type": "code",
   "execution_count": 4,
   "id": "d0c3b862-9c92-4f6d-b563-a97f02349082",
   "metadata": {},
   "outputs": [
    {
     "data": {
      "text/plain": [
       "[0, 1, 2, 3, 4, 5, 7, 8, 9, 34, 1213213]"
      ]
     },
     "execution_count": 4,
     "metadata": {},
     "output_type": "execute_result"
    }
   ],
   "source": [
    "class Quick:\n",
    "    def quick(self,arr):\n",
    "        if len(arr)<=1:\n",
    "            return arr\n",
    "        pivot=arr[0]\n",
    "        left=[i for i in arr[1:] if i<pivot]\n",
    "        right=[i for i in arr[1:] if i>=pivot]\n",
    "        return self.quick(left)+[pivot]+self.quick(right)\n",
    "obj=Quick()\n",
    "obj.quick([9,2,5,1213213,34,1,0,4,7,3,8])"
   ]
  },
  {
   "cell_type": "code",
   "execution_count": 4,
   "id": "d58b9a96-9c63-4344-9593-656c6273cabe",
   "metadata": {},
   "outputs": [
    {
     "data": {
      "text/plain": [
       "[0, 1, 2, 3, 4, 5, 7, 8, 9, 34, 1213213]"
      ]
     },
     "execution_count": 4,
     "metadata": {},
     "output_type": "execute_result"
    }
   ],
   "source": [
    "class Merge:\n",
    "    def divide(self,arr):\n",
    "        if len(arr)<=1:\n",
    "            return arr\n",
    "        mid=len(arr)//2\n",
    "        left=self.divide(arr[:mid])\n",
    "        right=self.divide(arr[mid:])\n",
    "        return self.conquer(left,right)\n",
    "    def conquer(self,left,right):\n",
    "        i,j=0,0\n",
    "        res=[]\n",
    "        while i<len(left) and j<len(right):\n",
    "            if left[i]<right[j]:\n",
    "                res+=[left[i]]\n",
    "                i+=1\n",
    "            else:\n",
    "                res+=[right[j]]\n",
    "                j+=1\n",
    "        res+=left[i:]+right[j:]\n",
    "        return res\n",
    "obj=Merge()\n",
    "obj.divide([9,2,5,1213213,34,1,0,4,7,3,8])"
   ]
  },
  {
   "cell_type": "code",
   "execution_count": 3,
   "id": "6226818b-a5bc-4b3a-9f29-d61b29c68cdb",
   "metadata": {},
   "outputs": [
    {
     "data": {
      "text/plain": [
       "[0, 1, 2, 3, 4, 5, 7, 8, 9, 34, 1213213]"
      ]
     },
     "execution_count": 3,
     "metadata": {},
     "output_type": "execute_result"
    }
   ],
   "source": [
    "class Insertion:\n",
    "    def insertion(self,arr):\n",
    "        for i in range(1,len(arr)):\n",
    "            gap=i\n",
    "            val=arr[i]\n",
    "            while gap>0 and arr[gap-1]>val:\n",
    "                arr[gap]=arr[gap-1]\n",
    "                gap-=1\n",
    "            arr[gap]=val\n",
    "        return arr\n",
    "obj=Insertion()\n",
    "obj.insertion([9,2,5,1213213,34,1,0,4,7,3,8])"
   ]
  },
  {
   "cell_type": "code",
   "execution_count": 15,
   "id": "02089c66-3387-4e27-a897-79eddf5a1aa4",
   "metadata": {},
   "outputs": [
    {
     "data": {
      "text/plain": [
       "[4, 11, 22, 33, 44, 44, 44, 55, 66, 77, 88]"
      ]
     },
     "execution_count": 15,
     "metadata": {},
     "output_type": "execute_result"
    }
   ],
   "source": [
    "class Quick:\n",
    "    def quick(self,arr,left,right):\n",
    "        if left<right:\n",
    "            pos=self.partition(arr,left,right)\n",
    "            self.quick(arr,left,pos-1)\n",
    "            self.quick(arr,pos+1,right)\n",
    "        return arr\n",
    "    def partition(self,arr,left,right):\n",
    "        i=left\n",
    "        j=right-1\n",
    "        pivot=arr[right]\n",
    "        while i<j:\n",
    "            while i<right and arr[i]<pivot:\n",
    "                i+=1\n",
    "            while arr[j]>=pivot and j>=i:\n",
    "                j-=1\n",
    "            if i<j:\n",
    "                arr[i],arr[j]=arr[j],arr[i]\n",
    "        if arr[i]>pivot:\n",
    "            arr[i],arr[right]=arr[right],arr[i]\n",
    "        return i\n",
    "obj=Quick()\n",
    "arr=[22,11,88,66,55,77,33,44,44,44,4]\n",
    "obj.quick(arr,0,len(arr)-1)"
   ]
  },
  {
   "cell_type": "code",
   "execution_count": 13,
   "id": "28dc6e09-2a83-49c9-b3c8-e5917b9dbf07",
   "metadata": {},
   "outputs": [
    {
     "name": "stdout",
     "output_type": "stream",
     "text": [
      "[534, 456, 1, 34, 213, -98, 0, 12, 23]\n"
     ]
    },
    {
     "data": {
      "text/plain": [
       "[-98, 0, 1, 12, 23, 34, 213, 456, 534]"
      ]
     },
     "execution_count": 13,
     "metadata": {},
     "output_type": "execute_result"
    }
   ],
   "source": [
    "class HeapSort:\n",
    "    def buildTree(self,arr,n):\n",
    "        for i in range(n//2-1,-1,-1):\n",
    "            self.heapify(arr,n,i)\n",
    "        return arr\n",
    "    def heapify(self,arr,n,i):\n",
    "        largest=i\n",
    "        left=2*i+1\n",
    "        right=2*i+2\n",
    "        # if left<n and arr[left]<arr[largest]:   #for descending order\n",
    "        if left<n and arr[left]>arr[largest]:\n",
    "            largest=left\n",
    "        # if right<n and arr[right]<arr[largest]:   #for descending order \n",
    "        if right<n and arr[right]>arr[largest]:\n",
    "            largest=right\n",
    "        if largest!=i:\n",
    "            arr[largest],arr[i]=arr[i],arr[largest]\n",
    "            self.heapify(arr,n,largest)\n",
    "    def heapSort(self,arr,n):\n",
    "        self.buildTree(arr,n)\n",
    "        print(arr)\n",
    "        for i in range(n-1,-1,-1):\n",
    "            arr[0],arr[i]=arr[i],arr[0]\n",
    "            self.heapify(arr,i,0)\n",
    "        return arr\n",
    "obj=HeapSort()\n",
    "arr=[1,23,534,12,213,-98,0,456,34]\n",
    "obj.heapSort(arr,len(arr))"
   ]
  },
  {
   "cell_type": "code",
   "execution_count": null,
   "id": "eea728f9-23d2-49ab-ab37-7a18db00165a",
   "metadata": {},
   "outputs": [],
   "source": []
  },
  {
   "cell_type": "code",
   "execution_count": 1,
   "id": "46954623-60b7-44b8-adad-39b6b36d7ba6",
   "metadata": {},
   "outputs": [
    {
     "data": {
      "text/plain": [
       "[0, 1, 2, 3, 4, 5, 7, 8, 9, 34, 1213213]"
      ]
     },
     "execution_count": 1,
     "metadata": {},
     "output_type": "execute_result"
    }
   ],
   "source": [
    "class Bubble:\n",
    "    def bubble(self,arr):\n",
    "        l=len(arr)\n",
    "        for i in range(l):\n",
    "            flag=0\n",
    "            for j in range(l-i-1):\n",
    "                if arr[j+1]<arr[j]:\n",
    "                    arr[j+1],arr[j]=arr[j],arr[j+1]\n",
    "                    flag=1\n",
    "            if flag==0:\n",
    "                return arr\n",
    "        return arr\n",
    "obj=Bubble()\n",
    "obj.bubble([9,2,5,1213213,34,1,0,4,7,3,8])"
   ]
  },
  {
   "cell_type": "code",
   "execution_count": 3,
   "id": "d869275f-a5ae-4468-9bae-d8e97bb6424e",
   "metadata": {},
   "outputs": [
    {
     "data": {
      "text/plain": [
       "[0, 1, 2, 3, 4, 5, 7, 8, 9, 34, 1213213]"
      ]
     },
     "execution_count": 3,
     "metadata": {},
     "output_type": "execute_result"
    }
   ],
   "source": [
    "class Insertion:\n",
    "    def insertion(self,arr):\n",
    "        l=len(arr)\n",
    "        for i in range(1,l):\n",
    "            val=arr[i]\n",
    "            gap=i\n",
    "            while gap>0 and arr[gap-1]>val:\n",
    "                arr[gap]=arr[gap-1]\n",
    "                gap-=1\n",
    "            arr[gap]=val\n",
    "        return arr\n",
    "obj=Insertion()\n",
    "obj.insertion([9,2,5,1213213,34,1,0,4,7,3,8])"
   ]
  },
  {
   "cell_type": "code",
   "execution_count": 4,
   "id": "7551bf24-b934-4ef6-9569-a006836e08c8",
   "metadata": {},
   "outputs": [
    {
     "data": {
      "text/plain": [
       "[0, 1, 2, 3, 4, 5, 7, 8, 9, 34, 1213213]"
      ]
     },
     "execution_count": 4,
     "metadata": {},
     "output_type": "execute_result"
    }
   ],
   "source": [
    "class Selection:\n",
    "    def selection(self,arr):\n",
    "        l=len(arr)\n",
    "        for i in range(l-1):\n",
    "            min=i\n",
    "            for j in range(i+1,l):\n",
    "                if arr[j]<arr[min]:\n",
    "                    min=j\n",
    "            arr[i],arr[min]=arr[min],arr[i]\n",
    "        return arr\n",
    "obj=Selection()\n",
    "obj.selection([9,2,5,1213213,34,1,0,4,7,3,8])"
   ]
  },
  {
   "cell_type": "code",
   "execution_count": 6,
   "id": "ea432ec2-d8ad-4f1e-9772-261286b27005",
   "metadata": {},
   "outputs": [
    {
     "data": {
      "text/plain": [
       "[0, 1, 2, 3, 4, 5, 7, 8, 9, 34, 1213213]"
      ]
     },
     "execution_count": 6,
     "metadata": {},
     "output_type": "execute_result"
    }
   ],
   "source": [
    "class Merge:\n",
    "    def divide(self,arr):\n",
    "        if len(arr)<=1:\n",
    "            return arr\n",
    "        mid=len(arr)//2\n",
    "        left=self.divide(arr[:mid])\n",
    "        right=self.divide(arr[mid:])\n",
    "        return self.conquer(left,right)\n",
    "    def conquer(self,left,right):\n",
    "        i,j=0,0\n",
    "        res=[]\n",
    "        while i<len(left) and j<len(right):\n",
    "            if left[i]<right[j]:\n",
    "                res+=[left[i]]\n",
    "                i+=1\n",
    "            else:\n",
    "                res+=[right[j]]\n",
    "                j+=1\n",
    "        res+=left[i:]+right[j:]\n",
    "        return res\n",
    "obj=Merge()\n",
    "obj.divide([9,2,5,1213213,34,1,0,4,7,3,8])"
   ]
  },
  {
   "cell_type": "code",
   "execution_count": 7,
   "id": "6974deb8-fdda-4063-a8ea-3d34531ef84a",
   "metadata": {},
   "outputs": [
    {
     "data": {
      "text/plain": [
       "[0, 1, 2, 3, 4, 5, 7, 8, 9, 34, 1213213]"
      ]
     },
     "execution_count": 7,
     "metadata": {},
     "output_type": "execute_result"
    }
   ],
   "source": [
    "class Quick:\n",
    "    def quick(self,arr):\n",
    "        if len(arr)<=1:\n",
    "            return arr\n",
    "        pivot=arr[0]\n",
    "        left=[i for i in arr[1:] if i<pivot]\n",
    "        right=[i for i in arr[1:] if i>=pivot]\n",
    "        return self.quick(left)+[pivot]+self.quick(right)\n",
    "obj=Quick()\n",
    "obj.quick([9,2,5,1213213,34,1,0,4,7,3,8])"
   ]
  },
  {
   "cell_type": "code",
   "execution_count": null,
   "id": "88cc2e48-9585-48a4-a541-de7688f10e29",
   "metadata": {},
   "outputs": [],
   "source": []
  }
 ],
 "metadata": {
  "kernelspec": {
   "display_name": "Python 3 (ipykernel)",
   "language": "python",
   "name": "python3"
  },
  "language_info": {
   "codemirror_mode": {
    "name": "ipython",
    "version": 3
   },
   "file_extension": ".py",
   "mimetype": "text/x-python",
   "name": "python",
   "nbconvert_exporter": "python",
   "pygments_lexer": "ipython3",
   "version": "3.10.12"
  }
 },
 "nbformat": 4,
 "nbformat_minor": 5
}
