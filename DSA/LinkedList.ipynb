{
 "cells": [
  {
   "cell_type": "code",
   "execution_count": 18,
   "id": "0b83f5da-f583-4481-8485-c78e265b03d8",
   "metadata": {},
   "outputs": [],
   "source": [
    "class ListNode:\n",
    "    def __init__(self,val):\n",
    "        self.val=val\n",
    "        self.next=None"
   ]
  },
  {
   "cell_type": "code",
   "execution_count": 33,
   "id": "4af0f719-bbcd-45d1-8b0f-a1254c957d4a",
   "metadata": {},
   "outputs": [],
   "source": [
    "class SLL:\n",
    "    def __init__(self):\n",
    "        self.head=None\n",
    "    #displaying sll\n",
    "    def print(self):\n",
    "        self.length=0\n",
    "        if not self.head:\n",
    "            return 'Linked list is empty'\n",
    "        itr=self.head\n",
    "        lstr=\"\"\n",
    "        while itr:\n",
    "            lstr+=str(itr.val)+\"-->\" if itr.next else str(itr.val)\n",
    "            itr=itr.next\n",
    "            self.length+=1\n",
    "        return lstr\n",
    "\n",
    "    #inserting element at specific index\n",
    "    def insert(self,pos,val):\n",
    "        if not self.head or pos<0:\n",
    "            return \"can't be insert\"\n",
    "        itr=self.head\n",
    "        if pos==0:\n",
    "            temp=ListNode(val)\n",
    "            self.head=temp\n",
    "            temp.next=itr\n",
    "            return self.print()\n",
    "        ind=0\n",
    "        while itr:\n",
    "            if ind==pos-1:\n",
    "                temp=itr.next\n",
    "                node=ListNode(val)\n",
    "                itr.next=node\n",
    "                node.next=temp\n",
    "                return self.print()\n",
    "            ind+=1\n",
    "            itr=itr.next\n",
    "        return self.print()\n",
    "\n",
    "    #deleting element at specific index\n",
    "    def delete(self,pos):\n",
    "        if not self.head or pos<0:\n",
    "            return \"can't be delete\"\n",
    "        itr=self.head\n",
    "        if pos==0:\n",
    "            self.head=itr.next\n",
    "            return self.print()\n",
    "        ind=0\n",
    "        if pos==self.length-1:\n",
    "            while itr.next:\n",
    "                if not itr.next.next:\n",
    "                    itr.next=None\n",
    "                    return self.print()\n",
    "                itr=itr.next\n",
    "        while itr.next:\n",
    "            if ind==pos-1:\n",
    "                temp=itr.next\n",
    "                itr.next=itr.next.next\n",
    "                temp=None\n",
    "                return self.print()\n",
    "            itr=itr.next\n",
    "        return self.print()\n",
    "    def reverse(self):\n",
    "        if not self.head:\n",
    "            return 'empty sll'\n",
    "        curr=self.head\n",
    "        prev=None\n",
    "        while curr:\n",
    "            next=curr.next\n",
    "            curr.next=prev\n",
    "            prev=curr\n",
    "            curr=next\n",
    "        self.head=prev\n",
    "        return self.print()\n",
    "    def sort(self):\n",
    "        if not self.head:\n",
    "            return 'empty sll'\n",
    "        itr=self.head\n",
    "        while itr:\n",
    "            min=itr\n",
    "            itr1=itr.next\n",
    "            while itr1:\n",
    "                if itr1.val<min.val:\n",
    "                    min=itr1\n",
    "                itr1=itr1.next\n",
    "            itr.val,min.val=min.val,itr.val\n",
    "            itr=itr.next\n",
    "        return self.print()\n",
    "        "
   ]
  },
  {
   "cell_type": "code",
   "execution_count": 40,
   "id": "32659340-973e-4027-9f4a-6407ef8ac6a7",
   "metadata": {},
   "outputs": [
    {
     "data": {
      "text/plain": [
       "'3-->2-->1-->645-->756-->23-->4-->231-->6345-->234-->3-->2-->2-->6-->2311232364-->5'"
      ]
     },
     "execution_count": 40,
     "metadata": {},
     "output_type": "execute_result"
    }
   ],
   "source": [
    "sll=SLL()\n",
    "l=[3,2,1,645,756,23,4,231,6345,234,3,2,2,6,2311232364,5]\n",
    "sll.head=ListNode(l[0])\n",
    "itr=sll.head\n",
    "for i in range(1,len(l)):\n",
    "    itr.next=ListNode(l[i])\n",
    "    itr=itr.next\n",
    "sll.print()"
   ]
  },
  {
   "cell_type": "code",
   "execution_count": 41,
   "id": "d9d2f450-8d6c-4da6-841b-3de3579035f6",
   "metadata": {},
   "outputs": [
    {
     "data": {
      "text/plain": [
       "'8-->3-->2-->1-->645-->756-->23-->4-->231-->6345-->234-->3-->2-->2-->6-->2311232364-->5'"
      ]
     },
     "execution_count": 41,
     "metadata": {},
     "output_type": "execute_result"
    }
   ],
   "source": [
    "sll.insert(0,8)"
   ]
  },
  {
   "cell_type": "code",
   "execution_count": 42,
   "id": "1a3dce6e-4490-4a4b-bf98-593703a2f4cc",
   "metadata": {},
   "outputs": [
    {
     "data": {
      "text/plain": [
       "'8-->5-->3-->2-->1-->645-->756-->23-->4-->231-->6345-->234-->3-->2-->2-->6-->2311232364-->5'"
      ]
     },
     "execution_count": 42,
     "metadata": {},
     "output_type": "execute_result"
    }
   ],
   "source": [
    "sll.insert(1,5)"
   ]
  },
  {
   "cell_type": "code",
   "execution_count": 43,
   "id": "ecd74c1a-931f-4e8c-9cf0-f1c4962c3185",
   "metadata": {},
   "outputs": [
    {
     "data": {
      "text/plain": [
       "'8-->5-->3-->2-->6-->1-->645-->756-->23-->4-->231-->6345-->234-->3-->2-->2-->6-->2311232364-->5'"
      ]
     },
     "execution_count": 43,
     "metadata": {},
     "output_type": "execute_result"
    }
   ],
   "source": [
    "sll.insert(4,6)"
   ]
  },
  {
   "cell_type": "code",
   "execution_count": 44,
   "id": "c35a1d79-a19c-4283-956b-ce26326b94da",
   "metadata": {},
   "outputs": [
    {
     "data": {
      "text/plain": [
       "'5-->2311232364-->6-->2-->2-->3-->234-->6345-->231-->4-->23-->756-->645-->1-->6-->2-->3-->5-->8'"
      ]
     },
     "execution_count": 44,
     "metadata": {},
     "output_type": "execute_result"
    }
   ],
   "source": [
    "sll.reverse()"
   ]
  },
  {
   "cell_type": "code",
   "execution_count": 45,
   "id": "625be755-c834-405e-bd20-059372117731",
   "metadata": {},
   "outputs": [
    {
     "data": {
      "text/plain": [
       "'1-->2-->2-->2-->3-->3-->4-->5-->5-->6-->6-->8-->23-->231-->234-->645-->756-->6345-->2311232364'"
      ]
     },
     "execution_count": 45,
     "metadata": {},
     "output_type": "execute_result"
    }
   ],
   "source": [
    "sll.sort()"
   ]
  },
  {
   "cell_type": "code",
   "execution_count": 8,
   "id": "721c8bd8-4b97-4c54-9f31-0ec1d7a4688c",
   "metadata": {},
   "outputs": [
    {
     "data": {
      "text/plain": [
       "'5-->3-->2-->6'"
      ]
     },
     "execution_count": 8,
     "metadata": {},
     "output_type": "execute_result"
    }
   ],
   "source": [
    "sll.delete(0)"
   ]
  },
  {
   "cell_type": "code",
   "execution_count": 9,
   "id": "bf4dda84-70e7-4c30-8f26-3668cd569bf5",
   "metadata": {},
   "outputs": [
    {
     "data": {
      "text/plain": [
       "'5-->2-->6'"
      ]
     },
     "execution_count": 9,
     "metadata": {},
     "output_type": "execute_result"
    }
   ],
   "source": [
    "sll.delete(1)"
   ]
  },
  {
   "cell_type": "code",
   "execution_count": 10,
   "id": "28e3b994-9687-45e1-8a11-f381f5030d71",
   "metadata": {},
   "outputs": [
    {
     "data": {
      "text/plain": [
       "'5-->2'"
      ]
     },
     "execution_count": 10,
     "metadata": {},
     "output_type": "execute_result"
    }
   ],
   "source": [
    "sll.delete(2)"
   ]
  },
  {
   "cell_type": "code",
   "execution_count": 11,
   "id": "beac3268-3aec-4d7e-9790-2c03a8d19489",
   "metadata": {},
   "outputs": [
    {
     "data": {
      "text/plain": [
       "2"
      ]
     },
     "execution_count": 11,
     "metadata": {},
     "output_type": "execute_result"
    }
   ],
   "source": [
    "sll.length"
   ]
  },
  {
   "cell_type": "code",
   "execution_count": null,
   "id": "39666822-f2e0-4138-a449-fe5e5552f6b3",
   "metadata": {},
   "outputs": [],
   "source": []
  }
 ],
 "metadata": {
  "kernelspec": {
   "display_name": "Python 3 (ipykernel)",
   "language": "python",
   "name": "python3"
  },
  "language_info": {
   "codemirror_mode": {
    "name": "ipython",
    "version": 3
   },
   "file_extension": ".py",
   "mimetype": "text/x-python",
   "name": "python",
   "nbconvert_exporter": "python",
   "pygments_lexer": "ipython3",
   "version": "3.10.12"
  }
 },
 "nbformat": 4,
 "nbformat_minor": 5
}
