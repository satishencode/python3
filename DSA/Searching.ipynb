{
 "cells": [
  {
   "cell_type": "code",
   "execution_count": 4,
   "id": "ccbb3edd-9e65-4478-9eb0-505f662f7cb8",
   "metadata": {},
   "outputs": [
    {
     "data": {
      "text/plain": [
       "('element found at index : ', 1)"
      ]
     },
     "execution_count": 4,
     "metadata": {},
     "output_type": "execute_result"
    }
   ],
   "source": [
    "class Linear:\n",
    "    def linear(self,arr,ele):\n",
    "        for i in range(len(arr)):\n",
    "            if arr[i]==ele:\n",
    "                return \"element found at index : \",i\n",
    "        return \"element not found\"\n",
    "obj=Linear()\n",
    "obj.linear([3,1,5,8,0,2,56,7,88,99,9],1)"
   ]
  },
  {
   "cell_type": "code",
   "execution_count": 9,
   "id": "2892c75c-57f2-409e-ab61-5e3f82e7db4e",
   "metadata": {},
   "outputs": [
    {
     "data": {
      "text/plain": [
       "('element found at index : ', 6)"
      ]
     },
     "execution_count": 9,
     "metadata": {},
     "output_type": "execute_result"
    }
   ],
   "source": [
    "class Binary:\n",
    "    def binary(self,arr,ele):\n",
    "        low=0\n",
    "        high=len(arr)-1\n",
    "        while low<=high:\n",
    "            mid=(low+high)//2\n",
    "            if arr[mid]==ele:\n",
    "                return \"element found at index : \",mid\n",
    "            elif arr[mid]>ele:\n",
    "                high=mid-1\n",
    "            else:\n",
    "                low=mid+1\n",
    "        return \"element not found\"\n",
    "        #return high+1 for find inserting position if not present\n",
    "obj=Binary()\n",
    "obj.binary([1,4,5,6,7,8,9,10],9)"
   ]
  },
  {
   "cell_type": "code",
   "execution_count": null,
   "id": "a90eebd4-d8fa-43e7-be16-2b5fed501a79",
   "metadata": {},
   "outputs": [],
   "source": []
  }
 ],
 "metadata": {
  "kernelspec": {
   "display_name": "Python 3 (ipykernel)",
   "language": "python",
   "name": "python3"
  },
  "language_info": {
   "codemirror_mode": {
    "name": "ipython",
    "version": 3
   },
   "file_extension": ".py",
   "mimetype": "text/x-python",
   "name": "python",
   "nbconvert_exporter": "python",
   "pygments_lexer": "ipython3",
   "version": "3.10.12"
  }
 },
 "nbformat": 4,
 "nbformat_minor": 5
}
