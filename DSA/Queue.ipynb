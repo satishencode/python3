{
 "cells": [
  {
   "cell_type": "code",
   "execution_count": 8,
   "id": "9dde1a96-29c1-40a5-bc12-219e2b8420d5",
   "metadata": {},
   "outputs": [],
   "source": [
    "class Queue:\n",
    "    def __init__(self):\n",
    "        self.queue=[]\n",
    "    def enqueue(self,ele):\n",
    "        self.queue.insert(0,ele)\n",
    "        return self.queue\n",
    "    def dequeue(self):\n",
    "        self.queue.pop()\n",
    "        return self.queue\n",
    "    def front(self):\n",
    "        return self.queue[-1]\n",
    "    def rear(self):\n",
    "        return self.queue[0]\n",
    "    def size(self):\n",
    "        return len(self.queue)\n",
    "    def empty(self):\n",
    "        if self.size()==0:\n",
    "            return \"queue is empty\"\n",
    "        return \"queue is not empty\"\n"
   ]
  },
  {
   "cell_type": "code",
   "execution_count": 9,
   "id": "eecfa899-e77a-498a-bd75-37da2cd66144",
   "metadata": {},
   "outputs": [],
   "source": [
    "obj=Queue()"
   ]
  },
  {
   "cell_type": "code",
   "execution_count": 10,
   "id": "4ff55415-d794-490f-a329-faa094b4d917",
   "metadata": {},
   "outputs": [
    {
     "data": {
      "text/plain": [
       "[5, 9, 3, 7, 2]"
      ]
     },
     "execution_count": 10,
     "metadata": {},
     "output_type": "execute_result"
    }
   ],
   "source": [
    "obj.enqueue(2)\n",
    "obj.enqueue(7)\n",
    "obj.enqueue(3)\n",
    "obj.enqueue(9)\n",
    "obj.enqueue(5)"
   ]
  },
  {
   "cell_type": "code",
   "execution_count": 11,
   "id": "0abb403b-e070-4e15-8b31-b5564a63702f",
   "metadata": {},
   "outputs": [
    {
     "data": {
      "text/plain": [
       "[5, 9, 3, 7]"
      ]
     },
     "execution_count": 11,
     "metadata": {},
     "output_type": "execute_result"
    }
   ],
   "source": [
    "obj.dequeue()"
   ]
  },
  {
   "cell_type": "code",
   "execution_count": 12,
   "id": "905929ca-fa8b-4b74-968c-baf7d8b55cc6",
   "metadata": {},
   "outputs": [
    {
     "data": {
      "text/plain": [
       "7"
      ]
     },
     "execution_count": 12,
     "metadata": {},
     "output_type": "execute_result"
    }
   ],
   "source": [
    "obj.front()"
   ]
  },
  {
   "cell_type": "code",
   "execution_count": 13,
   "id": "c2c17985-d8df-4642-bfc5-13d55bcc8b26",
   "metadata": {},
   "outputs": [
    {
     "data": {
      "text/plain": [
       "5"
      ]
     },
     "execution_count": 13,
     "metadata": {},
     "output_type": "execute_result"
    }
   ],
   "source": [
    "obj.rear()"
   ]
  },
  {
   "cell_type": "code",
   "execution_count": 14,
   "id": "03c575fb-2471-427c-8d67-776bf6b98b0d",
   "metadata": {},
   "outputs": [
    {
     "data": {
      "text/plain": [
       "4"
      ]
     },
     "execution_count": 14,
     "metadata": {},
     "output_type": "execute_result"
    }
   ],
   "source": [
    "obj.size()"
   ]
  },
  {
   "cell_type": "code",
   "execution_count": 15,
   "id": "3dcb9980-bd47-432a-a942-97285bca6a82",
   "metadata": {},
   "outputs": [
    {
     "data": {
      "text/plain": [
       "'queue is not empty'"
      ]
     },
     "execution_count": 15,
     "metadata": {},
     "output_type": "execute_result"
    }
   ],
   "source": [
    "obj.empty()"
   ]
  },
  {
   "cell_type": "code",
   "execution_count": null,
   "id": "e1f86229-817f-4c7f-b178-32ef0adfe3e4",
   "metadata": {},
   "outputs": [],
   "source": []
  }
 ],
 "metadata": {
  "kernelspec": {
   "display_name": "Python 3 (ipykernel)",
   "language": "python",
   "name": "python3"
  },
  "language_info": {
   "codemirror_mode": {
    "name": "ipython",
    "version": 3
   },
   "file_extension": ".py",
   "mimetype": "text/x-python",
   "name": "python",
   "nbconvert_exporter": "python",
   "pygments_lexer": "ipython3",
   "version": "3.10.12"
  }
 },
 "nbformat": 4,
 "nbformat_minor": 5
}
