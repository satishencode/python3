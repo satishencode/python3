{
 "cells": [
  {
   "cell_type": "code",
   "execution_count": 1,
   "id": "82b73ff2",
   "metadata": {},
   "outputs": [
    {
     "data": {
      "text/plain": [
       "[4, 5, 1, 2, 3]"
      ]
     },
     "execution_count": 1,
     "metadata": {},
     "output_type": "execute_result"
    }
   ],
   "source": [
    "class Solution:\n",
    "    def rotateArray(self,arr,k):\n",
    "        l=len(arr)\n",
    "        k=k%l\n",
    "        for i in range(k):\n",
    "            ele=arr.pop()\n",
    "            arr=[ele]+arr\n",
    "        return arr\n",
    "obj=Solution()\n",
    "obj.rotateArray([1,2,3,4,5],2)"
   ]
  },
  {
   "cell_type": "code",
   "execution_count": 45,
   "id": "b02c394d",
   "metadata": {},
   "outputs": [
    {
     "data": {
      "text/plain": [
       "'-7-->1-->8-->5-->2-->4'"
      ]
     },
     "execution_count": 45,
     "metadata": {},
     "output_type": "execute_result"
    }
   ],
   "source": [
    "class ListNode:\n",
    "    def __init__(self,val):\n",
    "        self.val=val\n",
    "        self.next=None\n",
    "class LinkedList:\n",
    "    res=[]\n",
    "    def __init__(self):\n",
    "        self.head=None\n",
    "    \n",
    "    def print_ll(self):\n",
    "        if not self.head: return 'empty sll'\n",
    "        itr=self.head\n",
    "        lstr=''\n",
    "        while itr:\n",
    "            lstr+=str(itr.val)+'-->' if itr.next else str(itr.val)\n",
    "            itr=itr.next\n",
    "        return lstr\n",
    "    def insert_beg(self,ele):\n",
    "        node=ListNode(ele)\n",
    "        if not self.head:\n",
    "            self.head=node\n",
    "            return head\n",
    "        itr=self.head\n",
    "        self.head=node\n",
    "        node.next=itr\n",
    "        return self.head\n",
    "    def reverseGroup(self,k):\n",
    "        org=[]\n",
    "        itr=self.head\n",
    "        while itr:\n",
    "            org+=[itr.val]\n",
    "            itr=itr.next\n",
    "        l=len(org)\n",
    "        start=0\n",
    "        while start<l:\n",
    "            temp=[]\n",
    "            i=0\n",
    "            while i<k and start<l:\n",
    "                temp+=[org[start]]\n",
    "                start+=1\n",
    "                i+=1\n",
    "            rev_list=[]\n",
    "            for i in temp:\n",
    "                rev_list=[i]+rev_list\n",
    "            self.res+=rev_list\n",
    "        print(self.res)\n",
    "obj=LinkedList()\n",
    "arr=[4,2,5,8,1,-7]\n",
    "obj.head=ListNode(arr[0])\n",
    "for i in range(1,len(arr)):\n",
    "    obj.insert_beg(arr[i])\n",
    "obj.print_ll()"
   ]
  },
  {
   "cell_type": "code",
   "execution_count": 46,
   "id": "8e005bff",
   "metadata": {},
   "outputs": [
    {
     "name": "stdout",
     "output_type": "stream",
     "text": [
      "[5, 8, 1, -7, 4, 2]\n"
     ]
    }
   ],
   "source": [
    "obj.reverseGroup(4)"
   ]
  },
  {
   "cell_type": "code",
   "execution_count": 47,
   "id": "10f8409b",
   "metadata": {},
   "outputs": [],
   "source": [
    "obj.head=ListNode(obj.res[0])"
   ]
  },
  {
   "cell_type": "code",
   "execution_count": 48,
   "id": "f73f1672",
   "metadata": {},
   "outputs": [
    {
     "data": {
      "text/plain": [
       "'2-->4-->-7-->1-->8-->5'"
      ]
     },
     "execution_count": 48,
     "metadata": {},
     "output_type": "execute_result"
    }
   ],
   "source": [
    "for i in range(1,len(obj.res)):\n",
    "    obj.insert_beg(obj.res[i])\n",
    "obj.print_ll()"
   ]
  },
  {
   "cell_type": "code",
   "execution_count": null,
   "id": "e928ad54",
   "metadata": {},
   "outputs": [],
   "source": []
  }
 ],
 "metadata": {
  "kernelspec": {
   "display_name": "Python 3 (ipykernel)",
   "language": "python",
   "name": "python3"
  },
  "language_info": {
   "codemirror_mode": {
    "name": "ipython",
    "version": 3
   },
   "file_extension": ".py",
   "mimetype": "text/x-python",
   "name": "python",
   "nbconvert_exporter": "python",
   "pygments_lexer": "ipython3",
   "version": "3.9.12"
  }
 },
 "nbformat": 4,
 "nbformat_minor": 5
}
