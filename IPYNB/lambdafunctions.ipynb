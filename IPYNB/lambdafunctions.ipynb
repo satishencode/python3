{
 "cells": [
  {
   "cell_type": "code",
   "execution_count": 1,
   "id": "a922ac27",
   "metadata": {},
   "outputs": [],
   "source": [
    "# A lambda function is a small anonymous function ,\n",
    "# which can take any no of args but can only have a one expression"
   ]
  },
  {
   "cell_type": "code",
   "execution_count": 1,
   "id": "b06e7bb9",
   "metadata": {},
   "outputs": [
    {
     "data": {
      "text/plain": [
       "11"
      ]
     },
     "execution_count": 1,
     "metadata": {},
     "output_type": "execute_result"
    }
   ],
   "source": [
    "#add function\n",
    "add=lambda a,b:a+b\n",
    "add(3,8)"
   ]
  },
  {
   "cell_type": "code",
   "execution_count": 2,
   "id": "5423569f",
   "metadata": {},
   "outputs": [
    {
     "data": {
      "text/plain": [
       "105"
      ]
     },
     "execution_count": 2,
     "metadata": {},
     "output_type": "execute_result"
    }
   ],
   "source": [
    "add=lambda x:x+100\n",
    "add(5)"
   ]
  },
  {
   "cell_type": "code",
   "execution_count": 3,
   "id": "ced506da",
   "metadata": {},
   "outputs": [
    {
     "data": {
      "text/plain": [
       "15"
      ]
     },
     "execution_count": 3,
     "metadata": {},
     "output_type": "execute_result"
    }
   ],
   "source": [
    "(lambda a,b:a*b)(3,5) #iief"
   ]
  },
  {
   "cell_type": "code",
   "execution_count": 4,
   "id": "7cf6df5d",
   "metadata": {},
   "outputs": [
    {
     "data": {
      "text/plain": [
       "24"
      ]
     },
     "execution_count": 4,
     "metadata": {},
     "output_type": "execute_result"
    }
   ],
   "source": [
    "#mul\n",
    "mul=lambda a,b:a*b\n",
    "mul(b=3,a=8)"
   ]
  },
  {
   "cell_type": "code",
   "execution_count": 7,
   "id": "1fdfd462",
   "metadata": {},
   "outputs": [
    {
     "data": {
      "text/plain": [
       "30"
      ]
     },
     "execution_count": 7,
     "metadata": {},
     "output_type": "execute_result"
    }
   ],
   "source": [
    "#mul\n",
    "mul=lambda a=5,b=6:a*b\n",
    "mul()"
   ]
  },
  {
   "cell_type": "code",
   "execution_count": 8,
   "id": "23397ddd",
   "metadata": {},
   "outputs": [
    {
     "data": {
      "text/plain": [
       "15"
      ]
     },
     "execution_count": 8,
     "metadata": {},
     "output_type": "execute_result"
    }
   ],
   "source": [
    "add=lambda *args:sum(args)\n",
    "add(1,2,3,4,5)"
   ]
  },
  {
   "cell_type": "code",
   "execution_count": 1,
   "id": "ec73dc62",
   "metadata": {},
   "outputs": [
    {
     "data": {
      "text/plain": [
       "110"
      ]
     },
     "execution_count": 1,
     "metadata": {},
     "output_type": "execute_result"
    }
   ],
   "source": [
    "op=lambda x,f:x+f(x)\n",
    "op(10,lambda x:x*x)"
   ]
  },
  {
   "cell_type": "code",
   "execution_count": 13,
   "id": "a7e17632",
   "metadata": {},
   "outputs": [
    {
     "data": {
      "text/plain": [
       "'even'"
      ]
     },
     "execution_count": 13,
     "metadata": {},
     "output_type": "execute_result"
    }
   ],
   "source": [
    "(lambda x:(x%2 and 'odd' or 'even'))(40)"
   ]
  },
  {
   "cell_type": "code",
   "execution_count": 14,
   "id": "6cebb782",
   "metadata": {},
   "outputs": [
    {
     "data": {
      "text/plain": [
       "True"
      ]
     },
     "execution_count": 14,
     "metadata": {},
     "output_type": "execute_result"
    }
   ],
   "source": [
    "sub=lambda s:s in 'abcdefg'\n",
    "sub('a')"
   ]
  },
  {
   "cell_type": "code",
   "execution_count": 17,
   "id": "597561c3",
   "metadata": {},
   "outputs": [
    {
     "data": {
      "text/plain": [
       "[43]"
      ]
     },
     "execution_count": 17,
     "metadata": {},
     "output_type": "execute_result"
    }
   ],
   "source": [
    "num=[10,3,23,43,2,1]\n",
    "grt=list(filter(lambda num:num>30,num))\n",
    "grt"
   ]
  },
  {
   "cell_type": "code",
   "execution_count": 19,
   "id": "37b84a5c",
   "metadata": {},
   "outputs": [
    {
     "data": {
      "text/plain": [
       "[3, 23, 43, 1]"
      ]
     },
     "execution_count": 19,
     "metadata": {},
     "output_type": "execute_result"
    }
   ],
   "source": [
    "div=list(filter(lambda num:(num%2!=0),num))\n",
    "div"
   ]
  },
  {
   "cell_type": "code",
   "execution_count": 20,
   "id": "cb258ea9",
   "metadata": {},
   "outputs": [
    {
     "data": {
      "text/plain": [
       "[20, 6, 46, 86, 4, 2]"
      ]
     },
     "execution_count": 20,
     "metadata": {},
     "output_type": "execute_result"
    }
   ],
   "source": [
    "mul=list(map(lambda x:x*2,num))\n",
    "mul"
   ]
  },
  {
   "cell_type": "code",
   "execution_count": 21,
   "id": "bfe05171",
   "metadata": {},
   "outputs": [
    {
     "data": {
      "text/plain": [
       "[1000, 27, 12167, 79507, 8, 1]"
      ]
     },
     "execution_count": 21,
     "metadata": {},
     "output_type": "execute_result"
    }
   ],
   "source": [
    "cube=list(map(lambda x:x**3,num))\n",
    "cube"
   ]
  },
  {
   "cell_type": "code",
   "execution_count": 24,
   "id": "19aaed03",
   "metadata": {},
   "outputs": [
    {
     "data": {
      "text/plain": [
       "82"
      ]
     },
     "execution_count": 24,
     "metadata": {},
     "output_type": "execute_result"
    }
   ],
   "source": [
    "from functools import reduce\n",
    "s=reduce((lambda x,y:x+y),num)\n",
    "s"
   ]
  },
  {
   "cell_type": "code",
   "execution_count": 3,
   "id": "64617de3",
   "metadata": {},
   "outputs": [
    {
     "name": "stdout",
     "output_type": "stream",
     "text": [
      "22\n",
      "33\n"
     ]
    }
   ],
   "source": [
    "def myfun(n):\n",
    "    return lambda a:a*n\n",
    "doubler=myfun(2)\n",
    "tripler=myfun(3)\n",
    "print(doubler(11))\n",
    "print(tripler(11))"
   ]
  },
  {
   "cell_type": "code",
   "execution_count": null,
   "id": "5dbef25c",
   "metadata": {},
   "outputs": [],
   "source": []
  },
  {
   "cell_type": "code",
   "execution_count": null,
   "id": "7d626c12",
   "metadata": {},
   "outputs": [],
   "source": []
  },
  {
   "cell_type": "code",
   "execution_count": null,
   "id": "d0a5965f",
   "metadata": {},
   "outputs": [],
   "source": []
  },
  {
   "cell_type": "code",
   "execution_count": null,
   "id": "bbe83f61",
   "metadata": {},
   "outputs": [],
   "source": []
  },
  {
   "cell_type": "code",
   "execution_count": null,
   "id": "d5696e0f",
   "metadata": {},
   "outputs": [],
   "source": []
  },
  {
   "cell_type": "code",
   "execution_count": null,
   "id": "1be06e29",
   "metadata": {},
   "outputs": [],
   "source": []
  }
 ],
 "metadata": {
  "kernelspec": {
   "display_name": "Python 3 (ipykernel)",
   "language": "python",
   "name": "python3"
  },
  "language_info": {
   "codemirror_mode": {
    "name": "ipython",
    "version": 3
   },
   "file_extension": ".py",
   "mimetype": "text/x-python",
   "name": "python",
   "nbconvert_exporter": "python",
   "pygments_lexer": "ipython3",
   "version": "3.9.12"
  }
 },
 "nbformat": 4,
 "nbformat_minor": 5
}
