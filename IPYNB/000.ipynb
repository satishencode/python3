{
 "cells": [
  {
   "cell_type": "code",
   "execution_count": 1,
   "id": "6de9e874",
   "metadata": {},
   "outputs": [
    {
     "name": "stdout",
     "output_type": "stream",
     "text": [
      "1 1 2 4 3 4 "
     ]
    }
   ],
   "source": [
    "def nthroot(root,n):\n",
    "    if n==1: return 1\n",
    "    left=0\n",
    "    right=n//2\n",
    "    res=0\n",
    "    while left<=right:\n",
    "        mid=(right+left)//2\n",
    "        val=mid**root        # n times mid (use for loop to avoid ** operator)\n",
    "        if val==n:\n",
    "            return mid\n",
    "        elif val>n:\n",
    "            right=mid-1\n",
    "        else:\n",
    "            res=mid\n",
    "            left=mid+1\n",
    "    return res\n",
    "if __name__=='__main__':   # one type of calling\n",
    "    l=[1,2,10,120,36,70]\n",
    "    for i in range(len(l)):\n",
    "        print(nthroot(3,l[i]),end=' ')"
   ]
  },
  {
   "cell_type": "code",
   "execution_count": 12,
   "id": "ebe08a57",
   "metadata": {},
   "outputs": [
    {
     "data": {
      "text/plain": [
       "1"
      ]
     },
     "execution_count": 12,
     "metadata": {},
     "output_type": "execute_result"
    }
   ],
   "source": [
    "class Solution:\n",
    "    def binarySearch(self,arr,ele):\n",
    "        low=0\n",
    "        high=len(arr)-1\n",
    "        while low<=high:\n",
    "            mid=(low+high)//2\n",
    "            if arr[mid]==ele:\n",
    "                return mid\n",
    "            elif arr[mid]>ele:\n",
    "                high=mid-1\n",
    "            else:\n",
    "                low=mid+1\n",
    "        return high+1\n",
    "obj=Solution()\n",
    "obj.binarySearch([1,5,6,7,8,9,10],4)"
   ]
  },
  {
   "cell_type": "code",
   "execution_count": 14,
   "id": "6eee814f",
   "metadata": {},
   "outputs": [
    {
     "data": {
      "text/plain": [
       "[-1, 0, 0, 1, 1, 2, 9, 11, 22, 23, 43, 44]"
      ]
     },
     "execution_count": 14,
     "metadata": {},
     "output_type": "execute_result"
    }
   ],
   "source": [
    "class Solution:\n",
    "    def bubbleSort(self,arr):\n",
    "        l=len(arr)\n",
    "        for i in range(l):\n",
    "            flag=0\n",
    "            for j in range(l-i-1):\n",
    "                if arr[j]>arr[j+1]:\n",
    "                    arr[j],arr[j+1]=arr[j+1],arr[j]\n",
    "                    flag=1\n",
    "            if flag==0:\n",
    "                return arr\n",
    "        return arr\n",
    "obj=Solution()\n",
    "obj.bubbleSort([9,2,-1,0,23,43,44,22,1,11,1,0])"
   ]
  },
  {
   "cell_type": "code",
   "execution_count": 15,
   "id": "f2ac444b",
   "metadata": {},
   "outputs": [
    {
     "data": {
      "text/plain": [
       "[-1, 0, 0, 1, 1, 2, 9, 11, 22, 23, 43, 44]"
      ]
     },
     "execution_count": 15,
     "metadata": {},
     "output_type": "execute_result"
    }
   ],
   "source": [
    "class Solution:\n",
    "    def insertionSort(self,arr):\n",
    "        l=len(arr)\n",
    "        for i in range(1,l):\n",
    "            val=arr[i]\n",
    "            gap=i\n",
    "            while gap>0 and arr[gap-1]>val:\n",
    "                arr[gap]=arr[gap-1]\n",
    "                gap-=1\n",
    "            arr[gap]=val\n",
    "        return arr\n",
    "obj=Solution()\n",
    "obj.insertionSort([9,2,-1,0,23,43,44,22,1,11,1,0])"
   ]
  },
  {
   "cell_type": "code",
   "execution_count": 16,
   "id": "10c1fa2f",
   "metadata": {},
   "outputs": [
    {
     "data": {
      "text/plain": [
       "[-1, 0, 0, 1, 1, 2, 9, 11, 22, 23, 43, 44]"
      ]
     },
     "execution_count": 16,
     "metadata": {},
     "output_type": "execute_result"
    }
   ],
   "source": [
    "class Solution:\n",
    "    def selectionSort(self,arr):\n",
    "        l=len(arr)\n",
    "        for i in range(l-1):\n",
    "            min_index=i\n",
    "            for j in range(i+1,l):\n",
    "                if arr[min_index]>arr[j]:\n",
    "                    min_index=j\n",
    "            arr[i],arr[min_index]=arr[min_index],arr[i]\n",
    "        return arr\n",
    "obj=Solution()\n",
    "obj.selectionSort([9,2,-1,0,23,43,44,22,1,11,1,0])"
   ]
  },
  {
   "cell_type": "code",
   "execution_count": 17,
   "id": "d6499fe1",
   "metadata": {},
   "outputs": [
    {
     "data": {
      "text/plain": [
       "[-1, 0, 0, 1, 1, 2, 9, 11, 22, 23, 43, 44]"
      ]
     },
     "execution_count": 17,
     "metadata": {},
     "output_type": "execute_result"
    }
   ],
   "source": [
    "class Solution:\n",
    "    def quickSort(self,arr):\n",
    "        if len(arr)<=1:\n",
    "            return arr\n",
    "        pivot=arr[0]\n",
    "        left=[i for i in arr[1:] if i<pivot]\n",
    "        right=[i for i in arr[1:] if i>=pivot]\n",
    "        return self.quickSort(left)+[pivot]+self.quickSort(right)\n",
    "obj=Solution()\n",
    "obj.quickSort([9,2,-1,0,23,43,44,22,1,11,1,0])"
   ]
  },
  {
   "cell_type": "code",
   "execution_count": 24,
   "id": "8935f638",
   "metadata": {},
   "outputs": [
    {
     "data": {
      "text/plain": [
       "[-1, 0, 0, 1, 1, 2, 9, 11, 22, 23, 43, 44]"
      ]
     },
     "execution_count": 24,
     "metadata": {},
     "output_type": "execute_result"
    }
   ],
   "source": [
    "class Solution:\n",
    "    def quickSort(self,arr,left,right):\n",
    "        if left<right:\n",
    "            pos=self.partition(arr,left,right)\n",
    "            self.quickSort(arr,left,pos-1)\n",
    "            self.quickSort(arr,pos+1,right)\n",
    "        return arr\n",
    "    def partition(self,arr,left,right):\n",
    "        pivot=arr[right]\n",
    "        i=left\n",
    "        j=right-1\n",
    "        while i<=j:\n",
    "            while i<right and arr[i]<pivot:\n",
    "                i+=1\n",
    "            while j>=i and arr[j]>=pivot:\n",
    "                j-=1\n",
    "            if i<j:\n",
    "                arr[i],arr[j]=arr[j],arr[i]\n",
    "        if arr[i]>pivot:\n",
    "            arr[i],arr[right]=arr[right],arr[i]\n",
    "        return i\n",
    "obj=Solution()\n",
    "arr=[9,2,-1,0,23,43,44,22,1,11,1,0]\n",
    "obj.quickSort(arr,0,len(arr)-1)"
   ]
  },
  {
   "cell_type": "code",
   "execution_count": 30,
   "id": "fade234f",
   "metadata": {},
   "outputs": [
    {
     "data": {
      "text/plain": [
       "[-1, 0, 0, 1, 1, 2, 9, 11, 22, 23, 43, 44]"
      ]
     },
     "execution_count": 30,
     "metadata": {},
     "output_type": "execute_result"
    }
   ],
   "source": [
    "class Solution:\n",
    "    def divide(self,arr):\n",
    "        if len(arr)<=1:\n",
    "            return arr\n",
    "        mid=len(arr)//2\n",
    "        left=self.divide(arr[:mid])\n",
    "        right=self.divide(arr[mid:])\n",
    "        return self.conquer(left,right)\n",
    "    def conquer(self,left,right):\n",
    "        i,j=0,0\n",
    "        res=[]\n",
    "        while i<len(left) and j<len(right):\n",
    "            if left[i]<right[j]:\n",
    "                res+=[left[i]]\n",
    "                i+=1\n",
    "            else:\n",
    "                res+=[right[j]]\n",
    "                j+=1\n",
    "        res+=left[i:]+right[j:]\n",
    "        return res\n",
    "obj=Solution()\n",
    "obj.divide([9,2,-1,0,23,43,44,22,1,11,1,0])"
   ]
  },
  {
   "cell_type": "code",
   "execution_count": 44,
   "id": "d0518f0b",
   "metadata": {},
   "outputs": [
    {
     "data": {
      "text/plain": [
       "[1, 5, 8, 14, 16, 20, 26]"
      ]
     },
     "execution_count": 44,
     "metadata": {},
     "output_type": "execute_result"
    }
   ],
   "source": [
    "class Solution:\n",
    "    def buildHeap(self,arr,n):\n",
    "        for i in range(n//2-1,-1,-1):\n",
    "            self.heapify(arr,n,i)\n",
    "        return arr\n",
    "    def heapify(self,arr,n,i):\n",
    "        largest=i\n",
    "        left=2*i+1\n",
    "        right=2*i+2\n",
    "        if left<n and arr[left]>=arr[largest]:\n",
    "            largest=left\n",
    "        if right<n and arr[right]>=arr[largest]:\n",
    "            largest=right\n",
    "        if largest!=i:\n",
    "            arr[i],arr[largest]=arr[largest],arr[i]\n",
    "            self.heapify(arr,n,largest)\n",
    "    def heapSort(self,arr,n):\n",
    "        self.buildHeap(arr,n)\n",
    "        for i in range(n-1,-1,-1):\n",
    "            arr[0],arr[i]=arr[i],arr[0]\n",
    "            self.heapify(arr,i,0)\n",
    "        return arr\n",
    "obj=Solution()\n",
    "arr=[1,16,8,14,5,20,26]\n",
    "obj.heapSort(arr,len(arr))"
   ]
  },
  {
   "cell_type": "code",
   "execution_count": 51,
   "id": "4c6a4826",
   "metadata": {},
   "outputs": [
    {
     "data": {
      "text/plain": [
       "<__main__.TreeNode at 0x4e902bc7c0>"
      ]
     },
     "execution_count": 51,
     "metadata": {},
     "output_type": "execute_result"
    }
   ],
   "source": [
    "class TreeNode:\n",
    "    def __init__(self,val):\n",
    "        self.val=val\n",
    "        self.left=None\n",
    "        self.right=None\n",
    "def binaryTree(arr,root,i,n):\n",
    "    if i<n:\n",
    "        root=TreeNode(arr[i])\n",
    "        root.left=binaryTree(arr,root.left,2*i+1,n)\n",
    "        root.right=binaryTree(arr,root.right,2*i+2,n)\n",
    "    return root\n",
    "arr=[3,6,7,2,8,21,8,-1]\n",
    "root=None\n",
    "tree=binaryTree(arr,root,0,len(arr))\n",
    "tree"
   ]
  },
  {
   "cell_type": "code",
   "execution_count": 53,
   "id": "ceb2f0c1",
   "metadata": {},
   "outputs": [
    {
     "name": "stdout",
     "output_type": "stream",
     "text": [
      "AxesSubplot(0.125,0.125;0.775x0.755)\n",
      "AxesSubplot(0.125,0.125;0.775x0.755)\n"
     ]
    },
    {
     "data": {
      "image/png": "[encoded data removed]",
      "text/plain": [
       "<Figure size 432x288 with 1 Axes>"
      ]
     },
     "metadata": {
      "needs_background": "light"
     },
     "output_type": "display_data"
    }
   ],
   "source": [
    "import matplotlib.pyplot as plt\n",
    "def plot_binary(root):\n",
    "    fig,ax=plt.subplots()\n",
    "    print(ax)\n",
    "    ax.set_axis_off()\n",
    "    print(ax)\n",
    "    \n",
    "    def plot_node(node,x,y,dx):\n",
    "        if not node: return\n",
    "        \n",
    "        ax.annotate(str(node.val),(x,y),ha='center',va='center',bbox=dict(facecolor='white',edgecolor='black',boxstyle='circle'))\n",
    "        if node.left:\n",
    "            ax.plot([x,x-dx],[y,y-1],color='black')\n",
    "            plot_node(node.left,x-dx,y-1,dx/2)\n",
    "        if node.right:\n",
    "            ax.plot([x,x+dx],[y,y-1],color='black')\n",
    "            plot_node(node.right,x+dx,y-1,dx/2)\n",
    "    plot_node(root,0,0,1)\n",
    "    plt.show()\n",
    "plot_binary(tree)"
   ]
  },
  {
   "cell_type": "code",
   "execution_count": 55,
   "id": "2c8fc92d",
   "metadata": {},
   "outputs": [
    {
     "data": {
      "text/plain": [
       "[-1, 2, 6, 8, 3, 21, 7, 8]"
      ]
     },
     "execution_count": 55,
     "metadata": {},
     "output_type": "execute_result"
    }
   ],
   "source": [
    "def inorder(root,res):\n",
    "    if not root: return []\n",
    "    inorder(root.left,res)\n",
    "    res+=[root.val]\n",
    "    inorder(root.right,res)\n",
    "    return res\n",
    "inorder(tree,[])"
   ]
  },
  {
   "cell_type": "code",
   "execution_count": 56,
   "id": "52f1a20e",
   "metadata": {},
   "outputs": [
    {
     "data": {
      "text/plain": [
       "[3, 6, 2, -1, 8, 7, 21, 8]"
      ]
     },
     "execution_count": 56,
     "metadata": {},
     "output_type": "execute_result"
    }
   ],
   "source": [
    "def preorder(root,res):\n",
    "    if not root: return []\n",
    "    res+=[root.val]\n",
    "    preorder(root.left,res)\n",
    "    preorder(root.right,res)\n",
    "    return res\n",
    "preorder(tree,[])"
   ]
  },
  {
   "cell_type": "code",
   "execution_count": 58,
   "id": "5554f36e",
   "metadata": {},
   "outputs": [
    {
     "data": {
      "text/plain": [
       "[-1, 2, 8, 6, 21, 8, 7, 3]"
      ]
     },
     "execution_count": 58,
     "metadata": {},
     "output_type": "execute_result"
    }
   ],
   "source": [
    "def postorder(root,res):\n",
    "    if not root: return []\n",
    "    postorder(root.left,res)\n",
    "    postorder(root.right,res)\n",
    "    res+=[root.val]\n",
    "    return res\n",
    "postorder(tree,[])"
   ]
  },
  {
   "cell_type": "code",
   "execution_count": 61,
   "id": "288aeea5",
   "metadata": {},
   "outputs": [
    {
     "data": {
      "text/plain": [
       "[3, 6, 7, 2, 8, 21, 8, -1]"
      ]
     },
     "execution_count": 61,
     "metadata": {},
     "output_type": "execute_result"
    }
   ],
   "source": [
    "def levelorder(root,res):\n",
    "    queue=[root]\n",
    "    while queue:\n",
    "        ele=queue.pop(0)\n",
    "        res+=[ele.val]\n",
    "        if ele.left:\n",
    "            queue+=[ele.left]\n",
    "        if ele.right:\n",
    "            queue+=[ele.right]\n",
    "    return res\n",
    "levelorder(tree,[])"
   ]
  },
  {
   "cell_type": "code",
   "execution_count": 83,
   "id": "297a307d",
   "metadata": {},
   "outputs": [
    {
     "data": {
      "text/plain": [
       "True"
      ]
     },
     "execution_count": 83,
     "metadata": {},
     "output_type": "execute_result"
    }
   ],
   "source": [
    "def inorder(root,res,ele):\n",
    "    if not root: return False\n",
    "    if root.val==ele: return True\n",
    "    return inorder(root.left,res,ele) or inorder(root.right,res,ele)\n",
    "inorder(tree,[],21)"
   ]
  },
  {
   "cell_type": "code",
   "execution_count": 85,
   "id": "dbf2c02d",
   "metadata": {},
   "outputs": [
    {
     "data": {
      "text/plain": [
       "3"
      ]
     },
     "execution_count": 85,
     "metadata": {},
     "output_type": "execute_result"
    }
   ],
   "source": [
    "def height(root):\n",
    "    if not root: return -1\n",
    "    return 1+max(height(root.left),height(root.right))\n",
    "height(tree)"
   ]
  },
  {
   "cell_type": "code",
   "execution_count": 96,
   "id": "1b3aed55",
   "metadata": {},
   "outputs": [
    {
     "data": {
      "text/plain": [
       "<__main__.TreeNode at 0x4e90289fa0>"
      ]
     },
     "execution_count": 96,
     "metadata": {},
     "output_type": "execute_result"
    }
   ],
   "source": [
    "def BST(root,key):\n",
    "    if not root: return TreeNode(key)\n",
    "    elif key>=root.val:\n",
    "        root.right=BST(root.right,key)\n",
    "    else:\n",
    "        root.left=BST(root.left,key)\n",
    "    return root\n",
    "root=TreeNode(arr[0])\n",
    "arr=[5,1,6,-1,0,67,23,2,27]\n",
    "for i in range(1,len(arr)):\n",
    "    tree=BST(root,arr[i])\n",
    "tree"
   ]
  },
  {
   "cell_type": "code",
   "execution_count": 97,
   "id": "1b0544ad",
   "metadata": {},
   "outputs": [
    {
     "name": "stdout",
     "output_type": "stream",
     "text": [
      "AxesSubplot(0.125,0.125;0.775x0.755)\n",
      "AxesSubplot(0.125,0.125;0.775x0.755)\n"
     ]
    },
    {
     "data": {
      "image/png": "[encoded data removed]",
      "text/plain": [
       "<Figure size 432x288 with 1 Axes>"
      ]
     },
     "metadata": {
      "needs_background": "light"
     },
     "output_type": "display_data"
    }
   ],
   "source": [
    "import matplotlib.pyplot as plt\n",
    "def plot_binary(root):\n",
    "    fig,ax=plt.subplots()\n",
    "    print(ax)\n",
    "    ax.set_axis_off()\n",
    "    print(ax)\n",
    "    \n",
    "    def plot_node(node,x,y,dx):\n",
    "        if not node: return\n",
    "        \n",
    "        ax.annotate(str(node.val),(x,y),ha='center',va='center',bbox=dict(facecolor='white',edgecolor='black',boxstyle='circle'))\n",
    "        if node.left:\n",
    "            ax.plot([x,x-dx],[y,y-1],color='black')\n",
    "            plot_node(node.left,x-dx,y-1,dx/2)\n",
    "        if node.right:\n",
    "            ax.plot([x,x+dx],[y,y-1],color='black')\n",
    "            plot_node(node.right,x+dx,y-1,dx/2)\n",
    "    plot_node(root,0,0,1)\n",
    "    plt.show()\n",
    "plot_binary(tree)"
   ]
  },
  {
   "cell_type": "code",
   "execution_count": 101,
   "id": "7939c8f0",
   "metadata": {},
   "outputs": [
    {
     "data": {
      "text/plain": [
       "3"
      ]
     },
     "execution_count": 101,
     "metadata": {},
     "output_type": "execute_result"
    }
   ],
   "source": [
    "def height(root):\n",
    "    if not root: return -1\n",
    "    return 1+max(height(root.left),height(root.right))\n",
    "height(tree.right)    #left subtree height and right sub tree height"
   ]
  },
  {
   "cell_type": "code",
   "execution_count": 4,
   "id": "eb90a085",
   "metadata": {},
   "outputs": [],
   "source": [
    "class ListNode:\n",
    "    def __init__(self,val):\n",
    "        self.val=val\n",
    "        self.next=None\n",
    "class SLL:\n",
    "    def __init__(self):\n",
    "        self.head=None\n",
    "    \n",
    "    def print_sll(self):\n",
    "        itr=self.head\n",
    "        if not itr.next: return 'empty'\n",
    "        lstr=''\n",
    "        while itr:\n",
    "            lstr+=str(itr.val)+'-->' if itr.next else str(itr.val)\n",
    "            itr=itr.next\n",
    "        return lstr\n",
    "    \n",
    "    def reverse(self):\n",
    "        itr=self.head\n",
    "        if not itr.next: return 'empty'\n",
    "        prev=None\n",
    "        while itr:\n",
    "            next=itr.next\n",
    "            itr.next=prev\n",
    "            prev=itr\n",
    "            itr=next\n",
    "        self.head=prev\n",
    "    \n",
    "    def duplicates(self):\n",
    "        s=set()\n",
    "        itr=self.head\n",
    "        if not itr or not itr.next: return self.head\n",
    "        s.add(itr.val)\n",
    "        while itr.next:\n",
    "            if itr.next.val in s:\n",
    "                itr.next=itr.next.next\n",
    "            else:\n",
    "                s.add(itr.next.val)\n",
    "                itr=itr.next\n",
    "    def sort(self):\n",
    "        itr=self.head\n",
    "        while itr:\n",
    "            temp=itr\n",
    "            itr2=itr.next\n",
    "            while itr2:\n",
    "                if itr2.val<temp.val:\n",
    "                    temp=itr2\n",
    "                itr2=itr2.next\n",
    "            temp.val,itr.val=itr.val,temp.val\n",
    "            itr=itr.next\n",
    "obj=SLL()\n",
    "arr=[6,1,7,-1,0,8,2,5,2,6]\n",
    "obj.head=ListNode(arr[0])\n",
    "temp=obj.head\n",
    "for i in range(1,len(arr)):\n",
    "    temp.next=ListNode(arr[i])\n",
    "    temp=temp.next"
   ]
  },
  {
   "cell_type": "code",
   "execution_count": 5,
   "id": "7b096cce",
   "metadata": {},
   "outputs": [
    {
     "data": {
      "text/plain": [
       "'6-->1-->7-->-1-->0-->8-->2-->5-->2-->6'"
      ]
     },
     "execution_count": 5,
     "metadata": {},
     "output_type": "execute_result"
    }
   ],
   "source": [
    "obj.print_sll()"
   ]
  },
  {
   "cell_type": "code",
   "execution_count": 6,
   "id": "fd94db39",
   "metadata": {},
   "outputs": [
    {
     "data": {
      "text/plain": [
       "'-1-->0-->1-->2-->2-->5-->6-->6-->7-->8'"
      ]
     },
     "execution_count": 6,
     "metadata": {},
     "output_type": "execute_result"
    }
   ],
   "source": [
    "obj.sort()\n",
    "obj.print_sll()"
   ]
  },
  {
   "cell_type": "code",
   "execution_count": 3,
   "id": "51689f94",
   "metadata": {},
   "outputs": [
    {
     "data": {
      "text/plain": [
       "'6-->2-->5-->2-->8-->0-->-1-->7-->1-->6'"
      ]
     },
     "execution_count": 3,
     "metadata": {},
     "output_type": "execute_result"
    }
   ],
   "source": [
    "obj.reverse()\n",
    "obj.print_sll()"
   ]
  },
  {
   "cell_type": "code",
   "execution_count": 4,
   "id": "483811be",
   "metadata": {},
   "outputs": [
    {
     "data": {
      "text/plain": [
       "'6-->2-->5-->8-->0-->-1-->7-->1'"
      ]
     },
     "execution_count": 4,
     "metadata": {},
     "output_type": "execute_result"
    }
   ],
   "source": [
    "obj.duplicates()\n",
    "obj.print_sll()"
   ]
  },
  {
   "cell_type": "code",
   "execution_count": 1,
   "id": "f74b6810",
   "metadata": {},
   "outputs": [
    {
     "name": "stdout",
     "output_type": "stream",
     "text": [
      "[0, 0, 0, 0, 0, 0, 0, 0]\n",
      "[0, 1, 1, 1, 1, 1, 1, 1]\n",
      "[0, 1, 1, 4, 5, 5, 5, 5]\n",
      "[0, 1, 1, 4, 5, 6, 6, 9]\n",
      "[0, 1, 1, 4, 5, 7, 8, 9]\n"
     ]
    }
   ],
   "source": [
    "# 0-1 knapsack\n",
    "weight,profit,table,W=[0,1,3,4,5],[0,1,4,5,7],[[]],7\n",
    "for i in range(W+1):\n",
    "    table[0].append(0)\n",
    "for i in range(1,len(weight)):\n",
    "    table.append([])\n",
    "    table[i].append(0)\n",
    "    for w in range(1,W+1):\n",
    "        if weight[i]<=w:\n",
    "            table[i].append(max(table[i-1][w],profit[i]+table[i-1][w-weight[i]]))\n",
    "        else:\n",
    "            table[i].append(table[i-1][w])\n",
    "for i in table:\n",
    "    print(i)"
   ]
  },
  {
   "cell_type": "code",
   "execution_count": 17,
   "id": "d059f865",
   "metadata": {},
   "outputs": [
    {
     "data": {
      "text/plain": [
       "[['.Q..', '...Q', 'Q...', '..Q.'], ['..Q.', 'Q...', '...Q', '.Q..']]"
      ]
     },
     "execution_count": 17,
     "metadata": {},
     "output_type": "execute_result"
    }
   ],
   "source": [
    "class Solution:\n",
    "    def nqueen(self,n):\n",
    "        m=[['.']*n for i in range(n)]\n",
    "        cols=set()\n",
    "        posdg=set()\n",
    "        negdg=set()\n",
    "        res=[]\n",
    "        def backtrack(r):\n",
    "            if r==n:\n",
    "                temp=[''.join(row) for row in m]\n",
    "                res.append(temp)\n",
    "                return \n",
    "            for c in range(n):\n",
    "                if c in cols or (r+c) in posdg or (r-c) in negdg:\n",
    "                    continue\n",
    "                cols.add(c)\n",
    "                posdg.add(r+c)\n",
    "                negdg.add(r-c)\n",
    "                m[r][c]='Q'\n",
    "                backtrack(r+1)\n",
    "                cols.remove(c)\n",
    "                posdg.remove(r+c)\n",
    "                negdg.remove(r-c)\n",
    "                m[r][c]='.'\n",
    "        backtrack(0)\n",
    "        return res\n",
    "obj=Solution()\n",
    "obj.nqueen(4)"
   ]
  },
  {
   "cell_type": "code",
   "execution_count": 21,
   "id": "3ce8d59d",
   "metadata": {},
   "outputs": [
    {
     "data": {
      "text/plain": [
       "['abc', 'acb', 'bac', 'bca', 'cba', 'cab']"
      ]
     },
     "execution_count": 21,
     "metadata": {},
     "output_type": "execute_result"
    }
   ],
   "source": [
    "out=[]\n",
    "def permute(msg,i,length):\n",
    "    if i==length:\n",
    "        out.append(''.join(msg))\n",
    "    else:\n",
    "        for j in range(i,length):\n",
    "            msg[i],msg[j]=msg[j],msg[i]\n",
    "            permute(msg,i+1,length)\n",
    "            msg[i],msg[j]=msg[j],msg[i]\n",
    "msg=\"abc\"\n",
    "permute(list(msg),0,len(msg))\n",
    "out"
   ]
  },
  {
   "cell_type": "code",
   "execution_count": 28,
   "id": "38aaa30a",
   "metadata": {},
   "outputs": [
    {
     "name": "stdout",
     "output_type": "stream",
     "text": [
      "722.134.3.123 is an invalid IP address.\n",
      "44.235.34.1 is an invalid IP address.\n",
      "277.13.23.17 is an invalid IP address.\n",
      "2001:0db8:85a3:0:0:8A2E:0370:7334 is a valid IP address.\n",
      "2001:0db8:    :0:0:8A2E:0370:7334 is an invalid IP address.\n",
      "44.235.34.1 is an invalid IP address.\n",
      "277.13.23.17 is an invalid IP address.\n"
     ]
    }
   ],
   "source": [
    "import re\n",
    "ipv4=\"^(([0-9]|[1-9][0-9]|1[0-9][0-9]|2[0-4][0-9]|25[0-5])\\.){3}([0-9]|[1-9][0-9]|1[0-9][0-9]|2[0-4][0-9]|25[0-5])\"\n",
    "ipv6=\"^(([0-9a-fA-F]){1,4}\\:){7}([0-9a-fA-F]){1,4}\"\n",
    "def validateIP(strIP):  \n",
    "    if(re.search(ipv6, strIP)):\n",
    "        print(f\"{strIP} is a valid IP address.\")       \n",
    "    else: \n",
    "        print(f\"{strIP} is an invalid IP address.\") \n",
    "if __name__ == '__main__' :   \n",
    "    strIP = \"722.134.3.123\"\n",
    "    validateIP(strIP)   \n",
    "    strIP = \"44.235.34.1\"\n",
    "    validateIP(strIP)   \n",
    "    strIP = \"277.13.23.17\"\n",
    "    validateIP(strIP)\n",
    "    \n",
    "    strIP = \"2001:0db8:85a3:0:0:8A2E:0370:7334\"\n",
    "    validateIP(strIP)\n",
    "    strIP = \"2001:0db8:    :0:0:8A2E:0370:7334\"\n",
    "    validateIP(strIP)\n",
    "  \n",
    "    strIP = \"44.235.34.1\"\n",
    "    validateIP(strIP) \n",
    "  \n",
    "    strIP = \"277.13.23.17\"\n",
    "    validateIP(strIP)"
   ]
  },
  {
   "cell_type": "code",
   "execution_count": 4,
   "id": "a3e8929c",
   "metadata": {},
   "outputs": [
    {
     "data": {
      "text/plain": [
       "['((()))', '(()())', '(())()', '()(())', '()()()']"
      ]
     },
     "execution_count": 4,
     "metadata": {},
     "output_type": "execute_result"
    }
   ],
   "source": [
    "class Solution:\n",
    "    def generateParenthesis(self, n):\n",
    "        res=[]\n",
    "        def ans(left,right,val):\n",
    "            if len(val)==2*n:\n",
    "                res.append(val)\n",
    "                return\n",
    "            if left<n:\n",
    "                ans(left+1,right,val+'(')\n",
    "            if right<left:\n",
    "                ans(left,right+1,val+')')\n",
    "        ans(0,0,'')\n",
    "        return res\n",
    "obj=Solution()\n",
    "obj.generateParenthesis(3)"
   ]
  },
  {
   "cell_type": "code",
   "execution_count": 27,
   "id": "ab9177b1",
   "metadata": {},
   "outputs": [
    {
     "data": {
      "text/plain": [
       "[[1, 2, 3], [1, 2], [1, 3], [1], [2, 3], [2], [3], []]"
      ]
     },
     "execution_count": 27,
     "metadata": {},
     "output_type": "execute_result"
    }
   ],
   "source": [
    "class Solution:\n",
    "    res=[]\n",
    "    def subsets(self,arr,new,count):\n",
    "        if len(arr)==count:\n",
    "            self.res.append(new)\n",
    "            return\n",
    "        self.subsets(arr,new+[arr[count]],count+1)\n",
    "        self.subsets(arr,new,count+1)\n",
    "        return self.res\n",
    "obj=Solution()\n",
    "obj.subsets([1,2,3],[],0)"
   ]
  },
  {
   "cell_type": "code",
   "execution_count": 45,
   "id": "65e561e3",
   "metadata": {},
   "outputs": [
    {
     "data": {
      "text/plain": [
       "1"
      ]
     },
     "execution_count": 45,
     "metadata": {},
     "output_type": "execute_result"
    }
   ],
   "source": [
    "def findsqrt(x):\n",
    "    if x<=1:\n",
    "        return x\n",
    "    y=x\n",
    "    z=(y+(x/y))/2\n",
    "    while abs(y-z)>=0.0000001:\n",
    "        y=z\n",
    "        z=(y+(x/y))/2\n",
    "    return z\n",
    "findsqrt(1)"
   ]
  },
  {
   "cell_type": "code",
   "execution_count": 3,
   "id": "3f45a13c",
   "metadata": {},
   "outputs": [
    {
     "name": "stdout",
     "output_type": "stream",
     "text": [
      "(0, 7) (4, 7) (4, 4) "
     ]
    },
    {
     "data": {
      "text/plain": [
       "-1"
      ]
     },
     "execution_count": 3,
     "metadata": {},
     "output_type": "execute_result"
    }
   ],
   "source": [
    "class Solution:\n",
    "    def search(self, nums , target):\n",
    "        l=0\n",
    "        h=len(nums)-1\n",
    "        while l<=h:\n",
    "            print((l,h),end=' ')\n",
    "            mid=(l+h)//2\n",
    "            if nums[mid]==target:\n",
    "                return mid\n",
    "            if nums[l]<=nums[mid]:\n",
    "                if nums[mid]>=target and nums[l]<=target:\n",
    "                    h=mid-1\n",
    "                else:\n",
    "                    l=mid+1\n",
    "            else:\n",
    "                if nums[mid]<target and nums[h]>target:\n",
    "                    l=mid+1\n",
    "                else:\n",
    "                    h=mid-1\n",
    "        return -1            \n",
    "obj=Solution()\n",
    "obj.search([2,5,1,3,4,7,8,9],5)"
   ]
  },
  {
   "cell_type": "code",
   "execution_count": 16,
   "id": "8124e64d",
   "metadata": {},
   "outputs": [
    {
     "data": {
      "text/plain": [
       "0"
      ]
     },
     "execution_count": 16,
     "metadata": {},
     "output_type": "execute_result"
    }
   ],
   "source": [
    "class Solution:\n",
    "    def search(self,arr,l,h,key):\n",
    "        mid=(l+h)//2\n",
    "        if(l>h):\n",
    "            return -1\n",
    "        if arr[mid]==key:\n",
    "            return mid\n",
    "        if arr[l]<=arr[mid]:\n",
    "            if key>=arr[l] and key<=arr[mid]:\n",
    "                return self.search(arr,l,mid-1,key)\n",
    "            return self.search(arr,mid+1,h,key)\n",
    "        if key>=arr[mid] and key<=arr[h]:\n",
    "            return self.search(arr,mid+1,h,key)\n",
    "        return self.search(arr,l,mid-1,key)\n",
    "obj=Solution()\n",
    "arr=[4,5,6,7,0,1,2]\n",
    "obj.search(arr,0,len(arr)-1,4)"
   ]
  },
  {
   "cell_type": "code",
   "execution_count": 17,
   "id": "de94bdc6",
   "metadata": {},
   "outputs": [
    {
     "data": {
      "text/plain": [
       "['ad', 'ae', 'af', 'bd', 'be', 'bf', 'cd', 'ce', 'cf']"
      ]
     },
     "execution_count": 17,
     "metadata": {},
     "output_type": "execute_result"
    }
   ],
   "source": [
    "class Solution:\n",
    "    def letterCombinations(self, digits):\n",
    "        d={\"2\":\"abc\",\"3\":\"def\",\"4\":\"ghi\",\"5\":\"jkl\",\"6\":\"mno\",\"7\":\"pqrs\",\"8\":\"tuv\",\"9\":\"wxyz\"}\n",
    "        if not digits: return []\n",
    "        res=[\"\"]\n",
    "        for i in digits:\n",
    "            for j in range(len(res)):\n",
    "                ele=res.pop(0)\n",
    "                for k in d[i]:\n",
    "                    res.append(ele+k)\n",
    "        return res\n",
    "obj=Solution()\n",
    "obj.letterCombinations(\"23\") "
   ]
  },
  {
   "cell_type": "code",
   "execution_count": 24,
   "id": "f24f4d1a",
   "metadata": {},
   "outputs": [
    {
     "name": "stdout",
     "output_type": "stream",
     "text": [
      "0 : [(0, 25), (1, 5), (2, 3)]\n",
      "1 : [(3, 1), (4, 15)]\n",
      "2 : []\n",
      "3 : []\n",
      "4 : [(2, 7), (3, 11)]\n",
      "5 : []\n",
      "6 : []\n",
      "[0, 1, 4, 2]\n"
     ]
    },
    {
     "data": {
      "text/plain": [
       "[0, 1, 2]"
      ]
     },
     "execution_count": 24,
     "metadata": {},
     "output_type": "execute_result"
    }
   ],
   "source": [
    "class Graph:\n",
    "    def __init__(self,n,directed=True):\n",
    "        self.n=n\n",
    "        self.directed=directed\n",
    "        self.data=[[] for i in range(n)]\n",
    "    def add_edge(self,n1,n2,w=1):\n",
    "        self.data[n1].append((n2,w))\n",
    "        if not self.directed:\n",
    "            self.data[n2].append((n1,w))\n",
    "    def __repr__(self):\n",
    "        return '\\n'.join(['{} : {}'.format(i,neigh) for i,neigh in enumerate(self.data)])\n",
    "    \n",
    "    def dfs(self,start,target,path=[],visited=set()):\n",
    "        visited.add(start)\n",
    "        path.append(start)\n",
    "        if start==target:\n",
    "            return path\n",
    "        for (n,w) in self.data[start]:\n",
    "            if n not in visited:\n",
    "                result=self.dfs(n,target,path,visited)\n",
    "                if result:\n",
    "                    return result\n",
    "        path.pop()\n",
    "        if not path: return 'not found'\n",
    "        return None\n",
    "    \n",
    "    def bfs(self,start,target,path=[],visited=set()):\n",
    "        queue=[]\n",
    "        queue.append(start)\n",
    "        visited.add(start)\n",
    "        while queue:\n",
    "            ele=queue.pop(0)\n",
    "            path.append(ele)\n",
    "            if ele==target:\n",
    "                return path\n",
    "            for n,w in self.data[ele]:\n",
    "                if n not in visited:\n",
    "                    queue.append(n)\n",
    "                    visited.add(n)\n",
    "        return []\n",
    "graph = Graph(7)\n",
    "\n",
    "graph.add_edge(0, 0, 25)\n",
    "graph.add_edge(0, 1, 5)\n",
    "graph.add_edge(0, 2, 3)\n",
    "graph.add_edge(1, 3, 1)\n",
    "graph.add_edge(1, 4, 15)\n",
    "graph.add_edge(4, 2, 7)\n",
    "graph.add_edge(4, 3, 11)\n",
    "\n",
    "print(graph)\n",
    "print(graph.dfs(0,2))\n",
    "graph.bfs(0,2)"
   ]
  },
  {
   "cell_type": "code",
   "execution_count": null,
   "id": "1ab32b8b",
   "metadata": {},
   "outputs": [],
   "source": []
  },
  {
   "cell_type": "code",
   "execution_count": null,
   "id": "36172286",
   "metadata": {},
   "outputs": [],
   "source": []
  },
  {
   "cell_type": "code",
   "execution_count": null,
   "id": "dfe78989",
   "metadata": {},
   "outputs": [],
   "source": []
  },
  {
   "cell_type": "code",
   "execution_count": null,
   "id": "b7b3c40d",
   "metadata": {},
   "outputs": [],
   "source": []
  },
  {
   "cell_type": "code",
   "execution_count": null,
   "id": "a6f8a440",
   "metadata": {},
   "outputs": [],
   "source": []
  },
  {
   "cell_type": "code",
   "execution_count": null,
   "id": "3de722e7",
   "metadata": {},
   "outputs": [],
   "source": []
  },
  {
   "cell_type": "code",
   "execution_count": null,
   "id": "4af0be78",
   "metadata": {},
   "outputs": [],
   "source": []
  },
  {
   "cell_type": "code",
   "execution_count": null,
   "id": "1e531c40",
   "metadata": {},
   "outputs": [],
   "source": []
  },
  {
   "cell_type": "code",
   "execution_count": null,
   "id": "c82ecef3",
   "metadata": {},
   "outputs": [],
   "source": []
  },
  {
   "cell_type": "code",
   "execution_count": null,
   "id": "2102ed71",
   "metadata": {},
   "outputs": [],
   "source": []
  }
 ],
 "metadata": {
  "kernelspec": {
   "display_name": "Python 3 (ipykernel)",
   "language": "python",
   "name": "python3"
  },
  "language_info": {
   "codemirror_mode": {
    "name": "ipython",
    "version": 3
   },
   "file_extension": ".py",
   "mimetype": "text/x-python",
   "name": "python",
   "nbconvert_exporter": "python",
   "pygments_lexer": "ipython3",
   "version": "3.9.12"
  }
 },
 "nbformat": 4,
 "nbformat_minor": 5
}
