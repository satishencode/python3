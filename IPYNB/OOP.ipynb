{
 "cells": [
  {
   "cell_type": "code",
   "execution_count": null,
   "id": "44f7fb22",
   "metadata": {},
   "outputs": [],
   "source": [
    "# class ,object and method creation"
   ]
  },
  {
   "cell_type": "code",
   "execution_count": 8,
   "id": "5de28575",
   "metadata": {},
   "outputs": [
    {
     "name": "stdout",
     "output_type": "stream",
     "text": [
      "Name is : satish\n",
      "Name is : satish\n"
     ]
    }
   ],
   "source": [
    "class MyClass:\n",
    "    def myfunc(self):\n",
    "        pass\n",
    "    def display(self,name):\n",
    "        print('Name is :',name)\n",
    "na=MyClass()  #object na\n",
    "na.myfunc()\n",
    "MyClass.display(na,'satish')\n",
    "\n",
    "#or\n",
    "\n",
    "na.display('satish')"
   ]
  },
  {
   "cell_type": "code",
   "execution_count": null,
   "id": "ad04a593",
   "metadata": {},
   "outputs": [],
   "source": [
    "# instance mathod and static method difference"
   ]
  },
  {
   "cell_type": "code",
   "execution_count": 4,
   "id": "f5b13a5d",
   "metadata": {},
   "outputs": [
    {
     "name": "stdout",
     "output_type": "stream",
     "text": [
      "car has 4 wheels \n",
      "cycle has 2 wheels\n",
      "cycle has 2 wheels\n"
     ]
    }
   ],
   "source": [
    "class Vehicle:\n",
    "    def car(self):\n",
    "        print(\"car has 4 wheels \")\n",
    "    @staticmethod\n",
    "    def cycle(cls):\n",
    "        print(\"cycle has\",cls,\"wheels\")\n",
    "veh=Vehicle()\n",
    "veh.car()\n",
    "Vehicle().cycle(2)\n",
    "veh.cycle(2)"
   ]
  },
  {
   "cell_type": "code",
   "execution_count": null,
   "id": "c9b78e6a",
   "metadata": {},
   "outputs": [],
   "source": [
    "# Declaring variables inside the class"
   ]
  },
  {
   "cell_type": "code",
   "execution_count": 6,
   "id": "69d0a9df",
   "metadata": {},
   "outputs": [
    {
     "name": "stdout",
     "output_type": "stream",
     "text": [
      "38\n",
      "360\n"
     ]
    }
   ],
   "source": [
    "class Age:\n",
    "    a,b=20,18    # class variables\n",
    "    def add(self):  #instance method\n",
    "        print(self.a+self.b)\n",
    "    def mp(self):    \n",
    "        print(self.a*self.b)\n",
    "ab=Age()\n",
    "ab.add()\n",
    "ab.mp()\n",
    "\n",
    "        "
   ]
  },
  {
   "cell_type": "code",
   "execution_count": null,
   "id": "ee15d73f",
   "metadata": {},
   "outputs": [],
   "source": [
    "#local variables (variables within the method)\n",
    "#class variables (variables inside the class outside the method , we can acces by using self keyword)\n",
    "#global variables (variables which are outside the class)"
   ]
  },
  {
   "cell_type": "code",
   "execution_count": 7,
   "id": "2ce684a4",
   "metadata": {},
   "outputs": [
    {
     "name": "stdout",
     "output_type": "stream",
     "text": [
      "12\n",
      "25\n",
      "21\n"
     ]
    }
   ],
   "source": [
    "i,j=10,11 #global variables\n",
    "class Var:\n",
    "    a,b=12,13 #class variables\n",
    "    def add(self,x,y):  #x,y are local variables\n",
    "        #variables accessing\n",
    "        print(x+y) \n",
    "        print(self.a+self.b)\n",
    "        print(i+j)       \n",
    "va=Var()\n",
    "va.add(5,7)\n",
    "        \n",
    "     "
   ]
  },
  {
   "cell_type": "code",
   "execution_count": 2,
   "id": "2f2f04af",
   "metadata": {},
   "outputs": [
    {
     "name": "stdout",
     "output_type": "stream",
     "text": [
      "12\n",
      "25\n",
      "21\n"
     ]
    }
   ],
   "source": [
    "# variables with same name\n",
    "a,b=10,11 #global variables\n",
    "class Var:\n",
    "    a,b=12,13 #class variables\n",
    "    def add(self,a,b):  #x,y are local variables\n",
    "        #variables accessing\n",
    "        print(a+b) \n",
    "        print(self.a+self.b)\n",
    "        print(globals()['a']+globals()['b'])       \n",
    "va=Var() #named object\n",
    "va.add(5,7)\n",
    "#Var().add(5,7) #nameless object"
   ]
  },
  {
   "cell_type": "code",
   "execution_count": 34,
   "id": "886da269",
   "metadata": {},
   "outputs": [
    {
     "name": "stdout",
     "output_type": "stream",
     "text": [
      "300\n",
      "This is function 1000\n",
      "1000\n"
     ]
    }
   ],
   "source": [
    "h=A(300)\n",
    "class A:\n",
    "    def __init__(self,a):\n",
    "        self.a=a\n",
    "\n",
    "print(h.a)\n",
    "\n",
    "        \n",
    "def change(temp):\n",
    "    \n",
    "    temp.a=100\n",
    "    temp.a*=10\n",
    "    print(\"This is function\",temp.a)\n",
    "    \n",
    "\n",
    "change(h)\n",
    "print(h.a)\n"
   ]
  },
  {
   "cell_type": "code",
   "execution_count": 43,
   "id": "03c1b239",
   "metadata": {},
   "outputs": [
    {
     "name": "stdout",
     "output_type": "stream",
     "text": [
      "902929574144 902836697024 902836992128\n",
      "902877009424 902876898688 902877120064\n",
      "False\n",
      "True\n"
     ]
    }
   ],
   "source": [
    "#checking memory locations of the objects\n",
    "a=[1,2,3]\n",
    "b=[1,2,3]\n",
    "c=[1,2,3]\n",
    "print(id(a),id(b),id(c))\n",
    "class MyClass:\n",
    "    def __init__(self,num):\n",
    "        self.num=num\n",
    "a=MyClass(1)\n",
    "b=MyClass(1)\n",
    "c=MyClass(1)\n",
    "print(id(a),id(b),id(c))\n",
    "print(a is b) # checking locations\n",
    "print(b is not c)"
   ]
  },
  {
   "cell_type": "code",
   "execution_count": 40,
   "id": "105a5112",
   "metadata": {},
   "outputs": [
    {
     "name": "stdout",
     "output_type": "stream",
     "text": [
      "---------\n",
      "Name is : satish\n"
     ]
    }
   ],
   "source": [
    "#method  contains logic and constructor contains initialisation\n",
    "# constructer will be invoked when object is created\n",
    "class MyClass:\n",
    "    def display(self,name):\n",
    "        print('Name is :',name)\n",
    "    def __init__(self):\n",
    "        print(\"---------\")\n",
    "na=MyClass()  #object na\n",
    "na.display('satish')"
   ]
  },
  {
   "cell_type": "code",
   "execution_count": 45,
   "id": "d1b4f181",
   "metadata": {},
   "outputs": [
    {
     "name": "stdout",
     "output_type": "stream",
     "text": [
      "902781954384\n",
      "902781954416\n"
     ]
    }
   ],
   "source": [
    "a=2\n",
    "print(id(a))\n",
    "a=3\n",
    "print(id(a))"
   ]
  },
  {
   "cell_type": "code",
   "execution_count": 56,
   "id": "e830e31f",
   "metadata": {},
   "outputs": [
    {
     "name": "stdout",
     "output_type": "stream",
     "text": [
      "902930044480\n",
      "902929954304\n",
      "[1, 2, 3]\n"
     ]
    }
   ],
   "source": [
    "a=[1,2,3]\n",
    "b=a.copy()\n",
    "a+=[4]\n",
    "\n",
    "print(id(a))\n",
    "print(id(b))\n",
    "\n",
    "print(b)"
   ]
  },
  {
   "cell_type": "code",
   "execution_count": 1,
   "id": "107e3732",
   "metadata": {},
   "outputs": [
    {
     "name": "stdout",
     "output_type": "stream",
     "text": [
      "5\n",
      "6\n"
     ]
    },
    {
     "data": {
      "text/plain": [
       "{'c': 2, 'd': 3}"
      ]
     },
     "execution_count": 1,
     "metadata": {},
     "output_type": "execute_result"
    }
   ],
   "source": [
    "# converting local variables into global variables\n",
    "class Age:\n",
    "    def __init__(self,a,b):\n",
    "        print(a+b)\n",
    "        self.c=a   # c,d are now class variables\n",
    "        self.d=b\n",
    "    def mul(self):\n",
    "        print(self.c*self.d)\n",
    "ob=Age(2,3)   #constructor arguments\n",
    "ob.mul()\n",
    "ob.__dict__"
   ]
  },
  {
   "cell_type": "code",
   "execution_count": 9,
   "id": "cc2a32b5",
   "metadata": {},
   "outputs": [
    {
     "name": "stdout",
     "output_type": "stream",
     "text": [
      "2\n"
     ]
    }
   ],
   "source": [
    "class Test:\n",
    "    count=0\n",
    "    def __init__(self):\n",
    "        Test.count+=1\n",
    "    @classmethod\n",
    "    def n(cls):\n",
    "        print(cls.count)\n",
    "obj=Test()\n",
    "obj1=Test()\n",
    "obj.n()\n",
    "             "
   ]
  },
  {
   "cell_type": "code",
   "execution_count": 46,
   "id": "92d26e41",
   "metadata": {},
   "outputs": [
    {
     "ename": "TypeError",
     "evalue": "m1() missing 2 required positional arguments: 'self' and 'a'",
     "output_type": "error",
     "traceback": [
      "\u001b[1;31m-------------------------\u001b[0m",
      "\u001b[1;31mTypeError\u001b[0mTraceback (most recent call last)",
      "Input \u001b[1;32mIn [46]\u001b[0m, in \u001b[0;36m<cell line: 8>\u001b[1;34m()\u001b[0m\n\u001b[0;32m      6\u001b[0m         \u001b[38;5;28mprint\u001b[39m(\u001b[38;5;124m\"\u001b[39m\u001b[38;5;124mmethod2\u001b[39m\u001b[38;5;124m\"\u001b[39m,a)\n\u001b[0;32m      7\u001b[0m     \u001b[38;5;66;03m# no overrloading\u001b[39;00m\n\u001b[1;32m----> 8\u001b[0m \u001b[43mGend\u001b[49m\u001b[38;5;241;43m.\u001b[39;49m\u001b[43mm1\u001b[49m\u001b[43m(\u001b[49m\u001b[43m)\u001b[49m\n",
      "\u001b[1;31mTypeError\u001b[0m: m1() missing 2 required positional arguments: 'self' and 'a'"
     ]
    }
   ],
   "source": [
    "#calling current class method in another method\n",
    "class Gend:\n",
    "    def m1(self):\n",
    "        print(\"method1\")\n",
    "    def m1(self,a):\n",
    "        print(\"method2\",a)\n",
    "    # no overrloading\n",
    "Gend.m1()\n",
    "#ge.m1(2)"
   ]
  },
  {
   "cell_type": "code",
   "execution_count": 51,
   "id": "a21a4e35",
   "metadata": {},
   "outputs": [
    {
     "data": {
      "text/plain": [
       "6"
      ]
     },
     "execution_count": 51,
     "metadata": {},
     "output_type": "execute_result"
    }
   ],
   "source": [
    "from multipledispatch import dispatch\n",
    "@dispatch(int,int)\n",
    "def p(a,b):\n",
    "    return a*b\n",
    "@dispatch(int,int,int)\n",
    "def p(a,b,c):\n",
    "    return a*b*c\n",
    "p(1,2)\n",
    "p(1,2,3)"
   ]
  },
  {
   "cell_type": "code",
   "execution_count": 17,
   "id": "c0b7724e",
   "metadata": {},
   "outputs": [
    {
     "name": "stdout",
     "output_type": "stream",
     "text": [
      "satish\n",
      "reddi\n"
     ]
    }
   ],
   "source": [
    "# consturctor arguments\n",
    "class A:\n",
    "    a=\"reddi\"\n",
    "    def __init__(self,a):\n",
    "        print(a)\n",
    "        print(self.a)\n",
    "c=A(\"satish\")"
   ]
  },
  {
   "cell_type": "code",
   "execution_count": 30,
   "id": "1827bb03",
   "metadata": {},
   "outputs": [
    {
     "name": "stdout",
     "output_type": "stream",
     "text": [
      "Employee ID : 12 \t Employee Salary : 2222\n",
      "Employee ID : 12 \t Employee Salary : 2222\n"
     ]
    }
   ],
   "source": [
    "#problem\n",
    "class Emp:\n",
    "    def __init__(self,eid,sal):\n",
    "        self.eid=eid\n",
    "        self.sal=sal\n",
    "    def display(self):\n",
    "        print(\"Employee ID : {} \\t Employee Salary : {}\".format(self.eid,self.sal))\n",
    "        print(\"Employee ID : %d \\t Employee Salary : %d\" %(self.eid,self.sal))\n",
    "em=Emp(12,2222)\n",
    "em.display()"
   ]
  },
  {
   "cell_type": "code",
   "execution_count": null,
   "id": "baf49cd6",
   "metadata": {},
   "outputs": [],
   "source": [
    "# __str__ executes automatically when you print reference variable\n",
    "# __del__ destroy the object"
   ]
  },
  {
   "cell_type": "code",
   "execution_count": 58,
   "id": "86845a4b",
   "metadata": {},
   "outputs": [
    {
     "name": "stdout",
     "output_type": "stream",
     "text": [
      "<__main__.Age object at 0x000000D237AC4C10>\n"
     ]
    }
   ],
   "source": [
    "#__str__\n",
    "class Age:\n",
    "    pass\n",
    "c=Age()\n",
    "print(c)  #printinf reference variable"
   ]
  },
  {
   "cell_type": "code",
   "execution_count": 27,
   "id": "3f71bca9",
   "metadata": {},
   "outputs": [
    {
     "name": "stdout",
     "output_type": "stream",
     "text": [
      "Welcome\n"
     ]
    }
   ],
   "source": [
    "class Age:\n",
    "    def __str__(self):  #str constructor returns only string not number.\n",
    "        return \"Welcome\"\n",
    "c=Age()\n",
    "print(c)  #overrided here"
   ]
  },
  {
   "cell_type": "code",
   "execution_count": 28,
   "id": "1e7d77e7",
   "metadata": {},
   "outputs": [
    {
     "name": "stdout",
     "output_type": "stream",
     "text": [
      "Employee ID : 12 \t Employee Salary : 2222\n"
     ]
    }
   ],
   "source": [
    "#problem\n",
    "class Emp:\n",
    "    def __init__(self,eid,sal):\n",
    "        self.eid=eid\n",
    "        self.sal=sal\n",
    "    def __str__(self):\n",
    "        return(\"Employee ID : {} \\t Employee Salary : {}\".format(self.eid,self.sal))\n",
    "em=Emp(12,2222)\n",
    "print(em)"
   ]
  },
  {
   "cell_type": "code",
   "execution_count": 7,
   "id": "0766508a",
   "metadata": {},
   "outputs": [
    {
     "name": "stdout",
     "output_type": "stream",
     "text": [
      "This is method m1 from class A\n",
      "This is method m1 from class A\n",
      "This is method m2 from class B\n"
     ]
    }
   ],
   "source": [
    "#inheritance (single,multiple,hierarchical,multilevel,hybrid)\n",
    "class A:\n",
    "    def m1(self):\n",
    "        print(\"This is method m1 from class A\")\n",
    "class B(A):\n",
    "    def m2(self):\n",
    "        print(\"This is method m2 from class B\")\n",
    "aobj=A()\n",
    "aobj.m1()\n",
    "\n",
    "bobj=B()\n",
    "bobj.m1()\n",
    "bobj.m2()"
   ]
  },
  {
   "cell_type": "code",
   "execution_count": 15,
   "id": "fe64a490",
   "metadata": {},
   "outputs": [
    {
     "name": "stdout",
     "output_type": "stream",
     "text": [
      "300\n",
      "30\n"
     ]
    }
   ],
   "source": [
    "#single inheritance ( child class inherites properities from parent class)\n",
    "class A:\n",
    "    x,y=10,20\n",
    "    def m1(self):\n",
    "        print(self.x+self.y)\n",
    "class B(A):\n",
    "    a,b=100,200\n",
    "    def m2(self):\n",
    "        print(self.a+self.b)\n",
    "\n",
    "bo=B()\n",
    "bo.m2()\n",
    "bo.m1()"
   ]
  },
  {
   "cell_type": "code",
   "execution_count": 16,
   "id": "9342d2f5",
   "metadata": {},
   "outputs": [
    {
     "name": "stdout",
     "output_type": "stream",
     "text": [
      "300\n",
      "30\n",
      "30\n",
      "300\n",
      "800\n"
     ]
    }
   ],
   "source": [
    "#multilevel inheritance(A is parent class of B , B is parent class of C ,C is parent class of D ....)\n",
    "class A:\n",
    "    x,y=10,20\n",
    "    def m1(self):\n",
    "        print(self.x+self.y)\n",
    "class B(A):\n",
    "    a,b=100,200\n",
    "    def m2(self):\n",
    "        print(self.a+self.b)\n",
    "class C(B):\n",
    "    i,j=300,500\n",
    "    def m3(self):\n",
    "        print(self.i+self.j)\n",
    "        \n",
    "bo=B()\n",
    "bo.m2()\n",
    "bo.m1()\n",
    "co=C()\n",
    "co.m1()\n",
    "co.m2()\n",
    "co.m3()"
   ]
  },
  {
   "cell_type": "code",
   "execution_count": 19,
   "id": "c9c55b95",
   "metadata": {},
   "outputs": [
    {
     "name": "stdout",
     "output_type": "stream",
     "text": [
      "30\n",
      "300\n",
      "30\n",
      "800\n"
     ]
    }
   ],
   "source": [
    "#hiearchical inheritance(one parent having multiple childs)\n",
    "class A:\n",
    "    x,y=10,20\n",
    "    def m1(self):\n",
    "        print(self.x+self.y)\n",
    "class B(A):\n",
    "    a,b=100,200\n",
    "    def m2(self):\n",
    "        print(self.a+self.b)\n",
    "class C(A):\n",
    "    i,j=300,500\n",
    "    def m3(self):\n",
    "        print(self.i+self.j)\n",
    "        \n",
    "bo=B()\n",
    "bo.m1()\n",
    "bo.m2()\n",
    "co=C()\n",
    "co.m1()\n",
    "co.m3()"
   ]
  },
  {
   "cell_type": "code",
   "execution_count": 52,
   "id": "00008f9b",
   "metadata": {},
   "outputs": [
    {
     "name": "stdout",
     "output_type": "stream",
     "text": [
      "30\n",
      "800\n",
      "First\n"
     ]
    }
   ],
   "source": [
    "#multiple inheritance(one child class have multiple parent class properites)\n",
    "class A:\n",
    "    x,y=10,20\n",
    "    def m2(self):\n",
    "        print(self.x+self.y)\n",
    "    def m1(self):\n",
    "        print('First')\n",
    "class B:\n",
    "    a,b=100,200\n",
    "    def m2(self):\n",
    "        print(self.a+self.b)\n",
    "    def m1(self):\n",
    "        print('Second')\n",
    "class D:\n",
    "    pass\n",
    "class C(A,B,D):\n",
    "    i,j=300,500\n",
    "    def m3(self):\n",
    "        print(self.i+self.j)\n",
    "        \n",
    "co=C()\n",
    "co.m2()\n",
    "co.m3()\n",
    "co.m1()"
   ]
  },
  {
   "cell_type": "code",
   "execution_count": 65,
   "id": "c387d265",
   "metadata": {},
   "outputs": [
    {
     "name": "stdout",
     "output_type": "stream",
     "text": [
      "10 20\n"
     ]
    }
   ],
   "source": [
    "#super() keyword in inheritance\n",
    "#To invoke Parent class methods,varaibles and constructers\n",
    "class A:\n",
    "    a,b=10,20\n",
    "    def m1(self):\n",
    "        print(\"This is method m1 from A\")\n",
    "        self.b=5\n",
    "    print(a,b)\n",
    "class B(A):\n",
    "    def m2(self):\n",
    "        print(\"This is method m2 from B\")\n",
    "        self.m1()  #invoke parent class method\n",
    "        print(self.a+self.b) # parent class variables"
   ]
  },
  {
   "cell_type": "code",
   "execution_count": 67,
   "id": "02eb62d9",
   "metadata": {},
   "outputs": [
    {
     "name": "stdout",
     "output_type": "stream",
     "text": [
      "300\n",
      "3000\n",
      "30\n",
      "3\n"
     ]
    }
   ],
   "source": [
    "a,b=1,2\n",
    "class A:\n",
    "    a,b=10,20\n",
    "    def m1(self):\n",
    "        print(\"This is method m1 from A\")\n",
    "class B(A):\n",
    "    a,b=1000,2000\n",
    "    def m2(self,a,b):\n",
    "        print(a+b)   #local varibles\n",
    "        print(self.a+self.b) # class variables\n",
    "        print(super().a+super().b) #invoke parent class variables\n",
    "        print(globals()['a']+globals()['b'])\n",
    "bobj=B()\n",
    "bobj.m2(100,200)"
   ]
  },
  {
   "cell_type": "code",
   "execution_count": 67,
   "id": "cec5a556",
   "metadata": {},
   "outputs": [
    {
     "name": "stdout",
     "output_type": "stream",
     "text": [
      "class A\n"
     ]
    }
   ],
   "source": [
    "#invoking constructer by using super() keyword\n",
    "class A:\n",
    "    def __init__(self):\n",
    "        print(\"class A\")\n",
    "class B(A):\n",
    "    pass\n",
    "bobj=B()\n"
   ]
  },
  {
   "cell_type": "code",
   "execution_count": 73,
   "id": "db703e52",
   "metadata": {},
   "outputs": [
    {
     "name": "stdout",
     "output_type": "stream",
     "text": [
      "class B\n"
     ]
    }
   ],
   "source": [
    "#invoking constructer by using super() keyword\n",
    "class A:\n",
    "    def __init__(self):\n",
    "        print(\"class A\")\n",
    "class B(A):\n",
    "    def __init__(self):\n",
    "        print(\"class B\")\n",
    "bobj=B()\n"
   ]
  },
  {
   "cell_type": "code",
   "execution_count": 76,
   "id": "eee2b46c",
   "metadata": {},
   "outputs": [
    {
     "name": "stdout",
     "output_type": "stream",
     "text": [
      "class A\n",
      "5\n",
      "class B\n",
      "5\n",
      "- 5\n",
      "class A\n",
      "5\n"
     ]
    }
   ],
   "source": [
    "#invoking constructer by using super() keyword\n",
    "class A:\n",
    "    __var=5\n",
    "    c=0\n",
    "    def __init__(self):\n",
    "        print(\"class A\")\n",
    "        A.c=A.__var      # indirectly we can access the private DM\n",
    "        print(A.__var)\n",
    "class B(A):\n",
    "    def __init__(self):\n",
    "        super().__init__()  #1. parent class constructor invoked\n",
    "        print(\"class B\")\n",
    "        #print(A.__var)     # private data member cannot access outside the class\n",
    "        print(A._A__var)   # we can access private method by name mangling\n",
    "        print(\"-\",A.c)\n",
    "        A.__init__(self)  #2. parent class constructor invoked\n",
    "        \n",
    "bobj=B()\n"
   ]
  },
  {
   "cell_type": "code",
   "execution_count": 9,
   "id": "f2e62a9a",
   "metadata": {},
   "outputs": [],
   "source": [
    "#polymorphism (samething can behave in multiple ways)\n",
    "#achieved by overriding and overloading \n",
    "# overriding : having 2 methods but doing different tasks\n",
    "# overriding can used for both methods and variables."
   ]
  },
  {
   "cell_type": "code",
   "execution_count": 19,
   "id": "af9c89ac",
   "metadata": {},
   "outputs": [
    {
     "name": "stdout",
     "output_type": "stream",
     "text": [
      "satish\n"
     ]
    }
   ],
   "source": [
    "#overriding variables example\n",
    "class Parent:\n",
    "    name=\"reddi\"\n",
    "class Child(Parent):\n",
    "    name=\"satish\"\n",
    "obj=Child()\n",
    "print(obj.name)"
   ]
  },
  {
   "cell_type": "code",
   "execution_count": 70,
   "id": "31014b6e",
   "metadata": {},
   "outputs": [
    {
     "data": {
      "text/plain": [
       "'ab'"
      ]
     },
     "execution_count": 70,
     "metadata": {},
     "output_type": "execute_result"
    }
   ],
   "source": [
    "#overriding variables example\n",
    "class Parent:\n",
    "    def m1(self,a,b):\n",
    "        return a+b\n",
    "class Child(Parent):\n",
    "    def m1(self,a,b):\n",
    "        return a+b\n",
    "obj=Child()\n",
    "obj.m1(1,2)\n",
    "obj.m1(\"a\",\"b\")"
   ]
  },
  {
   "cell_type": "code",
   "execution_count": 105,
   "id": "df4134fe",
   "metadata": {},
   "outputs": [
    {
     "data": {
      "text/plain": [
       "'sati'"
      ]
     },
     "execution_count": 105,
     "metadata": {},
     "output_type": "execute_result"
    }
   ],
   "source": [
    "#operator overloading\n",
    "class Solution:\n",
    "    def __init__(self,a):\n",
    "        self.a=a\n",
    "        self.b=b\n",
    "    def __add__(self,other):\n",
    "        return self.a+other.a\n",
    "x=Solution('sa')\n",
    "y=Solution('ti')\n",
    "x+y"
   ]
  },
  {
   "cell_type": "code",
   "execution_count": 107,
   "id": "3e4793ba",
   "metadata": {},
   "outputs": [
    {
     "ename": "TypeError",
     "evalue": "__init__() missing 2 required positional arguments: 'a' and 'b'",
     "output_type": "error",
     "traceback": [
      "\u001b[1;31m-------------------------\u001b[0m",
      "\u001b[1;31mTypeError\u001b[0mTraceback (most recent call last)",
      "Input \u001b[1;32mIn [107]\u001b[0m, in \u001b[0;36m<cell line: 9>\u001b[1;34m()\u001b[0m\n\u001b[0;32m      7\u001b[0m     \u001b[38;5;28;01mdef\u001b[39;00m \u001b[38;5;21m__init__\u001b[39m(\u001b[38;5;28mself\u001b[39m,a,b):\n\u001b[0;32m      8\u001b[0m         \u001b[38;5;28mprint\u001b[39m(\u001b[38;5;124m'\u001b[39m\u001b[38;5;124m3\u001b[39m\u001b[38;5;124m'\u001b[39m)\n\u001b[1;32m----> 9\u001b[0m obj\u001b[38;5;241m=\u001b[39m\u001b[43mSolution\u001b[49m\u001b[43m(\u001b[49m\u001b[43m)\u001b[49m\n",
      "\u001b[1;31mTypeError\u001b[0m: __init__() missing 2 required positional arguments: 'a' and 'b'"
     ]
    }
   ],
   "source": [
    "#constructor overloading\n",
    "class Solution:\n",
    "    def __init__(self):\n",
    "        print('1')\n",
    "    def __init__(self,a):\n",
    "        print('2')\n",
    "    def __init__(self,a,b):\n",
    "        print('3')\n",
    "obj=Solution()"
   ]
  },
  {
   "cell_type": "code",
   "execution_count": 112,
   "id": "ec702fe4",
   "metadata": {},
   "outputs": [
    {
     "name": "stdout",
     "output_type": "stream",
     "text": [
      "14\n"
     ]
    }
   ],
   "source": [
    "class Solution:\n",
    "    def __init__(self,*a):\n",
    "        print(sum(a))\n",
    "obj=Solution(2,3,4,5)"
   ]
  },
  {
   "cell_type": "code",
   "execution_count": 20,
   "id": "dc2ac47e",
   "metadata": {},
   "outputs": [
    {
     "name": "stdout",
     "output_type": "stream",
     "text": [
      "10.5\n"
     ]
    },
    {
     "data": {
      "text/plain": [
       "0"
      ]
     },
     "execution_count": 20,
     "metadata": {},
     "output_type": "execute_result"
    }
   ],
   "source": [
    "\n",
    "#overriding methods\n",
    "class Bank:\n",
    "    def RateOfInterest(self):\n",
    "        return 0\n",
    "class ICICI(Bank):\n",
    "    def RateOfInterest(self):\n",
    "        return 10.5\n",
    "obj=ICICI()\n",
    "print(obj.RateOfInterest())\n",
    "\n",
    "obj1=Bank()\n",
    "obj1.RateOfInterest()"
   ]
  },
  {
   "cell_type": "code",
   "execution_count": 31,
   "id": "84ee942a",
   "metadata": {},
   "outputs": [
    {
     "ename": "TypeError",
     "evalue": "RateOfInterest() missing 1 required positional argument: 'c'",
     "output_type": "error",
     "traceback": [
      "\u001b[1;31m-------------------------\u001b[0m",
      "\u001b[1;31mTypeError\u001b[0mTraceback (most recent call last)",
      "Input \u001b[1;32mIn [31]\u001b[0m, in \u001b[0;36m<cell line: 5>\u001b[1;34m()\u001b[0m\n\u001b[0;32m      3\u001b[0m \u001b[38;5;28;01mdef\u001b[39;00m \u001b[38;5;21mRateOfInterest\u001b[39m(a,b,c):\n\u001b[0;32m      4\u001b[0m     \u001b[38;5;28;01mreturn\u001b[39;00m a\u001b[38;5;241m+\u001b[39mb\u001b[38;5;241m+\u001b[39mc\n\u001b[1;32m----> 5\u001b[0m \u001b[43mRateOfInterest\u001b[49m\u001b[43m(\u001b[49m\u001b[38;5;241;43m1\u001b[39;49m\u001b[43m,\u001b[49m\u001b[38;5;241;43m2\u001b[39;49m\u001b[43m)\u001b[49m\n",
      "\u001b[1;31mTypeError\u001b[0m: RateOfInterest() missing 1 required positional argument: 'c'"
     ]
    }
   ],
   "source": [
    "def RateOfInterest(a,b):\n",
    "    return a+b\n",
    "def RateOfInterest(a,b,c):\n",
    "    return a+b+c\n",
    "RateOfInterest(1,2)"
   ]
  },
  {
   "cell_type": "code",
   "execution_count": null,
   "id": "f5066c29",
   "metadata": {},
   "outputs": [],
   "source": [
    "#overloading (calling method in multiple ways)\n",
    "#giving a single method , we can specify the no of parameters ourselves.\n"
   ]
  },
  {
   "cell_type": "code",
   "execution_count": 18,
   "id": "c9b99d55",
   "metadata": {},
   "outputs": [
    {
     "name": "stdout",
     "output_type": "stream",
     "text": [
      "Hello Satish\n"
     ]
    }
   ],
   "source": [
    "#overloading methods example\n",
    "class Human:\n",
    "    def SayHello(self,name=None):\n",
    "        if name is not None:\n",
    "            print(\"Hello\",name)\n",
    "        else:\n",
    "            print(\"Hello\")\n",
    "obj=Human()          \n",
    "obj.SayHello(\"Satish\")"
   ]
  },
  {
   "cell_type": "code",
   "execution_count": null,
   "id": "a88822f7",
   "metadata": {},
   "outputs": [],
   "source": [
    "#Encapsulation (Restricting the access to the methods and variables)\n",
    "#we can achieved encapsulation by private variables and private methods."
   ]
  },
  {
   "cell_type": "code",
   "execution_count": 19,
   "id": "b8812bbc",
   "metadata": {},
   "outputs": [
    {
     "name": "stdout",
     "output_type": "stream",
     "text": [
      "10\n"
     ]
    }
   ],
   "source": [
    "#private variables\n",
    "class MyClass:\n",
    "    __a=10   #private variable\n",
    "    def display(self):\n",
    "        print(self.__a)\n",
    "obj=MyClass()\n",
    "obj.display()\n",
    "        "
   ]
  },
  {
   "cell_type": "code",
   "execution_count": 25,
   "id": "044bdec6",
   "metadata": {
    "scrolled": true
   },
   "outputs": [
    {
     "name": "stdout",
     "output_type": "stream",
     "text": [
      "this is public method\n",
      "this is private method\n"
     ]
    }
   ],
   "source": [
    "#private methods\n",
    "class A:\n",
    "    def __d1(self):\n",
    "        print(\"this is private method\")\n",
    "    def d2(self):\n",
    "        print(\"this is public method\")\n",
    "        self.__d1()  #invoking private method\n",
    "obj=A()\n",
    "obj.d2()"
   ]
  },
  {
   "cell_type": "code",
   "execution_count": 79,
   "id": "61ca6284",
   "metadata": {},
   "outputs": [
    {
     "name": "stdout",
     "output_type": "stream",
     "text": [
      "105\n",
      "100\n",
      "105\n"
     ]
    }
   ],
   "source": [
    "#accessing private variables indirectly\n",
    "class A:\n",
    "    __a=100\n",
    "    def dis(self,b):\n",
    "        c=self.__a\n",
    "        self.__a=b\n",
    "        print(b)\n",
    "        print(c)\n",
    "    def dis1(self):\n",
    "        print(self.__a)\n",
    "obj=A()\n",
    "obj.dis(105)\n",
    "obj.dis1()"
   ]
  },
  {
   "cell_type": "code",
   "execution_count": null,
   "id": "b27f98b7",
   "metadata": {},
   "outputs": [],
   "source": [
    "#abstraction\n",
    "#an abstract method only contains definition but doesn't contains implementation and cannot be "
   ]
  },
  {
   "cell_type": "code",
   "execution_count": 89,
   "id": "990c1304",
   "metadata": {},
   "outputs": [
    {
     "ename": "TypeError",
     "evalue": "Can't instantiate abstract class A with abstract method display",
     "output_type": "error",
     "traceback": [
      "\u001b[1;31m-------------------------\u001b[0m",
      "\u001b[1;31mTypeError\u001b[0mTraceback (most recent call last)",
      "Input \u001b[1;32mIn [89]\u001b[0m, in \u001b[0;36m<cell line: 12>\u001b[1;34m()\u001b[0m\n\u001b[0;32m     10\u001b[0m     \u001b[38;5;28;01mdef\u001b[39;00m \u001b[38;5;21mdisplay\u001b[39m(\u001b[38;5;28mself\u001b[39m):\n\u001b[0;32m     11\u001b[0m         \u001b[38;5;28mprint\u001b[39m(\u001b[38;5;124m\"\u001b[39m\u001b[38;5;124mit is B class\u001b[39m\u001b[38;5;124m\"\u001b[39m)\n\u001b[1;32m---> 12\u001b[0m o\u001b[38;5;241m=\u001b[39m\u001b[43mA\u001b[49m\u001b[43m(\u001b[49m\u001b[43m)\u001b[49m\n\u001b[0;32m     13\u001b[0m obj\u001b[38;5;241m=\u001b[39mB()\n\u001b[0;32m     14\u001b[0m obj\u001b[38;5;241m.\u001b[39mdisplay()\n",
      "\u001b[1;31mTypeError\u001b[0m: Can't instantiate abstract class A with abstract method display"
     ]
    }
   ],
   "source": [
    "#ABC is name of the predefined abstract class\n",
    "from abc import ABC,abstractmethod\n",
    "class A(ABC):     #abstract class\n",
    "    @abstractmethod\n",
    "    def display(self):    #abstract method\n",
    "        pass\n",
    "    def m1(self):\n",
    "        print(\"ferfer\")\n",
    "class B(A):\n",
    "    def display(self):\n",
    "        print(\"it is B class\")\n",
    "o=A()            # Can't instantiate abstract class A\n",
    "obj=B()\n",
    "obj.display()"
   ]
  },
  {
   "cell_type": "code",
   "execution_count": 14,
   "id": "af8418f9",
   "metadata": {},
   "outputs": [
    {
     "name": "stdout",
     "output_type": "stream",
     "text": [
      "Eat Non-Veg\n",
      "Eat Veg\n"
     ]
    }
   ],
   "source": [
    "#example\n",
    "from abc import ABC,abstractmethod\n",
    "class Animal(ABC):\n",
    "    @abstractmethod\n",
    "    def eat(self):\n",
    "        pass\n",
    "class Tiger(Animal):\n",
    "    def eat(self):\n",
    "        print(\"Eat Non-Veg\")\n",
    "class Cow(Animal):\n",
    "    def eat(self):\n",
    "        print(\"Eat Veg\")\n",
    "obj1=Tiger()\n",
    "obj2=Cow()\n",
    "obj1.eat()\n",
    "obj2.eat()"
   ]
  },
  {
   "cell_type": "code",
   "execution_count": 91,
   "id": "9dc6cf02",
   "metadata": {},
   "outputs": [
    {
     "name": "stdout",
     "output_type": "stream",
     "text": [
      "this is m2\n",
      "this is m1\n"
     ]
    }
   ],
   "source": [
    "from abc import ABC,abstractmethod\n",
    "class X(ABC):        #abstract class\n",
    "    @abstractmethod\n",
    "    def m1(self):\n",
    "        pass\n",
    "    @abstractmethod\n",
    "    def m2(self):\n",
    "        pass\n",
    "class Y(X):\n",
    "    def m1(self):\n",
    "        print(\"this is m1\")\n",
    "class Z(Y):\n",
    "    def m2(self):\n",
    "        print(\"this is m2\")\n",
    "obj=Z()\n",
    "obj.m2()\n",
    "obj.m1()"
   ]
  },
  {
   "cell_type": "code",
   "execution_count": 92,
   "id": "4bab5b9e",
   "metadata": {},
   "outputs": [
    {
     "name": "stdout",
     "output_type": "stream",
     "text": [
      "200\n",
      "90\n"
     ]
    }
   ],
   "source": [
    "from abc import ABC,abstractmethod\n",
    "class Cal(ABC):\n",
    "    def __init__(self,value):\n",
    "        self.value=value   #class variable\n",
    "    @abstractmethod\n",
    "    def add(self):\n",
    "        N\n",
    "    @abstractmethod\n",
    "    def sub(self):\n",
    "        pass\n",
    "\n",
    "class C(Cal):\n",
    "    def add(self):\n",
    "        print(self.value+100)\n",
    "    def sub(self):\n",
    "        print(self.value-10)\n",
    "obj=C(100)\n",
    "obj.add()\n",
    "obj.sub()"
   ]
  },
  {
   "cell_type": "code",
   "execution_count": 24,
   "id": "bed1490e",
   "metadata": {},
   "outputs": [
    {
     "name": "stdout",
     "output_type": "stream",
     "text": [
      "{'a': 10, 'b': 20, 'c': 15}\n",
      "{'a': 10, 'b': 20}\n"
     ]
    }
   ],
   "source": [
    "class Test():\n",
    "    def __init__(self):\n",
    "        self.a=10\n",
    "        self.b=20\n",
    "        self.c=15\n",
    "    def m1(self):\n",
    "        del self.c\n",
    "t=Test()\n",
    "print(t.__dict__)\n",
    "t.m1()\n",
    "print(t.__dict__)"
   ]
  },
  {
   "cell_type": "code",
   "execution_count": 25,
   "id": "8ca84597",
   "metadata": {},
   "outputs": [
    {
     "name": "stdout",
     "output_type": "stream",
     "text": [
      "{'a': 10, 'b': 20, 'c': 15}\n",
      "{'a': 10, 'b': 20}\n"
     ]
    }
   ],
   "source": [
    "class Test():\n",
    "    def __init__(s):\n",
    "        s.a=10\n",
    "        s.b=20\n",
    "        s.c=15\n",
    "    def m1(sf):\n",
    "        del sf.c\n",
    "t=Test()\n",
    "print(t.__dict__)\n",
    "t.m1()\n",
    "print(t.__dict__)"
   ]
  },
  {
   "cell_type": "code",
   "execution_count": null,
   "id": "81eb8377",
   "metadata": {},
   "outputs": [],
   "source": []
  },
  {
   "cell_type": "code",
   "execution_count": 14,
   "id": "1835534b",
   "metadata": {},
   "outputs": [
    {
     "data": {
      "text/plain": [
       "3"
      ]
     },
     "execution_count": 14,
     "metadata": {},
     "output_type": "execute_result"
    }
   ],
   "source": [
    "class Solution:\n",
    "    #@staticmethod\n",
    "    def m1(a,b):\n",
    "        return b\n",
    "obj=Solution()       # class name and class reference are not same to access the methods\n",
    "obj.m1(3)"
   ]
  },
  {
   "cell_type": "code",
   "execution_count": 21,
   "id": "b87805e9",
   "metadata": {},
   "outputs": [
    {
     "data": {
      "text/plain": [
       "7"
      ]
     },
     "execution_count": 21,
     "metadata": {},
     "output_type": "execute_result"
    }
   ],
   "source": [
    "class Solution:\n",
    "    #@staticmethod\n",
    "    def m1(a,b):\n",
    "        return a+b\n",
    "    def m2(a,c,d):\n",
    "        return c+d\n",
    "obj=Solution()\n",
    "#Solution.m1(2,3) \n",
    "obj.m2(4,3)"
   ]
  },
  {
   "cell_type": "code",
   "execution_count": 23,
   "id": "e638e9d0",
   "metadata": {},
   "outputs": [
    {
     "data": {
      "text/plain": [
       "5"
      ]
     },
     "execution_count": 23,
     "metadata": {},
     "output_type": "execute_result"
    }
   ],
   "source": [
    "class Solution:\n",
    "    a=2\n",
    "    @classmethod\n",
    "    def m1(cl,b):\n",
    "        return b+cl.a\n",
    "Solution.m1(3)"
   ]
  },
  {
   "cell_type": "code",
   "execution_count": 26,
   "id": "ed4b892f",
   "metadata": {},
   "outputs": [
    {
     "name": "stdout",
     "output_type": "stream",
     "text": [
      "1 xyz 2000\n"
     ]
    }
   ],
   "source": [
    "# passing of one class members to the another class\n",
    "\n",
    "class Employee:\n",
    "    def __init__(self,eno,ename,esalary):\n",
    "        self.eno=eno\n",
    "        self.ename=ename\n",
    "        self.esalary=esalary\n",
    "    def display(self):\n",
    "        print(self.eno,self.ename,self.esalary)\n",
    "class Test:\n",
    "    def modify(emp):\n",
    "        emp.display()\n",
    "e=Employee(1,\"xyz\",2000)\n",
    "Test.modify(e)"
   ]
  },
  {
   "cell_type": "code",
   "execution_count": 3,
   "id": "bb644348",
   "metadata": {
    "scrolled": true
   },
   "outputs": [
    {
     "name": "stdout",
     "output_type": "stream",
     "text": [
      "3\n"
     ]
    }
   ],
   "source": [
    "class Solution:\n",
    "    count=0\n",
    "    def __init__(self):\n",
    "        Solution.count+=1\n",
    "    def a(self):\n",
    "        print(Solution.count)\n",
    "t1=Solution()\n",
    "t2=Solution()\n",
    "t3=Solution()\n",
    "t2.a()"
   ]
  },
  {
   "cell_type": "code",
   "execution_count": 3,
   "id": "e5d92f08",
   "metadata": {},
   "outputs": [
    {
     "data": {
      "text/plain": [
       "0j"
      ]
     },
     "execution_count": 3,
     "metadata": {},
     "output_type": "execute_result"
    }
   ],
   "source": [
    "complex(False)"
   ]
  },
  {
   "cell_type": "code",
   "execution_count": 5,
   "id": "7bee1cee",
   "metadata": {},
   "outputs": [
    {
     "name": "stdout",
     "output_type": "stream",
     "text": [
      "(1+2j)\n",
      "(1+0j)\n"
     ]
    }
   ],
   "source": [
    "print(complex(1,2))\n",
    "print(complex(True,False))"
   ]
  },
  {
   "cell_type": "code",
   "execution_count": 34,
   "id": "05e5d3ca",
   "metadata": {},
   "outputs": [
    {
     "name": "stdout",
     "output_type": "stream",
     "text": [
      "801582153408\n",
      "801553267120\n"
     ]
    }
   ],
   "source": [
    "l=[1,2,3]\n",
    "k=\"123\"\n",
    "print(id(l))\n",
    "print(id(k))"
   ]
  },
  {
   "cell_type": "code",
   "execution_count": 46,
   "id": "2dc73ac7",
   "metadata": {},
   "outputs": [
    {
     "data": {
      "text/plain": [
       "801469852304"
      ]
     },
     "execution_count": 46,
     "metadata": {},
     "output_type": "execute_result"
    }
   ],
   "source": [
    "a,b=10,12\n",
    "id(b)"
   ]
  },
  {
   "cell_type": "code",
   "execution_count": 48,
   "id": "9f7d531c",
   "metadata": {},
   "outputs": [
    {
     "data": {
      "text/plain": [
       "[0, 1, 2, 3, 4, 5, 6, 7, 8, 9]"
      ]
     },
     "execution_count": 48,
     "metadata": {},
     "output_type": "execute_result"
    }
   ],
   "source": [
    "list(range(10))"
   ]
  },
  {
   "cell_type": "code",
   "execution_count": 50,
   "id": "97241a80",
   "metadata": {},
   "outputs": [
    {
     "data": {
      "text/plain": [
       "2"
      ]
     },
     "execution_count": 50,
     "metadata": {},
     "output_type": "execute_result"
    }
   ],
   "source": [
    "s={1,2,1,1}\n",
    "len(s)"
   ]
  },
  {
   "cell_type": "code",
   "execution_count": 79,
   "id": "347cc071",
   "metadata": {},
   "outputs": [
    {
     "name": "stdout",
     "output_type": "stream",
     "text": [
      "[1, 0, 0, 0]\n"
     ]
    }
   ],
   "source": [
    "arr=[9,9,9]\n",
    "l=len(arr)\n",
    "carry=1\n",
    "ele=0\n",
    "for i in range(l-1,0,-1):\n",
    "    ele=arr[i]+carry\n",
    "    num=ele%10\n",
    "    carry=ele//10\n",
    "    arr[i]=num\n",
    "ele=arr[0]+carry\n",
    "arr[0]=ele%10\n",
    "rem=ele//10\n",
    "if rem!=0:\n",
    "    arr.insert(0,rem)\n",
    "print(arr)"
   ]
  },
  {
   "cell_type": "code",
   "execution_count": 80,
   "id": "ea2c2d30",
   "metadata": {},
   "outputs": [
    {
     "data": {
      "text/plain": [
       "[1, 0, 0, 0]"
      ]
     },
     "execution_count": 80,
     "metadata": {},
     "output_type": "execute_result"
    }
   ],
   "source": [
    "a=\"999\"\n",
    "list(map(int,str(int(a)+1)))"
   ]
  },
  {
   "cell_type": "code",
   "execution_count": 86,
   "id": "6c5def30",
   "metadata": {},
   "outputs": [
    {
     "name": "stdout",
     "output_type": "stream",
     "text": [
      "-102\n"
     ]
    }
   ],
   "source": [
    "print(~101)"
   ]
  },
  {
   "cell_type": "code",
   "execution_count": 93,
   "id": "d4e4865a",
   "metadata": {},
   "outputs": [
    {
     "data": {
      "text/plain": [
       "0"
      ]
     },
     "execution_count": 93,
     "metadata": {},
     "output_type": "execute_result"
    }
   ],
   "source": [
    "10>>6"
   ]
  },
  {
   "cell_type": "code",
   "execution_count": 96,
   "id": "bf2e1a82",
   "metadata": {},
   "outputs": [
    {
     "name": "stdout",
     "output_type": "stream",
     "text": [
      "2\n"
     ]
    }
   ],
   "source": [
    "a,b,c=1,2,-1\n",
    "value=a if a>b and a>c else b if b>c else c\n",
    "print(value)"
   ]
  },
  {
   "cell_type": "code",
   "execution_count": 115,
   "id": "abe4cee7",
   "metadata": {},
   "outputs": [
    {
     "name": "stdout",
     "output_type": "stream",
     "text": [
      "2.718281828459045\n",
      "3.141592653589793\n",
      "inf\n",
      "nan\n",
      "24\n",
      "10\n",
      "10\n",
      "11\n",
      "2\n"
     ]
    }
   ],
   "source": [
    "import math\n",
    "print(math.e)\n",
    "print(math.pi)\n",
    "print(math.inf)\n",
    "print(math.nan)\n",
    "print(math.factorial(4))\n",
    "print(math.trunc(10.5))\n",
    "print(math.floor(10.5))\n",
    "print(math.ceil(10.5))\n",
    "print(math.gcd(10,2))"
   ]
  },
  {
   "cell_type": "code",
   "execution_count": 120,
   "id": "9d8b54b8",
   "metadata": {},
   "outputs": [
    {
     "name": "stdout",
     "output_type": "stream",
     "text": [
      "enter a number: 23 45\n",
      "23 45\n"
     ]
    }
   ],
   "source": [
    "a,b=[i for i in input(\"enter a number: \").split()]\n",
    "print(a,b)"
   ]
  },
  {
   "cell_type": "code",
   "execution_count": 121,
   "id": "6d0c619e",
   "metadata": {},
   "outputs": [
    {
     "name": "stdout",
     "output_type": "stream",
     "text": [
      "hello world\n",
      "helloworld\n"
     ]
    }
   ],
   "source": [
    "print(\"hello\",\"world\")   # space \n",
    "print(\"hello\"+\"world\")   # no space"
   ]
  },
  {
   "cell_type": "code",
   "execution_count": 128,
   "id": "bc91523a",
   "metadata": {},
   "outputs": [
    {
     "name": "stdout",
     "output_type": "stream",
     "text": [
      "1 2.5 qwe*\n",
      "\n",
      "1*2.5*qwe\n"
     ]
    }
   ],
   "source": [
    "a,b,c=1,2.5,\"qwe\"\n",
    "print(a,b,c,end='*')\n",
    "print(\"\\n\")\n",
    "print(a,b,c,sep='*')"
   ]
  },
  {
   "cell_type": "code",
   "execution_count": 130,
   "id": "6a1cc956",
   "metadata": {},
   "outputs": [
    {
     "name": "stdout",
     "output_type": "stream",
     "text": [
      "1 2.500000 qwe\n"
     ]
    }
   ],
   "source": [
    "print(\"%d %f %s\"%(a,b,c))"
   ]
  },
  {
   "cell_type": "code",
   "execution_count": 2,
   "id": "722abe7f",
   "metadata": {},
   "outputs": [
    {
     "name": "stdout",
     "output_type": "stream",
     "text": [
      "[2, 4]\n"
     ]
    }
   ],
   "source": [
    "l=[1,2,3,4,5]\n",
    "def even(x):\n",
    "    if x%2==0:\n",
    "        return x\n",
    "result=list(filter(even,l))\n",
    "print(result)"
   ]
  },
  {
   "cell_type": "code",
   "execution_count": 3,
   "id": "a5b3bf53",
   "metadata": {},
   "outputs": [
    {
     "ename": "NameError",
     "evalue": "name 'x' is not defined",
     "output_type": "error",
     "traceback": [
      "\u001b[1;31m-------------------------\u001b[0m",
      "\u001b[1;31mNameError\u001b[0mTraceback (most recent call last)",
      "Input \u001b[1;32mIn [3]\u001b[0m, in \u001b[0;36m<cell line: 4>\u001b[1;34m()\u001b[0m\n\u001b[0;32m      2\u001b[0m \u001b[38;5;28;01mdef\u001b[39;00m \u001b[38;5;21meven\u001b[39m(x):\n\u001b[0;32m      3\u001b[0m     \u001b[38;5;28;01mreturn\u001b[39;00m \u001b[38;5;28mstr\u001b[39m(x\u001b[38;5;241m*\u001b[39mx)\n\u001b[1;32m----> 4\u001b[0m result\u001b[38;5;241m=\u001b[39m\u001b[38;5;28mlist\u001b[39m(\u001b[38;5;28mmap\u001b[39m(\u001b[43mx\u001b[49m\u001b[38;5;241m%\u001b[39m\u001b[38;5;241m2\u001b[39m\u001b[38;5;241m==\u001b[39m\u001b[38;5;241m0\u001b[39m,l))\n\u001b[0;32m      5\u001b[0m \u001b[38;5;28mprint\u001b[39m(result)\n",
      "\u001b[1;31mNameError\u001b[0m: name 'x' is not defined"
     ]
    }
   ],
   "source": [
    "l=[1,2,3,4,5]\n",
    "def even(x):\n",
    "    return str(x*x)\n",
    "result=list(map(x%2==0,l))\n",
    "print(result)"
   ]
  },
  {
   "cell_type": "code",
   "execution_count": 21,
   "id": "bfe196d8",
   "metadata": {},
   "outputs": [
    {
     "name": "stdout",
     "output_type": "stream",
     "text": [
      "1 2\n",
      "3 3\n",
      "6 4\n",
      "10 5\n",
      "15\n"
     ]
    }
   ],
   "source": [
    "from functools import *\n",
    "l=[1,2,3,4,5]\n",
    "def even(x,y):\n",
    "    print(x,y)\n",
    "    return x+y\n",
    "result=reduce(even,l)\n",
    "print(result)"
   ]
  },
  {
   "cell_type": "code",
   "execution_count": 24,
   "id": "bd344d90",
   "metadata": {},
   "outputs": [
    {
     "data": {
      "text/plain": [
       "6"
      ]
     },
     "execution_count": 24,
     "metadata": {},
     "output_type": "execute_result"
    }
   ],
   "source": [
    "class Sol:\n",
    "    @staticmethod\n",
    "    def A(a,b):\n",
    "        return a+b\n",
    "    @staticmethod\n",
    "    def A(a,b,c):\n",
    "        return a+b+c\n",
    "Sol.A(1,2,3)"
   ]
  },
  {
   "cell_type": "code",
   "execution_count": 3,
   "id": "d357c35b",
   "metadata": {},
   "outputs": [
    {
     "name": "stdout",
     "output_type": "stream",
     "text": [
      "object initialization\n",
      "cleanup activites\n"
     ]
    }
   ],
   "source": [
    "import time\n",
    "class Test:\n",
    "    def __init__(self):\n",
    "        print(\"object initialization\")\n",
    "    def __del__(self):\n",
    "        print(\"cleanup activites\")\n",
    "obj=Test()\n",
    "t1=None"
   ]
  },
  {
   "cell_type": "code",
   "execution_count": 13,
   "id": "b6e957cd",
   "metadata": {},
   "outputs": [
    {
     "name": "stdout",
     "output_type": "stream",
     "text": [
      "4.0\n",
      "2.0\n"
     ]
    }
   ],
   "source": [
    "# decorators\n",
    "def div(a,b):\n",
    "    print(a/b)\n",
    "def smart_div(func):\n",
    "    def inner(a,b):\n",
    "        (a,b)=(b,a) if a<b else (a,b)\n",
    "        func(a,b)\n",
    "    return inner\n",
    "div=smart_div(div)\n",
    "div(8,2)    # 8/2\n",
    "div(2,4)    # 4/2"
   ]
  },
  {
   "cell_type": "code",
   "execution_count": 14,
   "id": "d2fbfb5c",
   "metadata": {},
   "outputs": [
    {
     "name": "stdout",
     "output_type": "stream",
     "text": [
      "4.0\n",
      "2.0\n"
     ]
    }
   ],
   "source": [
    "# decorators\n",
    "def smart_div(func):\n",
    "    def inner(a,b):\n",
    "        (a,b)=(b,a) if a<b else (a,b)\n",
    "        func(a,b)\n",
    "    return inner\n",
    "@smart_div\n",
    "def div(a,b):\n",
    "    print(a/b)\n",
    "div(8,2)    # 8/2\n",
    "div(2,4)    # 4/2"
   ]
  },
  {
   "cell_type": "code",
   "execution_count": 23,
   "id": "6bcb5d90",
   "metadata": {},
   "outputs": [
    {
     "data": {
      "text/plain": [
       "generator"
      ]
     },
     "execution_count": 23,
     "metadata": {},
     "output_type": "execute_result"
    }
   ],
   "source": [
    "def a():\n",
    "    yield 'a'\n",
    "    yield 'b'\n",
    "    yield 'c'\n",
    "type(a)\n",
    "b=a()\n",
    "type(b)"
   ]
  },
  {
   "cell_type": "code",
   "execution_count": 24,
   "id": "b679be90",
   "metadata": {},
   "outputs": [
    {
     "name": "stdout",
     "output_type": "stream",
     "text": [
      "a\n",
      "b\n",
      "c\n"
     ]
    },
    {
     "ename": "StopIteration",
     "evalue": "",
     "output_type": "error",
     "traceback": [
      "\u001b[1;31m-------------------------\u001b[0m",
      "\u001b[1;31mStopIteration\u001b[0mTraceback (most recent call last)",
      "Input \u001b[1;32mIn [24]\u001b[0m, in \u001b[0;36m<cell line: 4>\u001b[1;34m()\u001b[0m\n\u001b[0;32m      2\u001b[0m \u001b[38;5;28mprint\u001b[39m(\u001b[38;5;28mnext\u001b[39m(b))\n\u001b[0;32m      3\u001b[0m \u001b[38;5;28mprint\u001b[39m(\u001b[38;5;28mnext\u001b[39m(b))\n\u001b[1;32m----> 4\u001b[0m \u001b[38;5;28mprint\u001b[39m(\u001b[38;5;28;43mnext\u001b[39;49m\u001b[43m(\u001b[49m\u001b[43mb\u001b[49m\u001b[43m)\u001b[49m)\n",
      "\u001b[1;31mStopIteration\u001b[0m: "
     ]
    }
   ],
   "source": [
    "print(next(b))\n",
    "print(next(b))\n",
    "print(next(b))\n",
    "print(next(b))"
   ]
  },
  {
   "cell_type": "code",
   "execution_count": 35,
   "id": "bd6a8d8f",
   "metadata": {},
   "outputs": [
    {
     "name": "stdout",
     "output_type": "stream",
     "text": [
      "<generator object <genexpr> at 0x000000A83BC597B0>\n",
      "0\n",
      "1\n",
      "4\n"
     ]
    },
    {
     "data": {
      "text/plain": [
       "generator"
      ]
     },
     "execution_count": 35,
     "metadata": {},
     "output_type": "execute_result"
    }
   ],
   "source": [
    "gen=(x*x for x in range(5))\n",
    "print(gen)\n",
    "print(next(gen))\n",
    "print(next(gen))\n",
    "print(next(gen))\n",
    "type(gen)"
   ]
  },
  {
   "cell_type": "code",
   "execution_count": 27,
   "id": "dcaa62c7",
   "metadata": {},
   "outputs": [
    {
     "data": {
      "text/plain": [
       "tuple"
      ]
     },
     "execution_count": 27,
     "metadata": {},
     "output_type": "execute_result"
    }
   ],
   "source": [
    "g=(1,2,3)\n",
    "type(g)"
   ]
  },
  {
   "cell_type": "code",
   "execution_count": 40,
   "id": "ef7c9e82",
   "metadata": {},
   "outputs": [
    {
     "ename": "AssertionError",
     "evalue": "must be 10",
     "output_type": "error",
     "traceback": [
      "\u001b[1;31m-------------------------\u001b[0m",
      "\u001b[1;31mAssertionError\u001b[0mTraceback (most recent call last)",
      "Input \u001b[1;32mIn [40]\u001b[0m, in \u001b[0;36m<cell line: 4>\u001b[1;34m()\u001b[0m\n\u001b[0;32m      2\u001b[0m     \u001b[38;5;28;01mreturn\u001b[39;00m x\u001b[38;5;241m*\u001b[39mx\n\u001b[0;32m      3\u001b[0m \u001b[38;5;28;01massert\u001b[39;00m square(\u001b[38;5;241m2\u001b[39m)\u001b[38;5;241m==\u001b[39m\u001b[38;5;241m4\u001b[39m,\u001b[38;5;124m\"\u001b[39m\u001b[38;5;124mmust be 4\u001b[39m\u001b[38;5;124m\"\u001b[39m\n\u001b[1;32m----> 4\u001b[0m \u001b[38;5;28;01massert\u001b[39;00m square(\u001b[38;5;241m3\u001b[39m)\u001b[38;5;241m==\u001b[39m\u001b[38;5;241m10\u001b[39m,\u001b[38;5;124m\"\u001b[39m\u001b[38;5;124mmust be 10\u001b[39m\u001b[38;5;124m\"\u001b[39m\n\u001b[0;32m      5\u001b[0m \u001b[38;5;28;01massert\u001b[39;00m square(\u001b[38;5;241m4\u001b[39m)\u001b[38;5;241m==\u001b[39m\u001b[38;5;241m16\u001b[39m,\u001b[38;5;124m\"\u001b[39m\u001b[38;5;124mmust be 16\u001b[39m\u001b[38;5;124m\"\u001b[39m\n\u001b[0;32m      6\u001b[0m \u001b[38;5;28mprint\u001b[39m(square(\u001b[38;5;241m2\u001b[39m))\n",
      "\u001b[1;31mAssertionError\u001b[0m: must be 10"
     ]
    }
   ],
   "source": [
    "def square(x):\n",
    "    return x*x\n",
    "assert square(2)==4,\"must be 4\"\n",
    "assert square(3)==10,\"must be 10\"\n",
    "assert square(4)==16,\"must be 16\"\n",
    "print(square(2))\n",
    "print(square(3))\n",
    "print(square(4))"
   ]
  },
  {
   "cell_type": "code",
   "execution_count": null,
   "id": "d6add419",
   "metadata": {},
   "outputs": [],
   "source": []
  },
  {
   "cell_type": "code",
   "execution_count": null,
   "id": "2382ea9b",
   "metadata": {},
   "outputs": [],
   "source": []
  },
  {
   "cell_type": "code",
   "execution_count": null,
   "id": "0ab3b269",
   "metadata": {},
   "outputs": [],
   "source": []
  },
  {
   "cell_type": "code",
   "execution_count": null,
   "id": "42a745b7",
   "metadata": {},
   "outputs": [],
   "source": []
  },
  {
   "cell_type": "code",
   "execution_count": null,
   "id": "53594085",
   "metadata": {},
   "outputs": [],
   "source": []
  },
  {
   "cell_type": "code",
   "execution_count": null,
   "id": "c5274410",
   "metadata": {},
   "outputs": [],
   "source": []
  }
 ],
 "metadata": {
  "kernelspec": {
   "display_name": "Python 3 (ipykernel)",
   "language": "python",
   "name": "python3"
  },
  "language_info": {
   "codemirror_mode": {
    "name": "ipython",
    "version": 3
   },
   "file_extension": ".py",
   "mimetype": "text/x-python",
   "name": "python",
   "nbconvert_exporter": "python",
   "pygments_lexer": "ipython3",
   "version": "3.9.12"
  }
 },
 "nbformat": 4,
 "nbformat_minor": 5
}
