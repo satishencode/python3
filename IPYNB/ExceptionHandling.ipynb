{
 "cells": [
  {
   "cell_type": "code",
   "execution_count": 10,
   "id": "2fa2d1aa",
   "metadata": {},
   "outputs": [
    {
     "name": "stdout",
     "output_type": "stream",
     "text": [
      "Zero Divison Error Rised\n",
      "100.0\n"
     ]
    }
   ],
   "source": [
    "try:\n",
    "    a=10\n",
    "    b=0\n",
    "    print(a/b)\n",
    "except ZeroDivisionError:\n",
    "    print(\"Zero Divison Error Rised\")\n",
    "    print(a/(b+0.1))"
   ]
  },
  {
   "cell_type": "code",
   "execution_count": 13,
   "id": "271755b6",
   "metadata": {},
   "outputs": [
    {
     "name": "stdout",
     "output_type": "stream",
     "text": [
      "this is default except block , please provide some number\n"
     ]
    }
   ],
   "source": [
    "# default except is a except block without any ExceptionClass name.\n",
    "#it must be at last of all except blocks\n",
    "try:\n",
    "    a=10\n",
    "    b='sa'\n",
    "    print(a/b)\n",
    "except ZeroDivisionError:\n",
    "    print(\"Zero Divison Error Rised\")\n",
    "    print(a/(b+0.1))\n",
    "except:\n",
    "    print(\"this is default except block , please provide some number\")"
   ]
  },
  {
   "cell_type": "code",
   "execution_count": 14,
   "id": "3223dedf",
   "metadata": {},
   "outputs": [
    {
     "name": "stdout",
     "output_type": "stream",
     "text": [
      "Zero Divison Error Rised\n",
      "100.0\n"
     ]
    }
   ],
   "source": [
    "# single except block that can handle multiple Exceptions\n",
    "try:\n",
    "    a=10\n",
    "    b=0\n",
    "    print(a/b)\n",
    "except (ZeroDivisionError,ValueError,ArithmeticError):   #as msg alias\n",
    "    print(\"Zero Divison Error Rised\")\n",
    "    print(a/(b+0.1))"
   ]
  },
  {
   "cell_type": "code",
   "execution_count": 1,
   "id": "48670065",
   "metadata": {},
   "outputs": [
    {
     "name": "stdout",
     "output_type": "stream",
     "text": [
      "finally\n"
     ]
    },
    {
     "ename": "NameError",
     "evalue": "name 'ZeroDvdsError' is not defined",
     "output_type": "error",
     "traceback": [
      "\u001b[1;31m-------------------------\u001b[0m",
      "\u001b[1;31mZeroDivisionError\u001b[0mTraceback (most recent call last)",
      "Input \u001b[1;32mIn [1]\u001b[0m, in \u001b[0;36m<cell line: 1>\u001b[1;34m()\u001b[0m\n\u001b[0;32m      3\u001b[0m     b\u001b[38;5;241m=\u001b[39m\u001b[38;5;241m0\u001b[39m\n\u001b[1;32m----> 4\u001b[0m     \u001b[38;5;28mprint\u001b[39m(\u001b[43ma\u001b[49m\u001b[38;5;241;43m/\u001b[39;49m\u001b[43mb\u001b[49m)\n\u001b[0;32m      5\u001b[0m \u001b[38;5;28;01mexcept\u001b[39;00m ZeroDvdsError:\n",
      "\u001b[1;31mZeroDivisionError\u001b[0m: division by zero",
      "\nDuring handling of the above exception, another exception occurred:\n",
      "\u001b[1;31mNameError\u001b[0mTraceback (most recent call last)",
      "Input \u001b[1;32mIn [1]\u001b[0m, in \u001b[0;36m<cell line: 1>\u001b[1;34m()\u001b[0m\n\u001b[0;32m      3\u001b[0m     b\u001b[38;5;241m=\u001b[39m\u001b[38;5;241m0\u001b[39m\n\u001b[0;32m      4\u001b[0m     \u001b[38;5;28mprint\u001b[39m(a\u001b[38;5;241m/\u001b[39mb)\n\u001b[1;32m----> 5\u001b[0m \u001b[38;5;28;01mexcept\u001b[39;00m \u001b[43mZeroDvdsError\u001b[49m:\n\u001b[0;32m      6\u001b[0m     \u001b[38;5;28mprint\u001b[39m(\u001b[38;5;124m\"\u001b[39m\u001b[38;5;124mZero Divison Error Rised\u001b[39m\u001b[38;5;124m\"\u001b[39m)\n\u001b[0;32m      7\u001b[0m     \u001b[38;5;28mprint\u001b[39m(a\u001b[38;5;241m/\u001b[39m(b\u001b[38;5;241m+\u001b[39m\u001b[38;5;241m0.1\u001b[39m))\n",
      "\u001b[1;31mNameError\u001b[0m: name 'ZeroDvdsError' is not defined"
     ]
    }
   ],
   "source": [
    "try:\n",
    "    a=10\n",
    "    b=0\n",
    "    print(a/b)\n",
    "except ZeroDvdsError:\n",
    "    print(\"Zero Divison Error Rised\")\n",
    "    print(a/(b+0.1))\n",
    "finally:\n",
    "    print(\"finally\")"
   ]
  },
  {
   "cell_type": "code",
   "execution_count": null,
   "id": "c75a8c06",
   "metadata": {},
   "outputs": [],
   "source": [
    "import os\n",
    "try:\n",
    "    a=10\n",
    "    b=0\n",
    "    print('try')\n",
    "    os._exit(0)\n",
    "    print(a/b)\n",
    "except ZeroDivisionError:\n",
    "    print(\"Zero Divison Error Rised\")\n",
    "    print(a/(b+0.1))\n",
    "finally:\n",
    "    print(\"finally\")"
   ]
  },
  {
   "cell_type": "code",
   "execution_count": 3,
   "id": "259e77ff",
   "metadata": {},
   "outputs": [
    {
     "name": "stdout",
     "output_type": "stream",
     "text": [
      "10.0\n",
      "else block\n",
      "finally\n"
     ]
    }
   ],
   "source": [
    "#else block excuted if no errors in try block\n",
    "try:\n",
    "    a=10\n",
    "    b=1\n",
    "    print(a/b)\n",
    "except ZeroDivisionError:\n",
    "    print(\"Zero Divison Error Rised\")\n",
    "    print(a/(b+0.1))\n",
    "else:\n",
    "    print('else block')\n",
    "finally:\n",
    "    print(\"finally\")"
   ]
  },
  {
   "cell_type": "code",
   "execution_count": 54,
   "id": "cd2cb4fe",
   "metadata": {},
   "outputs": [
    {
     "name": "stdout",
     "output_type": "stream",
     "text": [
      "please provide valid age\n"
     ]
    },
    {
     "ename": "TooYoungException",
     "evalue": "you are too young",
     "output_type": "error",
     "traceback": [
      "\u001b[1;31m-------------------------\u001b[0m",
      "\u001b[1;31mTooYoungException\u001b[0mTraceback (most recent call last)",
      "Input \u001b[1;32mIn [54]\u001b[0m, in \u001b[0;36m<cell line: 13>\u001b[1;34m()\u001b[0m\n\u001b[0;32m     12\u001b[0m age\u001b[38;5;241m=\u001b[39m\u001b[38;5;241m3\u001b[39m\n\u001b[0;32m     13\u001b[0m \u001b[38;5;28;01mif\u001b[39;00m age\u001b[38;5;241m<\u001b[39m\u001b[38;5;241m15\u001b[39m:\n\u001b[1;32m---> 14\u001b[0m     \u001b[38;5;28;01mraise\u001b[39;00m TooYoungException(\u001b[38;5;124m\"\u001b[39m\u001b[38;5;124myou are too young\u001b[39m\u001b[38;5;124m\"\u001b[39m)\n\u001b[0;32m     15\u001b[0m \u001b[38;5;28;01melif\u001b[39;00m age\u001b[38;5;241m>\u001b[39m\u001b[38;5;241m60\u001b[39m:\n\u001b[0;32m     16\u001b[0m     \u001b[38;5;28;01mraise\u001b[39;00m TooOldException(\u001b[38;5;124m\"\u001b[39m\u001b[38;5;124myou are too old\u001b[39m\u001b[38;5;124m\"\u001b[39m)\n",
      "\u001b[1;31mTooYoungException\u001b[0m: you are too young"
     ]
    }
   ],
   "source": [
    "# user defined exception , all exceptions are directly or indirectly inherited from BaseException\n",
    "\n",
    "class TooYoungException(BaseException):\n",
    "    def __init__(self,msg):\n",
    "        msg=\"please provide valid age\"\n",
    "        print(msg)\n",
    "        \n",
    "class TooOldException(BaseException):\n",
    "    def __init__(self,msg):\n",
    "        msg=\"please provide valid age\"\n",
    "        print(msg)\n",
    "age=3\n",
    "if age<15:\n",
    "    raise TooYoungException(\"you are too young\")\n",
    "elif age>60:\n",
    "    raise TooOldException(\"you are too old\")\n",
    "else:\n",
    "    print(age)"
   ]
  },
  {
   "cell_type": "markdown",
   "id": "74320872",
   "metadata": {},
   "source": [
    "### formatting the strings"
   ]
  },
  {
   "cell_type": "code",
   "execution_count": 60,
   "id": "497e7322",
   "metadata": {},
   "outputs": [
    {
     "name": "stdout",
     "output_type": "stream",
     "text": [
      "python was published in 1991 , it's rank is 1\n",
      "python was published in 1991 , it's rank is 1\n",
      "python was published in 1991 , it's rank is 1\n",
      "Thi float number is : py\n"
     ]
    }
   ],
   "source": [
    "name = \"python\"\n",
    "year = 1991\n",
    "rank = 1\n",
    "print(\"{} was published in {} , it's rank is {}\".format(name,year,rank))    # default arguments\n",
    "print(\"{2} was published in {1} , it's rank is {0}\".format(rank,year,name))    # positional arguments\n",
    "print(\"{x} was published in {y} , it's rank is {z}\".format(x=name,y=year,z=rank))   # keyword arguments\n",
    "print(\"Thi float number is : {:.2}\".format(\"python\"))"
   ]
  },
  {
   "cell_type": "markdown",
   "id": "cd81202d",
   "metadata": {},
   "source": [
    "### formatting numbers"
   ]
  },
  {
   "cell_type": "code",
   "execution_count": 58,
   "id": "4269f28e",
   "metadata": {},
   "outputs": [
    {
     "data": {
      "text/plain": [
       "'101'"
      ]
     },
     "execution_count": 58,
     "metadata": {},
     "output_type": "execute_result"
    }
   ],
   "source": [
    "a=\"{:b}\".format(5)\n",
    "a"
   ]
  },
  {
   "cell_type": "code",
   "execution_count": 30,
   "id": "2ace2265",
   "metadata": {},
   "outputs": [
    {
     "name": "stdout",
     "output_type": "stream",
     "text": [
      "Thi integer number is : 15\n",
      "Thi integer number is : 15\n",
      "Thi integer number is : 100\n",
      "Thi integer number is : 0000000123\n",
      "Thi integer number is : 7B\n",
      "Thi integer number is : 1111\n"
     ]
    }
   ],
   "source": [
    "print(\"Thi integer number is : {}\".format(15))\n",
    "print(\"Thi integer number is : {:d}\".format(15))\n",
    "print(\"Thi integer number is : {:o}\".format(64))   #octal number\n",
    "print(\"Thi integer number is : {:010d}\".format(123))    #length=10,filled with 0's and right align\n",
    "print(\"Thi integer number is : {:X}\".format(123))\n",
    "print(\"Thi integer number is : {:b}\".format(15))"
   ]
  },
  {
   "cell_type": "markdown",
   "id": "033c5689",
   "metadata": {},
   "source": [
    "### formatting floating numbers"
   ]
  },
  {
   "cell_type": "code",
   "execution_count": 42,
   "id": "d166de90",
   "metadata": {},
   "outputs": [
    {
     "name": "stdout",
     "output_type": "stream",
     "text": [
      "Thi float number is : 123.4567\n",
      "Thi float number is : 123.456700\n",
      "Thi float number is : 00000000123.456700\n",
      "Thi float number is : 123.46\n",
      "Thi float number is : 000000000000123.46\n"
     ]
    }
   ],
   "source": [
    "print(\"Thi float number is : {}\".format(123.4567))\n",
    "print(\"Thi float number is : {:f}\".format(123.4567))\n",
    "print(\"Thi float number is : {:018f}\".format(123.4567))      # length=18 , filled with 0's\n",
    "print(\"Thi float number is : {:.2f}\".format(123.4567))\n",
    "print(\"Thi float number is : {:018.2f}\".format(123.4567))\n"
   ]
  },
  {
   "cell_type": "code",
   "execution_count": 59,
   "id": "5fafaa2a",
   "metadata": {},
   "outputs": [
    {
     "name": "stdout",
     "output_type": "stream",
     "text": [
      "python was published in 1991\n",
      "python was published in 1991\n"
     ]
    }
   ],
   "source": [
    "# dictionary formatting\n",
    "person={'year':1991,'name':'python'}\n",
    "print(\"{p[name]} was published in {p[year]}\".format(p=person))\n",
    "print(\"{name} was published in {year}\".format(**person))"
   ]
  },
  {
   "cell_type": "code",
   "execution_count": null,
   "id": "0fab9c79",
   "metadata": {},
   "outputs": [],
   "source": []
  },
  {
   "cell_type": "code",
   "execution_count": null,
   "id": "5e820877",
   "metadata": {},
   "outputs": [],
   "source": []
  },
  {
   "cell_type": "code",
   "execution_count": null,
   "id": "92c12a99",
   "metadata": {},
   "outputs": [],
   "source": []
  },
  {
   "cell_type": "code",
   "execution_count": null,
   "id": "3f76b778",
   "metadata": {},
   "outputs": [],
   "source": []
  },
  {
   "cell_type": "code",
   "execution_count": null,
   "id": "a22e7818",
   "metadata": {},
   "outputs": [],
   "source": []
  },
  {
   "cell_type": "code",
   "execution_count": null,
   "id": "accca9d8",
   "metadata": {},
   "outputs": [],
   "source": []
  },
  {
   "cell_type": "code",
   "execution_count": null,
   "id": "2a7e4846",
   "metadata": {},
   "outputs": [],
   "source": []
  },
  {
   "cell_type": "code",
   "execution_count": null,
   "id": "f5443b26",
   "metadata": {},
   "outputs": [],
   "source": []
  },
  {
   "cell_type": "code",
   "execution_count": null,
   "id": "97cfdb26",
   "metadata": {},
   "outputs": [],
   "source": []
  }
 ],
 "metadata": {
  "kernelspec": {
   "display_name": "Python 3 (ipykernel)",
   "language": "python",
   "name": "python3"
  },
  "language_info": {
   "codemirror_mode": {
    "name": "ipython",
    "version": 3
   },
   "file_extension": ".py",
   "mimetype": "text/x-python",
   "name": "python",
   "nbconvert_exporter": "python",
   "pygments_lexer": "ipython3",
   "version": "3.9.12"
  }
 },
 "nbformat": 4,
 "nbformat_minor": 5
}
