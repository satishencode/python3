{
 "cells": [
  {
   "cell_type": "markdown",
   "id": "36a64a2e",
   "metadata": {},
   "source": [
    "### Binary trees"
   ]
  },
  {
   "cell_type": "code",
   "execution_count": 4,
   "id": "181afa9f",
   "metadata": {},
   "outputs": [
    {
     "name": "stdout",
     "output_type": "stream",
     "text": [
      "<__main__.TreeNode object at 0x000000997AB47D30>\n"
     ]
    }
   ],
   "source": [
    "#creating node\n",
    "class TreeNode:\n",
    "    def __init__(self,val):\n",
    "        self.val=val\n",
    "        self.left=None\n",
    "        self.right=None\n",
    "\n",
    "# creating binary tree\n",
    "def create_binary_tree(arr,root,i,n):\n",
    "    if i<n:\n",
    "        root=TreeNode(arr[i])\n",
    "        root.left=create_binary_tree(arr,root.left,2*i+1,n)\n",
    "        root.right=create_binary_tree(arr,root.right,2*i+2,n)\n",
    "    return root\n",
    "arr=[3,6,9,12,5,7,4,8,2]\n",
    "root=None\n",
    "binary_tree=create_binary_tree(arr,root,0,len(arr))\n",
    "print(binary_tree)"
   ]
  },
  {
   "cell_type": "code",
   "execution_count": 5,
   "id": "fddb25ea",
   "metadata": {},
   "outputs": [
    {
     "name": "stdout",
     "output_type": "stream",
     "text": [
      "AxesSubplot(0.125,0.125;0.775x0.755)\n",
      "AxesSubplot(0.125,0.125;0.775x0.755)\n"
     ]
    },
    {
     "data": {
      "image/png": "[encoded data removed]",
      "text/plain": [
       "<Figure size 432x288 with 1 Axes>"
      ]
     },
     "metadata": {
      "needs_background": "light"
     },
     "output_type": "display_data"
    }
   ],
   "source": [
    "import matplotlib.pyplot as plt\n",
    "def plot_binary(root):\n",
    "    fig,ax=plt.subplots()\n",
    "    print(ax)\n",
    "    ax.set_axis_off()\n",
    "    print(ax)\n",
    "    \n",
    "    def plot_node(node,x,y,dx):\n",
    "        if not node: return\n",
    "        \n",
    "        ax.annotate(str(node.val),(x,y),ha='center',va='center',bbox=dict(facecolor='white',edgecolor='black',boxstyle='circle'))\n",
    "        if node.left:\n",
    "            ax.plot([x,x-dx],[y,y-1],color='black')\n",
    "            plot_node(node.left,x-dx,y-1,dx/2)\n",
    "        if node.right:\n",
    "            ax.plot([x,x+dx],[y,y-1],color='black')\n",
    "            plot_node(node.right,x+dx,y-1,dx/2)\n",
    "    plot_node(root,0,0,1)\n",
    "    plt.show()\n",
    "plot_binary(binary_tree)"
   ]
  },
  {
   "cell_type": "code",
   "execution_count": 25,
   "id": "a5b166f7",
   "metadata": {},
   "outputs": [
    {
     "name": "stdout",
     "output_type": "stream",
     "text": [
      "3 6 12 8 2 5 9 7 4 "
     ]
    },
    {
     "data": {
      "text/plain": [
       "56"
      ]
     },
     "execution_count": 25,
     "metadata": {},
     "output_type": "execute_result"
    }
   ],
   "source": [
    "val=0\n",
    "def total(root):\n",
    "    global val\n",
    "    if not root: return val\n",
    "    print(root.val,end=' ')\n",
    "    val+=root.val\n",
    "    total(root.left)\n",
    "    total(root.right)\n",
    "    return val\n",
    "total(binary_tree)"
   ]
  },
  {
   "cell_type": "code",
   "execution_count": 6,
   "id": "6947e518",
   "metadata": {},
   "outputs": [
    {
     "data": {
      "text/plain": [
       "3"
      ]
     },
     "execution_count": 6,
     "metadata": {},
     "output_type": "execute_result"
    }
   ],
   "source": [
    "def height(root):\n",
    "    if not root: return -1\n",
    "    return 1+ max(height(root.left),height(root.right))\n",
    "height(binary_tree)"
   ]
  },
  {
   "cell_type": "markdown",
   "id": "26913c0f",
   "metadata": {},
   "source": [
    "### DFS"
   ]
  },
  {
   "cell_type": "code",
   "execution_count": 37,
   "id": "ff700d8c",
   "metadata": {},
   "outputs": [
    {
     "name": "stdout",
     "output_type": "stream",
     "text": [
      "6 12 8 123 2 5 32 34 \n",
      "\n",
      "123 8 12 2 6 32 5 34 3 45 7 56 9 6745 4 342 \n",
      "\n",
      "123 8 2 12 32 34 5 6 45 56 7 6745 342 4 9 3 "
     ]
    }
   ],
   "source": [
    "#DFS\n",
    "def preorder(root):\n",
    "    if not root:\n",
    "        return \n",
    "    print(root.val,end=' ')\n",
    "    preorder(root.left)\n",
    "    preorder(root.right)\n",
    "    \n",
    "def inorder(root):\n",
    "    if not root:\n",
    "        return \n",
    "    inorder(root.left)\n",
    "    print(root.val,end=' ')\n",
    "    inorder(root.right)\n",
    "\n",
    "def postorder(root):\n",
    "    if not root:\n",
    "        return\n",
    "    postorder(root.left)\n",
    "    postorder(root.right)\n",
    "    print(root.val,end=' ')\n",
    "\n",
    "#binary_tree\n",
    "preorder(binary_tree.left)\n",
    "\n",
    "print('\\n')\n",
    "inorder(binary_tree)\n",
    "\n",
    "print('\\n')\n",
    "postorder(binary_tree)"
   ]
  },
  {
   "cell_type": "markdown",
   "id": "51ab80a5",
   "metadata": {},
   "source": [
    "### BFS"
   ]
  },
  {
   "cell_type": "code",
   "execution_count": 12,
   "id": "bdb98ced",
   "metadata": {},
   "outputs": [
    {
     "name": "stdout",
     "output_type": "stream",
     "text": [
      "[3, 6, 9, 12, 5, 7, 4, 8]\n"
     ]
    }
   ],
   "source": [
    "#BFS    \n",
    "def levelorder(root):\n",
    "    if not root:\n",
    "        return []\n",
    "    result=[]\n",
    "    queue=[]\n",
    "    queue.append(root)    \n",
    "    while queue:\n",
    "        result.append(queue[0].val)\n",
    "        node=queue.pop(0)\n",
    "        if node.left:\n",
    "            queue.append(node.left)\n",
    "        if node.right:\n",
    "            queue.append(node.right)\n",
    "    print(result)\n",
    "levelorder(binary_tree)"
   ]
  },
  {
   "cell_type": "markdown",
   "id": "87947771",
   "metadata": {},
   "source": [
    "### SEARCH ELEMENT"
   ]
  },
  {
   "cell_type": "code",
   "execution_count": null,
   "id": "741c10dd",
   "metadata": {},
   "outputs": [],
   "source": [
    "def searchElement(root,ele):\n",
    "    if not root:\n",
    "        return False\n",
    "    if root.val==ele:\n",
    "        return True\n",
    "    return searchElement(root.left,ele) or searchElement(root.right,ele)\n",
    "searchElement(binary_tree,12)"
   ]
  },
  {
   "cell_type": "markdown",
   "id": "26e2cdba",
   "metadata": {},
   "source": [
    "### PRINT TREE"
   ]
  },
  {
   "cell_type": "code",
   "execution_count": 17,
   "id": "732e4bcb",
   "metadata": {},
   "outputs": [
    {
     "name": "stdout",
     "output_type": "stream",
     "text": [
      "3 6 12 8 5 9 7 4 "
     ]
    }
   ],
   "source": [
    "def printTree(root):\n",
    "    if not root:\n",
    "        return \n",
    "    print(root.val,end=' ')\n",
    "    printTree(root.left)\n",
    "    printTree(root.right)\n",
    "\n",
    "printTree(binary_tree)"
   ]
  },
  {
   "cell_type": "markdown",
   "id": "30a26193",
   "metadata": {},
   "source": [
    "### LEAF NODES"
   ]
  },
  {
   "cell_type": "code",
   "execution_count": 18,
   "id": "24a73a88",
   "metadata": {},
   "outputs": [
    {
     "data": {
      "text/plain": [
       "[8, 5, 7, 4]"
      ]
     },
     "execution_count": 18,
     "metadata": {},
     "output_type": "execute_result"
    }
   ],
   "source": [
    "def leafNodes(root,leaf):\n",
    "    if not root:\n",
    "        return \n",
    "    ele=root.val\n",
    "    if not root.left and not root.right:\n",
    "        leaf+=[ele]\n",
    "    leafNodes(root.left,leaf)\n",
    "    leafNodes(root.right,leaf)\n",
    "    return leaf\n",
    "leafNodes(binary_tree,leaf=[])"
   ]
  },
  {
   "cell_type": "code",
   "execution_count": 19,
   "id": "87e41430",
   "metadata": {},
   "outputs": [
    {
     "name": "stdout",
     "output_type": "stream",
     "text": [
      "8 12 5 6 7 4 9 3 \n",
      "\n",
      "9 15 7 20 3 "
     ]
    }
   ],
   "source": [
    "class TreeNode:\n",
    "    def __init__(self,val=0):\n",
    "        self.val=val\n",
    "        self.left=None\n",
    "        self.right=None\n",
    "class Solution():\n",
    "    def buildTree(self,preorder,inorder):\n",
    "        if not preorder or not inorder:\n",
    "            return None\n",
    "        \n",
    "        root=TreeNode(preorder[0])\n",
    "        mid=inorder.index(preorder[0])\n",
    "        \n",
    "        root.left=self.buildTree(preorder[1:mid+1],inorder[:mid])\n",
    "        root.right=self.buildTree(preorder[mid+1:],inorder[mid+1:])\n",
    "        \n",
    "        print(root.val,end=' ')\n",
    "        \n",
    "obj=Solution()\n",
    "obj.buildTree([3,6,12,8,5,9,7,4],[8,12,6,5,3,7,9,4])\n",
    "print('\\n')\n",
    "obj.buildTree([3,9,20,15,7],[9,3,15,20,7])"
   ]
  },
  {
   "cell_type": "markdown",
   "id": "4c3f408d",
   "metadata": {},
   "source": [
    "### binary search tree (BST)"
   ]
  },
  {
   "cell_type": "code",
   "execution_count": 12,
   "id": "5ccd2672",
   "metadata": {},
   "outputs": [
    {
     "data": {
      "text/plain": [
       "<__main__.TreeNode at 0x997ab22520>"
      ]
     },
     "execution_count": 12,
     "metadata": {},
     "output_type": "execute_result"
    }
   ],
   "source": [
    "class TreeNode:\n",
    "    def __init__(self,val,left=None,right=None):\n",
    "        self.val=val\n",
    "        self.left=left\n",
    "        self.right=right\n",
    "def BST(root,key):\n",
    "    if not root: return TreeNode(key)\n",
    "    elif root.val<=key:\n",
    "        root.right=BST(root.right,key)\n",
    "    else:\n",
    "        root.left=BST(root.left,key)\n",
    "    return root\n",
    "tree=TreeNode(10)\n",
    "tree=BST(tree,20)\n",
    "tree=BST(tree,30)\n",
    "tree=BST(tree,3)\n",
    "tree=BST(tree,8)\n",
    "tree=BST(tree,15)\n",
    "tree"
   ]
  },
  {
   "cell_type": "code",
   "execution_count": 13,
   "id": "3dcb587c",
   "metadata": {},
   "outputs": [
    {
     "name": "stdout",
     "output_type": "stream",
     "text": [
      "AxesSubplot(0.125,0.125;0.775x0.755)\n",
      "AxesSubplot(0.125,0.125;0.775x0.755)\n"
     ]
    },
    {
     "data": {
      "image/png": "[encoded data removed]",
      "text/plain": [
       "<Figure size 432x288 with 1 Axes>"
      ]
     },
     "metadata": {
      "needs_background": "light"
     },
     "output_type": "display_data"
    }
   ],
   "source": [
    "plot_binary(tree)"
   ]
  },
  {
   "cell_type": "code",
   "execution_count": 30,
   "id": "4deb5bd8",
   "metadata": {},
   "outputs": [
    {
     "data": {
      "text/plain": [
       "10"
      ]
     },
     "execution_count": 30,
     "metadata": {},
     "output_type": "execute_result"
    }
   ],
   "source": [
    "tree.right.val"
   ]
  },
  {
   "cell_type": "code",
   "execution_count": 35,
   "id": "0470634f",
   "metadata": {},
   "outputs": [
    {
     "data": {
      "text/plain": [
       "7"
      ]
     },
     "execution_count": 35,
     "metadata": {},
     "output_type": "execute_result"
    }
   ],
   "source": [
    "def height(root):\n",
    "    if not root: return -1\n",
    "    return 1+ max(height(root.left),height(root.right))\n",
    "height(tree)"
   ]
  },
  {
   "cell_type": "markdown",
   "id": "6385e9b4",
   "metadata": {},
   "source": [
    "### DFS (preorder,inorder,postorder)"
   ]
  },
  {
   "cell_type": "code",
   "execution_count": 6,
   "id": "00d2ed7e",
   "metadata": {},
   "outputs": [
    {
     "data": {
      "text/plain": [
       "[8, 3, 1, 6, 4, 7, 10, 14]"
      ]
     },
     "execution_count": 6,
     "metadata": {},
     "output_type": "execute_result"
    }
   ],
   "source": [
    "def preorder(root,order):\n",
    "    if not root: return\n",
    "    order+=[root.val]\n",
    "    preorder(root.left,order)\n",
    "    preorder(root.right,order)\n",
    "    return order\n",
    "preorder(tree,order=[])"
   ]
  },
  {
   "cell_type": "code",
   "execution_count": 7,
   "id": "5dc41a9c",
   "metadata": {},
   "outputs": [
    {
     "data": {
      "text/plain": [
       "[1, 3, 4, 6, 7, 8, 10, 14]"
      ]
     },
     "execution_count": 7,
     "metadata": {},
     "output_type": "execute_result"
    }
   ],
   "source": [
    "def inorder(root,order):\n",
    "    if not root: return\n",
    "    inorder(root.left,order)\n",
    "    order+=[root.val]\n",
    "    inorder(root.right,order)\n",
    "    return order\n",
    "inorder(tree,order=[])"
   ]
  },
  {
   "cell_type": "code",
   "execution_count": 8,
   "id": "3f7cfc3c",
   "metadata": {},
   "outputs": [
    {
     "data": {
      "text/plain": [
       "[1, 4, 7, 6, 3, 14, 10, 8]"
      ]
     },
     "execution_count": 8,
     "metadata": {},
     "output_type": "execute_result"
    }
   ],
   "source": [
    "def postorder(root,order):\n",
    "    if not root: return\n",
    "    postorder(root.left,order)\n",
    "    postorder(root.right,order)\n",
    "    order+=[root.val]\n",
    "    return order\n",
    "postorder(tree,order=[])"
   ]
  },
  {
   "cell_type": "markdown",
   "id": "da6e026b",
   "metadata": {},
   "source": [
    "### searching an element"
   ]
  },
  {
   "cell_type": "code",
   "execution_count": 9,
   "id": "55253601",
   "metadata": {},
   "outputs": [
    {
     "data": {
      "text/plain": [
       "False"
      ]
     },
     "execution_count": 9,
     "metadata": {},
     "output_type": "execute_result"
    }
   ],
   "source": [
    "def searchElement(root,ele):\n",
    "    if not root: return False\n",
    "    if root.val==ele: return True\n",
    "    return searchElement(root.left,ele) or searchElement(root.right,ele)\n",
    "searchElement(tree,101)"
   ]
  },
  {
   "cell_type": "code",
   "execution_count": 13,
   "id": "6aa8defd",
   "metadata": {},
   "outputs": [
    {
     "data": {
      "text/plain": [
       "3"
      ]
     },
     "execution_count": 13,
     "metadata": {},
     "output_type": "execute_result"
    }
   ],
   "source": [
    "class Stack:\n",
    "    def __init__(self):\n",
    "        self.container=[]\n",
    "    \n",
    "    def push(self,data):\n",
    "        return self.container.append(data)\n",
    "    \n",
    "    def pop(self):\n",
    "        #underflow condition\n",
    "        if self.length()==0:\n",
    "            print(\"stack is empty\")\n",
    "            return\n",
    "        return self.container.pop()\n",
    "    \n",
    "    def length(self):\n",
    "        return len(self.container)\n",
    "    \n",
    "    def peek(self):   #top of the element\n",
    "        if self.length()==0:\n",
    "            print(\"stack is empty\")\n",
    "            return\n",
    "        return self.container[-1]\n",
    "obj=Stack()\n",
    "obj.push(7)\n",
    "obj.push(11)\n",
    "obj.push(70)\n",
    "obj.peek()\n",
    "obj.length()"
   ]
  },
  {
   "cell_type": "code",
   "execution_count": 1,
   "id": "dbb6efa2",
   "metadata": {},
   "outputs": [
    {
     "data": {
      "text/plain": [
       "deque([17, 27])"
      ]
     },
     "execution_count": 1,
     "metadata": {},
     "output_type": "execute_result"
    }
   ],
   "source": [
    "from collections import deque\n",
    "class Queue:\n",
    "    def __init__(self):\n",
    "        self.container=deque()\n",
    "    \n",
    "    def enqueue(self,data):\n",
    "        return self.container.append(data)\n",
    "        \n",
    "    def dequeue(self):\n",
    "        return self.container.popleft()\n",
    "    \n",
    "    def front(self):\n",
    "        return self.container[0]\n",
    "    \n",
    "    def rear(self):\n",
    "        return self.container[-1]\n",
    "    \n",
    "    def length(self):\n",
    "        return len(self.container)\n",
    "    def print(self):\n",
    "        return self.container\n",
    "\n",
    "obj=Queue()\n",
    "obj.enqueue(7)\n",
    "obj.enqueue(17)\n",
    "obj.enqueue(27)\n",
    "obj.front()\n",
    "obj.rear()\n",
    "obj.dequeue()\n",
    "obj.print()"
   ]
  },
  {
   "cell_type": "code",
   "execution_count": 29,
   "id": "f9ea764f",
   "metadata": {},
   "outputs": [],
   "source": [
    "#creating a node\n",
    "class Node:\n",
    "    def __init__(self,data):\n",
    "        self.data=data\n",
    "        self.next=None\n",
    "#creating sll\n",
    "class LinkedList:\n",
    "    def __init__(self):\n",
    "        self.head=None\n",
    "        \n",
    "    def print(self):\n",
    "        if self.head is None:\n",
    "            print(\"sll is empty\")\n",
    "            return\n",
    "        itr=self.head\n",
    "        lstr=''\n",
    "        while itr:\n",
    "            lstr+=str(itr.data)+'--->' if itr.next else str(itr.data)\n",
    "            itr=itr.next\n",
    "        return lstr\n",
    "    \n",
    "    def length(self):\n",
    "        l=0\n",
    "        itr=self.head\n",
    "        while itr:\n",
    "            l+=1\n",
    "            itr=itr.next\n",
    "        return l\n",
    "    def insert_beg(self,data):\n",
    "        node=Node(data)\n",
    "        if not self.head:\n",
    "            self.head=node\n",
    "        temp=self.head\n",
    "        self.head=node\n",
    "        node.next=temp\n",
    "    def insert_end(self,data):\n",
    "        node=Node(data)\n",
    "        if self.head is None:\n",
    "            self.head=node\n",
    "        itr=self.head\n",
    "        while itr.next:\n",
    "            itr=itr.next\n",
    "        itr.next=node\n",
    "    def insert_at(self,pos,data):\n",
    "        if pos < 0 or pos>self.length():\n",
    "            raise Exception(\"invalid positon\")\n",
    "            return\n",
    "        if pos==0:\n",
    "            temp=self.head\n",
    "            node=Node(data)\n",
    "            self.head=node\n",
    "            node.next=temp\n",
    "            return\n",
    "        elif pos==self.length():\n",
    "            node=Node(data)\n",
    "            if self.head is None:\n",
    "                self.head=node\n",
    "            itr=self.head\n",
    "            while itr.next:\n",
    "                itr=itr.next\n",
    "            itr.next=node\n",
    "            return\n",
    "        c=0\n",
    "        itr=self.head\n",
    "        while itr:\n",
    "            if c==pos-1:\n",
    "                node=Node(data)\n",
    "                temp=itr.next\n",
    "                itr.next=node\n",
    "                node.next=temp\n",
    "                return\n",
    "            itr=itr.next\n",
    "            c+=1\n",
    "    def delete_beg(self):\n",
    "        if not self.head:\n",
    "            return None\n",
    "        temp=self.head\n",
    "        self.head=self.head.next\n",
    "        temp=None\n",
    "    def delete_end(self):\n",
    "        if not self.head:\n",
    "            return None\n",
    "        if self.head.next==None:\n",
    "            self.head=None\n",
    "        itr=self.head\n",
    "        while itr.next.next:\n",
    "            itr=itr.next\n",
    "        itr.next=None\n",
    "    def delete_at(self,pos):\n",
    "        if pos<0 or pos>self.length():\n",
    "            raise Exception('invalid index')\n",
    "            return\n",
    "        if pos==0:\n",
    "            temp=self.head\n",
    "            self.head=self.head.next\n",
    "            temp=None\n",
    "            return\n",
    "        c=0\n",
    "        itr=self.head\n",
    "        while(itr):\n",
    "            if c==pos-1:\n",
    "                itr.next=itr.next.next\n",
    "                return\n",
    "            itr=itr.next\n",
    "            c+=1\n",
    "    \n",
    "    def search_ele(self,ele):\n",
    "        if not self.head:\n",
    "            return False\n",
    "        itr=self.head\n",
    "        while(itr):\n",
    "            if ele==itr.data:\n",
    "                return True\n",
    "            itr=itr.next\n",
    "        return False\n",
    "    \n",
    "    def reverse(self):\n",
    "        if self.head is None:\n",
    "            return\n",
    "        curr=self.head\n",
    "        prev=None\n",
    "        while(curr):\n",
    "            next=curr.next\n",
    "            curr.next=prev\n",
    "            prev=curr\n",
    "            curr=next\n",
    "        self.head=prev"
   ]
  },
  {
   "cell_type": "code",
   "execution_count": 30,
   "id": "f4191856",
   "metadata": {},
   "outputs": [],
   "source": [
    "obj=LinkedList()\n",
    "obj.head=Node(1)\n",
    "second=Node(2)\n",
    "third=Node(3)\n",
    "fourth=Node(400)\n",
    "fifth=Node(50)\n",
    "sixth=Node(6)\n",
    "obj.head.next=second\n",
    "second.next=third\n",
    "third.next=fourth\n",
    "fourth.next=fifth\n",
    "fifth.next=sixth\n",
    "obj.insert_beg(1000)"
   ]
  },
  {
   "cell_type": "code",
   "execution_count": 31,
   "id": "bc626a92",
   "metadata": {},
   "outputs": [],
   "source": [
    "obj.insert_end(500)"
   ]
  },
  {
   "cell_type": "code",
   "execution_count": 32,
   "id": "92ae54f6",
   "metadata": {},
   "outputs": [],
   "source": [
    "obj.insert_at(3,999)"
   ]
  },
  {
   "cell_type": "code",
   "execution_count": 33,
   "id": "863fd73d",
   "metadata": {},
   "outputs": [
    {
     "data": {
      "text/plain": [
       "'1000--->1--->2--->999--->3--->400--->50--->6--->500'"
      ]
     },
     "execution_count": 33,
     "metadata": {},
     "output_type": "execute_result"
    }
   ],
   "source": [
    "obj.print()"
   ]
  },
  {
   "cell_type": "code",
   "execution_count": 6,
   "id": "f5aed747",
   "metadata": {},
   "outputs": [],
   "source": [
    "obj.reverse()"
   ]
  },
  {
   "cell_type": "code",
   "execution_count": 7,
   "id": "fac40844",
   "metadata": {},
   "outputs": [
    {
     "data": {
      "text/plain": [
       "'500--->6--->50--->400--->3--->999--->2--->1--->1000'"
      ]
     },
     "execution_count": 7,
     "metadata": {},
     "output_type": "execute_result"
    }
   ],
   "source": [
    "obj.print()"
   ]
  },
  {
   "cell_type": "code",
   "execution_count": 8,
   "id": "5f90d3d5",
   "metadata": {},
   "outputs": [
    {
     "data": {
      "text/plain": [
       "False"
      ]
     },
     "execution_count": 8,
     "metadata": {},
     "output_type": "execute_result"
    }
   ],
   "source": [
    "obj.search_ele(10)"
   ]
  },
  {
   "cell_type": "code",
   "execution_count": 11,
   "id": "154717e2",
   "metadata": {},
   "outputs": [],
   "source": [
    "obj.delete_beg()"
   ]
  },
  {
   "cell_type": "code",
   "execution_count": 9,
   "id": "9529bea6",
   "metadata": {},
   "outputs": [
    {
     "data": {
      "text/plain": [
       "'500--->6--->50--->400--->3--->999--->2--->1--->1000'"
      ]
     },
     "execution_count": 9,
     "metadata": {},
     "output_type": "execute_result"
    }
   ],
   "source": [
    "obj.print()"
   ]
  },
  {
   "cell_type": "code",
   "execution_count": 10,
   "id": "3f9b16e4",
   "metadata": {},
   "outputs": [],
   "source": [
    "obj.delete_end()"
   ]
  },
  {
   "cell_type": "code",
   "execution_count": 11,
   "id": "2fbfa9ea",
   "metadata": {},
   "outputs": [
    {
     "data": {
      "text/plain": [
       "'500--->6--->50--->400--->3--->999--->2--->1'"
      ]
     },
     "execution_count": 11,
     "metadata": {},
     "output_type": "execute_result"
    }
   ],
   "source": [
    "obj.print()"
   ]
  },
  {
   "cell_type": "code",
   "execution_count": 15,
   "id": "c1e15831",
   "metadata": {},
   "outputs": [],
   "source": [
    "obj.delete_at(6)"
   ]
  },
  {
   "cell_type": "code",
   "execution_count": 16,
   "id": "7d25378f",
   "metadata": {},
   "outputs": [
    {
     "data": {
      "text/plain": [
       "'6--->50--->400--->3--->999--->2'"
      ]
     },
     "execution_count": 16,
     "metadata": {},
     "output_type": "execute_result"
    }
   ],
   "source": [
    "obj.print()"
   ]
  },
  {
   "cell_type": "code",
   "execution_count": 18,
   "id": "58eec4c2",
   "metadata": {},
   "outputs": [
    {
     "data": {
      "text/plain": [
       "6"
      ]
     },
     "execution_count": 18,
     "metadata": {},
     "output_type": "execute_result"
    }
   ],
   "source": [
    "obj.length()"
   ]
  },
  {
   "cell_type": "code",
   "execution_count": 15,
   "id": "68fcbb16",
   "metadata": {},
   "outputs": [
    {
     "name": "stdout",
     "output_type": "stream",
     "text": [
      "before adding nodes\n",
      "[]\n",
      "[]\n",
      "after adding nodes\n",
      "nodes: []\n",
      "graph []\n"
     ]
    }
   ],
   "source": [
    "def add_node(v,nodes,adj):\n",
    "    global node_count\n",
    "    if v in nodes:\n",
    "        print(v,\"alreadt presented\")\n",
    "    else:\n",
    "        node_count+=1\n",
    "        nodes+=[v]\n",
    "        \n",
    "        for n in adj:\n",
    "            n+=[0]\n",
    "        adj+=[[0]*node_count]\n",
    "         \n",
    "nodes=[]\n",
    "adj=[]\n",
    "node_count=0\n",
    "print(\"before adding nodes\")\n",
    "print(nodes)\n",
    "print(adj)\n",
    "add_node(\"A\",nodes=[],adj=[])\n",
    "add_node(\"B\",nodes=[],adj=[])\n",
    "print(\"after adding nodes\")\n",
    "print(\"nodes:\",nodes)\n",
    "print(\"graph\",adj)"
   ]
  },
  {
   "cell_type": "code",
   "execution_count": 1,
   "id": "d32652db",
   "metadata": {},
   "outputs": [],
   "source": [
    "num_nodes=5\n",
    "edges=[(0,1),(0,4),(1,2),(1,3),(1,4),(2,3),(3,4)]\n",
    "\n",
    "class Graph:\n",
    "    def __init__(self,num_nodes,edges):\n",
    "        self.num_nodes=num_nodes\n",
    "        self.data=[[] for _ in range(num_nodes)]\n",
    "        \n",
    "        for n1,n2 in edges:\n",
    "            self.data[n1].append(n2)\n",
    "            self.data[n2].append(n1)\n",
    "    \n",
    "    def __repr__(self):\n",
    "        return '\\n'.join([\"{}:{}\".format(n,neighbours) for n,neighbours in enumerate(graph.data)])\n",
    "    \n",
    "    def __str__(self):\n",
    "        return self.__repr__()"
   ]
  },
  {
   "cell_type": "code",
   "execution_count": 2,
   "id": "93720be3",
   "metadata": {},
   "outputs": [],
   "source": [
    "graph=Graph(num_nodes,edges)"
   ]
  },
  {
   "cell_type": "code",
   "execution_count": 3,
   "id": "8ab5c23e",
   "metadata": {},
   "outputs": [
    {
     "data": {
      "text/plain": [
       "0:[1, 4]\n",
       "1:[0, 2, 3, 4]\n",
       "2:[1, 3]\n",
       "3:[1, 2, 4]\n",
       "4:[0, 1, 3]"
      ]
     },
     "execution_count": 3,
     "metadata": {},
     "output_type": "execute_result"
    }
   ],
   "source": [
    "graph"
   ]
  },
  {
   "cell_type": "code",
   "execution_count": 4,
   "id": "d3ee3697",
   "metadata": {},
   "outputs": [
    {
     "data": {
      "text/plain": [
       "['0:[1, 4]', '1:[0, 2, 3, 4]', '2:[1, 3]', '3:[1, 2, 4]', '4:[0, 1, 3]']"
      ]
     },
     "execution_count": 4,
     "metadata": {},
     "output_type": "execute_result"
    }
   ],
   "source": [
    "[\"{}:{}\".format(n,neighbours) for n,neighbours in enumerate(graph.data)]"
   ]
  },
  {
   "cell_type": "code",
   "execution_count": 9,
   "id": "52ab3185",
   "metadata": {},
   "outputs": [
    {
     "data": {
      "text/plain": [
       "[[1, 4], [0, 2, 3, 4], [1, 3], [1, 2, 4], [0, 1, 3]]"
      ]
     },
     "execution_count": 9,
     "metadata": {},
     "output_type": "execute_result"
    }
   ],
   "source": [
    "graph.data"
   ]
  },
  {
   "cell_type": "code",
   "execution_count": null,
   "id": "f38eb953",
   "metadata": {},
   "outputs": [],
   "source": [
    "def BFS(graph,root):\n",
    "    queue=[]\n",
    "    discovered=[False]*len(graph.data)\n",
    "    \n",
    "    discovered[root]=True\n",
    "    queue.append(root)\n",
    "    idx=0\n",
    "    \n",
    "    while idx<len(queue):\n",
    "        current=queue[idx]\n",
    "        idx+=1\n",
    "        "
   ]
  },
  {
   "cell_type": "markdown",
   "id": "88dc5765",
   "metadata": {},
   "source": [
    "### DLL"
   ]
  },
  {
   "cell_type": "code",
   "execution_count": 79,
   "id": "f2a8aa2a",
   "metadata": {},
   "outputs": [],
   "source": [
    "class Node:\n",
    "    def __init__(self,data):\n",
    "        self.data=data\n",
    "        self.nref=None\n",
    "        self.pref=None\n",
    "class DLL:\n",
    "    def __init__(self):\n",
    "        self.head=None\n",
    "        self.length=0\n",
    "    def ft(self):\n",
    "        if not self.head: return 'empty'\n",
    "        itr=self.head\n",
    "        s=''\n",
    "        while(itr):\n",
    "            self.length+=1\n",
    "            s+=str(itr.data)+'--->' if itr.nref else str(itr.data)\n",
    "            itr=itr.nref\n",
    "        return s\n",
    "    def rt(self):\n",
    "        if not self.head: return 'empty'\n",
    "        temp=itr=self.head\n",
    "        s=''\n",
    "        while(itr.nref):\n",
    "            itr=itr.nref\n",
    "        while(itr):\n",
    "            s+=str(itr.data)+'--->' if itr.nref is not temp else str(itr.data)\n",
    "            itr=itr.pref\n",
    "        return s\n",
    "    def insert_beg(self,data):\n",
    "        node=Node(data)\n",
    "        if not self.head:\n",
    "            self.head=node\n",
    "            return\n",
    "        node.nref=self.head\n",
    "        self.head.pref=node\n",
    "        self.head=node\n",
    "    def insert_end(self,data):\n",
    "        node=Node(data)\n",
    "        if not self.head:\n",
    "            self.head=node\n",
    "            return\n",
    "        itr=self.head\n",
    "        while(itr.nref):\n",
    "            itr=itr.nref\n",
    "        node.pref=itr\n",
    "        itr.nref=node\n",
    "        node.nref=None\n",
    "    def insert_at(self,data,pos):\n",
    "        node=Node(data)\n",
    "        if not self.head:\n",
    "            self.head=node\n",
    "        if pos<0 or pos>self.length:\n",
    "            return 'not possible'\n",
    "        if pos==0: return insert_beg(data)\n",
    "        if pos==self.length: return insert_end(data)\n",
    "        c=0\n",
    "        itr=self.head\n",
    "        while(itr):\n",
    "            c+=1\n",
    "            if c==pos:\n",
    "                temp=itr.nref\n",
    "                node.pref=itr\n",
    "                itr.nref=node\n",
    "                node.nref=temp\n",
    "                temp.pref=node\n",
    "                return\n",
    "            itr=itr.nref\n",
    "                "
   ]
  },
  {
   "cell_type": "code",
   "execution_count": 80,
   "id": "44d485b6",
   "metadata": {},
   "outputs": [],
   "source": [
    "dll=DLL()"
   ]
  },
  {
   "cell_type": "code",
   "execution_count": 81,
   "id": "5e2aad1f",
   "metadata": {},
   "outputs": [
    {
     "data": {
      "text/plain": [
       "'empty'"
      ]
     },
     "execution_count": 81,
     "metadata": {},
     "output_type": "execute_result"
    }
   ],
   "source": [
    "dll.ft()"
   ]
  },
  {
   "cell_type": "code",
   "execution_count": 82,
   "id": "2e9e6ecc",
   "metadata": {},
   "outputs": [
    {
     "data": {
      "text/plain": [
       "'empty'"
      ]
     },
     "execution_count": 82,
     "metadata": {},
     "output_type": "execute_result"
    }
   ],
   "source": [
    "dll.rt()"
   ]
  },
  {
   "cell_type": "code",
   "execution_count": 83,
   "id": "7d2fe824",
   "metadata": {},
   "outputs": [],
   "source": [
    "dll.insert_beg(2)\n",
    "dll.insert_beg(4)\n",
    "dll.insert_beg(6)"
   ]
  },
  {
   "cell_type": "code",
   "execution_count": 84,
   "id": "a322d089",
   "metadata": {},
   "outputs": [
    {
     "data": {
      "text/plain": [
       "'6--->4--->2'"
      ]
     },
     "execution_count": 84,
     "metadata": {},
     "output_type": "execute_result"
    }
   ],
   "source": [
    "dll.ft()"
   ]
  },
  {
   "cell_type": "code",
   "execution_count": 85,
   "id": "92e756db",
   "metadata": {},
   "outputs": [
    {
     "data": {
      "text/plain": [
       "'2--->4--->6--->'"
      ]
     },
     "execution_count": 85,
     "metadata": {},
     "output_type": "execute_result"
    }
   ],
   "source": [
    "dll.rt()"
   ]
  },
  {
   "cell_type": "code",
   "execution_count": 86,
   "id": "3fab55c4",
   "metadata": {},
   "outputs": [],
   "source": [
    "dll.insert_end(8)"
   ]
  },
  {
   "cell_type": "code",
   "execution_count": 87,
   "id": "eed03d27",
   "metadata": {},
   "outputs": [
    {
     "data": {
      "text/plain": [
       "'6--->4--->2--->8'"
      ]
     },
     "execution_count": 87,
     "metadata": {},
     "output_type": "execute_result"
    }
   ],
   "source": [
    "dll.ft()"
   ]
  },
  {
   "cell_type": "code",
   "execution_count": 88,
   "id": "64f5dcd0",
   "metadata": {},
   "outputs": [
    {
     "data": {
      "text/plain": [
       "'8--->2--->4--->6--->'"
      ]
     },
     "execution_count": 88,
     "metadata": {},
     "output_type": "execute_result"
    }
   ],
   "source": [
    "dll.rt()"
   ]
  },
  {
   "cell_type": "code",
   "execution_count": 91,
   "id": "aef76733",
   "metadata": {},
   "outputs": [
    {
     "data": {
      "text/plain": [
       "'6--->4--->2--->8--->10--->10'"
      ]
     },
     "execution_count": 91,
     "metadata": {},
     "output_type": "execute_result"
    }
   ],
   "source": [
    "dll.insert_at(10,4)\n",
    "dll.ft()"
   ]
  },
  {
   "cell_type": "markdown",
   "id": "594b2689",
   "metadata": {},
   "source": [
    "### CLL"
   ]
  },
  {
   "cell_type": "code",
   "execution_count": 2,
   "id": "584117e5",
   "metadata": {},
   "outputs": [],
   "source": [
    "class Node:\n",
    "    def __init__(self,val):\n",
    "        self.val=val\n",
    "        self.next=None"
   ]
  },
  {
   "cell_type": "code",
   "execution_count": 3,
   "id": "9aabe529",
   "metadata": {},
   "outputs": [],
   "source": [
    "class CLL:\n",
    "    def __init__(self):\n",
    "        self.head=None\n",
    "        self.tail=None\n",
    "    def display(self):\n",
    "        if not self.head: return 'empty cll'\n",
    "        itr=self.head\n",
    "        s=''\n",
    "        while(itr.next!=self.head):\n",
    "            s+=str(itr.val)+'-->'\n",
    "            itr=itr.next\n",
    "        s+=str(itr.val)\n",
    "        return s "
   ]
  },
  {
   "cell_type": "code",
   "execution_count": 4,
   "id": "05481846",
   "metadata": {},
   "outputs": [],
   "source": [
    "c=CLL()"
   ]
  },
  {
   "cell_type": "code",
   "execution_count": 8,
   "id": "f0bd6f2b",
   "metadata": {},
   "outputs": [],
   "source": [
    "n1=Node(10)\n",
    "n2=Node(2)\n",
    "n3=Node(6)\n",
    "c.head=n1\n",
    "c.tail=n1\n",
    "c.tail.next=c.head\n",
    "n1.next=n2\n",
    "n2.next=n3\n",
    "n3.next=n1"
   ]
  },
  {
   "cell_type": "code",
   "execution_count": 9,
   "id": "b77647e1",
   "metadata": {},
   "outputs": [
    {
     "data": {
      "text/plain": [
       "'10-->2-->6'"
      ]
     },
     "execution_count": 9,
     "metadata": {},
     "output_type": "execute_result"
    }
   ],
   "source": [
    "c.display()"
   ]
  },
  {
   "cell_type": "markdown",
   "id": "3e10e7a2",
   "metadata": {},
   "source": [
    "#### priority queue"
   ]
  },
  {
   "cell_type": "code",
   "execution_count": 15,
   "id": "1bec3d62",
   "metadata": {},
   "outputs": [],
   "source": [
    "import queue\n",
    "q=queue.PriorityQueue()"
   ]
  },
  {
   "cell_type": "code",
   "execution_count": 16,
   "id": "7b6f64ab",
   "metadata": {},
   "outputs": [
    {
     "name": "stdout",
     "output_type": "stream",
     "text": [
      "<queue.PriorityQueue object at 0x0000004045ADBB50>\n"
     ]
    }
   ],
   "source": [
    "q.put(10)\n",
    "q.put(60)\n",
    "q.put(40)\n",
    "print(q)"
   ]
  },
  {
   "cell_type": "code",
   "execution_count": 17,
   "id": "5325d3f1",
   "metadata": {},
   "outputs": [
    {
     "data": {
      "text/plain": [
       "10"
      ]
     },
     "execution_count": 17,
     "metadata": {},
     "output_type": "execute_result"
    }
   ],
   "source": [
    "q.get()"
   ]
  },
  {
   "cell_type": "code",
   "execution_count": 18,
   "id": "b808bfb5",
   "metadata": {},
   "outputs": [
    {
     "data": {
      "text/plain": [
       "40"
      ]
     },
     "execution_count": 18,
     "metadata": {},
     "output_type": "execute_result"
    }
   ],
   "source": [
    "q.get()"
   ]
  },
  {
   "cell_type": "markdown",
   "id": "8a43583f",
   "metadata": {},
   "source": [
    "#### infix to postfix"
   ]
  },
  {
   "cell_type": "code",
   "execution_count": 46,
   "id": "1ffa5312",
   "metadata": {},
   "outputs": [
    {
     "name": "stdout",
     "output_type": "stream",
     "text": [
      "The postfix expression is : AB+CD+*\n"
     ]
    }
   ],
   "source": [
    "class Solution:\n",
    "    def __init__(self):\n",
    "        self.stack=[]\n",
    "        self.res=\"\"\n",
    "        self.top=None\n",
    "        \n",
    "    def pop(self):\n",
    "        item=self.stack.pop()\n",
    "        if len(self.stack)==0:\n",
    "            self.top=None\n",
    "        else:\n",
    "            self.top=len(self.stack)-1\n",
    "    def push(self,item):\n",
    "        self.stack.append(item)\n",
    "        self.top=len(self.stack)-1\n",
    "    def peek(self):\n",
    "        self.top=len(self.stack)-1\n",
    "        return self.stack[self.top]\n",
    "    def postfix(self,exp):\n",
    "        for i in exp:\n",
    "            if (ord(i)>64 and ord(i)<92):\n",
    "                self.res+=i\n",
    "            elif (i==')'):\n",
    "                while (self.peek()!='('):\n",
    "                    self.res+=self.peek()\n",
    "                    self.pop()\n",
    "                self.pop()\n",
    "            else:\n",
    "                self.push(i)\n",
    "        \n",
    "        print(\"The postfix expression is : \" +self.res)\n",
    "obj=Solution()\n",
    "#obj.postfix(\"(A+B*C)\")\n",
    "obj.postfix(\"((A+B)*(C+D))\")"
   ]
  },
  {
   "cell_type": "code",
   "execution_count": 14,
   "id": "4f30c700",
   "metadata": {},
   "outputs": [],
   "source": [
    "class Solution:\n",
    "    def knapsack(self,weights,profits,max_weight):\n",
    "        table=[[]]\n",
    "        for i in range(max_weight+1):\n",
    "            table[0].append(0)\n",
    "        for i in range(1,len(weights)):\n",
    "            table.append([])\n",
    "            table[i].append(0)\n",
    "            for j in range(1,max_weight+1):\n",
    "                if j<weights[i]:\n",
    "                    table[i].append(table[i-1][j])\n",
    "                else:\n",
    "                    table[i].append(max(table[i-1][j-weights[i]]+profits[i],table[i-1][j]))\n",
    "        return table[-1][-1]\n",
    "obj=Solution()"
   ]
  },
  {
   "cell_type": "code",
   "execution_count": 15,
   "id": "d19d9cc8",
   "metadata": {},
   "outputs": [
    {
     "data": {
      "text/plain": [
       "12"
      ]
     },
     "execution_count": 15,
     "metadata": {},
     "output_type": "execute_result"
    }
   ],
   "source": [
    "obj.knapsack([0,2,3,4,5],[0,3,7,2,9],7)"
   ]
  },
  {
   "cell_type": "code",
   "execution_count": 16,
   "id": "00d2d697",
   "metadata": {},
   "outputs": [
    {
     "data": {
      "text/plain": [
       "9"
      ]
     },
     "execution_count": 16,
     "metadata": {},
     "output_type": "execute_result"
    }
   ],
   "source": [
    "obj.knapsack([0,1,3,4,5],[0,1,4,5,7],7)"
   ]
  },
  {
   "cell_type": "code",
   "execution_count": 17,
   "id": "f9c1f6a6",
   "metadata": {},
   "outputs": [
    {
     "data": {
      "text/plain": [
       "220"
      ]
     },
     "execution_count": 17,
     "metadata": {},
     "output_type": "execute_result"
    }
   ],
   "source": [
    "obj.knapsack([0,10,20,30],[0,60, 100, 120],50)"
   ]
  },
  {
   "cell_type": "code",
   "execution_count": 21,
   "id": "0f495be4",
   "metadata": {},
   "outputs": [
    {
     "name": "stdout",
     "output_type": "stream",
     "text": [
      "(0, 6) (4, 6) "
     ]
    },
    {
     "data": {
      "text/plain": [
       "5"
      ]
     },
     "execution_count": 21,
     "metadata": {},
     "output_type": "execute_result"
    }
   ],
   "source": [
    "class Solution:\n",
    "    def search(self,arr,l,h,key):\n",
    "        print((l,h),end=' ')\n",
    "        if(l>h):\n",
    "            return -1\n",
    "        mid=(l+h)//2\n",
    "        if arr[mid]==key:\n",
    "            return mid\n",
    "        if arr[l]<=arr[mid]:\n",
    "            if key>=arr[l] and key<=arr[mid]:\n",
    "                return self.search(arr,l,mid-1,key)\n",
    "            return self.search(arr,mid+1,h,key)\n",
    "        if key>=arr[mid] and key<=arr[h]:\n",
    "            return self.search(arr,mid+1,h,key)\n",
    "        return self.search(arr,l,mid-1,key)\n",
    "obj=Solution()\n",
    "arr=[4,5,6,7,0,1,2]\n",
    "obj.search(arr,0,len(arr)-1,1)"
   ]
  },
  {
   "cell_type": "code",
   "execution_count": 28,
   "id": "4ee77883",
   "metadata": {},
   "outputs": [
    {
     "name": "stdout",
     "output_type": "stream",
     "text": [
      "3\n"
     ]
    }
   ],
   "source": [
    "def find_index(arr,n,key):\n",
    "    l=0\n",
    "    h=n-1\n",
    "    while l<=h:\n",
    "        mid=(l+h)//2\n",
    "        if arr[mid]==key:\n",
    "            return mid\n",
    "        elif arr[mid]>key:\n",
    "            h=mid-1\n",
    "        else:\n",
    "            l=mid+1\n",
    "    return h+1\n",
    "if __name__=='__main__':\n",
    "    arr=[1,2,3,45]\n",
    "    key=5\n",
    "    call=find_index(arr,len(arr),key)\n",
    "    print(call)"
   ]
  },
  {
   "cell_type": "code",
   "execution_count": 23,
   "id": "e5f752d0",
   "metadata": {},
   "outputs": [
    {
     "name": "stdout",
     "output_type": "stream",
     "text": [
      "111221\n"
     ]
    }
   ],
   "source": [
    "def countAndSay(n):\n",
    "    res='1'\n",
    "    for i in range(1,n):\n",
    "        res=res+' '\n",
    "        l=len(res)\n",
    "        prev=res[0]\n",
    "        c=1\n",
    "        org=''\n",
    "        for j in range(1,l):\n",
    "            if res[j]==prev:\n",
    "                c+=1\n",
    "            else:\n",
    "                org+=(str(c)+prev)\n",
    "                prev=res[j]\n",
    "                c=1\n",
    "        res=org\n",
    "    return res\n",
    "if __name__=='__main__':\n",
    "    n=5\n",
    "    print(countAndSay(n))"
   ]
  },
  {
   "cell_type": "code",
   "execution_count": 37,
   "id": "8ecc8c14",
   "metadata": {},
   "outputs": [
    {
     "data": {
      "text/plain": [
       "['ad', 'ae', 'af', 'bd', 'be', 'bf', 'cd', 'ce', 'cf']"
      ]
     },
     "execution_count": 37,
     "metadata": {},
     "output_type": "execute_result"
    }
   ],
   "source": [
    "class Solution:\n",
    "    def letterCombinations(self, digits):\n",
    "        d={\"2\":\"abc\",\"3\":\"def\",\"4\":\"ghi\",\"5\":\"jkl\",\"6\":\"mno\",\"7\":\"pqrs\",\"8\":\"tuv\",\"9\":\"wxyz\"}\n",
    "        if not digits: return []\n",
    "        res=[\"\"]\n",
    "        for i in digits:\n",
    "            for j in range(len(res)):\n",
    "                ele=res.pop(0)\n",
    "                for k in d[i]:\n",
    "                    res.append(ele+k)\n",
    "        return res\n",
    "obj=Solution()\n",
    "obj.letterCombinations(\"23\")"
   ]
  },
  {
   "cell_type": "code",
   "execution_count": 46,
   "id": "f113edf9",
   "metadata": {},
   "outputs": [
    {
     "name": "stdout",
     "output_type": "stream",
     "text": [
      "((())) (()()) (())() ()(()) ()()() "
     ]
    },
    {
     "data": {
      "text/plain": [
       "['((()))', '(()())', '(())()', '()(())', '()()()']"
      ]
     },
     "execution_count": 46,
     "metadata": {},
     "output_type": "execute_result"
    }
   ],
   "source": [
    "class Solution:\n",
    "    def generateParenthesis(self,n):\n",
    "        res=[]\n",
    "        def generate(left,right,val):\n",
    "            if len(val)==2*n:\n",
    "                res.append(val)\n",
    "                print(val,end=' ')\n",
    "            if left<n:\n",
    "                generate(left+1,right,val+'(')\n",
    "            if right<left:\n",
    "                generate(left,right+1,val+')')\n",
    "        generate(0,0,'')\n",
    "        return res\n",
    "obj=Solution()\n",
    "obj.generateParenthesis(3)"
   ]
  },
  {
   "cell_type": "markdown",
   "id": "4b4cd94d",
   "metadata": {},
   "source": [
    "### graphs"
   ]
  },
  {
   "cell_type": "code",
   "execution_count": 86,
   "id": "a0e439b1",
   "metadata": {},
   "outputs": [
    {
     "data": {
      "text/plain": [
       "0: [1, 4]\n",
       "1: [0, 2, 3, 4]\n",
       "2: [1, 3]\n",
       "3: [1, 2, 4]\n",
       "4: [0, 1, 3]"
      ]
     },
     "execution_count": 86,
     "metadata": {},
     "output_type": "execute_result"
    }
   ],
   "source": [
    "class Graph:\n",
    "    def __init__(self,num_nodes,edges):\n",
    "        self.num_nodes=num_nodes\n",
    "        self.data=[[] for i in range(num_nodes)]\n",
    "        for n1,n2 in edges:\n",
    "            self.data[n1].append(n2)\n",
    "            self.data[n2].append(n1)\n",
    "    def __repr__(self):\n",
    "        #print(self.data)\n",
    "        return \"\\n\".join([\"{}: {}\".format(n,neighbors) for n,neighbors in enumerate(self.data)])\n",
    "    def __str__(self):\n",
    "        return self.__refr__()\n",
    "num_nodes=5\n",
    "edges=[(0,1),(0,4),(1,2),(1,3),(1,4),(2,3),(3,4)]\n",
    "obj=Graph(num_nodes,edges)\n",
    "obj"
   ]
  },
  {
   "cell_type": "code",
   "execution_count": 82,
   "id": "7c902658",
   "metadata": {},
   "outputs": [],
   "source": []
  },
  {
   "cell_type": "code",
   "execution_count": 83,
   "id": "c68fa726",
   "metadata": {},
   "outputs": [
    {
     "data": {
      "text/plain": [
       "0: [1, 4]\n",
       "1: [0, 2, 3, 4]\n",
       "2: [1, 3]\n",
       "3: [1, 2, 4]\n",
       "4: [0, 1, 3]"
      ]
     },
     "execution_count": 83,
     "metadata": {},
     "output_type": "execute_result"
    }
   ],
   "source": []
  },
  {
   "cell_type": "code",
   "execution_count": 3,
   "id": "967a2211",
   "metadata": {},
   "outputs": [
    {
     "name": "stdout",
     "output_type": "stream",
     "text": [
      "Edge -  1  :  [0, 0, 25]\n",
      "Edge -  2  :  [0, 1, 5]\n",
      "Edge -  3  :  [0, 2, 3]\n",
      "Edge -  4  :  [1, 3, 2]\n",
      "Edge -  5  :  [1, 4, 15]\n",
      "Edge -  6  :  [4, 2, 1]\n",
      "Edge -  7  :  [4, 3, 11]\n",
      "Edge -  8  :  [4, 5, 11]\n"
     ]
    }
   ],
   "source": [
    "# list of edges\n",
    "class Graph:\n",
    "    def __init__(self,directed=True):   #directed=False if unidirected\n",
    "        self.directed=directed\n",
    "        self.edges=[]\n",
    "    def add_edge(self,node1,node2,weight=1):\n",
    "        self.edges.append([node1,node2,weight])\n",
    "        if not self.directed:\n",
    "            self.edges.append([node2,node1,weight])\n",
    "    def print(self):\n",
    "        l=len(self.edges)\n",
    "        for i in range(l):\n",
    "            print(\"Edge - \",i+1,\" : \",self.edges[i])\n",
    "graph=Graph()\n",
    "graph.add_edge(0,0,25)\n",
    "graph.add_edge(0, 1, 5)\n",
    "graph.add_edge(0, 2, 3)\n",
    "graph.add_edge(1, 3,2)\n",
    "graph.add_edge(1, 4, 15)\n",
    "graph.add_edge(4, 2)    # default weight=1\n",
    "graph.add_edge(4, 3, 11)\n",
    "graph.add_edge(4, 5, 11)\n",
    "graph.print()"
   ]
  },
  {
   "cell_type": "code",
   "execution_count": null,
   "id": "3a00127e",
   "metadata": {},
   "outputs": [],
   "source": []
  },
  {
   "cell_type": "code",
   "execution_count": 43,
   "id": "7d711e76",
   "metadata": {},
   "outputs": [
    {
     "name": "stdout",
     "output_type": "stream",
     "text": [
      "[25, 5, 3, 0, 0]\n",
      "[0, 0, 0, 1, 15]\n",
      "[0, 0, 0, 0, 0]\n",
      "[0, 0, 0, 0, 0]\n",
      "[0, 0, 7, 11, 0]\n"
     ]
    }
   ],
   "source": [
    "# adjacency matrix\n",
    "class Graph:\n",
    "    def __init__(self,n,directed=True):\n",
    "        self.n=n\n",
    "        self.directed=directed\n",
    "        self.matrix=[[0 for j in range(n)] for i in range(n)]\n",
    "    def add_edge(self,node1,node2,weight=1):\n",
    "        self.matrix[node1][node2]=weight\n",
    "        if not self.directed:\n",
    "            self.matrix[node2][node1]=weight\n",
    "    def print(self):\n",
    "        for i in self.matrix:\n",
    "            print(i)\n",
    "graph = Graph(5)\n",
    "graph.add_edge(0, 0, 25)\n",
    "graph.add_edge(0, 1, 5)\n",
    "graph.add_edge(0, 2, 3)\n",
    "graph.add_edge(1, 3, 1)\n",
    "graph.add_edge(1, 4, 15)\n",
    "graph.add_edge(4, 2, 7)\n",
    "graph.add_edge(4, 3, 11)\n",
    "\n",
    "graph.print()"
   ]
  },
  {
   "cell_type": "code",
   "execution_count": 31,
   "id": "9f9f7448",
   "metadata": {},
   "outputs": [
    {
     "data": {
      "text/plain": [
       "0: [(0, 25), (1, 5), (2, 3)]\n",
       "1: [(3, 1), (4, 15)]\n",
       "2: []\n",
       "3: []\n",
       "4: [(2, 7), (3, 11)]\n",
       "5: []\n",
       "6: []"
      ]
     },
     "execution_count": 31,
     "metadata": {},
     "output_type": "execute_result"
    }
   ],
   "source": [
    "#adjacency list\n",
    "class Graph:\n",
    "    def __init__(self,n,directed=True):\n",
    "        self.n=n\n",
    "        self.directed=directed\n",
    "        self.data=[[] for i in range(n)]\n",
    "    def add_edge(self,node1,node2,weight):\n",
    "        self.data[node1].append((node2,weight))\n",
    "        if not self.directed:\n",
    "            self.data[node2].append((node1,weight))\n",
    "    def __repr__(self):\n",
    "        return '\\n'.join([\"{}: {}\".format(i,neighbors) for i,neighbors in enumerate(self.data)])\n",
    "graph = Graph(7)\n",
    "\n",
    "graph.add_edge(0, 0, 25)\n",
    "graph.add_edge(0, 1, 5)\n",
    "graph.add_edge(0, 2, 3)\n",
    "graph.add_edge(1, 3, 1)\n",
    "graph.add_edge(1, 4, 15)\n",
    "graph.add_edge(4, 2, 7)\n",
    "graph.add_edge(4, 3, 11)\n",
    "\n",
    "graph"
   ]
  },
  {
   "cell_type": "code",
   "execution_count": 33,
   "id": "42598cdd",
   "metadata": {},
   "outputs": [
    {
     "name": "stdout",
     "output_type": "stream",
     "text": [
      "0: [(1, 20), (2, 10)]\n",
      "1: [(0, 20), (3, 15)]\n",
      "2: [(0, 10), (3, 35)]\n",
      "3: [(1, 15), (2, 35), (4, 25)]\n",
      "4: [(3, 25)]\n"
     ]
    },
    {
     "data": {
      "text/plain": [
       "[0, 1, 3, 2]"
      ]
     },
     "execution_count": 33,
     "metadata": {},
     "output_type": "execute_result"
    }
   ],
   "source": [
    "#adjacency list\n",
    "class Graph:\n",
    "    def __init__(self,n,directed=True):\n",
    "        self.n=n\n",
    "        self.directed=directed\n",
    "        self.data=[[] for i in range(n)]\n",
    "    def add_edge(self,node1,node2,weight):\n",
    "        self.data[node1].append((node2,weight))\n",
    "        if not self.directed:\n",
    "            self.data[node2].append((node1,weight))\n",
    "    def __repr__(self):\n",
    "        return \"\\n\".join([\"{}: {}\".format(i,neighbors) for i,neighbors in enumerate(self.data)])\n",
    "    def dfs(self,start,target,path=[],visited=set()):\n",
    "        path.append(start)\n",
    "        visited.add(start)\n",
    "        if start==target:\n",
    "            return path\n",
    "        for (neighbor,weight) in self.data[start]:\n",
    "            if neighbor not in visited:\n",
    "                result=self.dfs(neighbor,target,path,visited)\n",
    "                if result:\n",
    "                    return result\n",
    "        path.pop()\n",
    "        if not path: return 'not found'\n",
    "        return None\n",
    "    \n",
    "graph = Graph(5, directed=False)\n",
    "\n",
    "graph.add_edge(0, 1,20)\n",
    "graph.add_edge(0, 2,10)\n",
    "graph.add_edge(1, 3,15)\n",
    "graph.add_edge(2, 3,35)\n",
    "graph.add_edge(3, 4,25)\n",
    "\n",
    "print(graph)\n",
    "graph.dfs(0,2)"
   ]
  },
  {
   "cell_type": "code",
   "execution_count": 34,
   "id": "d757559b",
   "metadata": {},
   "outputs": [
    {
     "name": "stdout",
     "output_type": "stream",
     "text": [
      "0: [(1, 1), (2, 1), (3, 1), (4, 1)]\n",
      "1: [(0, 1), (2, 1)]\n",
      "2: [(0, 1), (1, 1), (3, 1), (5, 1)]\n",
      "3: [(0, 1), (2, 1), (4, 1), (5, 1)]\n",
      "4: [(0, 1), (3, 1), (5, 1)]\n",
      "5: [(2, 1), (3, 1), (4, 1)]\n",
      "[0, 1, 2]\n"
     ]
    },
    {
     "data": {
      "text/plain": [
       "'found'"
      ]
     },
     "execution_count": 34,
     "metadata": {},
     "output_type": "execute_result"
    }
   ],
   "source": [
    "#adjacency list\n",
    "class Graph:\n",
    "    def __init__(self,n,directed=True):\n",
    "        self.n=n\n",
    "        self.directed=directed\n",
    "        self.data=[[] for i in range(n)]\n",
    "    def add_edge(self,node1,node2,weight=1):\n",
    "        self.data[node1].append((node2,weight))\n",
    "        if not self.directed:\n",
    "            self.data[node2].append((node1,weight))\n",
    "    def __repr__(self):\n",
    "        return \"\\n\".join([\"{}: {}\".format(i,neighbors) for i,neighbors in enumerate(self.data)])\n",
    "    \n",
    "    def bfs(self,start,target,visited=[]):\n",
    "        queue=[]\n",
    "        queue.append(start)\n",
    "        visited.append(start)\n",
    "        path=[]\n",
    "        while queue:\n",
    "            ele=queue.pop(0)\n",
    "            path.append(ele)\n",
    "            if ele==target:\n",
    "                print(path)\n",
    "                return 'found'\n",
    "            for neighbor,weight in self.data[ele]:\n",
    "                if neighbor not in visited:\n",
    "                    visited.append(neighbor)\n",
    "                    queue.append(neighbor)\n",
    "        return 'not found'\n",
    "graph = Graph(6, directed=False)\n",
    "\n",
    "graph.add_edge(0, 1)\n",
    "graph.add_edge(0, 2)\n",
    "graph.add_edge(0, 3)\n",
    "graph.add_edge(0, 4)\n",
    "graph.add_edge(1, 2)\n",
    "graph.add_edge(2, 3)\n",
    "graph.add_edge(2, 5)\n",
    "graph.add_edge(3, 4)\n",
    "graph.add_edge(3, 5)\n",
    "graph.add_edge(4, 5)\n",
    "\n",
    "print(graph)\n",
    "graph.bfs(0,2)\n"
   ]
  },
  {
   "cell_type": "code",
   "execution_count": 2,
   "id": "63248de9",
   "metadata": {},
   "outputs": [
    {
     "name": "stdout",
     "output_type": "stream",
     "text": [
      "['adg', 'adh', 'adi', 'aeg', 'aeh', 'aei', 'afg', 'afh', 'afi', 'bdg', 'bdh', 'bdi', 'beg', 'beh', 'bei', 'bfg', 'bfh', 'bfi', 'cdg', 'cdh', 'cdi', 'ceg', 'ceh', 'cei', 'cfg', 'cfh', 'cfi'] "
     ]
    }
   ],
   "source": [
    "#letter combinations\n",
    "class Solution:\n",
    "    def letterCombinations(self, digits):\n",
    "        d={\"2\":\"abc\",\"3\":\"def\",\"4\":\"ghi\",\"5\":\"jkl\",\"6\":\"mno\",\"7\":\"pqrs\",\"8\":\"tuv\",\"9\":\"wxyz\"}\n",
    "        if not digits: return []\n",
    "        res=[\"\"]\n",
    "        for i in digits:\n",
    "            for j in range(len(res)):\n",
    "                ele=res.pop(0)\n",
    "                for k in d[i]:\n",
    "                    res.append(ele+k)\n",
    "        print(res,end=' ')\n",
    "    \n",
    "obj=Solution()\n",
    "obj.letterCombinations(\"234\")"
   ]
  },
  {
   "cell_type": "code",
   "execution_count": null,
   "id": "e112a78d",
   "metadata": {},
   "outputs": [],
   "source": []
  },
  {
   "cell_type": "code",
   "execution_count": null,
   "id": "0ffb4c17",
   "metadata": {},
   "outputs": [],
   "source": []
  },
  {
   "cell_type": "code",
   "execution_count": null,
   "id": "3b0543d4",
   "metadata": {},
   "outputs": [],
   "source": []
  },
  {
   "cell_type": "code",
   "execution_count": null,
   "id": "685e7f8e",
   "metadata": {},
   "outputs": [],
   "source": []
  },
  {
   "cell_type": "code",
   "execution_count": null,
   "id": "22579de5",
   "metadata": {},
   "outputs": [],
   "source": []
  },
  {
   "cell_type": "code",
   "execution_count": null,
   "id": "a680b070",
   "metadata": {},
   "outputs": [],
   "source": []
  },
  {
   "cell_type": "code",
   "execution_count": null,
   "id": "14bf5c04",
   "metadata": {},
   "outputs": [],
   "source": []
  }
 ],
 "metadata": {
  "kernelspec": {
   "display_name": "Python 3 (ipykernel)",
   "language": "python",
   "name": "python3"
  },
  "language_info": {
   "codemirror_mode": {
    "name": "ipython",
    "version": 3
   },
   "file_extension": ".py",
   "mimetype": "text/x-python",
   "name": "python",
   "nbconvert_exporter": "python",
   "pygments_lexer": "ipython3",
   "version": "3.10.12"
  }
 },
 "nbformat": 4,
 "nbformat_minor": 5
}
