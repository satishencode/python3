{
 "cells": [
  {
   "cell_type": "markdown",
   "id": "5aa7c079",
   "metadata": {},
   "source": [
    "### Bubble sort"
   ]
  },
  {
   "cell_type": "markdown",
   "id": "72b57069",
   "metadata": {},
   "source": [
    "##### 1. Traverse from left to right everytime and place the higher ones at right side.\n",
    "##### 2. Time complexity - O(n*n)\n",
    "##### 3. Auxiliary space   - O(1)"
   ]
  },
  {
   "cell_type": "code",
   "execution_count": 13,
   "id": "a6b99928",
   "metadata": {},
   "outputs": [
    {
     "data": {
      "text/plain": [
       "[0, 1, 2, 3, 4, 5, 6, 7, 8, 9]"
      ]
     },
     "execution_count": 13,
     "metadata": {},
     "output_type": "execute_result"
    }
   ],
   "source": [
    "class Solution:\n",
    "    def bubbleSort(self,arr):\n",
    "        l=len(arr)\n",
    "        for i in range(l):\n",
    "            flag=0\n",
    "            for j in range(l-i-1):\n",
    "                if (arr[j+1]<arr[j]):\n",
    "                    arr[j+1],arr[j]=arr[j],arr[j+1]\n",
    "                    flag=1\n",
    "            if(flag==0):\n",
    "                return arr\n",
    "        return arr\n",
    "obj=Solution()\n",
    "obj.bubbleSort([5,2,7,9,1,0,3,4,8,6])"
   ]
  },
  {
   "cell_type": "markdown",
   "id": "b7002201",
   "metadata": {},
   "source": [
    "### insertion sort"
   ]
  },
  {
   "cell_type": "markdown",
   "id": "52f744b8",
   "metadata": {},
   "source": [
    "##### insertion sort traverse from 1 to len(Arr) and shifts right elements to left position"
   ]
  },
  {
   "cell_type": "code",
   "execution_count": 11,
   "id": "fed8d82a",
   "metadata": {},
   "outputs": [
    {
     "data": {
      "text/plain": [
       "[0, 1, 2, 3, 3, 3, 4, 5, 6, 7, 8, 9]"
      ]
     },
     "execution_count": 11,
     "metadata": {},
     "output_type": "execute_result"
    }
   ],
   "source": [
    "class Solution:\n",
    "    def insertionSort(self,arr):\n",
    "        for i in range(1,len(arr)):\n",
    "            val=arr[i]\n",
    "            gap=i\n",
    "            while gap>0 and arr[gap-1]>val:\n",
    "                arr[gap]=arr[gap-1]\n",
    "                gap-=1\n",
    "            arr[gap]=val\n",
    "        return arr\n",
    "obj=Solution()\n",
    "obj.insertionSort([5,2,7,9,1,0,3,3,3,4,8,6])"
   ]
  },
  {
   "cell_type": "markdown",
   "id": "9b7d626b",
   "metadata": {},
   "source": [
    "### selection sort"
   ]
  },
  {
   "cell_type": "markdown",
   "id": "5ac6c543",
   "metadata": {},
   "source": [
    "##### The selection sort algorithm sorts list by repeatedly finding the minimum  element (considering ascending order) from unsorted part and putting it at the beginning. The algorithm or logic will maintains two sublists in a given list.\n",
    "##### 1. The sublist which is already sorted.\n",
    "##### 2. Remaining sublist which is unsorted."
   ]
  },
  {
   "cell_type": "code",
   "execution_count": 9,
   "id": "7a3a05b6",
   "metadata": {},
   "outputs": [
    {
     "data": {
      "text/plain": [
       "[0, 1, 2, 3, 3, 3, 4, 5, 6, 7, 8, 9]"
      ]
     },
     "execution_count": 9,
     "metadata": {},
     "output_type": "execute_result"
    }
   ],
   "source": [
    "class Solution:\n",
    "    def selectionsort(self,arr):\n",
    "        for i in range(len(arr)):\n",
    "            ind=i\n",
    "            for j in range(i+1,len(arr)):\n",
    "                if arr[j]<arr[ind]:\n",
    "                    ind=j\n",
    "            arr[i],arr[ind]=arr[ind],arr[i]\n",
    "        return arr\n",
    "obj=Solution()\n",
    "obj.selectionsort([5,2,7,9,1,0,3,3,3,4,8,6])"
   ]
  },
  {
   "cell_type": "markdown",
   "id": "aaf64f23",
   "metadata": {},
   "source": [
    "### merge sort"
   ]
  },
  {
   "cell_type": "code",
   "execution_count": 3,
   "id": "ac0816f9",
   "metadata": {},
   "outputs": [
    {
     "data": {
      "text/plain": [
       "[-4, -1, 0, 1, 2, 5, 5, 8]"
      ]
     },
     "execution_count": 3,
     "metadata": {},
     "output_type": "execute_result"
    }
   ],
   "source": [
    "def merge(left,right):\n",
    "    result=[]\n",
    "    i,j=0,0\n",
    "    while(i<len(left) and j<len(right)):\n",
    "        if (left[i]<right[j]):\n",
    "            result+=[left[i]]\n",
    "            i+=1\n",
    "        else:\n",
    "            result+=[right[j]]\n",
    "            j+=1\n",
    "    result+=left[i:]+right[j:]\n",
    "    return result\n",
    "\n",
    "\n",
    "def mergesort(arr):\n",
    "    if(len(arr)<=1):\n",
    "        return arr\n",
    "    mid=len(arr)//2\n",
    "    left=mergesort(arr[:mid])\n",
    "    right=mergesort(arr[mid:])\n",
    "    return merge(left,right)\n",
    "\n",
    "arr=[1,2,5,-1,-4,0,8,5]\n",
    "mergesort(arr)"
   ]
  },
  {
   "cell_type": "markdown",
   "id": "a672a8e1",
   "metadata": {},
   "source": [
    "#### Quick Sort using list comprehension"
   ]
  },
  {
   "cell_type": "code",
   "execution_count": 41,
   "id": "2ce7f633",
   "metadata": {},
   "outputs": [
    {
     "data": {
      "text/plain": [
       "[-4, -1, 0, 1, 2, 5, 5, 8]"
      ]
     },
     "execution_count": 41,
     "metadata": {},
     "output_type": "execute_result"
    }
   ],
   "source": [
    "def quicksort(arr):\n",
    "    if len(arr)<=1:\n",
    "        return arr\n",
    "    else:\n",
    "        pivot=arr[0]\n",
    "        left=[i for i in arr[1:] if i<pivot]\n",
    "        right=[i for i in arr[1:] if i>=pivot]\n",
    "        return quicksort(left)+[pivot]+quicksort(right)\n",
    "arr=[1,2,5,-1,-4,0,8,5]\n",
    "quicksort(arr)"
   ]
  },
  {
   "cell_type": "markdown",
   "id": "a307aa8c",
   "metadata": {},
   "source": [
    "#### Qucik sort"
   ]
  },
  {
   "cell_type": "code",
   "execution_count": 1,
   "id": "86a34ccb",
   "metadata": {},
   "outputs": [
    {
     "data": {
      "text/plain": [
       "[11, 22, 33, 44, 55, 66, 77, 88]"
      ]
     },
     "execution_count": 1,
     "metadata": {},
     "output_type": "execute_result"
    }
   ],
   "source": [
    "def quicksort(arr,left,right):\n",
    "    if left<right:\n",
    "        partition_pos=partition(arr,left,right)\n",
    "        quicksort(arr,left,partition_pos-1)     # calling quick sort on left array\n",
    "        quicksort(arr,partition_pos+1,right)    # calling quick sort on right array\n",
    "    return arr  \n",
    "def partition(arr,left,right):    # returns index of pivot element\n",
    "    i=left\n",
    "    j=right-1\n",
    "    pivot=arr[right]\n",
    "    while i<j:\n",
    "        while arr[i]<pivot and i<right:\n",
    "            i+=1\n",
    "        while arr[j]>=pivot and j>=i:\n",
    "            j-=1\n",
    "        if i<=j:\n",
    "            arr[i],arr[j]=arr[j],arr[i]\n",
    "    if arr[i]>pivot:\n",
    "        arr[i],arr[right]=arr[right],arr[i]\n",
    "    return i\n",
    "arr=[22,11,88,66,55,77,33,44]\n",
    "quicksort(arr,0,len(arr)-1)"
   ]
  },
  {
   "cell_type": "code",
   "execution_count": 42,
   "id": "37278d46",
   "metadata": {},
   "outputs": [
    {
     "name": "stdout",
     "output_type": "stream",
     "text": [
      "[-2, 1, 1, 4, 7, 9, 10]\n"
     ]
    }
   ],
   "source": [
    "def partition(array, low, high):\n",
    "    pivot = array[high]\n",
    "    i = low-1\n",
    "    for j in range(low, high):\n",
    "        if array[j] <= pivot:\n",
    "            i = i + 1\n",
    "            (array[i], array[j]) = (array[j], array[i])\n",
    "    (array[i + 1], array[high]) = (array[high], array[i + 1])\n",
    "    return i + 1\n",
    "def quickSort(array, low, high):\n",
    "    if low < high:\n",
    "        pi = partition(array, low, high)\n",
    "        quickSort(array, low, pi - 1)\n",
    "        quickSort(array, pi + 1, high)\n",
    "data = [1, 7, 4, 1, 10, 9, -2]\n",
    "size = len(data)\n",
    "quickSort(data, 0, size - 1)\n",
    "print(data)"
   ]
  },
  {
   "cell_type": "markdown",
   "id": "3172c2e2",
   "metadata": {},
   "source": [
    "### heapsort"
   ]
  },
  {
   "cell_type": "code",
   "execution_count": 1,
   "id": "f8d43101",
   "metadata": {},
   "outputs": [
    {
     "name": "stdout",
     "output_type": "stream",
     "text": [
      "[5345121, 456, 1, 34, 213, -98, 0, 12, 23]\n"
     ]
    },
    {
     "data": {
      "text/plain": [
       "[-98, 0, 1, 12, 23, 34, 213, 456, 5345121]"
      ]
     },
     "execution_count": 1,
     "metadata": {},
     "output_type": "execute_result"
    }
   ],
   "source": [
    "# max heapify function\n",
    "def max_heapify(arr,n,i):\n",
    "    largest=i\n",
    "    left=2*i+1\n",
    "    right=2*i+2\n",
    "    \n",
    "    #largest so far compared with left child\n",
    "    if left<n and arr[largest]<arr[left]:\n",
    "        largest=left\n",
    "    #largest so far compared with right child\n",
    "    if right<n and arr[largest]<arr[right]:\n",
    "        largest=right\n",
    "        \n",
    "        #change parent\n",
    "    if largest!=i:\n",
    "        arr[i],arr[largest]=arr[largest],arr[i]\n",
    "        max_heapify(arr,n,largest)\n",
    "\n",
    "def heapSort(arr,n):\n",
    "    for i in range(n-1,-1,-1):\n",
    "        # swap\n",
    "        \n",
    "        arr[i],arr[0]=arr[0],arr[i]\n",
    "        max_heapify(arr,i,0)\n",
    "    return arr\n",
    "arr=[1,23,5345121,12,213,-98,0,456,34]\n",
    "n=len(arr)\n",
    "#build a max heap\n",
    "for i in range(n//2-1,-1,-1):\n",
    "    max_heapify(arr,n,i)   # i will be the position which we start the max heapify\n",
    "print(arr)\n",
    "heapSort(arr,n)"
   ]
  },
  {
   "cell_type": "code",
   "execution_count": 2,
   "id": "2ee9e299",
   "metadata": {},
   "outputs": [
    {
     "data": {
      "text/plain": [
       "9"
      ]
     },
     "execution_count": 2,
     "metadata": {},
     "output_type": "execute_result"
    }
   ],
   "source": [
    "class Search:\n",
    "    def binary(self,arr,ele):\n",
    "        left=0\n",
    "        right=len(arr)-1\n",
    "        mid=0\n",
    "        while left<=right:\n",
    "            mid=(left+right)//2\n",
    "            if arr[mid]>ele:\n",
    "                right=mid-1\n",
    "            elif arr[mid]<ele:\n",
    "                left=mid+1\n",
    "            else:\n",
    "                return mid\n",
    "        return -1\n",
    "arr=[2,3,4,7,8,12,34,54,67,89]\n",
    "obj=Search()\n",
    "obj.binary(arr,89)"
   ]
  },
  {
   "cell_type": "code",
   "execution_count": 9,
   "id": "9e52b19e",
   "metadata": {},
   "outputs": [
    {
     "data": {
      "text/plain": [
       "8"
      ]
     },
     "execution_count": 9,
     "metadata": {},
     "output_type": "execute_result"
    }
   ],
   "source": [
    "class Search:\n",
    "    def binary(self,arr,n):\n",
    "        left=0\n",
    "        right=n-1\n",
    "        mid=0\n",
    "        while left<=right:\n",
    "            mid=(left+right)//2\n",
    "            if arr[mid]==mid+1:\n",
    "                left=mid+1\n",
    "            elif arr[mid]>mid+1:\n",
    "                right=mid-1\n",
    "        if mid==0: return 1\n",
    "        return mid+1\n",
    "arr=[1,2,3,4,5,6,7,9,10]\n",
    "obj=Search()\n",
    "obj.binary(arr,len(arr))"
   ]
  },
  {
   "cell_type": "code",
   "execution_count": 1,
   "id": "f19e7884",
   "metadata": {},
   "outputs": [
    {
     "name": "stdout",
     "output_type": "stream",
     "text": [
      "[22, 21, 13, 5, 46, 38, 30]\n",
      "[31, 23, 15, 14, 6, 47, 39]\n",
      "[40, 32, 24, 16, 8, 7, 48]\n",
      "[49, 41, 33, 25, 17, 9, 1]\n",
      "[2, 43, 42, 34, 26, 18, 10]\n",
      "[11, 3, 44, 36, 35, 27, 19]\n",
      "[20, 12, 4, 45, 37, 29, 28]\n"
     ]
    }
   ],
   "source": [
    "n=7\n",
    "l=[[0 for i in range(n)] for j in range(n)]\n",
    "i=n//2\n",
    "j=n-1\n",
    "max=(n*n) +1\n",
    "count=1\n",
    "while(1):\n",
    "    l[i][j]=count\n",
    "    count+=1\n",
    "    i+=1\n",
    "    j+=1\n",
    "    if((i==n and j==n)):\n",
    "        i-=1\n",
    "        j-=2\n",
    "    elif(j==n):\n",
    "        j=0\n",
    "    elif(i==n):\n",
    "        i=0\n",
    "    elif((l[i][j] !=0)):\n",
    "        i-=1\n",
    "        j-=2\n",
    "    if(count == max):\n",
    "        break\n",
    "for i in l:\n",
    "    print(i)"
   ]
  },
  {
   "cell_type": "code",
   "execution_count": null,
   "id": "29d464e2",
   "metadata": {},
   "outputs": [],
   "source": [
    "class Sorting:\n",
    "    def selection(self,arr):\n",
    "        l=len(arr)\n",
    "        for i in range(l):\n",
    "            index=i\n",
    "            for j in range(i+1,l):\n",
    "                if arr[j]<arr[index]:\n",
    "                    index=j\n",
    "            arr[i],arr[index]=arr[index],arr[i]\n",
    "        return arr\n",
    "obj=Sorting()\n",
    "arr=[9,3,1,8,4,6,0,-1,-4,-2,-1,-1]\n",
    "obj.selection(arr)"
   ]
  },
  {
   "cell_type": "code",
   "execution_count": null,
   "id": "3b3cce40",
   "metadata": {},
   "outputs": [],
   "source": []
  },
  {
   "cell_type": "code",
   "execution_count": null,
   "id": "870f8030",
   "metadata": {},
   "outputs": [],
   "source": []
  },
  {
   "cell_type": "code",
   "execution_count": null,
   "id": "bccb9356",
   "metadata": {},
   "outputs": [],
   "source": []
  },
  {
   "cell_type": "code",
   "execution_count": 40,
   "id": "271b7035",
   "metadata": {},
   "outputs": [],
   "source": []
  },
  {
   "cell_type": "code",
   "execution_count": null,
   "id": "309e4e2c",
   "metadata": {},
   "outputs": [],
   "source": []
  },
  {
   "cell_type": "code",
   "execution_count": null,
   "id": "efe0d4ae",
   "metadata": {},
   "outputs": [],
   "source": []
  },
  {
   "cell_type": "code",
   "execution_count": null,
   "id": "d5e887a6",
   "metadata": {},
   "outputs": [],
   "source": []
  },
  {
   "cell_type": "code",
   "execution_count": null,
   "id": "6e7a771b",
   "metadata": {},
   "outputs": [],
   "source": []
  },
  {
   "cell_type": "code",
   "execution_count": null,
   "id": "cfdb9396",
   "metadata": {},
   "outputs": [],
   "source": []
  },
  {
   "cell_type": "code",
   "execution_count": null,
   "id": "8357567b",
   "metadata": {},
   "outputs": [],
   "source": []
  },
  {
   "cell_type": "code",
   "execution_count": null,
   "id": "f8e6ec82",
   "metadata": {},
   "outputs": [],
   "source": []
  }
 ],
 "metadata": {
  "kernelspec": {
   "display_name": "Python 3 (ipykernel)",
   "language": "python",
   "name": "python3"
  },
  "language_info": {
   "codemirror_mode": {
    "name": "ipython",
    "version": 3
   },
   "file_extension": ".py",
   "mimetype": "text/x-python",
   "name": "python",
   "nbconvert_exporter": "python",
   "pygments_lexer": "ipython3",
   "version": "3.9.12"
  }
 },
 "nbformat": 4,
 "nbformat_minor": 5
}
