{
 "cells": [
  {
   "cell_type": "code",
   "execution_count": 1,
   "id": "ff7ccac4",
   "metadata": {},
   "outputs": [
    {
     "name": "stdout",
     "output_type": "stream",
     "text": [
      "Collecting instaloader\n",
      "  Downloading instaloader-4.10.tar.gz (62 kB)\n",
      "Requirement already satisfied: requests>=2.4 in c:\\users\\satish645\\anaconda3\\lib\\site-packages (from instaloader) (2.27.1)\n",
      "Requirement already satisfied: charset-normalizer~=2.0.0 in c:\\users\\satish645\\anaconda3\\lib\\site-packages (from requests>=2.4->instaloader) (2.0.4)\n",
      "Requirement already satisfied: urllib3<1.27,>=1.21.1 in c:\\users\\satish645\\anaconda3\\lib\\site-packages (from requests>=2.4->instaloader) (1.26.9)\n",
      "Requirement already satisfied: certifi>=2017.4.17 in c:\\users\\satish645\\anaconda3\\lib\\site-packages (from requests>=2.4->instaloader) (2021.10.8)\n",
      "Requirement already satisfied: idna<4,>=2.5 in c:\\users\\satish645\\anaconda3\\lib\\site-packages (from requests>=2.4->instaloader) (3.3)\n",
      "Building wheels for collected packages: instaloader\n",
      "  Building wheel for instaloader (setup.py): started\n",
      "  Building wheel for instaloader (setup.py): finished with status 'done'\n",
      "  Created wheel for instaloader: filename=instaloader-4.10-py3-none-any.whl size=64299 sha256=ab42de88507b6e02bd72289aa86ba5d0c529de64ddcf05599e803cd0aeeb43bf\n",
      "  Stored in directory: c:\\users\\satish645\\appdata\\local\\pip\\cache\\wheels\\30\\d3\\e9\\a15fc8e2e997e4dc75983128dc3f48a051476301f8422c8cde\n",
      "Successfully built instaloaderNote: you may need to restart the kernel to use updated packages.\n",
      "Installing collected packages: instaloader\n",
      "Successfully installed instaloader-4.10\n",
      "\n"
     ]
    }
   ],
   "source": [
    "pip install instaloader"
   ]
  },
  {
   "cell_type": "code",
   "execution_count": 9,
   "id": "7c1a961b",
   "metadata": {},
   "outputs": [],
   "source": [
    "import instaloader as il"
   ]
  },
  {
   "cell_type": "code",
   "execution_count": 10,
   "id": "625145f8",
   "metadata": {},
   "outputs": [],
   "source": [
    "ig=il.Instaloader()"
   ]
  },
  {
   "cell_type": "code",
   "execution_count": 13,
   "id": "b51620dc",
   "metadata": {},
   "outputs": [
    {
     "name": "stdout",
     "output_type": "stream",
     "text": [
      "gayatrirao05\\2023-09-15_13-25-56_UTC_profile_pic.jpg already exists\n"
     ]
    }
   ],
   "source": [
    "dp=\"\"\n",
    "ig.download_profile(dp,profile_pic_only=True)"
   ]
  },
  {
   "cell_type": "code",
   "execution_count": null,
   "id": "63232b09",
   "metadata": {},
   "outputs": [],
   "source": []
  },
  {
   "cell_type": "code",
   "execution_count": null,
   "id": "705dc3fa",
   "metadata": {},
   "outputs": [],
   "source": []
  },
  {
   "cell_type": "code",
   "execution_count": null,
   "id": "f4f2f9cc",
   "metadata": {},
   "outputs": [],
   "source": []
  },
  {
   "cell_type": "code",
   "execution_count": null,
   "id": "55bb572d",
   "metadata": {},
   "outputs": [],
   "source": []
  },
  {
   "cell_type": "code",
   "execution_count": null,
   "id": "955555f4",
   "metadata": {},
   "outputs": [],
   "source": []
  },
  {
   "cell_type": "code",
   "execution_count": null,
   "id": "0a129e8e",
   "metadata": {},
   "outputs": [],
   "source": []
  },
  {
   "cell_type": "code",
   "execution_count": null,
   "id": "149eea43",
   "metadata": {},
   "outputs": [],
   "source": []
  },
  {
   "cell_type": "code",
   "execution_count": null,
   "id": "8b8adf66",
   "metadata": {},
   "outputs": [],
   "source": []
  }
 ],
 "metadata": {
  "kernelspec": {
   "display_name": "Python 3 (ipykernel)",
   "language": "python",
   "name": "python3"
  },
  "language_info": {
   "codemirror_mode": {
    "name": "ipython",
    "version": 3
   },
   "file_extension": ".py",
   "mimetype": "text/x-python",
   "name": "python",
   "nbconvert_exporter": "python",
   "pygments_lexer": "ipython3",
   "version": "3.9.12"
  }
 },
 "nbformat": 4,
 "nbformat_minor": 5
}
