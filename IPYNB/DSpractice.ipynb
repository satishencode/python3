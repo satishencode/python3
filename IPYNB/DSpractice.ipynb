{
 "cells": [
  {
   "cell_type": "markdown",
   "id": "51925056",
   "metadata": {},
   "source": [
    "### Binary tree creation"
   ]
  },
  {
   "cell_type": "code",
   "execution_count": 1,
   "id": "310105b3",
   "metadata": {},
   "outputs": [
    {
     "data": {
      "text/plain": [
       "<__main__.TreeNode at 0xd5a19d5640>"
      ]
     },
     "execution_count": 1,
     "metadata": {},
     "output_type": "execute_result"
    }
   ],
   "source": [
    "class TreeNode:\n",
    "    def __init__(self,val):\n",
    "        self.val=val\n",
    "        self.left=None\n",
    "        self.right=None\n",
    "def binaryTree(arr,root,i,n):\n",
    "    if i<n:\n",
    "        root=TreeNode(arr[i-1])\n",
    "        root.left=binaryTree(arr,root.left,2*i,n)\n",
    "        root.right=binaryTree(arr,root.right,2*i+1,n)\n",
    "    return root\n",
    "root=None\n",
    "arr=[3,6,9,12,5,7,4,8]\n",
    "tree=binaryTree(arr,root,1,len(arr)+1)\n",
    "tree"
   ]
  },
  {
   "cell_type": "code",
   "execution_count": 9,
   "id": "c0cb9815",
   "metadata": {},
   "outputs": [
    {
     "name": "stdout",
     "output_type": "stream",
     "text": [
      "       4\n",
      "    9\n",
      "       7\n",
      " 3\n",
      "       5\n",
      "    6\n",
      "       12\n",
      "          8\n"
     ]
    }
   ],
   "source": [
    "def show(node,level):\n",
    "    if(node!=None):\n",
    "        show(node.right,level+1)\n",
    "        print('   '*level,node.val)\n",
    "        show(node.left,level+1)\n",
    "        \n",
    "show(tree,0)"
   ]
  },
  {
   "cell_type": "markdown",
   "id": "ab832855",
   "metadata": {},
   "source": [
    "### DFS (preorder,inorder,postorder)"
   ]
  },
  {
   "cell_type": "code",
   "execution_count": 2,
   "id": "ce09f938",
   "metadata": {},
   "outputs": [
    {
     "data": {
      "text/plain": [
       "[3, 6, 12, 8, 5, 9, 7, 4]"
      ]
     },
     "execution_count": 2,
     "metadata": {},
     "output_type": "execute_result"
    }
   ],
   "source": [
    "def preorder(root,order):\n",
    "    if not root: return\n",
    "    order+=[root.val]\n",
    "    preorder(root.left,order)\n",
    "    preorder(root.right,order)\n",
    "    return order\n",
    "preorder(tree,order=[])"
   ]
  },
  {
   "cell_type": "code",
   "execution_count": 3,
   "id": "4cc8b0ad",
   "metadata": {},
   "outputs": [
    {
     "data": {
      "text/plain": [
       "[8, 12, 6, 5, 3, 7, 9, 4]"
      ]
     },
     "execution_count": 3,
     "metadata": {},
     "output_type": "execute_result"
    }
   ],
   "source": [
    "def inorder(root,order):\n",
    "    if not root: return\n",
    "    inorder(root.left,order)\n",
    "    order+=[root.val]\n",
    "    inorder(root.right,order)\n",
    "    return order\n",
    "inorder(tree,order=[])"
   ]
  },
  {
   "cell_type": "code",
   "execution_count": 4,
   "id": "01e8981b",
   "metadata": {},
   "outputs": [
    {
     "data": {
      "text/plain": [
       "[8, 12, 5, 6, 7, 4, 9, 3]"
      ]
     },
     "execution_count": 4,
     "metadata": {},
     "output_type": "execute_result"
    }
   ],
   "source": [
    "def postorder(root,order):\n",
    "    if not root: return\n",
    "    postorder(root.left,order)\n",
    "    postorder(root.right,order)\n",
    "    order+=[root.val]\n",
    "    return order\n",
    "postorder(tree,order=[])"
   ]
  },
  {
   "cell_type": "markdown",
   "id": "5dc746af",
   "metadata": {},
   "source": [
    "### BFS (level order)"
   ]
  },
  {
   "cell_type": "code",
   "execution_count": 26,
   "id": "ca747c54",
   "metadata": {},
   "outputs": [
    {
     "data": {
      "text/plain": [
       "[3, 6, 9, 12, 5, 7, 4, 8]"
      ]
     },
     "execution_count": 26,
     "metadata": {},
     "output_type": "execute_result"
    }
   ],
   "source": [
    "def levelorder(root,order):\n",
    "    if not root: return\n",
    "    queue=[]\n",
    "    queue+=[root]\n",
    "    while queue:\n",
    "        ele=queue.pop(0)\n",
    "        order+=[ele.val]\n",
    "        if ele.left: queue+=[ele.left]\n",
    "        if ele.right: queue+=[ele.right]\n",
    "    return order\n",
    "levelorder(tree,order=[])"
   ]
  },
  {
   "cell_type": "markdown",
   "id": "d5072625",
   "metadata": {},
   "source": [
    "### Searching element"
   ]
  },
  {
   "cell_type": "code",
   "execution_count": 29,
   "id": "bc3e5159",
   "metadata": {},
   "outputs": [
    {
     "data": {
      "text/plain": [
       "True"
      ]
     },
     "execution_count": 29,
     "metadata": {},
     "output_type": "execute_result"
    }
   ],
   "source": [
    "def searchElement(root,ele):\n",
    "    if not root: return False\n",
    "    if root.val==ele: return True\n",
    "    return searchElement(root.left,ele) or searchElement(root.right,ele)\n",
    "searchElement(tree,3)"
   ]
  },
  {
   "cell_type": "markdown",
   "id": "ad2968bc",
   "metadata": {},
   "source": [
    "### leaf nodes"
   ]
  },
  {
   "cell_type": "code",
   "execution_count": 28,
   "id": "f96f6cb2",
   "metadata": {},
   "outputs": [
    {
     "data": {
      "text/plain": [
       "[8, 5, 7, 4]"
      ]
     },
     "execution_count": 28,
     "metadata": {},
     "output_type": "execute_result"
    }
   ],
   "source": [
    "def leafNodes(root,nodes):\n",
    "    if not root: return\n",
    "    if not root.left and not root.right: nodes+=[root.val]\n",
    "    leafNodes(root.left,nodes)\n",
    "    leafNodes(root.right,nodes)\n",
    "    return nodes\n",
    "leafNodes(tree,nodes=[])"
   ]
  },
  {
   "cell_type": "markdown",
   "id": "318615da",
   "metadata": {},
   "source": [
    "### BFS implementation"
   ]
  },
  {
   "cell_type": "code",
   "execution_count": null,
   "id": "99945c16",
   "metadata": {},
   "outputs": [],
   "source": [
    "class TreeNode:\n",
    "    def __init__(self,val):\n",
    "        self.val=val\n",
    "        self.left=None\n",
    "        self.right=None\n",
    "\n",
    "def BST(root,key):\n",
    "    if not root:\n",
    "        return TreeNode(key)\n",
    "    elif root.val<key:\n",
    "        root.right=BST(root.right,key)\n",
    "    else:\n",
    "        root.left=BST(root.left,key)\n",
    "    return root\n",
    "root=TreeNode(arr[0])\n",
    "arr=[8,3,10,1,6,14,4,7]\n",
    "for i in range(1,len(arr)):\n",
    "    tree=BST(root,arr[i])\n",
    "tree"
   ]
  },
  {
   "cell_type": "code",
   "execution_count": 30,
   "id": "02955798",
   "metadata": {},
   "outputs": [
    {
     "data": {
      "text/plain": [
       "[1, 3, 4, 6, 7, 8, 10, 14]"
      ]
     },
     "execution_count": 30,
     "metadata": {},
     "output_type": "execute_result"
    }
   ],
   "source": [
    "def inorder(root,order):\n",
    "    if not root: return\n",
    "    inorder(root.left,order)\n",
    "    order+=[root.val]\n",
    "    inorder(root.right,order)\n",
    "    return order\n",
    "inorder(tree,order=[])"
   ]
  },
  {
   "cell_type": "markdown",
   "id": "ff772655",
   "metadata": {},
   "source": [
    "### binary trees"
   ]
  },
  {
   "cell_type": "code",
   "execution_count": 32,
   "id": "ebac0a28",
   "metadata": {},
   "outputs": [
    {
     "data": {
      "text/plain": [
       "<__main__.TreeNode at 0xd7fccebf40>"
      ]
     },
     "execution_count": 32,
     "metadata": {},
     "output_type": "execute_result"
    }
   ],
   "source": [
    "# creating node\n",
    "class TreeNode:\n",
    "    def __init__(self,val):\n",
    "        self.val=val\n",
    "        self.left=None\n",
    "        self.right=None\n",
    "def binaryTree(arr,root,i,n):\n",
    "    if i<n:\n",
    "        root=TreeNode(arr[i-1])\n",
    "        root.left=binaryTree(arr,root.left,2*i,n)\n",
    "        root.right=binaryTree(arr,root.right,2*i+1,n)\n",
    "    return root\n",
    "arr=[3,6,9,None,12,5,7,4,8,None]\n",
    "root=None\n",
    "tree=binaryTree(arr,root,1,len(arr)+1)\n",
    "tree"
   ]
  },
  {
   "cell_type": "markdown",
   "id": "188c5a78",
   "metadata": {},
   "source": [
    "# dfs"
   ]
  },
  {
   "cell_type": "code",
   "execution_count": 35,
   "id": "b4fdb474",
   "metadata": {},
   "outputs": [
    {
     "data": {
      "text/plain": [
       "[3, 6, 4, 8, 12, 9, 5, 7]"
      ]
     },
     "execution_count": 35,
     "metadata": {},
     "output_type": "execute_result"
    }
   ],
   "source": [
    "def preorder(root,order):\n",
    "    if not root: return []\n",
    "    if root.val:\n",
    "        order+=[root.val]\n",
    "    preorder(root.left,order)\n",
    "    preorder(root.right,order)\n",
    "    return order\n",
    "preorder(tree,order=[])"
   ]
  },
  {
   "cell_type": "code",
   "execution_count": 25,
   "id": "21b2c004",
   "metadata": {},
   "outputs": [
    {
     "data": {
      "text/plain": [
       "[8, 12, 6, 5, 3, 7, 9, 4]"
      ]
     },
     "execution_count": 25,
     "metadata": {},
     "output_type": "execute_result"
    }
   ],
   "source": [
    "def inorder(root,order):\n",
    "    if not root: return None\n",
    "    inorder(root.left,order)\n",
    "    order+=[root.val]\n",
    "    inorder(root.right,order)\n",
    "    return order\n",
    "inorder(tree,order=[])"
   ]
  },
  {
   "cell_type": "code",
   "execution_count": 26,
   "id": "3eb01e56",
   "metadata": {},
   "outputs": [
    {
     "data": {
      "text/plain": [
       "[8, 12, 5, 6, 7, 4, 9, 3]"
      ]
     },
     "execution_count": 26,
     "metadata": {},
     "output_type": "execute_result"
    }
   ],
   "source": [
    "def postorder(root,order):\n",
    "    if not root: return None\n",
    "    postorder(root.left,order)\n",
    "    postorder(root.right,order)\n",
    "    order+=[root.val]\n",
    "    return order\n",
    "postorder(tree,order=[])"
   ]
  },
  {
   "cell_type": "markdown",
   "id": "a963157d",
   "metadata": {},
   "source": [
    "### bfs"
   ]
  },
  {
   "cell_type": "code",
   "execution_count": 29,
   "id": "06afb3c6",
   "metadata": {},
   "outputs": [
    {
     "data": {
      "text/plain": [
       "[3, 6, 9, 12, 5, 7, 4, 8]"
      ]
     },
     "execution_count": 29,
     "metadata": {},
     "output_type": "execute_result"
    }
   ],
   "source": [
    "def levelorder(root,order):\n",
    "    if not root: return []\n",
    "    queue=[]\n",
    "    queue+=[root]\n",
    "    while queue:\n",
    "        ele=queue.pop(0)\n",
    "        order+=[ele.val]\n",
    "        if ele.left: queue+=[ele.left]\n",
    "        if ele.right: queue+=[ele.right]\n",
    "    return order\n",
    "levelorder(tree,order=[])      "
   ]
  },
  {
   "cell_type": "code",
   "execution_count": 17,
   "id": "14ee6dfd",
   "metadata": {},
   "outputs": [
    {
     "name": "stdout",
     "output_type": "stream",
     "text": [
      "Enter text:hello\n",
      "Enter string:el\n",
      "1\n"
     ]
    }
   ],
   "source": [
    "text=input(\"Enter text:\")\n",
    "search=input(\"Enter string:\")\n",
    "j=0\n",
    "k=len(search)\n",
    "m=len(text)\n",
    "pattern=''\n",
    "ind=-1\n",
    "for i in range(m):\n",
    "    if text[i]==search[j] and j<k:\n",
    "        j+=1\n",
    "        if j>=k:\n",
    "            print(ind)\n",
    "            break\n",
    "    else:\n",
    "        j=0\n",
    "        ind=i+1\n",
    "    if j<k and (m-i)<k:\n",
    "        print(\"not found\")\n",
    "        break"
   ]
  },
  {
   "cell_type": "code",
   "execution_count": 1,
   "id": "3defd6b0",
   "metadata": {},
   "outputs": [
    {
     "name": "stdout",
     "output_type": "stream",
     "text": [
      "Enter text:hello\n",
      "Enter string:el\n",
      "1\n"
     ]
    }
   ],
   "source": [
    "text=input(\"Enter text:\")\n",
    "search=input(\"Enter string:\")\n",
    "n=len(text)\n",
    "m=len(search)\n",
    "lps=[0]*m\n",
    "\n",
    "cur=0\n",
    "for i in range(1,m):\n",
    "    if(search[i]==search[cur]):\n",
    "        lps[i]=lps[i+1]\n",
    "        cur+=1\n",
    "    else:\n",
    "        cur=0\n",
    "\n",
    "i=0\n",
    "j=0\n",
    "\n",
    "while(i<n):\n",
    "    if text[i]==search[j]:\n",
    "        i+=1\n",
    "        j+=1\n",
    "    if(j==m):\n",
    "        print(i-m)\n",
    "        j=lps[j-1]\n",
    "    elif(text[i]!=search[j]):\n",
    "        if j!=0:\n",
    "            j=lps[j-1]\n",
    "        else:\n",
    "            i+=1"
   ]
  },
  {
   "cell_type": "code",
   "execution_count": 2,
   "id": "66d937e1",
   "metadata": {},
   "outputs": [],
   "source": [
    "a=float('-inf')"
   ]
  },
  {
   "cell_type": "code",
   "execution_count": 7,
   "id": "6d3997a4",
   "metadata": {},
   "outputs": [
    {
     "name": "stdout",
     "output_type": "stream",
     "text": [
      "Edge-  1  :  [0, 0, 25]\n",
      "Edge-  2  :  [0, 1, 5]\n",
      "Edge-  3  :  [0, 2, 3]\n",
      "Edge-  4  :  [1, 3, 2]\n",
      "Edge-  5  :  [1, 4, 15]\n",
      "Edge-  6  :  [4, 2, 1]\n",
      "Edge-  7  :  [4, 3, 11]\n",
      "Edge-  8  :  [4, 5, 11]\n"
     ]
    }
   ],
   "source": [
    "# list of edges\n",
    "class Graph:\n",
    "    def __init__(self,directed=True):\n",
    "        self.directed=directed\n",
    "        self.data=[]\n",
    "    def add_edge(self,node1,node2,weight=1):\n",
    "        self.data.append([node1,node2,weight])\n",
    "        if not self.directed:\n",
    "            self.data.append([node2,node1,weight])\n",
    "    def print(self):\n",
    "        l=len(self.data)\n",
    "        for i in range(l):\n",
    "            print(\"Edge- \",i+1,\" : \",self.data[i])\n",
    "graph=Graph()\n",
    "graph.add_edge(0,0,25)\n",
    "graph.add_edge(0, 1, 5)\n",
    "graph.add_edge(0, 2, 3)\n",
    "graph.add_edge(1, 3,2)\n",
    "graph.add_edge(1, 4, 15)\n",
    "graph.add_edge(4, 2)    # default weight=1\n",
    "graph.add_edge(4, 3, 11)\n",
    "graph.add_edge(4, 5, 11)\n",
    "graph.print()"
   ]
  },
  {
   "cell_type": "code",
   "execution_count": 8,
   "id": "0346c915",
   "metadata": {},
   "outputs": [
    {
     "name": "stdout",
     "output_type": "stream",
     "text": [
      "[25, 5, 3, 0, 0]\n",
      "[0, 0, 0, 1, 15]\n",
      "[0, 0, 0, 0, 0]\n",
      "[0, 0, 0, 0, 0]\n",
      "[0, 0, 7, 11, 0]\n"
     ]
    }
   ],
   "source": [
    "# adjacency matrix\n",
    "class Graph:\n",
    "    def __init__(self,n,directed=True):\n",
    "        self.n=n\n",
    "        self.directed=directed\n",
    "        self.matrix=[[0 for j in range(n)] for i in range(n)]\n",
    "    def add_edge(self,node1,node2,weight=1):\n",
    "        self.matrix[node1][node2]=weight\n",
    "        if not self.directed:\n",
    "            self.matrix[node2][node1]=weight\n",
    "    def print(self):\n",
    "        for i in self.matrix:\n",
    "            print(i)\n",
    "graph = Graph(5)\n",
    "graph.add_edge(0, 0, 25)\n",
    "graph.add_edge(0, 1, 5)\n",
    "graph.add_edge(0, 2, 3)\n",
    "graph.add_edge(1, 3, 1)\n",
    "graph.add_edge(1, 4, 15)\n",
    "graph.add_edge(4, 2, 7)\n",
    "graph.add_edge(4, 3, 11)\n",
    "\n",
    "graph.print()"
   ]
  },
  {
   "cell_type": "code",
   "execution_count": 14,
   "id": "e36b993d",
   "metadata": {},
   "outputs": [
    {
     "data": {
      "text/plain": [
       "0 : [(0, 25), (1, 5), (2, 3)]\n",
       "1 : [(3, 1), (4, 15)]\n",
       "2 : []\n",
       "3 : []\n",
       "4 : [(2, 7), (3, 11)]"
      ]
     },
     "execution_count": 14,
     "metadata": {},
     "output_type": "execute_result"
    }
   ],
   "source": [
    "# adjacency list\n",
    "class Graph:\n",
    "    def __init__(self,n,directed=True):\n",
    "        self.n=n\n",
    "        self.directed=directed\n",
    "        self.data=[[] for i in range(n)]\n",
    "    def add_edge(self,node1,node2,weight=1):\n",
    "        self.data[node1].append((node2,weight))\n",
    "        if not self.directed:\n",
    "            self.data[node2].append((node1,weight))\n",
    "    def __repr__(self):\n",
    "        return \"\\n\".join([\"{} : {}\".format(i,neighbors) for i,neighbors in enumerate(self.data)])\n",
    "    \n",
    "graph = Graph(5)\n",
    "graph.add_edge(0, 0, 25)\n",
    "graph.add_edge(0, 1, 5)\n",
    "graph.add_edge(0, 2, 3)\n",
    "graph.add_edge(1, 3, 1)\n",
    "graph.add_edge(1, 4, 15)\n",
    "graph.add_edge(4, 2, 7)\n",
    "graph.add_edge(4, 3, 11)\n",
    "graph"
   ]
  },
  {
   "cell_type": "code",
   "execution_count": 26,
   "id": "ab3e7e95",
   "metadata": {},
   "outputs": [
    {
     "name": "stdout",
     "output_type": "stream",
     "text": [
      "0: [(1, 20)]\n",
      "1: [(0, 20)]\n",
      "2: []\n",
      "3: [(4, 25)]\n",
      "4: [(3, 25)]\n"
     ]
    },
    {
     "data": {
      "text/plain": [
       "'path not found'"
      ]
     },
     "execution_count": 26,
     "metadata": {},
     "output_type": "execute_result"
    }
   ],
   "source": [
    "#adjacency list\n",
    "class Graph:\n",
    "    def __init__(self,n,directed=True):\n",
    "        self.n=n\n",
    "        self.directed=directed\n",
    "        self.data=[[] for i in range(n)]\n",
    "    def add_edge(self,node1,node2,weight):\n",
    "        self.data[node1].append((node2,weight))\n",
    "        if not self.directed:\n",
    "            self.data[node2].append((node1,weight))\n",
    "    def __repr__(self):\n",
    "        return \"\\n\".join([\"{}: {}\".format(i,neighbors) for i,neighbors in enumerate(self.data)])\n",
    "    def dfs(self,start,target,path=[],visited=set()):\n",
    "        path.append(start)\n",
    "        visited.add(start)\n",
    "        if start==target:\n",
    "            print(\"element found\")\n",
    "            return path\n",
    "        for neighbor,weight in (self.data[start]):\n",
    "            if neighbor not in visited:\n",
    "                result=self.dfs(neighbor,target,path,visited)\n",
    "                if result:\n",
    "                    return result\n",
    "        path.pop()\n",
    "        if not path: return 'path not found'\n",
    "        return None\n",
    "    \n",
    "graph = Graph(5, directed=False)\n",
    "\n",
    "graph.add_edge(0, 1,20)\n",
    "graph.add_edge(0, 2,10)\n",
    "graph.add_edge(1, 3,15)\n",
    "graph.add_edge(2, 3,35)\n",
    "graph.add_edge(3, 4,25)\n",
    "\n",
    "print(graph)\n",
    "graph.dfs(0,4)"
   ]
  },
  {
   "cell_type": "code",
   "execution_count": 30,
   "id": "b1962d4e",
   "metadata": {},
   "outputs": [
    {
     "name": "stdout",
     "output_type": "stream",
     "text": [
      "0: [(1, 1), (2, 1), (3, 1), (4, 1)]\n",
      "1: [(0, 1), (2, 1)]\n",
      "2: [(0, 1), (1, 1), (3, 1), (5, 1)]\n",
      "3: [(0, 1), (2, 1), (4, 1), (5, 1)]\n",
      "4: [(0, 1), (3, 1), (5, 1)]\n",
      "5: [(2, 1), (3, 1), (4, 1)]\n"
     ]
    },
    {
     "data": {
      "text/plain": [
       "'Found'"
      ]
     },
     "execution_count": 30,
     "metadata": {},
     "output_type": "execute_result"
    }
   ],
   "source": [
    "#adjacency list\n",
    "class Graph:\n",
    "    def __init__(self,n,directed=True):\n",
    "        self.n=n\n",
    "        self.directed=directed\n",
    "        self.data=[[] for i in range(n)]\n",
    "    def add_edge(self,node1,node2,weight=1):\n",
    "        self.data[node1].append((node2,weight))\n",
    "        if not self.directed:\n",
    "            self.data[node2].append((node1,weight))\n",
    "    def __repr__(self):\n",
    "        return \"\\n\".join([\"{}: {}\".format(i,neighbors) for i,neighbors in enumerate(self.data)])\n",
    "    \n",
    "    def bfs(self,start,target,visited=set()):\n",
    "        queue=[]\n",
    "        queue.append(start)\n",
    "        visited.add(start)\n",
    "        while queue:\n",
    "            ele=queue.pop(0)\n",
    "            if ele==target:\n",
    "                return 'Found'\n",
    "            for neighbor,weight in self.data[ele]:\n",
    "                if neighbor not in visited:\n",
    "                    visited.add(neighbor)\n",
    "                    queue.append(neighbor)\n",
    "        return 'not found'\n",
    "graph = Graph(6, directed=False)\n",
    "\n",
    "graph.add_edge(0, 1)\n",
    "graph.add_edge(0, 2)\n",
    "graph.add_edge(0, 3)\n",
    "graph.add_edge(0, 4)\n",
    "graph.add_edge(1, 2)\n",
    "graph.add_edge(2, 3)\n",
    "graph.add_edge(2, 5)\n",
    "graph.add_edge(3, 4)\n",
    "graph.add_edge(3, 5)\n",
    "graph.add_edge(4, 5)\n",
    "\n",
    "print(graph)\n",
    "graph.bfs(0,4)\n"
   ]
  },
  {
   "cell_type": "code",
   "execution_count": null,
   "id": "0e9d675e",
   "metadata": {},
   "outputs": [],
   "source": []
  },
  {
   "cell_type": "code",
   "execution_count": null,
   "id": "e7769a0a",
   "metadata": {},
   "outputs": [],
   "source": []
  },
  {
   "cell_type": "code",
   "execution_count": null,
   "id": "1f86e82c",
   "metadata": {},
   "outputs": [],
   "source": []
  },
  {
   "cell_type": "code",
   "execution_count": null,
   "id": "45c59c7e",
   "metadata": {},
   "outputs": [],
   "source": []
  },
  {
   "cell_type": "code",
   "execution_count": null,
   "id": "d2f4aadc",
   "metadata": {},
   "outputs": [],
   "source": []
  },
  {
   "cell_type": "code",
   "execution_count": null,
   "id": "48ef1e9e",
   "metadata": {},
   "outputs": [],
   "source": []
  },
  {
   "cell_type": "code",
   "execution_count": null,
   "id": "1fca5cfe",
   "metadata": {},
   "outputs": [],
   "source": []
  },
  {
   "cell_type": "code",
   "execution_count": null,
   "id": "cd1257ef",
   "metadata": {},
   "outputs": [],
   "source": []
  },
  {
   "cell_type": "code",
   "execution_count": null,
   "id": "9aa75e0d",
   "metadata": {},
   "outputs": [],
   "source": []
  },
  {
   "cell_type": "code",
   "execution_count": null,
   "id": "d353a6f1",
   "metadata": {},
   "outputs": [],
   "source": []
  },
  {
   "cell_type": "code",
   "execution_count": null,
   "id": "8b68c452",
   "metadata": {},
   "outputs": [],
   "source": []
  }
 ],
 "metadata": {
  "kernelspec": {
   "display_name": "Python 3 (ipykernel)",
   "language": "python",
   "name": "python3"
  },
  "language_info": {
   "codemirror_mode": {
    "name": "ipython",
    "version": 3
   },
   "file_extension": ".py",
   "mimetype": "text/x-python",
   "name": "python",
   "nbconvert_exporter": "python",
   "pygments_lexer": "ipython3",
   "version": "3.9.12"
  }
 },
 "nbformat": 4,
 "nbformat_minor": 5
}
