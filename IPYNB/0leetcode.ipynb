{
 "cells": [
  {
   "cell_type": "code",
   "execution_count": 4,
   "id": "e6a5da37",
   "metadata": {},
   "outputs": [],
   "source": [
    "def solution(N,K):\n",
    "    h=N//100\n",
    "    t=(N%100)//10\n",
    "    o=(N%100)%10\n",
    "    if K>0:\n",
    "        rem=K-(9-h)\n",
    "        if rem<=0:\n",
    "            h=h+K\n",
    "            return h*100+t*10+o\n",
    "        h=h+(9-h)\n",
    "        K=rem\n",
    "    if K>0:\n",
    "        rem=K-(9-t)\n",
    "        if rem<=0:\n",
    "            t=t+K\n",
    "            return h*100+t*10+o\n",
    "        t=t+(9-t)\n",
    "        K=rem\n",
    "    if K>0:\n",
    "        rem=K-(9-o)\n",
    "        if rem<=0:\n",
    "            o=o+K\n",
    "            return h*100+t*10+o\n",
    "        o=o+(9-o)\n",
    "    return h*100+t*10+o\n",
    "#solution(512,10)"
   ]
  },
  {
   "cell_type": "code",
   "execution_count": 11,
   "id": "7c1c069c",
   "metadata": {},
   "outputs": [
    {
     "name": "stdout",
     "output_type": "stream",
     "text": [
      "c1--> Counter({'a': 1, 'b': 1, 'c': 1})\n",
      "c2--> Counter({'a': 1, 'b': 1})\n"
     ]
    },
    {
     "data": {
      "text/plain": [
       "Counter({'a': 1, 'b': 1})"
      ]
     },
     "execution_count": 11,
     "metadata": {},
     "output_type": "execute_result"
    }
   ],
   "source": [
    "from collections import Counter\n",
    "s=\"abc\"\n",
    "t=\"ab\"\n",
    "c1=Counter(s)\n",
    "c2=Counter(t)\n",
    "print(\"c1-->\",c1)\n",
    "print(\"c2-->\",c2)\n",
    "c1&c2"
   ]
  },
  {
   "cell_type": "code",
   "execution_count": 8,
   "id": "d9d8d09e",
   "metadata": {},
   "outputs": [
    {
     "name": "stdout",
     "output_type": "stream",
     "text": [
      "[0, 0, 0, 0, 0, 0, 0, 0]\n",
      "[0, 1, 1, 1, 1, 1, 1, 1]\n",
      "[0, 1, 1, 4, 5, 5, 5, 5]\n",
      "[0, 1, 1, 4, 5, 6, 6, 9]\n",
      "[0, 1, 1, 4, 5, 7, 8, 9]\n"
     ]
    },
    {
     "data": {
      "text/plain": [
       "9"
      ]
     },
     "execution_count": 8,
     "metadata": {},
     "output_type": "execute_result"
    }
   ],
   "source": [
    "weight,profit,table,W=[0,1,3,4,5],[0,1,4,5,7],[[]],7\n",
    "for w in range(W+1):\n",
    "    table[0].append(0)   \n",
    "for i in range(1,len(weight)):\n",
    "    table.append([])\n",
    "    table[i].append(0)\n",
    "    for w in range(1,W+1):\n",
    "        if(weight[i]<=w):\n",
    "            table[i].append(max(profit[i]+table[i-1][w-weight[i]],table[i-1][w]))\n",
    "        else:\n",
    "            table[i].append(table[i-1][w])\n",
    "for i in table:\n",
    "    print(i)\n",
    "table[-1][-1]"
   ]
  },
  {
   "cell_type": "code",
   "execution_count": 10,
   "id": "ca528d5f",
   "metadata": {},
   "outputs": [
    {
     "name": "stdout",
     "output_type": "stream",
     "text": [
      "['adg', 'adh', 'adi', 'aeg', 'aeh', 'aei', 'afg', 'afh', 'afi', 'bdg', 'bdh', 'bdi', 'beg', 'beh', 'bei', 'bfg', 'bfh', 'bfi', 'cdg', 'cdh', 'cdi', 'ceg', 'ceh', 'cei', 'cfg', 'cfh', 'cfi'] "
     ]
    }
   ],
   "source": [
    "class Solution:\n",
    "    def letterCombinations(self, digits):\n",
    "        d={\"2\":\"abc\",\"3\":\"def\",\"4\":\"ghi\",\"5\":\"jkl\",\"6\":\"mno\",\"7\":\"pqrs\",\"8\":\"tuv\",\"9\":\"wxyz\"}\n",
    "        if not digits: return []\n",
    "        res=[\"\"]\n",
    "        for i in digits:\n",
    "            for j in range(len(res)):\n",
    "                ele=res.pop(0)\n",
    "                for k in d[i]:\n",
    "                    res.append(ele+k)\n",
    "        print(res,end=' ')\n",
    "obj=Solution()\n",
    "obj.letterCombinations(\"234\")"
   ]
  },
  {
   "cell_type": "code",
   "execution_count": 17,
   "id": "f4c4f84c",
   "metadata": {},
   "outputs": [
    {
     "name": "stdout",
     "output_type": "stream",
     "text": [
      "['adg', 'adh', 'adi', 'aeg', 'aeh', 'aei', 'afg', 'afh', 'afi', 'bdg', 'bdh', 'bdi', 'beg', 'beh', 'bei', 'bfg', 'bfh', 'bfi', 'cdg', 'cdh', 'cdi', 'ceg', 'ceh', 'cei', 'cfg', 'cfh', 'cfi'] "
     ]
    }
   ],
   "source": [
    "class Solution:\n",
    "    def letterCombinations(self, digits):\n",
    "        d={\"2\":\"abc\",\"3\":\"def\",\"4\":\"ghi\",\"5\":\"jkl\",\"6\":\"mno\",\"7\":\"pqrs\",\"8\":\"tuv\",\"9\":\"wxyz\"}\n",
    "        if not digits: return []\n",
    "        res=[\"\"]\n",
    "        for i in digits:\n",
    "            for j in range(len(res)):\n",
    "                ele=res.pop(0)\n",
    "                for k in d[i]:\n",
    "                    res.append(ele+k)\n",
    "        print(res,end=' ')\n",
    "obj=Solution()\n",
    "obj.letterCombinations(\"234\")"
   ]
  },
  {
   "cell_type": "code",
   "execution_count": 4,
   "id": "a3b8cefa",
   "metadata": {},
   "outputs": [
    {
     "name": "stdout",
     "output_type": "stream",
     "text": [
      "a c b aa\n",
      "baab\n",
      "cbaabc\n",
      "a a b c "
     ]
    }
   ],
   "source": [
    "class Solution:\n",
    "    def count(self,string):\n",
    "        l=len(string)\n",
    "        for i in range(l-1):\n",
    "            count=0\n",
    "            palin=''\n",
    "            while((i-count)>=0 and (i+count+1)<l and string[i-count]==string[i+count+1]):\n",
    "                palin=string[i-count]+palin+string[i+count+1]\n",
    "                print(palin)\n",
    "                count+=1    \n",
    "            count=1\n",
    "            palin=string[i]\n",
    "            print(palin,end=' ')\n",
    "            while((i-count)>=0 and (i+count)<l and string[i-count]==string[i+count]):\n",
    "                palin=string[i-count]+palin+string[i+count]\n",
    "                print(palin,end=' ')\n",
    "                count+=1\n",
    "obj=Solution()\n",
    "obj.count(\"acbaabcd\")"
   ]
  },
  {
   "cell_type": "code",
   "execution_count": 7,
   "id": "20f70f60",
   "metadata": {},
   "outputs": [
    {
     "data": {
      "text/plain": [
       "[['|Q||', '|||Q', 'Q|||', '||Q|'], ['||Q|', 'Q|||', '|||Q', '|Q||']]"
      ]
     },
     "execution_count": 7,
     "metadata": {},
     "output_type": "execute_result"
    }
   ],
   "source": [
    "class Solution:\n",
    "    def nqueen(self,n):\n",
    "        m=[['|']*n for i in range(n)]\n",
    "        col=set()\n",
    "        posdg=set()\n",
    "        negdg=set()\n",
    "        res=[]\n",
    "        def backtrack(r):\n",
    "            global count\n",
    "            if r==n:\n",
    "                temp=[''.join(row) for row in m]\n",
    "                res.append(temp)\n",
    "                return\n",
    "            for c in range(n):\n",
    "                if c in col or (r+c) in posdg or (r-c) in negdg:\n",
    "                    continue\n",
    "                col.add(c)\n",
    "                posdg.add(r+c)\n",
    "                negdg.add(r-c)\n",
    "                m[r][c]='Q'\n",
    "                backtrack(r+1)\n",
    "                col.remove(c)\n",
    "                posdg.remove(r+c)\n",
    "                negdg.remove(r-c)\n",
    "                m[r][c]='|'\n",
    "        backtrack(0)\n",
    "        return res\n",
    "obj=Solution()\n",
    "obj.nqueen(4)"
   ]
  },
  {
   "cell_type": "code",
   "execution_count": 10,
   "id": "a6ea4273",
   "metadata": {},
   "outputs": [
    {
     "data": {
      "text/plain": [
       "[['.Q..', '...Q', 'Q...', '..Q.'], ['..Q.', 'Q...', '...Q', '.Q..']]"
      ]
     },
     "execution_count": 10,
     "metadata": {},
     "output_type": "execute_result"
    }
   ],
   "source": [
    "class Solution:\n",
    "    def nqueen(self,n):\n",
    "        m=[[\".\"]*n for i in range(n)]\n",
    "        cols=set()\n",
    "        posdg=set()\n",
    "        negdg=set()\n",
    "        res=[]\n",
    "        def backtrack(r):\n",
    "            if r==n:\n",
    "                temp=[''.join(row) for row in m]\n",
    "                res.append(temp)\n",
    "                return\n",
    "            for c in range(n):\n",
    "                if c in cols or (r+c) in posdg or (r-c) in negdg:\n",
    "                    continue\n",
    "                cols.add(c)\n",
    "                posdg.add(r+c)\n",
    "                negdg.add(r-c)\n",
    "                m[r][c]='Q'\n",
    "                backtrack(r+1)\n",
    "                cols.remove(c)\n",
    "                posdg.remove(r+c)\n",
    "                negdg.remove(r-c)\n",
    "                m[r][c]='.'\n",
    "        backtrack(0)\n",
    "        return res\n",
    "obj=Solution()\n",
    "obj.nqueen(4)"
   ]
  },
  {
   "cell_type": "code",
   "execution_count": 5,
   "id": "588508dd",
   "metadata": {},
   "outputs": [
    {
     "name": "stdout",
     "output_type": "stream",
     "text": [
      "['2130', '2310', '1230', '1320', '3120', '3210']\n"
     ]
    }
   ],
   "source": [
    "out=[]\n",
    "def permute(msg, i, length):\n",
    "    if i==length:\n",
    "        out.append(\"\".join(msg))\n",
    "    else:\n",
    "        for j in range(i, len):\n",
    "            msg[i], msg[j] = msg[j], msg[i]\n",
    "            permute(msg, i+1, length)\n",
    "            msg[j], msg[i] = msg[i], msg[j]\n",
    "\n",
    "msg=['2','1','3','0']\n",
    "permute(msg, 0, 3)\n",
    "print(out)"
   ]
  },
  {
   "cell_type": "code",
   "execution_count": 15,
   "id": "e19743e4",
   "metadata": {},
   "outputs": [
    {
     "name": "stdout",
     "output_type": "stream",
     "text": [
      "722.134.3.123 is an invalid IP address.\n",
      "44.235.34.1 is a valid IP address.\n",
      "277.13.23.17 is an invalid IP address.\n"
     ]
    }
   ],
   "source": [
    "import re  \n",
    "ipv4=\"^(([0-9]|[1-9][0-9]|1[0-9][0-9]|2[0-4][0-9]|25[0-5])\\.){3}([0-9]|[1-9][0-9]|1[0-9][0-9]|2[0-4][0-9]|25[0-5])\"\n",
    "ipv6=\"^(([0-9a-fA-F]){1,4}\\:){7}(([0-9a-fA-F]){1,4})$\"\n",
    "def validateIP(strIP):  \n",
    "    if(re.search(ipv4, strIP)):\n",
    "        print(f\"{strIP} is a valid IP address.\")       \n",
    "    else: \n",
    "        print(f\"{strIP} is an invalid IP address.\") \n",
    "if __name__ == '__main__' :   \n",
    "    strIP = \"722.134.3.123\"\n",
    "    validateIP(strIP)   \n",
    "    strIP = \"44.235.34.1\"\n",
    "    validateIP(strIP)   \n",
    "    strIP = \"277.13.23.17\"\n",
    "    validateIP(strIP) "
   ]
  },
  {
   "cell_type": "code",
   "execution_count": 34,
   "id": "6797f9ab",
   "metadata": {},
   "outputs": [
    {
     "name": "stdout",
     "output_type": "stream",
     "text": [
      "122.134.3.123 is a valid IP address.\n",
      "44.235.34.1 is a valid IP address.\n",
      "277.13.23.17 is an invalid IP address.\n"
     ]
    }
   ],
   "source": [
    "regexIP = \"\"\"^(25[0-5]|2[0-4][0-9]|[0-1]?[0-9][0-9]?)\\.( \n",
    "    25[0-5]|2[0-4][0-9]|[0-1]?[0-9][0-9]?)\\.( \n",
    "    25[0-5]|2[0-4][0-9]|[0-1]?[0-9][0-9]?)\\.( \n",
    "    25[0-5]|2[0-4][0-9]|[0-1]?[0-9][0-9]?)\"\"\"\n",
    "\n",
    "def validateIP(strIP): \n",
    "  \n",
    "    if(re.search(regexIP, strIP)):\n",
    "        print(f\"{strIP} is a valid IP address.\") \n",
    "      \n",
    "    else: \n",
    "        print(f\"{strIP} is an invalid IP address.\") \n",
    "  \n",
    "  \n",
    "if __name__ == '__main__' : \n",
    "      \n",
    "    strIP = \"122.134.3.123\"\n",
    "    validateIP(strIP) \n",
    "  \n",
    "    strIP = \"44.235.34.1\"\n",
    "    validateIP(strIP) \n",
    "  \n",
    "    strIP = \"277.13.23.17\"\n",
    "    validateIP(strIP) "
   ]
  },
  {
   "cell_type": "code",
   "execution_count": 47,
   "id": "359e871f",
   "metadata": {},
   "outputs": [
    {
     "name": "stdout",
     "output_type": "stream",
     "text": [
      "2001:0db8:85a3:0:0:8A2E:0370:7334 is a valid IP address.\n",
      "2001:0db8:    :0:0:8A2E:0370:7334 is an invalid IP address.\n",
      "44.235.34.1 is an invalid IP address.\n",
      "277.13.23.17 is an invalid IP address.\n"
     ]
    }
   ],
   "source": [
    "\n",
    "\n",
    "import re \n",
    "  \n",
    "regexIP=\"^(([0-9a-fA-F]){1,4}\\:){7}(([0-9a-fA-F]){1,4})$\"\n",
    "\n",
    "\n",
    "  \n",
    "def validateIP(strIP): \n",
    "  \n",
    "    ire.search(regexIP, strIP)):\n",
    "        print(f\"{strIP} is a valid IP address.\") \n",
    "      \n",
    "    else: \n",
    "        print(f\"{strIP} is an invalid IP address.\") \n",
    "  \n",
    "  \n",
    "if __name__ == '__main__' : \n",
    "      \n",
    "    strIP = \"2001:0db8:85a3:0:0:8A2E:0370:7334\"\n",
    "    validateIP(strIP)\n",
    "    strIP = \"2001:0db8:    :0:0:8A2E:0370:7334\"\n",
    "    validateIP(strIP)\n",
    "  \n",
    "    strIP = \"44.235.34.1\"\n",
    "    validateIP(strIP) \n",
    "  \n",
    "    strIP = \"277.13.23.17\"\n",
    "    validateIP(strIP)"
   ]
  },
  {
   "cell_type": "code",
   "execution_count": null,
   "id": "dd3e9a9a",
   "metadata": {},
   "outputs": [],
   "source": [
    "class Solution:\n",
    "    def search(self, nums , target):\n",
    "        l=0\n",
    "        h=len(nums)-1\n",
    "        while l<=h:\n",
    "            mid=(l+h)//2\n",
    "            if nums[mid]==target:\n",
    "                return mid\n",
    "            if nums[l]<nums[mid]:\n",
    "                if nums[mid]>target and nums[l]<target:\n",
    "                    h=mid\n",
    "                else:\n",
    "                    l=mid\n",
    "            else:\n",
    "                if target>nums[mid] and target<nums[h]:\n",
    "                    l=mid\n",
    "                else:\n",
    "                    h=mid\n",
    "        return -1\n",
    "                    \n",
    "obj=Solution()\n",
    "obj.search([4,5,6,7,0,1,2],3)"
   ]
  },
  {
   "cell_type": "code",
   "execution_count": 6,
   "id": "51ee6123",
   "metadata": {},
   "outputs": [
    {
     "name": "stdout",
     "output_type": "stream",
     "text": [
      "{1: 0, 2: 1, 3: 3} \n",
      " {1: 7, 2: 10, 3: 4}\n",
      "the max distance is between 2 that is :  9\n"
     ]
    }
   ],
   "source": [
    "class Solution:\n",
    "    def max_distance(self,arr):\n",
    "        d1={}\n",
    "        d2={}\n",
    "        for i in arr:\n",
    "            d1[i]=-1\n",
    "            d2[i]=-1\n",
    "        c=0\n",
    "        for i in arr:\n",
    "            if d1[i]==-1:\n",
    "                d1[i]=c\n",
    "            d2[i]=c\n",
    "            c+=1\n",
    "        mx=0\n",
    "        ele=None\n",
    "        for i in d1:\n",
    "            if abs(d1[i]-d2[i])>mx:\n",
    "                mx=abs(d1[i]-d2[i])\n",
    "                ele=i\n",
    "        print(d1,'\\n',d2)\n",
    "        print(\"the max distance is between\",ele,\"that is : \",mx)\n",
    "arr=[1,2,1,3,3,1,1,1,2,2,2]        \n",
    "obj=Solution()\n",
    "obj.max_distance(arr)"
   ]
  },
  {
   "cell_type": "code",
   "execution_count": 8,
   "id": "e2e27b0a",
   "metadata": {},
   "outputs": [
    {
     "data": {
      "text/plain": [
       "5"
      ]
     },
     "execution_count": 8,
     "metadata": {},
     "output_type": "execute_result"
    }
   ],
   "source": [
    "class Solution:\n",
    "    def square(self,val):\n",
    "        for i in range(val//2):\n",
    "            if (i*i)>val:\n",
    "                return i-1\n",
    "obj=Solution()\n",
    "obj.square(35)"
   ]
  },
  {
   "cell_type": "code",
   "execution_count": 5,
   "id": "dbe57951",
   "metadata": {},
   "outputs": [
    {
     "data": {
      "text/plain": [
       "49"
      ]
     },
     "execution_count": 5,
     "metadata": {},
     "output_type": "execute_result"
    }
   ],
   "source": [
    "class Solution:\n",
    "    def container(self,h):\n",
    "        l,r,A=0,len(h)-1,0\n",
    "        while(l<r):\n",
    "            A=max(A,min(h[l],h[r])*(r-l))\n",
    "            if h[l]<h[r]:\n",
    "                l+=1\n",
    "            else:\n",
    "                r-=1\n",
    "        return A\n",
    "obj=Solution()\n",
    "h=[1,8,6,2,5,4,8,3,7,]\n",
    "obj.container(h)"
   ]
  },
  {
   "cell_type": "code",
   "execution_count": 12,
   "id": "ebc6c57e",
   "metadata": {},
   "outputs": [
    {
     "name": "stdout",
     "output_type": "stream",
     "text": [
      "m     o     t     m                       \n",
      "i  r  s  f  t  a  s                       \n",
      "c     o     e                             \n"
     ]
    }
   ],
   "source": [
    "class Solution:\n",
    "    def zigzag(self,s,rows):\n",
    "        l=len(s)\n",
    "        matrix=[[' ' for i in range(l)] for j in range(rows)]\n",
    "        i,j,k=0,0,0\n",
    "        dir=1\n",
    "        while k<l:\n",
    "            if i<rows and dir==1:\n",
    "                matrix[i][j]=s[k]\n",
    "                k+=1\n",
    "                i+=1\n",
    "                if i==rows:\n",
    "                    dir=-1\n",
    "                    i-=2\n",
    "                    j+=1\n",
    "            elif i>-1 and dir==-1:\n",
    "                matrix[i][j]=s[k]\n",
    "                i-=1\n",
    "                j+=1\n",
    "                k+=1\n",
    "                if i==-1:\n",
    "                    dir=1\n",
    "                    i+=2\n",
    "                    j-=1\n",
    "        for i in range(rows):\n",
    "            for j in range(l):\n",
    "                print(matrix[i][j],end='  ')\n",
    "            print()\n",
    "                       \n",
    "obj=Solution()\n",
    "s=\"microsoftteams\"\n",
    "rows=3\n",
    "obj.zigzag(s,rows)"
   ]
  },
  {
   "cell_type": "code",
   "execution_count": 15,
   "id": "c8a15a26",
   "metadata": {},
   "outputs": [
    {
     "data": {
      "text/plain": [
       "2"
      ]
     },
     "execution_count": 15,
     "metadata": {},
     "output_type": "execute_result"
    }
   ],
   "source": [
    "class Solution:\n",
    "    def sumclosest(self,arr,target):\n",
    "        arr.sort()\n",
    "        val=float('-inf')\n",
    "        s=[]\n",
    "        for i in range(len(arr)-1):\n",
    "            l=i+1\n",
    "            r=len(arr)-1\n",
    "            while l<r:\n",
    "                total=arr[i]+arr[l]+arr[r]\n",
    "                if total<target:\n",
    "                    l+=1\n",
    "                else:\n",
    "                    r-=1\n",
    "                if abs(total-target)<=abs(val-target):\n",
    "                    val=total\n",
    "        return val\n",
    "obj=Solution()\n",
    "arr=[-1,2,1,-4]\n",
    "target=1\n",
    "obj.sumclosest(arr,target)"
   ]
  },
  {
   "cell_type": "code",
   "execution_count": null,
   "id": "1a357eb4",
   "metadata": {},
   "outputs": [],
   "source": [
    "class Solution:\n",
    "    def second_largest(self,arr):\n",
    "        first_largest=arr[0]\n",
    "        second_largest=arr[0]\n",
    "        l=len(arr)\n",
    "        for i in range(1,l):\n",
    "            if arr[i]>first_largest:\n",
    "                second_largest=first_largest\n",
    "                first_largest=arr[i]\n",
    "            elif arr[i]>second_largest:\n",
    "                second_largest=arr[i]\n",
    "        print(second_largest)\n",
    "obj=Solution()\n",
    "arr=[3,5,6,9,8,1,2,4,10]\n",
    "obj.second_largest(arr)"
   ]
  },
  {
   "cell_type": "code",
   "execution_count": null,
   "id": "3db7f630",
   "metadata": {},
   "outputs": [],
   "source": [
    "def binary_search(arr,searching_ele):\n",
    "    l=len(arr)\n",
    "    start=0\n",
    "    end=l-1\n",
    "    while start<=end:\n",
    "        mid=(start+end)//2\n",
    "        if arr[mid]==searching_ele:\n",
    "            return mid\n",
    "        elif arr[mid]>searching_ele:\n",
    "            end=mid-1\n",
    "        else:\n",
    "            start=mid+1\n",
    "    return end+1\n",
    "arr=[2,4,5,7,8,9,12,23,34,54,67,79]\n",
    "binary_search(arr,11)"
   ]
  },
  {
   "cell_type": "code",
   "execution_count": 5,
   "id": "daf35591",
   "metadata": {},
   "outputs": [
    {
     "data": {
      "text/plain": [
       "3"
      ]
     },
     "execution_count": 5,
     "metadata": {},
     "output_type": "execute_result"
    }
   ],
   "source": [
    "class Solution:\n",
    "    def power(self,n):\n",
    "        start=0\n",
    "        end=n-1\n",
    "        res=0\n",
    "        while start<=end:\n",
    "            mid=(start+end)//2\n",
    "            if mid*mid==n:\n",
    "                return mid\n",
    "            elif mid*mid>n:\n",
    "                end=mid-1\n",
    "            else:\n",
    "                start=mid+1\n",
    "                res=mid\n",
    "        return res\n",
    "obj=Solution()\n",
    "obj.power(10)"
   ]
  },
  {
   "cell_type": "code",
   "execution_count": 2,
   "id": "2baab500",
   "metadata": {},
   "outputs": [
    {
     "data": {
      "text/plain": [
       "True"
      ]
     },
     "execution_count": 2,
     "metadata": {},
     "output_type": "execute_result"
    }
   ],
   "source": [
    "import re\n",
    "class Solution:\n",
    "    def repeatedSubstringPattern(self, s):\n",
    "        exp=\"\"\n",
    "        l=len(s)\n",
    "        for i in range(l):\n",
    "            exp=s[:i]\n",
    "            rem=s[i:]\n",
    "            exp='('+exp+')+'\n",
    "            x=re.search(exp,rem)\n",
    "            if x is not None and x.start()==0 and x.end()==len(rem):\n",
    "                return True\n",
    "        return False\n",
    "obj=Solution()\n",
    "obj.repeatedSubstringPattern(\"abcabcabcabc\")"
   ]
  },
  {
   "cell_type": "code",
   "execution_count": 4,
   "id": "fd8f2e7a",
   "metadata": {},
   "outputs": [
    {
     "name": "stdout",
     "output_type": "stream",
     "text": [
      "bcabcabcab\n"
     ]
    },
    {
     "data": {
      "text/plain": [
       "True"
      ]
     },
     "execution_count": 4,
     "metadata": {},
     "output_type": "execute_result"
    }
   ],
   "source": [
    "import re\n",
    "class Solution:\n",
    "    def repeatedSubstringPattern(self, s):\n",
    "        exp=(s + s)[1:-1]\n",
    "        print(exp)\n",
    "        return s in (s + s)[1:-1]\n",
    "obj=Solution()\n",
    "obj.repeatedSubstringPattern(\"abcabc\")"
   ]
  },
  {
   "cell_type": "code",
   "execution_count": 19,
   "id": "b2be4f27",
   "metadata": {},
   "outputs": [
    {
     "name": "stdout",
     "output_type": "stream",
     "text": [
      "<re.Match object; span=(0, 9), match='abcabcabc'>\n"
     ]
    }
   ],
   "source": [
    "x=re.search(\"(abc)+\",\"abcabcabc\")\n",
    "print(x)"
   ]
  },
  {
   "cell_type": "code",
   "execution_count": 13,
   "id": "a39a89f5",
   "metadata": {},
   "outputs": [
    {
     "ename": "SyntaxError",
     "evalue": "invalid syntax (2522309156.py, line 2)",
     "output_type": "error",
     "traceback": [
      "\u001b[1;36m  Input \u001b[1;32mIn [13]\u001b[1;36m\u001b[0m\n\u001b[1;33m    def reverseBits(self, str(n)):\u001b[0m\n\u001b[1;37m                             ^\u001b[0m\n\u001b[1;31mSyntaxError\u001b[0m\u001b[1;31m:\u001b[0m invalid syntax\n"
     ]
    }
   ],
   "source": [
    "class Solution:\n",
    "    def reverseBits(self, str(n)):\n",
    "        n=str(n)\n",
    "        a=n[::-1]\n",
    "        a=int(a,2)\n",
    "        return a\n",
    "obj=Solution()\n",
    "obj.reverseBits(00000010100101000001111010011100)"
   ]
  },
  {
   "cell_type": "code",
   "execution_count": 2,
   "id": "fbddc700",
   "metadata": {},
   "outputs": [
    {
     "data": {
      "text/plain": [
       "26"
      ]
     },
     "execution_count": 2,
     "metadata": {},
     "output_type": "execute_result"
    }
   ],
   "source": [
    "ord('Z')-64"
   ]
  },
  {
   "cell_type": "code",
   "execution_count": 8,
   "id": "ced43ac7",
   "metadata": {},
   "outputs": [
    {
     "data": {
      "text/plain": [
       "[2, 2]"
      ]
     },
     "execution_count": 8,
     "metadata": {},
     "output_type": "execute_result"
    }
   ],
   "source": [
    "from collections import Counter\n",
    "class Solution:\n",
    "    def intersect(self, nums1, nums2):\n",
    "        c1=Counter(nums1)\n",
    "        c2=Counter(nums2)\n",
    "        res=[]\n",
    "        for i in c1:\n",
    "            if c2[i]!=0:\n",
    "                res.extend(min(c1[i],c2[i])*[i])\n",
    "        return res\n",
    "obj=Solution()\n",
    "obj.intersect([1,2,2,1],[2,2])"
   ]
  },
  {
   "cell_type": "code",
   "execution_count": 51,
   "id": "1e4da1a4",
   "metadata": {},
   "outputs": [
    {
     "name": "stdout",
     "output_type": "stream",
     "text": [
      "['-', '+'] [2, 1, 2] ['-']\n",
      "[2, 3]\n",
      "[]\n",
      "[-1]\n"
     ]
    },
    {
     "data": {
      "text/plain": [
       "-1"
      ]
     },
     "execution_count": 51,
     "metadata": {},
     "output_type": "execute_result"
    }
   ],
   "source": [
    "class Solution:\n",
    "    def calculate(self, s):\n",
    "        digits=[]\n",
    "        symbols=[]\n",
    "        res=0\n",
    "        s=s+'@'\n",
    "        for i in s:\n",
    "            if i.isdigit():\n",
    "                digits.append(int(i))\n",
    "            elif i in '-(+':\n",
    "                symbols.append(i)\n",
    "            elif i==')':\n",
    "                op=symbols.pop()\n",
    "                while op!=\"(\":\n",
    "                    ele1=digits.pop()\n",
    "                    #print(ele1,end=' ')\n",
    "                    ele2=digits.pop()\n",
    "                    #print(ele2,end=' ')\n",
    "                    if op=='+':\n",
    "                        digits.append(ele1+ele2)\n",
    "                    elif op=='-':\n",
    "                        digits.append(ele2-ele1)\n",
    "                    op=symbols.pop()\n",
    "            if i=='@':\n",
    "                print(symbols,end=' ')\n",
    "                print(digits,end=' ')\n",
    "                \n",
    "                while symbols:\n",
    "                    op=symbols.pop()\n",
    "                    if op in '+-':\n",
    "                        ele1=digits.pop()\n",
    "                        ele2=digits.pop()\n",
    "                        if op=='+':\n",
    "                            digits.append(ele1+ele2)\n",
    "                        elif op=='-':\n",
    "                            digits.append(ele2-ele1)\n",
    "                    print(symbols)\n",
    "                    print(digits)\n",
    "        return digits[-1]\n",
    "obj=Solution()\n",
    "obj.calculate(\" 2-1 + 2 \")"
   ]
  },
  {
   "cell_type": "code",
   "execution_count": 98,
   "id": "b43648ae",
   "metadata": {},
   "outputs": [
    {
     "name": "stdout",
     "output_type": "stream",
     "text": [
      "00One2Million\n",
      "33Two5Hundred\n",
      "00One2Million333Two5Hundred6Thirty7Four9Thousand\n",
      "00One2Million333Two5Hundred6Thirty7Four9Thousand1010Five12Hundred\n"
     ]
    },
    {
     "data": {
      "text/plain": [
       "'00One2Million333Two5Hundred6Thirty7Four9Thousand1010Five12Hundred13Sixty14Seven'"
      ]
     },
     "execution_count": 98,
     "metadata": {},
     "output_type": "execute_result"
    }
   ],
   "source": [
    "class Solution:\n",
    "    c=0\n",
    "    def numberToWords(self, num):\n",
    "        mapping = {1000000000: 'Billion',1000000: 'Million',1000: 'Thousand',100: 'Hundred',90: 'Ninety',80: 'Eighty',70: 'Seventy',60: 'Sixty',50: 'Fifty',40: 'Forty',30: 'Thirty',20: 'Twenty',19: 'Nineteen',18: 'Eighteen',17: 'Seventeen',16: 'Sixteen',15: 'Fifteen',14: 'Fourteen',13: 'Thirteen',12: 'Twelve',11: 'Eleven',10: 'Ten',9: 'Nine',8: 'Eight',7: 'Seven',6: 'Six',5: 'Five',4: 'Four',3: 'Three',2: 'Two',1: 'One'}\n",
    "        if num==0:\n",
    "            return \"Zero\"\n",
    "        result=\"\"\n",
    "        for value, name in mapping.items():\n",
    "            count=0\n",
    "            if num>=value:\n",
    "                count=num//value\n",
    "                num%=value\n",
    "                if count>1 or value>=100:\n",
    "                    result= result+str(self.c)+self.numberToWords(count)+str(self.c+1)+name\n",
    "                    self.c+=2\n",
    "                    print(result)\n",
    "                else:\n",
    "                    result+=str(self.c)+name\n",
    "                    self.c+=1\n",
    "        return result\n",
    "obj=Solution()\n",
    "obj.numberToWords(1234567)"
   ]
  },
  {
   "cell_type": "code",
   "execution_count": 1,
   "id": "743009ed",
   "metadata": {},
   "outputs": [
    {
     "name": "stdout",
     "output_type": "stream",
     "text": [
      "Note: you may need to restart the kernel to use updated packages.\n"
     ]
    },
    {
     "name": "stderr",
     "output_type": "stream",
     "text": [
      "ERROR: Could not find a version that satisfies the requirement bisect (from versions: none)\n",
      "ERROR: No matching distribution found for bisect\n"
     ]
    }
   ],
   "source": [
    "pip install bisect"
   ]
  },
  {
   "cell_type": "code",
   "execution_count": 6,
   "id": "74b77ada",
   "metadata": {},
   "outputs": [
    {
     "name": "stdout",
     "output_type": "stream",
     "text": [
      "2 1 1 0 "
     ]
    },
    {
     "data": {
      "text/plain": [
       "[2, 1, 1, 0]"
      ]
     },
     "execution_count": 6,
     "metadata": {},
     "output_type": "execute_result"
    }
   ],
   "source": [
    "import bisect as bs\n",
    "class Solution:\n",
    "    def countSmaller(self, nums):\n",
    "        arr, ans = sorted(nums), []     \n",
    "        for num in nums:\n",
    "            i = bs.bisect_left(arr,num)  \n",
    "            print(i,end=' ')\n",
    "            ans.append(i)               \n",
    "            del arr[i]                  \n",
    "        return ans\n",
    "obj=Solution()\n",
    "obj.countSmaller([5,2,6,1])"
   ]
  },
  {
   "cell_type": "code",
   "execution_count": 8,
   "id": "761f8bd7",
   "metadata": {},
   "outputs": [
    {
     "name": "stdout",
     "output_type": "stream",
     "text": [
      "2 2\n",
      "2 1\n",
      "2 0\n"
     ]
    },
    {
     "data": {
      "text/plain": [
       "[1, 2, 3, 4, 8, 12, 11, 10, 9, 5, 6, 7]"
      ]
     },
     "execution_count": 8,
     "metadata": {},
     "output_type": "execute_result"
    }
   ],
   "source": [
    "class Solution:\n",
    "    def spiralOrder(self, matrix):\n",
    "        res=[]\n",
    "        m=len(matrix)\n",
    "        n=len(matrix[0])\n",
    "        dir=0           # 0,1,2,3\n",
    "        a,b=0,0\n",
    "        sr,sc=0,0\n",
    "        er,ec=m,n\n",
    "        i=0\n",
    "        while i<m*n:\n",
    "            if b<=ec-1 and dir==0:\n",
    "                res+=[matrix[a][b]]\n",
    "                i+=1\n",
    "                b+=1\n",
    "                if b==ec:\n",
    "                    b-=1\n",
    "                    a+=1\n",
    "                    dir=1\n",
    "                    sr+=1\n",
    "            if a<=er-1 and dir==1:\n",
    "                res+=[matrix[a][b]]\n",
    "                a+=1\n",
    "                i+=1\n",
    "                if a==er:\n",
    "                    a-=1\n",
    "                    b-=1\n",
    "                    dir=2\n",
    "                    ec-=1\n",
    "            if b>=sc and dir==2:\n",
    "                print(a,b)\n",
    "                res+=[matrix[a][b]]\n",
    "                i+=1\n",
    "                b-=1\n",
    "                if b==sc-1:\n",
    "                    b+=1\n",
    "                    a-=1\n",
    "                    dir=3\n",
    "                    er-=1\n",
    "            if a>=sr and dir==3:\n",
    "                res+=[matrix[a][b]]\n",
    "                i+=1\n",
    "                a-=1\n",
    "                if a==sr-1:\n",
    "                    a+=1\n",
    "                    dir=0\n",
    "                    sc+=1\n",
    "                    b+=1\n",
    "        return res\n",
    "obj=Solution()\n",
    "obj.spiralOrder([[1,2,3,4],[5,6,7,8],[9,10,11,12]])"
   ]
  },
  {
   "cell_type": "code",
   "execution_count": 10,
   "id": "aab54d88",
   "metadata": {},
   "outputs": [
    {
     "data": {
      "text/plain": [
       "[1, 2, 3, 4, 5, 6, 8, 9]"
      ]
     },
     "execution_count": 10,
     "metadata": {},
     "output_type": "execute_result"
    }
   ],
   "source": [
    "l=[2,1,1,2,4,3,5,6,3,9,8]\n",
    "list(set(l))"
   ]
  },
  {
   "cell_type": "code",
   "execution_count": 1,
   "id": "5aa253ed",
   "metadata": {},
   "outputs": [
    {
     "data": {
      "text/plain": [
       "'5'"
      ]
     },
     "execution_count": 1,
     "metadata": {},
     "output_type": "execute_result"
    }
   ],
   "source": [
    "max('45')"
   ]
  },
  {
   "cell_type": "code",
   "execution_count": 12,
   "id": "1fdbd238",
   "metadata": {},
   "outputs": [
    {
     "data": {
      "text/plain": [
       "['((()))', '(()())', '(())()', '()(())', '()()()']"
      ]
     },
     "execution_count": 12,
     "metadata": {},
     "output_type": "execute_result"
    }
   ],
   "source": [
    "class Solution:\n",
    "    def generateParenthesis(self, n):\n",
    "        res=[]\n",
    "        def ans(left,right,val):\n",
    "            if len(val)==2*n:\n",
    "                res.append(val)\n",
    "                return\n",
    "            if left<n:\n",
    "                ans(left+1,right,val+'(')\n",
    "            if right<left:\n",
    "                ans(left,right+1,val+')')\n",
    "        ans(0,0,'')\n",
    "        return res\n",
    "obj=Solution()\n",
    "obj.generateParenthesis(3)"
   ]
  },
  {
   "cell_type": "code",
   "execution_count": 17,
   "id": "d9c9f8f0",
   "metadata": {},
   "outputs": [
    {
     "data": {
      "text/plain": [
       "2"
      ]
     },
     "execution_count": 17,
     "metadata": {},
     "output_type": "execute_result"
    }
   ],
   "source": [
    "import math\n",
    "math.ceil(1.5)"
   ]
  },
  {
   "cell_type": "code",
   "execution_count": 13,
   "id": "d26bcf19",
   "metadata": {},
   "outputs": [
    {
     "name": "stdout",
     "output_type": "stream",
     "text": [
      "[1, 2, 3] [1, 2] [1, 3] [1] [2, 3] [2] [3] [] "
     ]
    }
   ],
   "source": [
    "class Solution:\n",
    "    def subsets(self,arr,new,count):\n",
    "        if len(arr)==count:\n",
    "            print(new,end=' ')\n",
    "            return\n",
    "        self.subsets(arr,new+[arr[count]],count+1)\n",
    "        self.subsets(arr,new,count+1)\n",
    "obj=Solution()\n",
    "obj.subsets([1,2,3],[],0)"
   ]
  },
  {
   "cell_type": "code",
   "execution_count": 15,
   "id": "91450ab1",
   "metadata": {},
   "outputs": [
    {
     "data": {
      "text/plain": [
       "5"
      ]
     },
     "execution_count": 15,
     "metadata": {},
     "output_type": "execute_result"
    }
   ],
   "source": [
    "a=range(0,5)\n",
    "len(a)"
   ]
  },
  {
   "cell_type": "code",
   "execution_count": 18,
   "id": "617f2543",
   "metadata": {},
   "outputs": [
    {
     "data": {
      "text/plain": [
       "[[1], [], [], [], []]"
      ]
     },
     "execution_count": 18,
     "metadata": {},
     "output_type": "execute_result"
    }
   ],
   "source": [
    "l=[[] for i in range(5)]\n",
    "l[0]+=[1]\n",
    "l"
   ]
  },
  {
   "cell_type": "code",
   "execution_count": 28,
   "id": "94ca7b78",
   "metadata": {},
   "outputs": [
    {
     "data": {
      "text/plain": [
       "[[2], [2], [2], [2], [2]]"
      ]
     },
     "execution_count": 28,
     "metadata": {},
     "output_type": "execute_result"
    }
   ],
   "source": [
    "l=[[]]*5\n",
    "l[3]+=[2]\n",
    "l"
   ]
  },
  {
   "cell_type": "code",
   "execution_count": 36,
   "id": "7a7a539e",
   "metadata": {},
   "outputs": [
    {
     "data": {
      "text/plain": [
       "['4', '5', '6', '1', '2', '3', '4']"
      ]
     },
     "execution_count": 36,
     "metadata": {},
     "output_type": "execute_result"
    }
   ],
   "source": [
    "l=[]\n",
    "l.extend(\"4561234\")\n",
    "l"
   ]
  },
  {
   "cell_type": "code",
   "execution_count": 37,
   "id": "9af39cf5",
   "metadata": {},
   "outputs": [],
   "source": [
    "del l[1]"
   ]
  },
  {
   "cell_type": "code",
   "execution_count": 38,
   "id": "7eb767b2",
   "metadata": {},
   "outputs": [
    {
     "data": {
      "text/plain": [
       "['4', '6', '1', '2', '3', '4']"
      ]
     },
     "execution_count": 38,
     "metadata": {},
     "output_type": "execute_result"
    }
   ],
   "source": [
    "l"
   ]
  },
  {
   "cell_type": "code",
   "execution_count": 39,
   "id": "379b5c12",
   "metadata": {},
   "outputs": [
    {
     "data": {
      "text/plain": [
       "['1', '2', '3', '4']"
      ]
     },
     "execution_count": 39,
     "metadata": {},
     "output_type": "execute_result"
    }
   ],
   "source": [
    "del l[0:2]\n",
    "l"
   ]
  },
  {
   "cell_type": "code",
   "execution_count": 42,
   "id": "0565fece",
   "metadata": {},
   "outputs": [
    {
     "data": {
      "text/plain": [
       "2"
      ]
     },
     "execution_count": 42,
     "metadata": {},
     "output_type": "execute_result"
    }
   ],
   "source": [
    "l=['4', '5', '6', '1', '2', '3', '4']\n",
    "l.count('4')"
   ]
  },
  {
   "cell_type": "code",
   "execution_count": 45,
   "id": "89ce05c5",
   "metadata": {},
   "outputs": [
    {
     "data": {
      "text/plain": [
       "[8, 7, 6, 5, 4, 3, 2, 1]"
      ]
     },
     "execution_count": 45,
     "metadata": {},
     "output_type": "execute_result"
    }
   ],
   "source": [
    "l=[1,2,3,4,5,6,7,8]\n",
    "n=len(l)\n",
    "for i in range(n//2):\n",
    "    l[i],l[n-i-1]=l[n-i-1],l[i]\n",
    "l"
   ]
  },
  {
   "cell_type": "code",
   "execution_count": 49,
   "id": "66567a6e",
   "metadata": {},
   "outputs": [
    {
     "data": {
      "text/plain": [
       "False"
      ]
     },
     "execution_count": 49,
     "metadata": {},
     "output_type": "execute_result"
    }
   ],
   "source": [
    "all([1,2,False])"
   ]
  },
  {
   "cell_type": "code",
   "execution_count": 55,
   "id": "1476b8a8",
   "metadata": {},
   "outputs": [
    {
     "data": {
      "text/plain": [
       "True"
      ]
     },
     "execution_count": 55,
     "metadata": {},
     "output_type": "execute_result"
    }
   ],
   "source": [
    "any([[False]])"
   ]
  },
  {
   "cell_type": "code",
   "execution_count": 62,
   "id": "b3a74194",
   "metadata": {},
   "outputs": [
    {
     "data": {
      "text/plain": [
       "[(100, 8),\n",
       " (101, 7),\n",
       " (102, 6),\n",
       " (103, 5),\n",
       " (104, 4),\n",
       " (105, 3),\n",
       " (106, 2),\n",
       " (107, 1)]"
      ]
     },
     "execution_count": 62,
     "metadata": {},
     "output_type": "execute_result"
    }
   ],
   "source": [
    "list(enumerate(l,start=100))    #list(enumerate(l,100))"
   ]
  },
  {
   "cell_type": "code",
   "execution_count": 8,
   "id": "652aee82",
   "metadata": {},
   "outputs": [
    {
     "data": {
      "text/plain": [
       "[[1, 1, -1], [1, 1, 1], [2, 4, 2], [2, 3, -1], [3, 2, 3]]"
      ]
     },
     "execution_count": 8,
     "metadata": {},
     "output_type": "execute_result"
    }
   ],
   "source": [
    "l=[[3,2,3],[1,1,1],[2,3,-1],[2,4,2],[1,1,-1]]\n",
    "l=list(sorted(l,key=lambda x:(x[0],-x[1],x[2]),reverse=False))\n",
    "l"
   ]
  },
  {
   "cell_type": "code",
   "execution_count": 68,
   "id": "08ae6202",
   "metadata": {},
   "outputs": [
    {
     "data": {
      "text/plain": [
       "11"
      ]
     },
     "execution_count": 68,
     "metadata": {},
     "output_type": "execute_result"
    }
   ],
   "source": [
    "sum([1,2,3],5)"
   ]
  },
  {
   "cell_type": "code",
   "execution_count": 72,
   "id": "3ef32b85",
   "metadata": {},
   "outputs": [
    {
     "name": "stdout",
     "output_type": "stream",
     "text": [
      "2.0\n",
      "code executed\n"
     ]
    }
   ],
   "source": [
    "a=10\n",
    "b=0\n",
    "try:\n",
    "   print(a/b) \n",
    "except ZeroDivisionError:\n",
    "    b+=5\n",
    "    print(a/b)\n",
    "finally:\n",
    "    print(\"code executed\")"
   ]
  },
  {
   "cell_type": "code",
   "execution_count": 5,
   "id": "041fb8f6",
   "metadata": {},
   "outputs": [],
   "source": [
    "d={'sun':'Sunday','mon':'Monday','tue':'Tuesday','wed':'Wednesday'}"
   ]
  },
  {
   "cell_type": "code",
   "execution_count": 15,
   "id": "210524ec",
   "metadata": {},
   "outputs": [
    {
     "data": {
      "text/plain": [
       "'sdfsdv'"
      ]
     },
     "execution_count": 15,
     "metadata": {},
     "output_type": "execute_result"
    }
   ],
   "source": [
    "d.get('su','sdfsdv')\n"
   ]
  },
  {
   "cell_type": "code",
   "execution_count": 21,
   "id": "4c1bc87c",
   "metadata": {},
   "outputs": [
    {
     "name": "stdout",
     "output_type": "stream",
     "text": [
      "['False', 'None', 'True', '__peg_parser__', 'and', 'as', 'assert', 'async', 'await', 'break', 'class', 'continue', 'def', 'del', 'elif', 'else', 'except', 'finally', 'for', 'from', 'global', 'if', 'import', 'in', 'is', 'lambda', 'nonlocal', 'not', 'or', 'pass', 'raise', 'return', 'try', 'while', 'with', 'yield'] "
     ]
    }
   ],
   "source": [
    "import keyword\n",
    "print(keyword.kwlist,end=' ')"
   ]
  },
  {
   "cell_type": "code",
   "execution_count": 3,
   "id": "14ddbd58",
   "metadata": {},
   "outputs": [
    {
     "data": {
      "text/plain": [
       "'0b10001'"
      ]
     },
     "execution_count": 3,
     "metadata": {},
     "output_type": "execute_result"
    }
   ],
   "source": [
    "bin(0X11)"
   ]
  },
  {
   "cell_type": "code",
   "execution_count": 4,
   "id": "cd18e88c",
   "metadata": {},
   "outputs": [
    {
     "data": {
      "text/plain": [
       "'0o7'"
      ]
     },
     "execution_count": 4,
     "metadata": {},
     "output_type": "execute_result"
    }
   ],
   "source": [
    "oct(0B111)"
   ]
  },
  {
   "cell_type": "code",
   "execution_count": 10,
   "id": "90166b15",
   "metadata": {},
   "outputs": [
    {
     "data": {
      "text/plain": [
       "6.0"
      ]
     },
     "execution_count": 10,
     "metadata": {},
     "output_type": "execute_result"
    }
   ],
   "source": [
    "a=3+6j\n",
    "a.imag   #a.real"
   ]
  },
  {
   "cell_type": "code",
   "execution_count": 13,
   "id": "a7dac324",
   "metadata": {},
   "outputs": [
    {
     "data": {
      "text/plain": [
       "2"
      ]
     },
     "execution_count": 13,
     "metadata": {},
     "output_type": "execute_result"
    }
   ],
   "source": [
    "True+True+False"
   ]
  },
  {
   "cell_type": "code",
   "execution_count": 14,
   "id": "96ba3627",
   "metadata": {},
   "outputs": [
    {
     "data": {
      "text/plain": [
       "(1+0j)"
      ]
     },
     "execution_count": 14,
     "metadata": {},
     "output_type": "execute_result"
    }
   ],
   "source": [
    "complex(True,False)"
   ]
  },
  {
   "cell_type": "code",
   "execution_count": 36,
   "id": "16bf700e",
   "metadata": {},
   "outputs": [
    {
     "data": {
      "text/plain": [
       "70341716272"
      ]
     },
     "execution_count": 36,
     "metadata": {},
     "output_type": "execute_result"
    }
   ],
   "source": [
    "a=1\n",
    "id(a)"
   ]
  },
  {
   "cell_type": "code",
   "execution_count": 39,
   "id": "e44ebdb2",
   "metadata": {},
   "outputs": [
    {
     "name": "stdout",
     "output_type": "stream",
     "text": [
      "100 4\n",
      "4 100\n"
     ]
    }
   ],
   "source": [
    "a=100\n",
    "b=4\n",
    "print(a,b)\n",
    "a=a^b\n",
    "b=a^b\n",
    "a=a^b\n",
    "print(a,b)"
   ]
  },
  {
   "cell_type": "code",
   "execution_count": 40,
   "id": "7be7d9dc",
   "metadata": {},
   "outputs": [
    {
     "data": {
      "text/plain": [
       "70489945792"
      ]
     },
     "execution_count": 40,
     "metadata": {},
     "output_type": "execute_result"
    }
   ],
   "source": [
    "l=[1,2,3]\n",
    "id(l)"
   ]
  },
  {
   "cell_type": "code",
   "execution_count": 41,
   "id": "e16d0fb6",
   "metadata": {},
   "outputs": [
    {
     "data": {
      "text/plain": [
       "70489945792"
      ]
     },
     "execution_count": 41,
     "metadata": {},
     "output_type": "execute_result"
    }
   ],
   "source": [
    "l+=[5]\n",
    "id(l)"
   ]
  },
  {
   "cell_type": "code",
   "execution_count": 42,
   "id": "65e5cfe4",
   "metadata": {},
   "outputs": [
    {
     "data": {
      "text/plain": [
       "70412707824"
      ]
     },
     "execution_count": 42,
     "metadata": {},
     "output_type": "execute_result"
    }
   ],
   "source": [
    "s=\"sat\"\n",
    "id(s)"
   ]
  },
  {
   "cell_type": "code",
   "execution_count": 43,
   "id": "cf7dc018",
   "metadata": {},
   "outputs": [
    {
     "data": {
      "text/plain": [
       "70489717232"
      ]
     },
     "execution_count": 43,
     "metadata": {},
     "output_type": "execute_result"
    }
   ],
   "source": [
    "s+='ish'\n",
    "id(s)"
   ]
  },
  {
   "cell_type": "code",
   "execution_count": 51,
   "id": "ae0beac5",
   "metadata": {},
   "outputs": [
    {
     "ename": "ValueError",
     "evalue": "bytes must be in range(0, 256)",
     "output_type": "error",
     "traceback": [
      "\u001b[1;31m-------------------------\u001b[0m",
      "\u001b[1;31mValueError\u001b[0mTraceback (most recent call last)",
      "Input \u001b[1;32mIn [51]\u001b[0m, in \u001b[0;36m<cell line: 2>\u001b[1;34m()\u001b[0m\n\u001b[0;32m      1\u001b[0m x\u001b[38;5;241m=\u001b[39m[\u001b[38;5;241m10\u001b[39m,\u001b[38;5;241m20\u001b[39m,\u001b[38;5;241m30\u001b[39m,\u001b[38;5;241m255\u001b[39m,\u001b[38;5;241m0\u001b[39m,\u001b[38;5;241m-\u001b[39m\u001b[38;5;241m1\u001b[39m]\n\u001b[1;32m----> 2\u001b[0m b\u001b[38;5;241m=\u001b[39m\u001b[38;5;28;43mbytes\u001b[39;49m\u001b[43m(\u001b[49m\u001b[43mx\u001b[49m\u001b[43m)\u001b[49m\n\u001b[0;32m      3\u001b[0m \u001b[38;5;28mlen\u001b[39m(b)\n",
      "\u001b[1;31mValueError\u001b[0m: bytes must be in range(0, 256)"
     ]
    }
   ],
   "source": [
    "x=[10,20,30,255,0]    # [0,255]\n",
    "b=bytes(x)\n",
    "len(b)"
   ]
  },
  {
   "cell_type": "code",
   "execution_count": 55,
   "id": "aa040de8",
   "metadata": {},
   "outputs": [
    {
     "data": {
      "text/plain": [
       "20"
      ]
     },
     "execution_count": 55,
     "metadata": {},
     "output_type": "execute_result"
    }
   ],
   "source": [
    "x=[10,20,30,255,0]    # [0,255]\n",
    "b=bytearray(x)\n",
    "b[0]=20\n",
    "b[0]"
   ]
  },
  {
   "cell_type": "code",
   "execution_count": 65,
   "id": "cc873c27",
   "metadata": {},
   "outputs": [
    {
     "name": "stdout",
     "output_type": "stream",
     "text": [
      "[1, 2, 3, 4]\n",
      "70341716272 70341716304 70341716336 70341716368\n"
     ]
    }
   ],
   "source": [
    "l=[1,2,3,4]\n",
    "print(l)\n",
    "print(id(l[0]),id(l[1]),id(l[2]),id(l[3]))"
   ]
  },
  {
   "cell_type": "code",
   "execution_count": 2,
   "id": "1fb3b93e",
   "metadata": {},
   "outputs": [
    {
     "ename": "TypeError",
     "evalue": "'range' object does not support item assignment",
     "output_type": "error",
     "traceback": [
      "\u001b[1;31m-------------------------\u001b[0m",
      "\u001b[1;31mTypeError\u001b[0mTraceback (most recent call last)",
      "Input \u001b[1;32mIn [2]\u001b[0m, in \u001b[0;36m<cell line: 2>\u001b[1;34m()\u001b[0m\n\u001b[0;32m      1\u001b[0m r\u001b[38;5;241m=\u001b[39m\u001b[38;5;28mrange\u001b[39m(\u001b[38;5;241m1\u001b[39m,\u001b[38;5;241m10\u001b[39m)\n\u001b[1;32m----> 2\u001b[0m r[\u001b[38;5;241m0\u001b[39m]\u001b[38;5;241m=\u001b[39m\u001b[38;5;241m2\u001b[39m\n",
      "\u001b[1;31mTypeError\u001b[0m: 'range' object does not support item assignment"
     ]
    }
   ],
   "source": [
    "r=range(1,10)\n",
    "r[0]=2        # range is immutable"
   ]
  },
  {
   "cell_type": "code",
   "execution_count": 4,
   "id": "e1b52df3",
   "metadata": {},
   "outputs": [
    {
     "ename": "TypeError",
     "evalue": "'tuple' object does not support item assignment",
     "output_type": "error",
     "traceback": [
      "\u001b[1;31m-------------------------\u001b[0m",
      "\u001b[1;31mTypeError\u001b[0mTraceback (most recent call last)",
      "Input \u001b[1;32mIn [4]\u001b[0m, in \u001b[0;36m<cell line: 2>\u001b[1;34m()\u001b[0m\n\u001b[0;32m      1\u001b[0m t\u001b[38;5;241m=\u001b[39m(\u001b[38;5;241m1\u001b[39m,\u001b[38;5;241m2\u001b[39m,\u001b[38;5;241m3\u001b[39m,\u001b[38;5;241m4\u001b[39m)\n\u001b[1;32m----> 2\u001b[0m t[\u001b[38;5;241m0\u001b[39m]\u001b[38;5;241m=\u001b[39m\u001b[38;5;241m4\u001b[39m\n",
      "\u001b[1;31mTypeError\u001b[0m: 'tuple' object does not support item assignment"
     ]
    }
   ],
   "source": [
    "t=(1,2,3,4)\n",
    "t[0]=4     #immutabke"
   ]
  },
  {
   "cell_type": "code",
   "execution_count": 6,
   "id": "6c955482",
   "metadata": {},
   "outputs": [
    {
     "ename": "TypeError",
     "evalue": "'set' object is not subscriptable",
     "output_type": "error",
     "traceback": [
      "\u001b[1;31m-------------------------\u001b[0m",
      "\u001b[1;31mTypeError\u001b[0mTraceback (most recent call last)",
      "Input \u001b[1;32mIn [6]\u001b[0m, in \u001b[0;36m<cell line: 2>\u001b[1;34m()\u001b[0m\n\u001b[0;32m      1\u001b[0m s\u001b[38;5;241m=\u001b[39m{\u001b[38;5;241m1\u001b[39m,\u001b[38;5;241m2\u001b[39m,\u001b[38;5;241m3\u001b[39m}\n\u001b[1;32m----> 2\u001b[0m \u001b[43ms\u001b[49m\u001b[43m[\u001b[49m\u001b[38;5;241;43m0\u001b[39;49m\u001b[43m]\u001b[49m\n",
      "\u001b[1;31mTypeError\u001b[0m: 'set' object is not subscriptable"
     ]
    }
   ],
   "source": [
    "s={1,2,3}\n",
    "s"
   ]
  },
  {
   "cell_type": "code",
   "execution_count": 8,
   "id": "b35d1ef4",
   "metadata": {},
   "outputs": [
    {
     "data": {
      "text/plain": [
       "3.141592653589793"
      ]
     },
     "execution_count": 8,
     "metadata": {},
     "output_type": "execute_result"
    }
   ],
   "source": [
    "from math import pi\n",
    "pi"
   ]
  },
  {
   "cell_type": "code",
   "execution_count": 9,
   "id": "764540f2",
   "metadata": {},
   "outputs": [
    {
     "data": {
      "text/plain": [
       "-inf"
      ]
     },
     "execution_count": 9,
     "metadata": {},
     "output_type": "execute_result"
    }
   ],
   "source": [
    "float('-inf')"
   ]
  },
  {
   "cell_type": "code",
   "execution_count": 2,
   "id": "9f06db33",
   "metadata": {},
   "outputs": [
    {
     "name": "stdout",
     "output_type": "stream",
     "text": [
      "1 2\n",
      "1 2\n"
     ]
    }
   ],
   "source": [
    "a,b=[int(x) for x in input().split()]\n",
    "print(a,b)"
   ]
  },
  {
   "cell_type": "code",
   "execution_count": 8,
   "id": "e663b451",
   "metadata": {},
   "outputs": [
    {
     "data": {
      "text/plain": [
       "{1: 2, 3: 4, 5: 6, 6: 7}"
      ]
     },
     "execution_count": 8,
     "metadata": {},
     "output_type": "execute_result"
    }
   ],
   "source": [
    "a=[(1,2),(3,4)]\n",
    "d=dict(a)\n",
    "d.setdefault(5,6)\n",
    "d.setdefault(6,7)\n",
    "d"
   ]
  },
  {
   "cell_type": "code",
   "execution_count": 10,
   "id": "72ce8cbd",
   "metadata": {},
   "outputs": [
    {
     "data": {
      "text/plain": [
       "21"
      ]
     },
     "execution_count": 10,
     "metadata": {},
     "output_type": "execute_result"
    }
   ],
   "source": [
    "from functools import *\n",
    "l=[1,2,3,4,5,6]\n",
    "x,y=0,0\n",
    "l2=reduce(lambda x,y:x+y,l)\n",
    "l2"
   ]
  },
  {
   "cell_type": "code",
   "execution_count": 9,
   "id": "9b685253",
   "metadata": {},
   "outputs": [
    {
     "data": {
      "text/plain": [
       "[1, 4, 9, 16, 25, 36]"
      ]
     },
     "execution_count": 9,
     "metadata": {},
     "output_type": "execute_result"
    }
   ],
   "source": [
    "l=[1,2,3,4,5,6]\n",
    "l2=list(map(lambda x:x*x,l))\n",
    "l2"
   ]
  },
  {
   "cell_type": "code",
   "execution_count": 11,
   "id": "2286d9ba",
   "metadata": {},
   "outputs": [
    {
     "data": {
      "text/plain": [
       "[2, 4, 6]"
      ]
     },
     "execution_count": 11,
     "metadata": {},
     "output_type": "execute_result"
    }
   ],
   "source": [
    "l=[1,2,3,4,5,6]\n",
    "l2=list(filter(lambda x:x%2==0,l))\n",
    "l2"
   ]
  },
  {
   "cell_type": "code",
   "execution_count": 5,
   "id": "4be4e29a",
   "metadata": {},
   "outputs": [
    {
     "name": "stdout",
     "output_type": "stream",
     "text": [
      "[0, 0, 0, 0, 0]\n"
     ]
    },
    {
     "data": {
      "text/plain": [
       "3"
      ]
     },
     "execution_count": 5,
     "metadata": {},
     "output_type": "execute_result"
    }
   ],
   "source": [
    "class Solution:\n",
    "    def findDuplicate(self, nums):\n",
    "        org=[0]*(len(nums))\n",
    "        print(org)\n",
    "        for i in nums:\n",
    "            if org[i]:\n",
    "                return i\n",
    "            org[i]=1\n",
    "obj=Solution()\n",
    "obj.findDuplicate([3,1,3,4,2])"
   ]
  },
  {
   "cell_type": "code",
   "execution_count": 7,
   "id": "062c1dda",
   "metadata": {},
   "outputs": [
    {
     "data": {
      "text/plain": [
       "[0, 1, 2, 0, 2, 1]"
      ]
     },
     "execution_count": 7,
     "metadata": {},
     "output_type": "execute_result"
    }
   ],
   "source": [
    "a=[1,2,3]\n",
    "b=[6,5]\n",
    "res=[]\n",
    "for i in a:\n",
    "    for j in b:\n",
    "        res+=[i&j]\n",
    "res"
   ]
  },
  {
   "cell_type": "code",
   "execution_count": 19,
   "id": "a7a87004",
   "metadata": {},
   "outputs": [
    {
     "data": {
      "text/plain": [
       "1"
      ]
     },
     "execution_count": 19,
     "metadata": {},
     "output_type": "execute_result"
    }
   ],
   "source": [
    "9&(5^6)"
   ]
  },
  {
   "cell_type": "code",
   "execution_count": 19,
   "id": "a9849354",
   "metadata": {},
   "outputs": [
    {
     "data": {
      "text/plain": [
       "[True, True, True]"
      ]
     },
     "execution_count": 19,
     "metadata": {},
     "output_type": "execute_result"
    }
   ],
   "source": [
    "a=[2,4,6]\n",
    "def even(x):\n",
    "    return x%2==0\n",
    "b=list(map(even,a))\n",
    "b"
   ]
  },
  {
   "cell_type": "code",
   "execution_count": 21,
   "id": "3be83f28",
   "metadata": {},
   "outputs": [
    {
     "data": {
      "text/plain": [
       "[7, 3]"
      ]
     },
     "execution_count": 21,
     "metadata": {},
     "output_type": "execute_result"
    }
   ],
   "source": [
    "b=[3,3,7]\n",
    "sorted(set(b),reverse=True)"
   ]
  },
  {
   "cell_type": "code",
   "execution_count": 22,
   "id": "f353c69e",
   "metadata": {},
   "outputs": [
    {
     "data": {
      "text/plain": [
       "False"
      ]
     },
     "execution_count": 22,
     "metadata": {},
     "output_type": "execute_result"
    }
   ],
   "source": [
    "[1,2]==[2,1]"
   ]
  },
  {
   "cell_type": "code",
   "execution_count": 12,
   "id": "d556699a",
   "metadata": {},
   "outputs": [
    {
     "name": "stdout",
     "output_type": "stream",
     "text": [
      "0.6934158989890115, 1, 1.2910612762293696, 2, b, 0.43250568040736337, 1, 2.0955785552350346, 2, c, 0.322354868618975, 1, 8.817923927900255, 1, a, 0.9131979980765105, 1, 4.93552859786726, 2, c, 0.8263724451944265, 2, 9.899029584187712, 2, b, 0.8954395920816839, 1, 8.593343764951719, 1, c, 0.8260471023381486, 1, 6.006420753036305, 2, c, 0.5791789034872564, 2, 9.627564523506972, 1, c, 0.4391125275171943, 1, 3.938978668916026, 2, c, 0.031721331633188465, 2, 8.610406116380949, 2, a, "
     ]
    }
   ],
   "source": [
    "from random import *\n",
    "l=['a','b','c']\n",
    "for i in range(10):\n",
    "    print(random(),end=', ')\n",
    "    print(randint(1,2),end=', ')\n",
    "    print(uniform(1,10),end=', ')\n",
    "    print(randrange(1,3),end=', ')\n",
    "    print(choice(l),end=', ')"
   ]
  },
  {
   "cell_type": "code",
   "execution_count": 13,
   "id": "4fc68a87",
   "metadata": {},
   "outputs": [
    {
     "name": "stdout",
     "output_type": "stream",
     "text": [
      "3 2 1 "
     ]
    },
    {
     "data": {
      "text/plain": [
       "6"
      ]
     },
     "execution_count": 13,
     "metadata": {},
     "output_type": "execute_result"
    }
   ],
   "source": [
    "def factorial(n):\n",
    "    if n==0:\n",
    "        return 1\n",
    "    else:\n",
    "        print(n,end=' ')\n",
    "        return n*factorial(n-1)\n",
    "factorial(3)"
   ]
  },
  {
   "cell_type": "code",
   "execution_count": 14,
   "id": "ec3f2dfe",
   "metadata": {},
   "outputs": [
    {
     "name": "stdout",
     "output_type": "stream",
     "text": [
      "4 19\n",
      "3 4\n",
      "1 3\n",
      "0 1\n",
      "1\n"
     ]
    }
   ],
   "source": [
    "def gcd(a, b):\n",
    "    a, b = b % a, a\n",
    "    print(a,b)\n",
    "    if a == 0:\n",
    "        # BASE CASE\n",
    "        return b\n",
    "    else:\n",
    "        # RECURSIVE CASE\n",
    "        return gcd(a, b)\n",
    "\n",
    "print(gcd(19,42))"
   ]
  },
  {
   "cell_type": "code",
   "execution_count": 15,
   "id": "3de1d65f",
   "metadata": {},
   "outputs": [
    {
     "name": "stdout",
     "output_type": "stream",
     "text": [
      "[('Mon', ('05:00', '13:00')), ('Mon', ('15:00', '21:00')), ('Tue', ('03:30', '18:15')), ('Tue', ('19:00', '20:00')), ('Wed', ('04:25', '15:14')), ('Wed', ('15:14', '22:40')), ('Thu', ('00:00', '23:59')), ('Fri', ('05:00', '10:00')), ('Fri', ('16:30', '23:50')), ('Sat', ('02:00', '06:00')), ('Sat', ('10:00', '24:00')), ('Sun', ('01:00', '04:00')), ('Sun', ('10:00', '20:00'))]\n",
      "300 - 780\n",
      "900 - 1260\n",
      "1650 - 2535\n",
      "2580 - 2640\n",
      "3145 - 3794\n",
      "3794 - 4240\n",
      "4320 - 5759\n",
      "6060 - 6360\n",
      "6750 - 7190\n",
      "7320 - 7560\n",
      "7800 - 8640\n",
      "8700 - 8880\n",
      "9240 - 9840\n"
     ]
    },
    {
     "data": {
      "text/plain": [
       "505"
      ]
     },
     "execution_count": 15,
     "metadata": {},
     "output_type": "execute_result"
    }
   ],
   "source": [
    "def convert_to_minutes(day, time):\n",
    "    days = {'Mon': 0,'Tue': 1,'Wed': 2,'Thu': 3,'Fri': 4,'Sat': 5,'Sun': 6}\n",
    "    minutes = days[day] * 24 * 60\n",
    "    start_hour, start_minute = map(int, time[0].split(':'))\n",
    "    end_hour, end_minute = map(int, time[1].split(':'))\n",
    "    start_time = start_hour * 60 + start_minute\n",
    "    end_time = end_hour * 60 + end_minute\n",
    "    return minutes + start_time, minutes + end_time\n",
    "\n",
    "\n",
    "def solution(S):\n",
    "    meetings = S.split('\\n')\n",
    "    schedule = []\n",
    "    for meeting in meetings:\n",
    "        day, times = meeting.split(' ')\n",
    "        start_time, end_time = times.split('-')\n",
    "        schedule.append((day, (start_time, end_time)))\n",
    "    schedule.sort(key=lambda x: convert_to_minutes(x[0], x[1]))\n",
    "\n",
    "    print(schedule)\n",
    "    \n",
    "    max_sleep_time = 0\n",
    "    previous_end_time = 0\n",
    "\n",
    "    for meeting in schedule:\n",
    "        start_time, end_time = convert_to_minutes(meeting[0], meeting[1])\n",
    "        print(start_time,'-',end_time)\n",
    "        if start_time > previous_end_time:\n",
    "            sleep_time = start_time - previous_end_time\n",
    "            max_sleep_time = max(max_sleep_time, sleep_time)\n",
    "        previous_end_time = max(previous_end_time, end_time)\n",
    "\n",
    "    last_day_end_time = convert_to_minutes('Sun', ('24:00', '24:00'))[1]\n",
    "    if last_day_end_time > previous_end_time:\n",
    "        sleep_time = last_day_end_time - previous_end_time\n",
    "        max_sleep_time = max(max_sleep_time, sleep_time)\n",
    "\n",
    "    return max_sleep_time\n",
    "\n",
    "solution(\"Sun 10:00-20:00\\nFri 05:00-10:00\\nFri 16:30-23:50\\nSat 10:00-24:00\\nSun 01:00-04:00\\nSat 02:00-06:00\\nTue 03:30-18:15\\nTue 19:00-20:00\\nWed 04:25-15:14\\nWed 15:14-22:40\\nThu 00:00-23:59\\nMon 05:00-13:00\\nMon 15:00-21:00\")"
   ]
  },
  {
   "cell_type": "code",
   "execution_count": 16,
   "id": "df49dc9d",
   "metadata": {},
   "outputs": [
    {
     "name": "stdout",
     "output_type": "stream",
     "text": [
      "1200 300\n",
      "600 120\n",
      "1430 120\n",
      "1440 60\n",
      "240 300\n",
      "360 60\n",
      "1095 265\n",
      "1200 265\n",
      "914 0\n",
      "1360 0\n",
      "1439 300\n",
      "780 210\n",
      "1260 210\n"
     ]
    },
    {
     "data": {
      "text/plain": [
       "1140"
      ]
     },
     "execution_count": 16,
     "metadata": {},
     "output_type": "execute_result"
    }
   ],
   "source": [
    "# you can write to stdout for debugging purposes, e.g.\n",
    "# print(\"this is a debug message\")\n",
    "\n",
    "def solution(S):\n",
    "    timings=[]\n",
    "    split_list=S.split('\\n')\n",
    "    #print(split_list)\n",
    "    #for i in split_list:\n",
    "     #   timings+=[int(i[4:6])*60+int(i[7:9]),int(i[10:12])*60+int(i[13:15])]\n",
    "    #print(timings)\n",
    "    days=['Sun','Mon','Tue','Wed','Thu','Fri','Sat']\n",
    "    mn=0\n",
    "    for i in split_list:\n",
    "        day=i[0:3]\n",
    "        time1=int(i[10:12])*60+int(i[13:15])\n",
    "        same=[]\n",
    "        for j in split_list:\n",
    "            if j[0:3]==days[(days.index(day)+1)%7]:\n",
    "                time2=int(j[4:6])*60+int(j[7:9])\n",
    "                same+=[time2]\n",
    "        time2=min(same)\n",
    "        print(time1,time2)\n",
    "        if time1>time2:\n",
    "            diff=1440-time1+time2\n",
    "        else:\n",
    "            diff=time2-time1\n",
    "        if diff>mn:\n",
    "            mn=diff\n",
    "    return mn\n",
    "    pass\n",
    "solution(\"Sun 10:00-20:00\\nFri 05:00-10:00\\nFri 16:30-23:50\\nSat 10:00-24:00\\nSun 01:00-04:00\\nSat 02:00-06:00\\nTue 03:30-18:15\\nTue 19:00-20:00\\nWed 04:25-15:14\\nWed 15:14-22:40\\nThu 00:00-23:59\\nMon 05:00-13:00\\nMon 15:00-21:00\")"
   ]
  },
  {
   "cell_type": "code",
   "execution_count": 17,
   "id": "2c345796",
   "metadata": {},
   "outputs": [
    {
     "data": {
      "text/plain": [
       "5"
      ]
     },
     "execution_count": 17,
     "metadata": {},
     "output_type": "execute_result"
    }
   ],
   "source": [
    "def solution(A):\n",
    "    n=len(A)\n",
    "    p=1\n",
    "    q=3\n",
    "    tc=A[p]+A[q]\n",
    "    mn=float('inf')\n",
    "    for i in range(q+1,n-1):\n",
    "        tc+=A[i]-A[q]\n",
    "        mn=min(mn,tc)\n",
    "    return mn\n",
    "solution([5,2,4,6,3,7])"
   ]
  },
  {
   "cell_type": "code",
   "execution_count": 4,
   "id": "5cff1ab0",
   "metadata": {},
   "outputs": [
    {
     "data": {
      "text/plain": [
       "'11'"
      ]
     },
     "execution_count": 4,
     "metadata": {},
     "output_type": "execute_result"
    }
   ],
   "source": [
    "a=bin(14)[2:]\n",
    "a\n",
    "a=a[:-1]\n",
    "a[:-1]"
   ]
  },
  {
   "cell_type": "code",
   "execution_count": 5,
   "id": "31a59809",
   "metadata": {},
   "outputs": [
    {
     "data": {
      "text/plain": [
       "7"
      ]
     },
     "execution_count": 5,
     "metadata": {},
     "output_type": "execute_result"
    }
   ],
   "source": [
    "int(a,2)"
   ]
  },
  {
   "cell_type": "code",
   "execution_count": null,
   "id": "9222e848",
   "metadata": {},
   "outputs": [],
   "source": []
  },
  {
   "cell_type": "code",
   "execution_count": null,
   "id": "94f6ad3f",
   "metadata": {},
   "outputs": [],
   "source": []
  },
  {
   "cell_type": "code",
   "execution_count": null,
   "id": "ff946f6f",
   "metadata": {},
   "outputs": [],
   "source": []
  },
  {
   "cell_type": "code",
   "execution_count": null,
   "id": "a483338d",
   "metadata": {},
   "outputs": [],
   "source": []
  },
  {
   "cell_type": "code",
   "execution_count": null,
   "id": "b736d3a6",
   "metadata": {},
   "outputs": [],
   "source": []
  },
  {
   "cell_type": "code",
   "execution_count": null,
   "id": "06d306cd",
   "metadata": {},
   "outputs": [],
   "source": []
  },
  {
   "cell_type": "code",
   "execution_count": null,
   "id": "7eca3cc5",
   "metadata": {},
   "outputs": [],
   "source": []
  },
  {
   "cell_type": "code",
   "execution_count": null,
   "id": "b7751266",
   "metadata": {},
   "outputs": [],
   "source": []
  },
  {
   "cell_type": "code",
   "execution_count": null,
   "id": "7c929e3c",
   "metadata": {},
   "outputs": [],
   "source": []
  }
 ],
 "metadata": {
  "kernelspec": {
   "display_name": "Python 3 (ipykernel)",
   "language": "python",
   "name": "python3"
  },
  "language_info": {
   "codemirror_mode": {
    "name": "ipython",
    "version": 3
   },
   "file_extension": ".py",
   "mimetype": "text/x-python",
   "name": "python",
   "nbconvert_exporter": "python",
   "pygments_lexer": "ipython3",
   "version": "3.9.12"
  }
 },
 "nbformat": 4,
 "nbformat_minor": 5
}
