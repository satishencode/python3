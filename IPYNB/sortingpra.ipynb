{
 "cells": [
  {
   "cell_type": "code",
   "execution_count": 1,
   "id": "e17b1046",
   "metadata": {},
   "outputs": [
    {
     "data": {
      "text/plain": [
       "[0, 1, 2, 3, 3, 4, 5, 6, 6, 7, 8, 9]"
      ]
     },
     "execution_count": 1,
     "metadata": {},
     "output_type": "execute_result"
    }
   ],
   "source": [
    "class Sorting:\n",
    "    def bubble(self,arr):\n",
    "        l=len(arr)\n",
    "        for i in range(l):\n",
    "            flag=1\n",
    "            for j in range(l-i-1):\n",
    "                if arr[j+1]<arr[j]:\n",
    "                    arr[j+1],arr[j]=arr[j],arr[j+1]\n",
    "                    flag=0\n",
    "            if flag==1:\n",
    "                return arr\n",
    "        return arr\n",
    "obj=Sorting()\n",
    "obj.bubble([5,2,7,9,1,0,3,4,8,6,6,3])"
   ]
  },
  {
   "cell_type": "code",
   "execution_count": 3,
   "id": "01ec2dfa",
   "metadata": {},
   "outputs": [
    {
     "data": {
      "text/plain": [
       "[0, 1, 2, 3, 3, 4, 5, 6, 6, 7, 8, 9]"
      ]
     },
     "execution_count": 3,
     "metadata": {},
     "output_type": "execute_result"
    }
   ],
   "source": [
    "class Sorting:\n",
    "    def insertion(self,arr):\n",
    "        l=len(arr)\n",
    "        for i in range(1,l):\n",
    "            val=arr[i]\n",
    "            gap=i\n",
    "            while gap>0 and arr[gap-1]>val:\n",
    "                arr[gap]=arr[gap-1]\n",
    "                gap-=1\n",
    "            arr[gap]=val\n",
    "        return arr\n",
    "obj=Sorting()\n",
    "obj.insertion([5,2,7,9,1,0,3,4,8,6,6,3])"
   ]
  },
  {
   "cell_type": "code",
   "execution_count": 6,
   "id": "13644c02",
   "metadata": {},
   "outputs": [
    {
     "data": {
      "text/plain": [
       "[0, 1, 2, 3, 3, 4, 5, 6, 6, 7, 8, 9]"
      ]
     },
     "execution_count": 6,
     "metadata": {},
     "output_type": "execute_result"
    }
   ],
   "source": [
    "class Sorting:\n",
    "    def selection(self,arr):\n",
    "        l=len(arr)\n",
    "        for i in range(l):\n",
    "            ind=i\n",
    "            for j in range(i+1,l):\n",
    "                if arr[j]<arr[ind]:\n",
    "                    ind=j\n",
    "            arr[ind],arr[i]=arr[i],arr[ind]\n",
    "        return arr\n",
    "obj=Sorting()\n",
    "obj.selection([5,2,7,9,1,0,3,4,8,6,6,3])"
   ]
  },
  {
   "cell_type": "code",
   "execution_count": 3,
   "id": "21a7d93d",
   "metadata": {},
   "outputs": [
    {
     "data": {
      "text/plain": [
       "[0, 1, 2, 3, 3, 4, 5, 6, 6, 7, 8, 9]"
      ]
     },
     "execution_count": 3,
     "metadata": {},
     "output_type": "execute_result"
    }
   ],
   "source": [
    "class Sorting:\n",
    "    def quick(self,arr):\n",
    "        l=len(arr)\n",
    "        if l<=1:\n",
    "            return arr\n",
    "        else:\n",
    "            pivot=arr[0]\n",
    "            left=[i for i in arr[1:] if i<pivot]\n",
    "            right=[i for i in arr[1:] if i>=pivot]\n",
    "            return self.quick(left)+[pivot]+self.quick(right)\n",
    "obj=Sorting()\n",
    "obj.quick([5,2,7,9,1,0,3,4,8,6,6,3])"
   ]
  },
  {
   "cell_type": "code",
   "execution_count": 1,
   "id": "5af0bf9d",
   "metadata": {},
   "outputs": [
    {
     "data": {
      "text/plain": [
       "[-4, -1, 0, 1, 2, 5, 5, 8]"
      ]
     },
     "execution_count": 1,
     "metadata": {},
     "output_type": "execute_result"
    }
   ],
   "source": [
    "class Solution:\n",
    "    def merge(self,left,right):\n",
    "        i,j=0,0\n",
    "        result=[]\n",
    "        while(i<len(left) and j<len(right)):\n",
    "            if left[i]<=right[j]:\n",
    "                result+=[left[i]]\n",
    "                i+=1\n",
    "            else:\n",
    "                result+=[right[j]]\n",
    "                j+=1\n",
    "        result+=left[i:]+right[j:]\n",
    "        return result\n",
    "    \n",
    "    def mergesort(self,arr):\n",
    "        if len(arr)<=1:\n",
    "            return arr\n",
    "        mid=len(arr)//2\n",
    "        left=self.mergesort(arr[:mid])\n",
    "        right=self.mergesort(arr[mid:])\n",
    "        return self.merge(left,right)\n",
    "obj=Solution()\n",
    "arr=[1,2,5,-1,-4,0,8,5]\n",
    "obj.mergesort(arr)"
   ]
  },
  {
   "cell_type": "code",
   "execution_count": 1,
   "id": "696b072a",
   "metadata": {},
   "outputs": [
    {
     "data": {
      "text/plain": [
       "[4, 11, 22, 33, 44, 44, 44, 55, 66, 77, 88]"
      ]
     },
     "execution_count": 1,
     "metadata": {},
     "output_type": "execute_result"
    }
   ],
   "source": [
    "class Solution:\n",
    "    def quicksort(self,arr,left,right):\n",
    "        if left<right:\n",
    "            pos=self.partition(arr,left,right)\n",
    "            self.quicksort(arr,left,pos-1)\n",
    "            self.quicksort(arr,pos+1,right)\n",
    "        return arr\n",
    "    def partition(self,arr,left,right):\n",
    "        i=left\n",
    "        j=right-1\n",
    "        pivot=arr[right]\n",
    "        while i<j:\n",
    "            while i<right and arr[i]<pivot:\n",
    "                i+=1\n",
    "            while arr[j]>=pivot and j>=i:\n",
    "                j-=1\n",
    "            if i<j:\n",
    "                arr[i],arr[j]=arr[j],arr[i]\n",
    "        if arr[i]>pivot:\n",
    "            arr[i],arr[right]=arr[right],arr[i]\n",
    "        return i\n",
    "obj=Solution()\n",
    "arr=[22,11,88,66,55,77,33,44,44,44,4]\n",
    "obj.quicksort(arr,0,len(arr)-1)"
   ]
  },
  {
   "cell_type": "code",
   "execution_count": 5,
   "id": "568ed02b",
   "metadata": {},
   "outputs": [
    {
     "data": {
      "text/plain": [
       "[-4, -1, 0, 1, 2, 5, 5, 8]"
      ]
     },
     "execution_count": 5,
     "metadata": {},
     "output_type": "execute_result"
    }
   ],
   "source": [
    "class Solution:\n",
    "    def quick(self,arr):\n",
    "        if len(arr)<=1:\n",
    "            return arr\n",
    "        else:\n",
    "            pivot=arr[0]\n",
    "            left=[i for i in arr[1:] if i<=pivot]\n",
    "            right=[i for i in arr[1:] if i>pivot]\n",
    "            return self.quick(left)+[pivot]+self.quick(right)\n",
    "obj=Solution()\n",
    "obj.quick([1,2,5,-1,-4,0,8,5])"
   ]
  },
  {
   "cell_type": "code",
   "execution_count": 11,
   "id": "48b57ebf",
   "metadata": {},
   "outputs": [
    {
     "data": {
      "text/plain": [
       "[-4, -1, 0, 1, 2, 5, 5, 8]"
      ]
     },
     "execution_count": 11,
     "metadata": {},
     "output_type": "execute_result"
    }
   ],
   "source": [
    "class Solution:\n",
    "    def quicksort(self,arr,left,right):\n",
    "        if left<right:\n",
    "            pos=self.partition(arr,left,right)\n",
    "            self.quicksort(arr,left,pos-1)\n",
    "            self.quicksort(arr,pos+1,right)\n",
    "        return arr\n",
    "    def partition(self,arr,left,right):\n",
    "        i=left\n",
    "        j=right-1\n",
    "        pivot=arr[right]\n",
    "        while i<j:\n",
    "            while i<right and arr[i]<pivot:\n",
    "                i+=1\n",
    "            while j>=i and arr[j]>pivot:\n",
    "                j-=1\n",
    "            if i<=j:\n",
    "                arr[i],arr[j]=arr[j],arr[i]\n",
    "        if arr[i]>pivot:\n",
    "            arr[i],arr[right]=arr[right],arr[i]\n",
    "        return i\n",
    "obj=Solution()\n",
    "arr=[1,2,5,-1,-4,0,8,5]\n",
    "obj.quicksort(arr,0,len(arr)-1)"
   ]
  },
  {
   "cell_type": "code",
   "execution_count": 13,
   "id": "c05ff830",
   "metadata": {},
   "outputs": [
    {
     "data": {
      "text/plain": [
       "[-4, -1, 0, 1, 2, 5, 5, 8]"
      ]
     },
     "execution_count": 13,
     "metadata": {},
     "output_type": "execute_result"
    }
   ],
   "source": [
    "class Solution:\n",
    "    def divide(self,arr):\n",
    "        if len(arr)<=1:\n",
    "            return arr\n",
    "        mid=len(arr)//2\n",
    "        left=self.divide(arr[:mid])\n",
    "        right=self.divide(arr[mid:])\n",
    "        return self.conquer(left,right)\n",
    "    \n",
    "    def conquer(self,left,right):\n",
    "        res=[]\n",
    "        i,j=0,0\n",
    "        while(i<len(left) and j<len(right)):\n",
    "            if left[i]<right[j]:\n",
    "                res+=[left[i]]\n",
    "                i+=1\n",
    "            else:\n",
    "                res+=[right[j]]\n",
    "                j+=1\n",
    "        res+=left[i:]+right[j:]\n",
    "        return res\n",
    "obj=Solution()\n",
    "obj.divide([1,2,5,-1,-4,0,8,5])"
   ]
  },
  {
   "cell_type": "code",
   "execution_count": 1,
   "id": "2a86f5cf",
   "metadata": {},
   "outputs": [
    {
     "name": "stdout",
     "output_type": "stream",
     "text": [
      "True\n",
      "False\n"
     ]
    }
   ],
   "source": [
    "from collections import Counter\n",
    "def TreeConstructor(strArr):\n",
    "    parent = []\n",
    "    child = []\n",
    "\n",
    "    for i in strArr:\n",
    "        child.append(int(i[1]))\n",
    "        parent.append(int(i[3]))\n",
    "    for k,v in Counter(parent).items():\n",
    "        if v > 2:\n",
    "            return False\n",
    "    for k,v in Counter(child).items():\n",
    "        if v > 1:\n",
    "            return False\n",
    "    return True\n",
    "\n",
    "print(TreeConstructor([\"(1,2)\", \"(2,4)\", \"(5,7)\", \"(7,2)\", \"(9,5)\"]))\n",
    "print(TreeConstructor([\"(1,2)\", \"(3,2)\", \"(2,12)\", \"(5,2)\"]))"
   ]
  },
  {
   "cell_type": "code",
   "execution_count": 2,
   "id": "6514e81a",
   "metadata": {},
   "outputs": [
    {
     "name": "stdout",
     "output_type": "stream",
     "text": [
      "15\n"
     ]
    }
   ],
   "source": [
    "def Calculator(strParam):\n",
    "    return int(eval(strParam))\n",
    "print(Calculator(\"6*(4/2)+3*1\"))"
   ]
  },
  {
   "cell_type": "code",
   "execution_count": 8,
   "id": "7eac5730",
   "metadata": {},
   "outputs": [
    {
     "name": "stdout",
     "output_type": "stream",
     "text": [
      "['unsorted array : ', [-5, 2, 5, 1, 7, 9, 0, -1, -1, 0]]\n"
     ]
    },
    {
     "data": {
      "text/plain": [
       "['sorted array : ', [-5, -1, -1, 0, 0, 1, 2, 5, 7, 9]]"
      ]
     },
     "execution_count": 8,
     "metadata": {},
     "output_type": "execute_result"
    }
   ],
   "source": [
    "class Sorting:\n",
    "    def bubbleSort(self,arr):\n",
    "        print([\"unsorted array : \",arr])\n",
    "        l=len(arr)\n",
    "        for i in range(l):\n",
    "            flag=0\n",
    "            for j in range(l-i-1):\n",
    "                if arr[j+1]<arr[j]:\n",
    "                    arr[j],arr[j+1]=arr[j+1],arr[j]\n",
    "                    flag=1\n",
    "            if flag==0:\n",
    "                return [\"sorted array : \",arr]\n",
    "        return [\"sorted array : \",arr]\n",
    "arr=[-5,2,5,1,7,9,0,-1,-1,0]\n",
    "obj=Sorting()\n",
    "obj.bubbleSort(arr)"
   ]
  },
  {
   "cell_type": "code",
   "execution_count": 11,
   "id": "2606eb06",
   "metadata": {},
   "outputs": [
    {
     "name": "stdout",
     "output_type": "stream",
     "text": [
      "['unsorted array : ', [-5, 2, 5, 1, 7, 9, 0, -1, -1, 0]]\n"
     ]
    },
    {
     "data": {
      "text/plain": [
       "['sorted array : ', [-5, -1, -1, 0, 0, 1, 2, 5, 7, 9]]"
      ]
     },
     "execution_count": 11,
     "metadata": {},
     "output_type": "execute_result"
    }
   ],
   "source": [
    "class Sorting:\n",
    "    def insertionSort(self,arr):\n",
    "        print([\"unsorted array : \",arr])\n",
    "        l=len(arr)\n",
    "        for i in range(1,l):\n",
    "            gap=i\n",
    "            value=arr[i]\n",
    "            while gap>0 and arr[gap-1]>value:\n",
    "                arr[gap]=arr[gap-1]\n",
    "                gap-=1\n",
    "            arr[gap]=value\n",
    "        return [\"sorted array : \",arr]\n",
    "arr=[-5,2,5,1,7,9,0,-1,-1,0]\n",
    "obj=Sorting()      \n",
    "obj.insertionSort(arr)"
   ]
  },
  {
   "cell_type": "code",
   "execution_count": 17,
   "id": "ecbe3e10",
   "metadata": {},
   "outputs": [
    {
     "name": "stdout",
     "output_type": "stream",
     "text": [
      "['unsorted array : ', [-5, 2, 5, 1, 7, 9, 0, -1, -1, 0]]\n"
     ]
    },
    {
     "data": {
      "text/plain": [
       "['sorted array : ', [-5, -1, -1, 0, 0, 1, 2, 5, 7, 9]]"
      ]
     },
     "execution_count": 17,
     "metadata": {},
     "output_type": "execute_result"
    }
   ],
   "source": [
    "class Sorting:\n",
    "    def selection(self,arr):\n",
    "        print([\"unsorted array : \",arr])\n",
    "        l=len(arr)\n",
    "        for i in range(l-1):\n",
    "            min_index=i\n",
    "            for j in range(i+1,l):\n",
    "                if arr[j]<arr[min_index]:\n",
    "                    min_index=j\n",
    "            arr[min_index],arr[i]=arr[i],arr[min_index]\n",
    "        return [\"sorted array : \",arr]\n",
    "arr=[-5,2,5,1,7,9,0,-1,-1,0]\n",
    "obj=Sorting()\n",
    "obj.selection(arr)"
   ]
  },
  {
   "cell_type": "code",
   "execution_count": 31,
   "id": "cba945dc",
   "metadata": {},
   "outputs": [
    {
     "name": "stdout",
     "output_type": "stream",
     "text": [
      "['unsorted array : ', [-5, 2, 5, 1, 7, 9, 0, -1, -1, 0]]\n"
     ]
    },
    {
     "data": {
      "text/plain": [
       "[-5, -1, -1, 0, 0, 1, 2, 5, 7, 9]"
      ]
     },
     "execution_count": 31,
     "metadata": {},
     "output_type": "execute_result"
    }
   ],
   "source": [
    "class sorting:\n",
    "    print([\"unsorted array : \",arr])\n",
    "    def divide(self,arr):\n",
    "        if len(arr)<=1:\n",
    "            return arr\n",
    "        mid=len(arr)//2\n",
    "        left=self.divide(arr[:mid])\n",
    "        right=self.divide(arr[mid:])\n",
    "        return self.conquer(left,right)\n",
    "    def conquer(self,left,right):\n",
    "        i,j=0,0\n",
    "        res=[]\n",
    "        while i<len(left) and j<len(right):\n",
    "            if left[i]<right[j]:\n",
    "                res+=[left[i]]\n",
    "                i+=1\n",
    "            else:\n",
    "                res+=[right[j]]\n",
    "                j+=1\n",
    "        res+=left[i:]+right[j:]\n",
    "        return res\n",
    "arr=[-5,2,5,1,7,9,0,-1,-1,0]\n",
    "obj=sorting()\n",
    "obj.divide(arr)"
   ]
  },
  {
   "cell_type": "code",
   "execution_count": 39,
   "id": "0f2f1f82",
   "metadata": {},
   "outputs": [
    {
     "data": {
      "text/plain": [
       "[-5, -1, -1, 0, 0, 1, 2, 5, 7, 9]"
      ]
     },
     "execution_count": 39,
     "metadata": {},
     "output_type": "execute_result"
    }
   ],
   "source": [
    "class Sorting:\n",
    "    def quick(self,arr):\n",
    "        self.a=5\n",
    "        if len(arr)<=1:\n",
    "            return arr\n",
    "        pivot=arr[0]\n",
    "        left=[i for i in arr[1:] if i<pivot]\n",
    "        right=[i for i in arr[1:] if i>=pivot]\n",
    "        return self.quick(left)+[pivot]+self.quick(right)\n",
    "obj=Sorting()\n",
    "arr=[-5,2,5,1,7,9,0,-1,-1,0]\n",
    "obj.quick(arr)"
   ]
  },
  {
   "cell_type": "code",
   "execution_count": 1,
   "id": "a4254be8",
   "metadata": {},
   "outputs": [
    {
     "data": {
      "text/plain": [
       "[-5, -1, -1, 0, 0, 1, 2, 5, 7, 9]"
      ]
     },
     "execution_count": 1,
     "metadata": {},
     "output_type": "execute_result"
    }
   ],
   "source": [
    "class Sorting:\n",
    "    def quick(self,arr,left,right):\n",
    "        if left<right:\n",
    "            pos=self.partition(arr,left,right)\n",
    "            self.quick(arr,left,pos-1)\n",
    "            self.quick(arr,pos+1,right)\n",
    "        return arr\n",
    "    def partition(self,arr,left,right):\n",
    "        i=left\n",
    "        j=right-1\n",
    "        pivot=arr[right]\n",
    "        while i<j:\n",
    "            while i<right and arr[i]<pivot:\n",
    "                i+=1\n",
    "            while j>=i and arr[j]>=pivot:\n",
    "                j-=1\n",
    "            if i<=j:\n",
    "                arr[i],arr[j]=arr[j],arr[i]\n",
    "        if arr[i]>pivot:\n",
    "            arr[i],arr[right]=arr[right],arr[i]\n",
    "        return i\n",
    "obj=Sorting()\n",
    "arr=[-5,2,5,1,7,9,0,-1,-1,0]\n",
    "obj.quick(arr,0,len(arr)-1)"
   ]
  },
  {
   "cell_type": "code",
   "execution_count": 2,
   "id": "bb520257",
   "metadata": {},
   "outputs": [
    {
     "name": "stdout",
     "output_type": "stream",
     "text": [
      "maxheap: [45, 23, 7, 4, -1, -34, 0, 0, 2]\n"
     ]
    },
    {
     "data": {
      "text/plain": [
       "('sorted array is :  ', [-34, -1, 0, 0, 2, 4, 7, 23, 45])"
      ]
     },
     "execution_count": 2,
     "metadata": {},
     "output_type": "execute_result"
    }
   ],
   "source": [
    "class Sorting:\n",
    "    def buildHeap(self,arr,n):\n",
    "        for i in range(n//2-1,-1,-1):\n",
    "            self.heapify(arr,n,i)\n",
    "        print(\"maxheap:\",arr)\n",
    "    def heapify(self,arr,n,i):\n",
    "        left=2*i+1\n",
    "        right=2*i+2\n",
    "        largest=i\n",
    "        if left<n and arr[largest]<arr[left]:\n",
    "            largest=left\n",
    "        if right<n and arr[largest]<arr[right]:\n",
    "            largest=right\n",
    "        if largest!=i:\n",
    "            arr[largest],arr[i]=arr[i],arr[largest]\n",
    "            self.heapify(arr,n,largest)\n",
    "    def heapSort(self,arr,n):\n",
    "        self.buildHeap(arr,n)\n",
    "        for i in range(n-1,-1,-1):\n",
    "            arr[i],arr[0]=arr[0],arr[i]\n",
    "            self.heapify(arr,i,0)\n",
    "        return \"sorted array is :  \",arr\n",
    "arr=[4,2,7,45,-1,-34,0,0,23]\n",
    "n=len(arr)\n",
    "obj=Sorting()\n",
    "obj.heapSort(arr,n)"
   ]
  },
  {
   "cell_type": "code",
   "execution_count": 1,
   "id": "d290e14d",
   "metadata": {},
   "outputs": [
    {
     "data": {
      "text/plain": [
       "[-45, -2, -1, 0, 2, 2, 3, 9, 10, 18]"
      ]
     },
     "execution_count": 1,
     "metadata": {},
     "output_type": "execute_result"
    }
   ],
   "source": [
    "class Sorting:\n",
    "    def bubble(self,arr):\n",
    "        l=len(arr)\n",
    "        for i in range(l):\n",
    "            flag=1\n",
    "            for j in range(l-i-1):\n",
    "                if arr[j]>arr[j+1]:\n",
    "                    arr[j],arr[j+1]=arr[j+1],arr[j]\n",
    "                    flag=0\n",
    "            if flag==1:\n",
    "                return arr\n",
    "arr=[3,-1,2,-2,2,0,9,18,10,-45]\n",
    "obj=Sorting()\n",
    "obj.bubble(arr)"
   ]
  },
  {
   "cell_type": "code",
   "execution_count": 8,
   "id": "77bbc595",
   "metadata": {},
   "outputs": [
    {
     "data": {
      "text/plain": [
       "[-45, -2, -1, 0, 2, 2, 3, 9, 10, 18]"
      ]
     },
     "execution_count": 8,
     "metadata": {},
     "output_type": "execute_result"
    }
   ],
   "source": [
    "class Sorting:\n",
    "    def insertion(self,arr):\n",
    "        l=len(arr)\n",
    "        for i in range(1,l):\n",
    "            value=arr[i]\n",
    "            gap=i\n",
    "            while gap>0 and arr[gap-1]>value:\n",
    "                arr[gap]=arr[gap-1]\n",
    "                gap-=1\n",
    "            arr[gap]=value\n",
    "        return arr\n",
    "arr=[3,-1,2,-2,2,0,9,18,10,-45]\n",
    "obj=Sorting()\n",
    "obj.insertion(arr)"
   ]
  },
  {
   "cell_type": "code",
   "execution_count": 13,
   "id": "2335eed1",
   "metadata": {},
   "outputs": [
    {
     "data": {
      "text/plain": [
       "[-45, -2, -1, 0, 2, 2, 3, 9, 10, 18]"
      ]
     },
     "execution_count": 13,
     "metadata": {},
     "output_type": "execute_result"
    }
   ],
   "source": [
    "class Sorting:\n",
    "    def selection(self,arr):\n",
    "        l=len(arr)\n",
    "        for i in range(l-1):\n",
    "            ind=i\n",
    "            for j in range(i+1,l):\n",
    "                if arr[j]<arr[ind]:\n",
    "                    ind=j\n",
    "            arr[ind],arr[i]=arr[i],arr[ind]\n",
    "        return arr\n",
    "arr=[3,-1,2,-2,2,0,9,18,10,-45]\n",
    "obj=Sorting()\n",
    "obj.selection(arr)"
   ]
  },
  {
   "cell_type": "code",
   "execution_count": 15,
   "id": "7c941c60",
   "metadata": {},
   "outputs": [
    {
     "data": {
      "text/plain": [
       "[-45, -2, -1, 0, 2, 2, 3, 9, 10, 18]"
      ]
     },
     "execution_count": 15,
     "metadata": {},
     "output_type": "execute_result"
    }
   ],
   "source": [
    "class Sorting:\n",
    "    def quick(self,arr):\n",
    "        if len(arr)<=1:\n",
    "            return arr\n",
    "        pivot=arr[0]\n",
    "        left=[i for i in arr[1:] if i<pivot]\n",
    "        right=[i for i in arr[1:] if i>=pivot]\n",
    "        return self.quick(left)+[pivot]+self.quick(right)\n",
    "arr=[3,-1,2,-2,2,0,9,18,10,-45]\n",
    "obj=Sorting()\n",
    "obj.quick(arr)"
   ]
  },
  {
   "cell_type": "code",
   "execution_count": 17,
   "id": "dbdb298e",
   "metadata": {},
   "outputs": [
    {
     "data": {
      "text/plain": [
       "[-45, -2, -1, 0, 2, 2, 3, 9, 10, 18]"
      ]
     },
     "execution_count": 17,
     "metadata": {},
     "output_type": "execute_result"
    }
   ],
   "source": [
    "class Sorting:\n",
    "    def divide(self,arr):\n",
    "        if len(arr)<=1:\n",
    "            return arr\n",
    "        mid=len(arr)//2\n",
    "        left=self.divide(arr[:mid])\n",
    "        right=self.divide(arr[mid:])\n",
    "        return self.merge(left,right)\n",
    "    def merge(self,left,right):\n",
    "        i,j=0,0\n",
    "        res=[]\n",
    "        while i<len(left) and j<len(right):\n",
    "            if left[i]<right[j]:\n",
    "                res+=[left[i]]\n",
    "                i+=1\n",
    "            else:\n",
    "                res+=[right[j]]\n",
    "                j+=1\n",
    "        res+=left[i:]+right[j:]\n",
    "        return res\n",
    "arr=[3,-1,2,-2,2,0,9,18,10,-45]\n",
    "obj=Sorting()\n",
    "obj.divide(arr)"
   ]
  },
  {
   "cell_type": "code",
   "execution_count": 1,
   "id": "eeab7324",
   "metadata": {},
   "outputs": [
    {
     "data": {
      "text/plain": [
       "[-45, -2, -1, 0, 2, 2, 3, 9, 10, 18]"
      ]
     },
     "execution_count": 1,
     "metadata": {},
     "output_type": "execute_result"
    }
   ],
   "source": [
    "class Sorting:\n",
    "    def quick(self,arr,left,right):\n",
    "        if left<right:\n",
    "            pos=self.partition(arr,left,right)\n",
    "            self.quick(arr,left,pos-1)\n",
    "            self.quick(arr,pos+1,right)\n",
    "        return arr\n",
    "    def partition(self,arr,left,right):\n",
    "        i=left\n",
    "        j=right-1\n",
    "        pivot=arr[right]\n",
    "        while i<j:\n",
    "            while i<right and arr[i]<pivot:\n",
    "                i+=1\n",
    "            while j>=i and arr[j]>pivot:\n",
    "                j-=1\n",
    "            if i<j:\n",
    "                arr[i],arr[j]=arr[j],arr[i]\n",
    "        if arr[i]>pivot:\n",
    "            arr[i],arr[right]=arr[right],arr[i]\n",
    "        return i\n",
    "arr=[3,-1,2,-2,2,0,9,18,10,-45]\n",
    "obj=Sorting()\n",
    "obj.quick(arr,0,len(arr)-1)"
   ]
  },
  {
   "cell_type": "code",
   "execution_count": 5,
   "id": "760121a2",
   "metadata": {},
   "outputs": [
    {
     "data": {
      "text/plain": [
       "[-2, -1, 0, 2, 2, 3, 9, 10, 18, -45]"
      ]
     },
     "execution_count": 5,
     "metadata": {},
     "output_type": "execute_result"
    }
   ],
   "source": [
    "class Sorting:\n",
    "    def buildheap(self,arr,n):\n",
    "        for i in range(n//2-1,-1,-1):\n",
    "            self.heapify(arr,n,i)\n",
    "    def heapify(self,arr,n,i):\n",
    "        largest=i\n",
    "        left=2*i+1\n",
    "        right=2*i+2\n",
    "        if left<n and arr[left]>arr[largest]:\n",
    "            largest=left\n",
    "        if right<n and arr[right]>arr[largest]:\n",
    "            largest=right\n",
    "        if largest!=i:\n",
    "            arr[largest],arr[i]=arr[i],arr[largest]\n",
    "            self.heapify(arr,n,largest)\n",
    "    def heapsort(self,arr,n):\n",
    "        self.buildheap(arr,n)\n",
    "        for i in range(n-1,-1,-1):\n",
    "            arr[0],arr[i]=arr[i],arr[0]\n",
    "            self.heapify(arr,i,0)\n",
    "        return arr\n",
    "arr=[3,-1,2,-2,2,0,9,18,10,-45]\n",
    "obj=Sorting()\n",
    "obj.heapsort(arr,len(arr)-1)"
   ]
  },
  {
   "cell_type": "code",
   "execution_count": 4,
   "id": "2faed6ce",
   "metadata": {},
   "outputs": [
    {
     "data": {
      "text/plain": [
       "[-4, -2, -1, -1, -1, 0, 1, 3, 4, 6, 8, 9]"
      ]
     },
     "execution_count": 4,
     "metadata": {},
     "output_type": "execute_result"
    }
   ],
   "source": [
    "class Sorting:\n",
    "    def divide(self,arr):\n",
    "        if len(arr)<=1:\n",
    "            return arr\n",
    "        mid=len(arr)//2\n",
    "        left=self.divide(arr[:mid])\n",
    "        right=self.divide(arr[mid:])\n",
    "        return self.merge(left,right)\n",
    "    def merge(self,left,right):\n",
    "        i,j=0,0\n",
    "        res=[]\n",
    "        while i<len(left) and j<len(right):\n",
    "            if left[i]<right[j]:\n",
    "                res+=[left[i]]\n",
    "                i+=1\n",
    "            else:\n",
    "                res+=[right[j]]\n",
    "                j+=1\n",
    "        res+=left[i:]+right[j:]\n",
    "        return res\n",
    "obj=Sorting()\n",
    "arr=[9,3,1,8,4,6,0,-1,-4,-2,-1,-1]\n",
    "obj.divide(arr)"
   ]
  },
  {
   "cell_type": "code",
   "execution_count": 1,
   "id": "f3f736a7",
   "metadata": {},
   "outputs": [
    {
     "data": {
      "text/plain": [
       "[-4, -2, -1, -1, -1, 0, 1, 3, 4, 6, 8, 9]"
      ]
     },
     "execution_count": 1,
     "metadata": {},
     "output_type": "execute_result"
    }
   ],
   "source": [
    "class Sorting:\n",
    "    def quick(self,arr):\n",
    "        if len(arr)<=1:\n",
    "            return arr\n",
    "        pivot=arr[0]\n",
    "        left=[i for i in arr[1:] if i<pivot]\n",
    "        right=[i for i in arr[1:] if i>=pivot]\n",
    "        return self.quick(left)+[pivot]+self.quick(right)\n",
    "obj=Sorting()\n",
    "arr=[9,3,1,8,4,6,0,-1,-4,-2,-1,-1]\n",
    "obj.quick(arr)"
   ]
  },
  {
   "cell_type": "code",
   "execution_count": 9,
   "id": "ef393741",
   "metadata": {},
   "outputs": [
    {
     "data": {
      "text/plain": [
       "[-4, -2, -1, -1, -1, 0, 1, 3, 4, 6, 8, 9]"
      ]
     },
     "execution_count": 9,
     "metadata": {},
     "output_type": "execute_result"
    }
   ],
   "source": [
    "class Sorting:\n",
    "    def quick(self,arr,left,right):\n",
    "        if left<right:\n",
    "            pos=self.partition(arr,left,right)\n",
    "            self.quick(arr,left,pos-1)\n",
    "            self.quick(arr,pos+1,right)\n",
    "        return arr\n",
    "    def partition(self,arr,left,right):\n",
    "        i=left\n",
    "        j=right-1\n",
    "        pivot=arr[right]\n",
    "        while i<j:\n",
    "            while i<right and arr[i]<pivot:\n",
    "                i+=1\n",
    "            while j>=i and arr[j]>=pivot:\n",
    "                j-=1\n",
    "            if i<j:\n",
    "                arr[i],arr[j]=arr[j],arr[i]\n",
    "        if arr[i]>pivot:\n",
    "            arr[i],arr[right]=arr[right],arr[i]\n",
    "        return i\n",
    "obj=Sorting()\n",
    "arr=[9,3,1,8,4,6,0,-1,-4,-2,-1,-1]\n",
    "obj.quick(arr,0,len(arr)-1)"
   ]
  },
  {
   "cell_type": "code",
   "execution_count": 10,
   "id": "a2a1410b",
   "metadata": {},
   "outputs": [
    {
     "data": {
      "text/plain": [
       "[-4, -2, -1, -1, -1, 0, 1, 3, 4, 6, 8, 9]"
      ]
     },
     "execution_count": 10,
     "metadata": {},
     "output_type": "execute_result"
    }
   ],
   "source": [
    "class Sorting:\n",
    "    def bubble(self,arr):\n",
    "        l=len(arr)\n",
    "        for i in range(l):\n",
    "            flag=1\n",
    "            for j in range(l-i-1):\n",
    "                if arr[j]>arr[j+1]:\n",
    "                    arr[j],arr[j+1]=arr[j+1],arr[j]\n",
    "                    flag=0\n",
    "            if flag==1:\n",
    "                return arr\n",
    "        return arr\n",
    "obj=Sorting()\n",
    "arr=[9,3,1,8,4,6,0,-1,-4,-2,-1,-1]\n",
    "obj.bubble(arr)"
   ]
  },
  {
   "cell_type": "code",
   "execution_count": 11,
   "id": "e5225e98",
   "metadata": {},
   "outputs": [
    {
     "data": {
      "text/plain": [
       "[-4, -2, -1, -1, -1, 0, 1, 3, 4, 6, 8, 9]"
      ]
     },
     "execution_count": 11,
     "metadata": {},
     "output_type": "execute_result"
    }
   ],
   "source": [
    "class Sorting:\n",
    "    def insertion(self,arr):\n",
    "        l=len(arr)\n",
    "        for i in range(1,l):\n",
    "            gap=i\n",
    "            val=arr[gap]\n",
    "            while gap>0 and arr[gap-1]>val:\n",
    "                arr[gap]=arr[gap-1]\n",
    "                gap-=1\n",
    "            arr[gap]=val\n",
    "        return arr\n",
    "obj=Sorting()\n",
    "arr=[9,3,1,8,4,6,0,-1,-4,-2,-1,-1]\n",
    "obj.insertion(arr)"
   ]
  },
  {
   "cell_type": "code",
   "execution_count": 18,
   "id": "3462fb63",
   "metadata": {},
   "outputs": [
    {
     "data": {
      "text/plain": [
       "[-4, -2, -1, -1, -1, 0, 1, 3, 4, 6, 8, 9]"
      ]
     },
     "execution_count": 18,
     "metadata": {},
     "output_type": "execute_result"
    }
   ],
   "source": [
    "class Sorting:\n",
    "    def selection(self,arr):\n",
    "        l=len(arr)\n",
    "        for i in range(l):\n",
    "            index=i\n",
    "            for j in range(i+1,l):\n",
    "                if arr[j]<arr[index]:\n",
    "                    index=j\n",
    "            arr[i],arr[index]=arr[index],arr[i]\n",
    "        return arr\n",
    "obj=Sorting()\n",
    "arr=[9,3,1,8,4,6,0,-1,-4,-2,-1,-1]\n",
    "obj.selection(arr)"
   ]
  },
  {
   "cell_type": "code",
   "execution_count": 2,
   "id": "bbb5c331",
   "metadata": {},
   "outputs": [
    {
     "data": {
      "text/plain": [
       "[-1213123, -8, 0, 1, 5, 7, 34, 43, 77]"
      ]
     },
     "execution_count": 2,
     "metadata": {},
     "output_type": "execute_result"
    }
   ],
   "source": [
    "class Solution:\n",
    "    def quick(self,arr):\n",
    "        if len(arr)<=1:\n",
    "            return arr\n",
    "        pivot=arr[0]\n",
    "        left=[i for i in arr[1:] if i<pivot]\n",
    "        right=[i for i in arr[1:] if i>=pivot]\n",
    "        return self.quick(left)+[pivot]+self.quick(right)\n",
    "obj=Solution()\n",
    "arr=[5,43,7,1,77,0,-8,34,-1213123]\n",
    "obj.quick(arr)"
   ]
  },
  {
   "cell_type": "code",
   "execution_count": 3,
   "id": "25fab63f",
   "metadata": {},
   "outputs": [
    {
     "data": {
      "text/plain": [
       "[-89, 0, 2, 4, 12, 64, 231, 654]"
      ]
     },
     "execution_count": 3,
     "metadata": {},
     "output_type": "execute_result"
    }
   ],
   "source": [
    "class Solution:\n",
    "    def quicksort(self,arr,left,right):\n",
    "        if left<right:\n",
    "            pos=self.partition(arr,left,right)\n",
    "            self.quicksort(arr,left,pos-1)\n",
    "            self.quicksort(arr,pos+1,right)\n",
    "        return arr\n",
    "    def partition(self,arr,left,right):\n",
    "        pivot=arr[right]\n",
    "        i=left\n",
    "        j=right-1\n",
    "        while i<j:\n",
    "            while i<right and arr[i]<pivot:\n",
    "                i+=1\n",
    "            while j>i and arr[j]>=pivot:\n",
    "                j-=1\n",
    "            if i<j:\n",
    "                arr[i],arr[j]=arr[j],arr[i]\n",
    "        if arr[i]>pivot:\n",
    "            arr[i],arr[right]=arr[right],arr[i]\n",
    "        return i\n",
    "obj=Solution()\n",
    "arr=[2,4,64,12,231,-89,0,654]\n",
    "obj.quicksort(arr,0,len(arr)-1)"
   ]
  },
  {
   "cell_type": "code",
   "execution_count": 4,
   "id": "9401d498",
   "metadata": {},
   "outputs": [
    {
     "data": {
      "text/plain": [
       "[-98, 0, 1, 12, 23, 34, 213, 456, 5345121]"
      ]
     },
     "execution_count": 4,
     "metadata": {},
     "output_type": "execute_result"
    }
   ],
   "source": [
    "class Solution:\n",
    "    def divide(self,arr):\n",
    "        if len(arr)<=1:\n",
    "            return arr\n",
    "        mid=len(arr)//2\n",
    "        left=self.divide(arr[:mid])\n",
    "        right=self.divide(arr[mid:])\n",
    "        return self.conquer(left,right)\n",
    "    def conquer(self,left,right):\n",
    "        i,j=0,0\n",
    "        res=[]\n",
    "        while i<len(left) and j<len(right):\n",
    "            if left[i]<right[j]:\n",
    "                res+=[left[i]]\n",
    "                i+=1\n",
    "            else:\n",
    "                res+=[right[j]]\n",
    "                j+=1\n",
    "        res+=left[i:]+right[j:]\n",
    "        return res\n",
    "obj=Solution()\n",
    "arr=[1,23,5345121,12,213,-98,0,456,34]\n",
    "obj.divide(arr)"
   ]
  },
  {
   "cell_type": "code",
   "execution_count": 20,
   "id": "8e4b2887",
   "metadata": {},
   "outputs": [
    {
     "data": {
      "text/plain": [
       "[-98, 0, 1, 1, 12, 23, 34, 45, 213, 456, 4567, 123125, 5345121]"
      ]
     },
     "execution_count": 20,
     "metadata": {},
     "output_type": "execute_result"
    }
   ],
   "source": [
    "class Solution:\n",
    "    def buildheap(self,arr,n):\n",
    "        for i in range(n//2-1,-1,-1):\n",
    "            self.heapify(arr,n,i)\n",
    "    def heapify(self,arr,n,i):\n",
    "        largest=i\n",
    "        left=2*i+1\n",
    "        right=2*i+2\n",
    "        if left<n and arr[left]>arr[largest]:\n",
    "            largest=left\n",
    "        if right<n and arr[right]>arr[largest]:\n",
    "            largest=right\n",
    "        if largest!=i:\n",
    "            arr[largest],arr[i]=arr[i],arr[largest]\n",
    "            self.heapify(arr,n,largest)\n",
    "    def heapsort(self,arr,n):\n",
    "        self.buildheap(arr,n)\n",
    "        for i in range(n-1,-1,-1):\n",
    "            arr[0],arr[i]=arr[i],arr[0]\n",
    "            self.heapify(arr,i,0)\n",
    "        return arr\n",
    "obj=Solution()\n",
    "arr=[1,23,5345121,12,213,-98,0,456,34,45,4567,123125,1]\n",
    "obj.heapsort(arr,len(arr))"
   ]
  },
  {
   "cell_type": "code",
   "execution_count": 3,
   "id": "a14bd237",
   "metadata": {},
   "outputs": [
    {
     "data": {
      "text/plain": [
       "[-98, 0, 1, 12, 23, 34, 213, 456, 534]"
      ]
     },
     "execution_count": 3,
     "metadata": {},
     "output_type": "execute_result"
    }
   ],
   "source": [
    "class Sorting:\n",
    "    def buildheap(self,arr,n):\n",
    "        for i in range(n//2-1,-1,-1):\n",
    "            self.heapify(arr,n,i)\n",
    "    def heapify(self,arr,n,i):\n",
    "        largest=i\n",
    "        left=2*i+1\n",
    "        right=2*i+2\n",
    "        if left<n and arr[left]>arr[largest]:\n",
    "            largest=left\n",
    "        if right<n and arr[right]>arr[largest]:\n",
    "            largest=right\n",
    "        if largest!=i:\n",
    "            arr[largest],arr[i]=arr[i],arr[largest]\n",
    "            self.heapify(arr,n,largest)\n",
    "    def heapsort(self,arr,n):\n",
    "        self.buildheap(arr,n)\n",
    "        for i in range(n-1,-1,-1):\n",
    "            arr[0],arr[i]=arr[i],arr[0]\n",
    "            self.heapify(arr,i,0)\n",
    "        return arr\n",
    "arr=[1,23,534,12,213,-98,0,456,34]\n",
    "obj=Sorting()\n",
    "obj.heapsort(arr,len(arr))"
   ]
  },
  {
   "cell_type": "code",
   "execution_count": 6,
   "id": "29ae723e",
   "metadata": {},
   "outputs": [
    {
     "data": {
      "text/plain": [
       "[-98, 0, 1, 12, 23, 34, 213, 456, 534]"
      ]
     },
     "execution_count": 6,
     "metadata": {},
     "output_type": "execute_result"
    }
   ],
   "source": [
    "class Solution:\n",
    "    def buildTree(self,arr,n):\n",
    "        for i in range(n//2-1,-1,-1):\n",
    "            self.heapify(arr,n,i)\n",
    "        return arr\n",
    "    def heapify(self,arr,n,i):\n",
    "        largest=i\n",
    "        left=2*i+1\n",
    "        right=2*i+2\n",
    "        if left<n and arr[left]>arr[largest]:\n",
    "            largest=left\n",
    "        if right<n and arr[right]>arr[largest]:\n",
    "            largest=right\n",
    "        if largest!=i:\n",
    "            arr[largest],arr[i]=arr[i],arr[largest]\n",
    "            self.heapify(arr,n,largest)\n",
    "    def heapsort(self,arr,n):\n",
    "        self.buildTree(arr,n)\n",
    "        for i in range(n-1,-1,-1):\n",
    "            arr[i],arr[0]=arr[0],arr[i]\n",
    "            self.heapify(arr,i,0)\n",
    "        return arr\n",
    "obj=Solution()\n",
    "arr=[1,23,534,12,213,-98,0,456,34]\n",
    "obj.heapsort(arr,len(arr))"
   ]
  },
  {
   "cell_type": "code",
   "execution_count": 9,
   "id": "2ef3ec59",
   "metadata": {},
   "outputs": [
    {
     "data": {
      "text/plain": [
       "[-98, 0, 1, 12, 23, 34, 213, 456, 534]"
      ]
     },
     "execution_count": 9,
     "metadata": {},
     "output_type": "execute_result"
    }
   ],
   "source": [
    "class Solution:\n",
    "    def divide(self,arr):\n",
    "        if len(arr)<=1:\n",
    "            return arr\n",
    "        mid=len(arr)//2\n",
    "        left=self.divide(arr[:mid])\n",
    "        right=self.divide(arr[mid:])\n",
    "        return self.conquer(left,right)\n",
    "    def conquer(self,left,right):\n",
    "        i,j=0,0\n",
    "        res=[]\n",
    "        while i<len(left) and j<len(right):\n",
    "            if left[i]<right[j]:\n",
    "                res+=[left[i]]\n",
    "                i+=1\n",
    "            else:\n",
    "                res+=[right[j]]\n",
    "                j+=1\n",
    "        res+=left[i:]+right[j:]\n",
    "        return res\n",
    "obj=Solution()\n",
    "arr=[1,23,534,12,213,-98,0,456,34]\n",
    "obj.divide(arr)"
   ]
  },
  {
   "cell_type": "code",
   "execution_count": 10,
   "id": "4b41485b",
   "metadata": {},
   "outputs": [
    {
     "data": {
      "text/plain": [
       "[-98, 0, 1, 12, 23, 34, 213, 456, 534]"
      ]
     },
     "execution_count": 10,
     "metadata": {},
     "output_type": "execute_result"
    }
   ],
   "source": [
    "class Solution:\n",
    "    def quick(self,arr):\n",
    "        if len(arr)<=1:\n",
    "            return arr\n",
    "        pivot=arr[0]\n",
    "        left=[i for i in arr[1:] if i<pivot]\n",
    "        right=[i for i in arr[1:] if i>=pivot]\n",
    "        return self.quick(left)+[pivot]+self.quick(right)\n",
    "obj=Solution()\n",
    "arr=[1,23,534,12,213,-98,0,456,34]\n",
    "obj.quick(arr)"
   ]
  },
  {
   "cell_type": "code",
   "execution_count": 12,
   "id": "110c201b",
   "metadata": {},
   "outputs": [
    {
     "data": {
      "text/plain": [
       "[-98, 0, 1, 12, 23, 34, 213, 456, 534]"
      ]
     },
     "execution_count": 12,
     "metadata": {},
     "output_type": "execute_result"
    }
   ],
   "source": [
    "class Solution:\n",
    "    def quick(self,arr,left,right):\n",
    "        if left<right:\n",
    "            pos=self.partition(arr,left,right)\n",
    "            self.quick(arr,left,pos-1)\n",
    "            self.quick(arr,pos+1,right)\n",
    "        return arr\n",
    "    def partition(self,arr,left,right):\n",
    "        i=left\n",
    "        j=right-1\n",
    "        pivot=arr[right]\n",
    "        while i<j:\n",
    "            while i<j and arr[i]<pivot:\n",
    "                i+=1\n",
    "            while j>=i and arr[j]>pivot:\n",
    "                j-=1\n",
    "            if i<j:\n",
    "                arr[i],arr[j]=arr[j],arr[i]\n",
    "        if arr[i]>pivot:\n",
    "            arr[i],arr[right]=arr[right],arr[i]\n",
    "        return i\n",
    "obj=Solution()\n",
    "arr=[1,23,534,12,213,-98,0,456,34]\n",
    "obj.quick(arr,0,len(arr)-1)"
   ]
  },
  {
   "cell_type": "code",
   "execution_count": 33,
   "id": "0d21fd93",
   "metadata": {},
   "outputs": [],
   "source": [
    "class ListNode:\n",
    "    def __init__(self,val):\n",
    "        self.val=val\n",
    "        self.next=None\n",
    "class LinkedList:\n",
    "    def __init__(self):\n",
    "        self.head=None\n",
    "    def printList(self):\n",
    "        itr=self.head\n",
    "        if not itr: return 'empty sll'\n",
    "        res=''\n",
    "        while itr:\n",
    "            res+=str(itr.val)+'-->' if itr.next else str(itr.val)\n",
    "            itr=itr.next\n",
    "        return res\n",
    "    def sort(self):\n",
    "        itr=self.head\n",
    "        while itr:\n",
    "            org=itr\n",
    "            temp=itr.next\n",
    "            while temp:\n",
    "                if temp.val<org.val:\n",
    "                    org=temp\n",
    "                temp=temp.next\n",
    "            x=itr.val\n",
    "            itr.val=org.val\n",
    "            org.val=x\n",
    "            itr=itr.next\n",
    "obj=LinkedList()"
   ]
  },
  {
   "cell_type": "code",
   "execution_count": 34,
   "id": "6aeeff0b",
   "metadata": {},
   "outputs": [],
   "source": [
    "arr=[4,2,-1,0,3,8,5,6]\n",
    "obj.head=ListNode(arr[0])\n",
    "temp=obj.head\n",
    "for i in range(1,len(arr)):\n",
    "    temp.next=ListNode(arr[i])\n",
    "    temp=temp.next"
   ]
  },
  {
   "cell_type": "code",
   "execution_count": 35,
   "id": "df17700d",
   "metadata": {},
   "outputs": [
    {
     "data": {
      "text/plain": [
       "'4-->2-->-1-->0-->3-->8-->5-->6'"
      ]
     },
     "execution_count": 35,
     "metadata": {},
     "output_type": "execute_result"
    }
   ],
   "source": [
    "obj.printList()"
   ]
  },
  {
   "cell_type": "code",
   "execution_count": 36,
   "id": "272bbe59",
   "metadata": {},
   "outputs": [
    {
     "data": {
      "text/plain": [
       "-1"
      ]
     },
     "execution_count": 36,
     "metadata": {},
     "output_type": "execute_result"
    }
   ],
   "source": [
    "obj.head.next.next.val"
   ]
  },
  {
   "cell_type": "code",
   "execution_count": 37,
   "id": "cdb14586",
   "metadata": {},
   "outputs": [],
   "source": [
    "obj.sort()"
   ]
  },
  {
   "cell_type": "code",
   "execution_count": 38,
   "id": "04c22094",
   "metadata": {},
   "outputs": [
    {
     "data": {
      "text/plain": [
       "'-1-->0-->2-->3-->4-->5-->6-->8'"
      ]
     },
     "execution_count": 38,
     "metadata": {},
     "output_type": "execute_result"
    }
   ],
   "source": [
    "obj.printList()"
   ]
  },
  {
   "cell_type": "code",
   "execution_count": null,
   "id": "27619d22",
   "metadata": {},
   "outputs": [],
   "source": []
  },
  {
   "cell_type": "code",
   "execution_count": null,
   "id": "cbfe5c5a",
   "metadata": {},
   "outputs": [],
   "source": []
  },
  {
   "cell_type": "code",
   "execution_count": null,
   "id": "a2a9a06a",
   "metadata": {},
   "outputs": [],
   "source": []
  },
  {
   "cell_type": "code",
   "execution_count": null,
   "id": "d51e8e59",
   "metadata": {},
   "outputs": [],
   "source": []
  }
 ],
 "metadata": {
  "kernelspec": {
   "display_name": "Python 3 (ipykernel)",
   "language": "python",
   "name": "python3"
  },
  "language_info": {
   "codemirror_mode": {
    "name": "ipython",
    "version": 3
   },
   "file_extension": ".py",
   "mimetype": "text/x-python",
   "name": "python",
   "nbconvert_exporter": "python",
   "pygments_lexer": "ipython3",
   "version": "3.10.12"
  }
 },
 "nbformat": 4,
 "nbformat_minor": 5
}
